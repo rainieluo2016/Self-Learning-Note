{
 "cells": [
  {
   "cell_type": "markdown",
   "metadata": {},
   "source": [
    "# Note for Nested CV\n",
    "\n",
    "[reference - machine learning mastery](https://machinelearningmastery.com/nested-cross-validation-for-machine-learning-with-python/)\n",
    "[reference - sklearn](https://scikit-learn.org/stable/auto_examples/model_selection/plot_nested_cross_validation_iris.html)\n",
    "\n",
    "Nested CV is also called double cross-validation which uses two cross-validation loops.\n",
    "\n",
    "A downside of nested cross-validation is the dramatic increase in the number of model evaluations performed.\n",
    "\n",
    "It is common to use a larger k for outer loop but a smaller value for k in the inner loop.\n",
    "\n",
    "__TBD - Algorithm Summaration__"
   ]
  },
  {
   "cell_type": "markdown",
   "metadata": {},
   "source": [
    "# Example "
   ]
  },
  {
   "cell_type": "code",
   "execution_count": 3,
   "metadata": {},
   "outputs": [],
   "source": [
    "# load dataset\n",
    "from sklearn.datasets import load_iris\n",
    "import matplotlib.pyplot as plt \n",
    "from sklearn.svm import SVC\n",
    "from sklearn.model_selection import GridSearchCV, cross_val_score, KFold \n",
    "import numpy as np"
   ]
  },
  {
   "cell_type": "markdown",
   "metadata": {},
   "source": [
    "## 1. Constant Setting"
   ]
  },
  {
   "cell_type": "code",
   "execution_count": 4,
   "metadata": {},
   "outputs": [],
   "source": [
    "# number of random trials \n",
    "NUM_TRIALS = 30\n",
    "\n",
    "# load the dataset \n",
    "iris = load_iris()\n",
    "X_iris = iris.data \n",
    "y_iris = iris.target\n",
    "\n",
    "# parameters\n",
    "p_grid = {\"C\": [1, 10, 100], \"gamma\": [0.01, 0.1]}\n",
    "\n",
    "# use support vector classifier with \"rbf\" kernel \n",
    "svm = SVC(kernel = \"rbf\")\n",
    "\n",
    "# arrays to store scores\n",
    "non_nested_scores = np.zeros(NUM_TRIALS)\n",
    "nested_scores = np.zeros(NUM_TRIALS)"
   ]
  },
  {
   "cell_type": "markdown",
   "metadata": {},
   "source": [
    "## 2. Loop"
   ]
  },
  {
   "cell_type": "code",
   "execution_count": 8,
   "metadata": {},
   "outputs": [
    {
     "name": "stdout",
     "output_type": "stream",
     "text": [
      "During the 0 trial, we have outer cv scores [0.97368421 0.89473684 1.         0.91891892]\n",
      "During the 1 trial, we have outer cv scores [0.97368421 0.89473684 0.97297297 0.94594595]\n",
      "During the 2 trial, we have outer cv scores [1.         1.         0.97297297 0.91891892]\n",
      "During the 3 trial, we have outer cv scores [0.94736842 0.94736842 1.         0.94594595]\n",
      "During the 4 trial, we have outer cv scores [0.97368421 0.94736842 0.94594595 0.97297297]\n",
      "During the 5 trial, we have outer cv scores [0.97368421 0.92105263 1.         0.97297297]\n",
      "During the 6 trial, we have outer cv scores [0.97368421 0.97368421 0.97297297 0.97297297]\n",
      "During the 7 trial, we have outer cv scores [0.89473684 1.         0.97297297 0.97297297]\n",
      "During the 8 trial, we have outer cv scores [0.92105263 0.94736842 1.         0.97297297]\n",
      "During the 9 trial, we have outer cv scores [1.         0.97368421 0.91891892 0.97297297]\n",
      "During the 10 trial, we have outer cv scores [0.97368421 0.92105263 1.         0.94594595]\n",
      "During the 11 trial, we have outer cv scores [0.97368421 0.94736842 0.97297297 0.97297297]\n",
      "During the 12 trial, we have outer cv scores [0.97368421 0.94736842 0.97297297 0.94594595]\n",
      "During the 13 trial, we have outer cv scores [1.         0.94736842 0.94594595 1.        ]\n",
      "During the 14 trial, we have outer cv scores [0.97368421 0.94736842 0.97297297 0.97297297]\n",
      "During the 15 trial, we have outer cv scores [0.97368421 1.         0.94594595 0.94594595]\n",
      "During the 16 trial, we have outer cv scores [0.94736842 0.97368421 0.97297297 1.        ]\n",
      "During the 17 trial, we have outer cv scores [0.97368421 0.94736842 1.         0.91891892]\n",
      "During the 18 trial, we have outer cv scores [1.         0.97368421 0.94594595 0.94594595]\n",
      "During the 19 trial, we have outer cv scores [0.97368421 0.94736842 0.97297297 1.        ]\n",
      "During the 20 trial, we have outer cv scores [0.97368421 1.         0.89189189 0.97297297]\n",
      "During the 21 trial, we have outer cv scores [0.94736842 1.         1.         1.        ]\n",
      "During the 22 trial, we have outer cv scores [0.94736842 0.92105263 0.97297297 0.97297297]\n",
      "During the 23 trial, we have outer cv scores [1.         0.94736842 0.97297297 0.97297297]\n",
      "During the 24 trial, we have outer cv scores [0.94736842 1.         0.97297297 0.97297297]\n",
      "During the 25 trial, we have outer cv scores [0.94736842 0.92105263 0.97297297 0.97297297]\n",
      "During the 26 trial, we have outer cv scores [0.94736842 1.         0.97297297 0.91891892]\n",
      "During the 27 trial, we have outer cv scores [0.97368421 0.97368421 1.         0.97297297]\n",
      "During the 28 trial, we have outer cv scores [0.94736842 1.         0.97297297 1.        ]\n",
      "During the 29 trial, we have outer cv scores [0.94736842 1.         0.97297297 1.        ]\n"
     ]
    }
   ],
   "source": [
    "# loop for each trials\n",
    "for i in range(NUM_TRIALS):\n",
    "\n",
    "    # choose cross validation techniques for inner and outer loops,\n",
    "    inner_cv = KFold(n_splits = 4, shuffle = True, random_state = i)\n",
    "    outer_cv = KFold(n_splits = 4, shuffle = True, random_state = i)\n",
    "\n",
    "    # non nested parameters seach and scoring \n",
    "    clf = GridSearchCV(estimator = svm, param_grid = p_grid, cv = outer_cv)\n",
    "    clf.fit(X_iris, y_iris)\n",
    "    non_nested_scores[i] = clf.best_score_\n",
    "    \n",
    "    # nested cv with parameter optimization \n",
    "    clf = GridSearchCV(estimator = svm, param_grid = p_grid, cv = inner_cv)\n",
    "    nested_score = cross_val_score(clf, X = X_iris, y = y_iris, cv = outer_cv)\n",
    "    print(\"During the {} trial, we have outer cv scores {}\".format(i, nested_score))\n",
    "    nested_scores[i] = nested_score.mean()"
   ]
  },
  {
   "cell_type": "code",
   "execution_count": 7,
   "metadata": {},
   "outputs": [
    {
     "data": {
      "text/plain": [
       "0.9603485064011379"
      ]
     },
     "execution_count": 7,
     "metadata": {},
     "output_type": "execute_result"
    }
   ],
   "source": [
    "clf.best_score_"
   ]
  },
  {
   "cell_type": "markdown",
   "metadata": {},
   "source": [
    "# Example 2"
   ]
  },
  {
   "cell_type": "code",
   "execution_count": 9,
   "metadata": {},
   "outputs": [],
   "source": [
    "# manual nested cross-validation for random forest on a classification dataset\n",
    "from numpy import mean\n",
    "from numpy import std\n",
    "from sklearn.datasets import make_classification\n",
    "from sklearn.model_selection import KFold\n",
    "from sklearn.model_selection import GridSearchCV\n",
    "from sklearn.ensemble import RandomForestClassifier\n",
    "from sklearn.metrics import accuracy_score"
   ]
  },
  {
   "cell_type": "code",
   "execution_count": 10,
   "metadata": {},
   "outputs": [],
   "source": [
    "# create dataset\n",
    "X, y = make_classification(n_samples=1000\n",
    "                            , n_features=20\n",
    "                            , random_state=1\n",
    "                            , n_informative=10\n",
    "                            , n_redundant=10)\n",
    "# configure the cross-validation procedure\n",
    "cv_outer = KFold(n_splits=10, shuffle=True, random_state=1)"
   ]
  },
  {
   "cell_type": "code",
   "execution_count": null,
   "metadata": {},
   "outputs": [],
   "source": []
  }
 ],
 "metadata": {
  "interpreter": {
   "hash": "ad2bdc8ecc057115af97d19610ffacc2b4e99fae6737bb82f5d7fb13d2f2c186"
  },
  "kernelspec": {
   "display_name": "Python 3.8.3 ('base')",
   "language": "python",
   "name": "python3"
  },
  "language_info": {
   "codemirror_mode": {
    "name": "ipython",
    "version": 3
   },
   "file_extension": ".py",
   "mimetype": "text/x-python",
   "name": "python",
   "nbconvert_exporter": "python",
   "pygments_lexer": "ipython3",
   "version": "3.8.3"
  },
  "orig_nbformat": 4
 },
 "nbformat": 4,
 "nbformat_minor": 2
}
