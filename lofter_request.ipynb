{
 "cells": [],
 "metadata": {
  "kernelspec": {
   "display_name": "dbconnect3.10",
   "language": "python",
   "name": "python3"
  },
  "language_info": {
   "name": "python",
   "version": "3.10.14"
  }
 },
 "nbformat": 4,
 "nbformat_minor": 5
}
