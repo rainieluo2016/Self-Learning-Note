{
 "cells": [
  {
   "cell_type": "markdown",
   "metadata": {},
   "source": [
    "## Step 0: Latent Dirichlet Allocation ##\n",
    "\n",
    "LDA is used to classify text in a document to a particular topic. It builds a topic per document model and words per topic model, modeled as Dirichlet distributions. \n",
    "\n",
    "* Each document is modeled as a multinomial distribution of topics and each topic is modeled as a multinomial distribution of words.\n",
    "* LDA assumes that the every chunk of text we feed into it will contain words that are somehow related. Therefore choosing the right corpus of data is crucial. \n",
    "* It also assumes documents are produced from a mixture of topics. Those topics then generate words based on their probability distribution. "
   ]
  },
  {
   "cell_type": "markdown",
   "metadata": {},
   "source": [
    "## Step 1: Load the dataset\n",
    "\n",
    "The dataset we'll use is a list of over one million news headlines published over a period of 15 years. We'll start by loading it from the `abcnews-date-text.csv` file."
   ]
  },
  {
   "cell_type": "code",
   "execution_count": 1,
   "metadata": {},
   "outputs": [],
   "source": [
    "'''\n",
    "Load the dataset from the CSV and save it to 'data_text'\n",
    "'''\n",
    "import pandas as pd\n",
    "data = pd.read_csv('abcnews-date-text.csv', error_bad_lines=False);\n",
    "# We only need the Headlines text column from the data\n",
    "data_text = data[:300000][['headline_text']];\n",
    "data_text['index'] = data_text.index\n",
    "\n",
    "documents = data_text"
   ]
  },
  {
   "cell_type": "markdown",
   "metadata": {},
   "source": [
    "Let's glance at the dataset:"
   ]
  },
  {
   "cell_type": "code",
   "execution_count": 2,
   "metadata": {},
   "outputs": [
    {
     "name": "stdout",
     "output_type": "stream",
     "text": [
      "300000\n"
     ]
    }
   ],
   "source": [
    "'''\n",
    "Get the total number of documents\n",
    "'''\n",
    "print(len(documents))"
   ]
  },
  {
   "cell_type": "code",
   "execution_count": 3,
   "metadata": {},
   "outputs": [
    {
     "data": {
      "text/html": [
       "<div>\n",
       "<style scoped>\n",
       "    .dataframe tbody tr th:only-of-type {\n",
       "        vertical-align: middle;\n",
       "    }\n",
       "\n",
       "    .dataframe tbody tr th {\n",
       "        vertical-align: top;\n",
       "    }\n",
       "\n",
       "    .dataframe thead th {\n",
       "        text-align: right;\n",
       "    }\n",
       "</style>\n",
       "<table border=\"1\" class=\"dataframe\">\n",
       "  <thead>\n",
       "    <tr style=\"text-align: right;\">\n",
       "      <th></th>\n",
       "      <th>headline_text</th>\n",
       "      <th>index</th>\n",
       "    </tr>\n",
       "  </thead>\n",
       "  <tbody>\n",
       "    <tr>\n",
       "      <th>0</th>\n",
       "      <td>aba decides against community broadcasting lic...</td>\n",
       "      <td>0</td>\n",
       "    </tr>\n",
       "    <tr>\n",
       "      <th>1</th>\n",
       "      <td>act fire witnesses must be aware of defamation</td>\n",
       "      <td>1</td>\n",
       "    </tr>\n",
       "    <tr>\n",
       "      <th>2</th>\n",
       "      <td>a g calls for infrastructure protection summit</td>\n",
       "      <td>2</td>\n",
       "    </tr>\n",
       "    <tr>\n",
       "      <th>3</th>\n",
       "      <td>air nz staff in aust strike for pay rise</td>\n",
       "      <td>3</td>\n",
       "    </tr>\n",
       "    <tr>\n",
       "      <th>4</th>\n",
       "      <td>air nz strike to affect australian travellers</td>\n",
       "      <td>4</td>\n",
       "    </tr>\n",
       "  </tbody>\n",
       "</table>\n",
       "</div>"
      ],
      "text/plain": [
       "                                       headline_text  index\n",
       "0  aba decides against community broadcasting lic...      0\n",
       "1     act fire witnesses must be aware of defamation      1\n",
       "2     a g calls for infrastructure protection summit      2\n",
       "3           air nz staff in aust strike for pay rise      3\n",
       "4      air nz strike to affect australian travellers      4"
      ]
     },
     "execution_count": 3,
     "metadata": {},
     "output_type": "execute_result"
    }
   ],
   "source": [
    "documents[:5]"
   ]
  },
  {
   "cell_type": "markdown",
   "metadata": {},
   "source": [
    "## Step 2: Data Preprocessing ##\n",
    "\n",
    "We will perform the following steps:\n",
    "\n",
    "* **Tokenization**: Split the text into sentences and the sentences into words. Lowercase the words and remove punctuation.\n",
    "* Words that have fewer than 3 characters are removed.\n",
    "* All **stopwords** are removed.\n",
    "* Words are **lemmatized** - words in third person are changed to first person and verbs in past and future tenses are changed into present.\n",
    "* Words are **stemmed** - words are reduced to their root form.\n"
   ]
  },
  {
   "cell_type": "code",
   "execution_count": 4,
   "metadata": {},
   "outputs": [],
   "source": [
    "'''\n",
    "Loading Gensim and nltk libraries\n",
    "'''\n",
    "# pip install gensim\n",
    "import gensim\n",
    "from gensim.utils import simple_preprocess\n",
    "from gensim.parsing.preprocessing import STOPWORDS\n",
    "from nltk.stem import WordNetLemmatizer, SnowballStemmer\n",
    "from nltk.stem.porter import *\n",
    "import numpy as np\n",
    "np.random.seed(400)"
   ]
  },
  {
   "cell_type": "code",
   "execution_count": 5,
   "metadata": {},
   "outputs": [
    {
     "name": "stdout",
     "output_type": "stream",
     "text": [
      "[nltk_data] Downloading package wordnet to /root/nltk_data...\n",
      "[nltk_data]   Unzipping corpora/wordnet.zip.\n"
     ]
    },
    {
     "data": {
      "text/plain": [
       "True"
      ]
     },
     "execution_count": 5,
     "metadata": {},
     "output_type": "execute_result"
    }
   ],
   "source": [
    "import nltk\n",
    "nltk.download('wordnet')"
   ]
  },
  {
   "cell_type": "markdown",
   "metadata": {},
   "source": [
    "### Lemmatizer Example\n",
    "Before preprocessing our dataset, let's first look at an lemmatizing example. What would be the output if we lemmatized the word 'went':"
   ]
  },
  {
   "cell_type": "code",
   "execution_count": 6,
   "metadata": {},
   "outputs": [
    {
     "name": "stdout",
     "output_type": "stream",
     "text": [
      "go\n"
     ]
    }
   ],
   "source": [
    "print(WordNetLemmatizer().lemmatize('went', pos = 'v')) # past tense to present tense"
   ]
  },
  {
   "cell_type": "markdown",
   "metadata": {},
   "source": [
    "### Stemmer Example\n",
    "Let's also look at a stemming example. Let's throw a number of words at the stemmer and see how it deals with each one:"
   ]
  },
  {
   "cell_type": "code",
   "execution_count": 7,
   "metadata": {},
   "outputs": [
    {
     "data": {
      "text/html": [
       "<div>\n",
       "<style scoped>\n",
       "    .dataframe tbody tr th:only-of-type {\n",
       "        vertical-align: middle;\n",
       "    }\n",
       "\n",
       "    .dataframe tbody tr th {\n",
       "        vertical-align: top;\n",
       "    }\n",
       "\n",
       "    .dataframe thead th {\n",
       "        text-align: right;\n",
       "    }\n",
       "</style>\n",
       "<table border=\"1\" class=\"dataframe\">\n",
       "  <thead>\n",
       "    <tr style=\"text-align: right;\">\n",
       "      <th></th>\n",
       "      <th>original word</th>\n",
       "      <th>stemmed</th>\n",
       "    </tr>\n",
       "  </thead>\n",
       "  <tbody>\n",
       "    <tr>\n",
       "      <th>0</th>\n",
       "      <td>caresses</td>\n",
       "      <td>caress</td>\n",
       "    </tr>\n",
       "    <tr>\n",
       "      <th>1</th>\n",
       "      <td>flies</td>\n",
       "      <td>fli</td>\n",
       "    </tr>\n",
       "    <tr>\n",
       "      <th>2</th>\n",
       "      <td>dies</td>\n",
       "      <td>die</td>\n",
       "    </tr>\n",
       "    <tr>\n",
       "      <th>3</th>\n",
       "      <td>mules</td>\n",
       "      <td>mule</td>\n",
       "    </tr>\n",
       "    <tr>\n",
       "      <th>4</th>\n",
       "      <td>denied</td>\n",
       "      <td>deni</td>\n",
       "    </tr>\n",
       "    <tr>\n",
       "      <th>5</th>\n",
       "      <td>died</td>\n",
       "      <td>die</td>\n",
       "    </tr>\n",
       "    <tr>\n",
       "      <th>6</th>\n",
       "      <td>agreed</td>\n",
       "      <td>agre</td>\n",
       "    </tr>\n",
       "    <tr>\n",
       "      <th>7</th>\n",
       "      <td>owned</td>\n",
       "      <td>own</td>\n",
       "    </tr>\n",
       "    <tr>\n",
       "      <th>8</th>\n",
       "      <td>humbled</td>\n",
       "      <td>humbl</td>\n",
       "    </tr>\n",
       "    <tr>\n",
       "      <th>9</th>\n",
       "      <td>sized</td>\n",
       "      <td>size</td>\n",
       "    </tr>\n",
       "    <tr>\n",
       "      <th>10</th>\n",
       "      <td>meeting</td>\n",
       "      <td>meet</td>\n",
       "    </tr>\n",
       "    <tr>\n",
       "      <th>11</th>\n",
       "      <td>stating</td>\n",
       "      <td>state</td>\n",
       "    </tr>\n",
       "    <tr>\n",
       "      <th>12</th>\n",
       "      <td>siezing</td>\n",
       "      <td>siez</td>\n",
       "    </tr>\n",
       "    <tr>\n",
       "      <th>13</th>\n",
       "      <td>itemization</td>\n",
       "      <td>item</td>\n",
       "    </tr>\n",
       "    <tr>\n",
       "      <th>14</th>\n",
       "      <td>sensational</td>\n",
       "      <td>sensat</td>\n",
       "    </tr>\n",
       "    <tr>\n",
       "      <th>15</th>\n",
       "      <td>traditional</td>\n",
       "      <td>tradit</td>\n",
       "    </tr>\n",
       "    <tr>\n",
       "      <th>16</th>\n",
       "      <td>reference</td>\n",
       "      <td>refer</td>\n",
       "    </tr>\n",
       "    <tr>\n",
       "      <th>17</th>\n",
       "      <td>colonizer</td>\n",
       "      <td>colon</td>\n",
       "    </tr>\n",
       "    <tr>\n",
       "      <th>18</th>\n",
       "      <td>plotted</td>\n",
       "      <td>plot</td>\n",
       "    </tr>\n",
       "  </tbody>\n",
       "</table>\n",
       "</div>"
      ],
      "text/plain": [
       "   original word stemmed\n",
       "0       caresses  caress\n",
       "1          flies     fli\n",
       "2           dies     die\n",
       "3          mules    mule\n",
       "4         denied    deni\n",
       "5           died     die\n",
       "6         agreed    agre\n",
       "7          owned     own\n",
       "8        humbled   humbl\n",
       "9          sized    size\n",
       "10       meeting    meet\n",
       "11       stating   state\n",
       "12       siezing    siez\n",
       "13   itemization    item\n",
       "14   sensational  sensat\n",
       "15   traditional  tradit\n",
       "16     reference   refer\n",
       "17     colonizer   colon\n",
       "18       plotted    plot"
      ]
     },
     "execution_count": 7,
     "metadata": {},
     "output_type": "execute_result"
    }
   ],
   "source": [
    "stemmer = SnowballStemmer(\"english\")\n",
    "original_words = ['caresses', 'flies', 'dies', 'mules', 'denied','died', 'agreed', 'owned', \n",
    "           'humbled', 'sized','meeting', 'stating', 'siezing', 'itemization','sensational', \n",
    "           'traditional', 'reference', 'colonizer','plotted']\n",
    "singles = [stemmer.stem(plural) for plural in original_words]\n",
    "\n",
    "pd.DataFrame(data={'original word':original_words, 'stemmed':singles })"
   ]
  },
  {
   "cell_type": "code",
   "execution_count": 8,
   "metadata": {},
   "outputs": [],
   "source": [
    "'''\n",
    "Write a function to perform the pre processing steps on the entire dataset\n",
    "'''\n",
    "def lemmatize_stemming(text):\n",
    "    return stemmer.stem(WordNetLemmatizer().lemmatize(text, pos='v'))\n",
    "\n",
    "# Tokenize and lemmatize\n",
    "def preprocess(text):\n",
    "    result=[]\n",
    "    for token in gensim.utils.simple_preprocess(text) :\n",
    "        if token not in gensim.parsing.preprocessing.STOPWORDS and len(token) > 3:\n",
    "            # TODO: Apply lemmatize_stemming() on the token, then add to the results list\n",
    "            token = lemmatize_stemming(token)\n",
    "            result.append(token)\n",
    "            \n",
    "    return result\n",
    "\n"
   ]
  },
  {
   "cell_type": "code",
   "execution_count": 9,
   "metadata": {},
   "outputs": [
    {
     "name": "stdout",
     "output_type": "stream",
     "text": [
      "Original document: \n",
      "['rain', 'helps', 'dampen', 'bushfires']\n",
      "\n",
      "\n",
      "Tokenized and lemmatized document: \n",
      "['rain', 'help', 'dampen', 'bushfir']\n"
     ]
    }
   ],
   "source": [
    "'''\n",
    "Preview a document after preprocessing\n",
    "'''\n",
    "document_num = 4310\n",
    "doc_sample = documents[documents['index'] == document_num].values[0][0]\n",
    "\n",
    "print(\"Original document: \")\n",
    "words = []\n",
    "for word in doc_sample.split(' '):\n",
    "    words.append(word)\n",
    "print(words)\n",
    "print(\"\\n\\nTokenized and lemmatized document: \")\n",
    "print(preprocess(doc_sample))"
   ]
  },
  {
   "cell_type": "code",
   "execution_count": null,
   "metadata": {
    "scrolled": true
   },
   "outputs": [],
   "source": [
    "documents"
   ]
  },
  {
   "cell_type": "markdown",
   "metadata": {},
   "source": [
    "Let's now preprocess all the news headlines we have. To do that, let's use the [map](https://pandas.pydata.org/pandas-docs/stable/generated/pandas.Series.map.html) function from pandas to apply `preprocess()` to the `headline_text` column\n",
    "\n",
    "**Note**: This may take a few minutes (it take 6 minutes on my laptop)"
   ]
  },
  {
   "cell_type": "code",
   "execution_count": 11,
   "metadata": {},
   "outputs": [],
   "source": [
    "# TODO: preprocess all the headlines, saving the list of results as 'processed_docs'\n",
    "processed_docs = documents['headline_text'].map(preprocess)"
   ]
  },
  {
   "cell_type": "code",
   "execution_count": 12,
   "metadata": {},
   "outputs": [
    {
     "data": {
      "text/plain": [
       "0            [decid, communiti, broadcast, licenc]\n",
       "1                               [wit, awar, defam]\n",
       "2           [call, infrastructur, protect, summit]\n",
       "3                      [staff, aust, strike, rise]\n",
       "4             [strike, affect, australian, travel]\n",
       "5               [ambiti, olsson, win, tripl, jump]\n",
       "6           [antic, delight, record, break, barca]\n",
       "7    [aussi, qualifi, stosur, wast, memphi, match]\n",
       "8            [aust, address, secur, council, iraq]\n",
       "9                         [australia, lock, timet]\n",
       "Name: headline_text, dtype: object"
      ]
     },
     "execution_count": 12,
     "metadata": {},
     "output_type": "execute_result"
    }
   ],
   "source": [
    "'''\n",
    "Preview 'processed_docs'\n",
    "'''\n",
    "processed_docs[:10]"
   ]
  },
  {
   "cell_type": "markdown",
   "metadata": {},
   "source": [
    "## Step 3.1: Bag of words on the dataset\n",
    "\n",
    "Now let's create a dictionary from 'processed_docs' containing the number of times a word appears in the training set. To do that, let's pass `processed_docs` to [`gensim.corpora.Dictionary()`](https://radimrehurek.com/gensim/corpora/dictionary.html) and call it '`dictionary`'."
   ]
  },
  {
   "cell_type": "code",
   "execution_count": 13,
   "metadata": {},
   "outputs": [],
   "source": [
    "'''\n",
    "Create a dictionary from 'processed_docs' containing the number of times a word appears \n",
    "in the training set using gensim.corpora.Dictionary and call it 'dictionary'\n",
    "'''\n",
    "dictionary = gensim.corpora.Dictionary(processed_docs)"
   ]
  },
  {
   "cell_type": "code",
   "execution_count": 14,
   "metadata": {},
   "outputs": [
    {
     "name": "stdout",
     "output_type": "stream",
     "text": [
      "0 broadcast\n",
      "1 communiti\n",
      "2 decid\n",
      "3 licenc\n",
      "4 awar\n",
      "5 defam\n",
      "6 wit\n",
      "7 call\n",
      "8 infrastructur\n",
      "9 protect\n",
      "10 summit\n"
     ]
    }
   ],
   "source": [
    "'''\n",
    "Checking dictionary created\n",
    "'''\n",
    "count = 0\n",
    "for k, v in dictionary.iteritems():\n",
    "    print(k, v)\n",
    "    count += 1\n",
    "    if count > 10:\n",
    "        break"
   ]
  },
  {
   "cell_type": "markdown",
   "metadata": {},
   "source": [
    "** Gensim filter_extremes **\n",
    "\n",
    "[`filter_extremes(no_below=5, no_above=0.5, keep_n=100000)`](https://radimrehurek.com/gensim/corpora/dictionary.html#gensim.corpora.dictionary.Dictionary.filter_extremes)\n",
    "\n",
    "Filter out tokens that appear in\n",
    "\n",
    "* less than no_below documents (absolute number) or\n",
    "* more than no_above documents (fraction of total corpus size, not absolute number).\n",
    "* after (1) and (2), keep only the first keep_n most frequent tokens (or keep all if None)."
   ]
  },
  {
   "cell_type": "code",
   "execution_count": 17,
   "metadata": {},
   "outputs": [],
   "source": [
    "'''\n",
    "OPTIONAL STEP\n",
    "Remove very rare and very common words:\n",
    "\n",
    "- words appearing less than 15 times\n",
    "- words appearing in more than 10% of all documents\n",
    "'''\n",
    "# TODO: apply dictionary.filter_extremes() with the parameters mentioned above\n",
    "dictionary.filter_extremes(no_below = 10, no_above = 0.1, keep_n = 100000)"
   ]
  },
  {
   "cell_type": "markdown",
   "metadata": {},
   "source": [
    "** Gensim doc2bow **\n",
    "\n",
    "[`doc2bow(document)`](https://radimrehurek.com/gensim/corpora/dictionary.html#gensim.corpora.dictionary.Dictionary.doc2bow)\n",
    "\n",
    "* Convert document (a list of words) into the bag-of-words format = list of (token_id, token_count) 2-tuples. Each word is assumed to be a tokenized and normalized string (either unicode or utf8-encoded). No further preprocessing is done on the words in document; apply tokenization, stemming etc. before calling this method."
   ]
  },
  {
   "cell_type": "code",
   "execution_count": 18,
   "metadata": {},
   "outputs": [],
   "source": [
    "'''\n",
    "Create the Bag-of-words model for each document i.e for each document we create a dictionary reporting how many\n",
    "words and how many times those words appear. Save this to 'bow_corpus'\n",
    "'''\n",
    "# TODO\n",
    "bow_corpus = [dictionary.doc2bow(d) for d in processed_docs]"
   ]
  },
  {
   "cell_type": "code",
   "execution_count": 20,
   "metadata": {},
   "outputs": [
    {
     "data": {
      "text/plain": [
       "[(74, 1), (111, 1), (471, 1), (3747, 1)]"
      ]
     },
     "execution_count": 20,
     "metadata": {},
     "output_type": "execute_result"
    }
   ],
   "source": [
    "'''\n",
    "Checking Bag of Words corpus for our sample document --> (token_id, token_count)\n",
    "'''\n",
    "bow_corpus[document_num]"
   ]
  },
  {
   "cell_type": "code",
   "execution_count": 21,
   "metadata": {},
   "outputs": [
    {
     "name": "stdout",
     "output_type": "stream",
     "text": [
      "Word 74 (\"bushfir\") appears 1 time.\n",
      "Word 111 (\"help\") appears 1 time.\n",
      "Word 471 (\"rain\") appears 1 time.\n",
      "Word 3747 (\"dampen\") appears 1 time.\n"
     ]
    }
   ],
   "source": [
    "'''\n",
    "Preview BOW for our sample preprocessed document\n",
    "'''\n",
    "# Here document_num is document number 4310 which we have checked in Step 2\n",
    "bow_doc_4310 = bow_corpus[document_num]\n",
    "\n",
    "for i in range(len(bow_doc_4310)):\n",
    "    print(\"Word {} (\\\"{}\\\") appears {} time.\".format(bow_doc_4310[i][0], \n",
    "                                                     dictionary[bow_doc_4310[i][0]], \n",
    "                                                     bow_doc_4310[i][1]))"
   ]
  },
  {
   "cell_type": "markdown",
   "metadata": {},
   "source": [
    "## Step 3.2: TF-IDF on our document set ##\n",
    "\n",
    "While performing TF-IDF on the corpus is not necessary for LDA implemention using the gensim model, it is recemmended. TF-IDF expects a bag-of-words (integer values) training corpus during initialization. During transformation, it will take a vector and return another vector of the same dimensionality.\n",
    "\n",
    "*Please note: The author of Gensim dictates the standard procedure for LDA to be using the Bag of Words model.*"
   ]
  },
  {
   "cell_type": "markdown",
   "metadata": {},
   "source": [
    "** TF-IDF stands for \"Term Frequency, Inverse Document Frequency\".**\n",
    "\n",
    "* It is a way to score the importance of words (or \"terms\") in a document based on how frequently they appear across multiple documents.\n",
    "* If a word appears frequently in a document, it's important. Give the word a high score. But if a word appears in many documents, it's not a unique identifier. Give the word a low score.\n",
    "* Therefore, common words like \"the\" and \"for\", which appear in many documents, will be scaled down. Words that appear frequently in a single document will be scaled up.\n",
    "\n",
    "In other words:\n",
    "\n",
    "* TF(w) = `(Number of times term w appears in a document) / (Total number of terms in the document)`.\n",
    "* IDF(w) = `log_e(Total number of documents / Number of documents with term w in it)`.\n",
    "\n",
    "** For example **\n",
    "\n",
    "* Consider a document containing `100` words wherein the word 'tiger' appears 3 times. \n",
    "* The term frequency (i.e., tf) for 'tiger' is then: \n",
    "    - `TF = (3 / 100) = 0.03`. \n",
    "\n",
    "* Now, assume we have `10 million` documents and the word 'tiger' appears in `1000` of these. Then, the inverse document frequency (i.e., idf) is calculated as:\n",
    "    - `IDF = log(10,000,000 / 1,000) = 4`. \n",
    "\n",
    "* Thus, the Tf-idf weight is the product of these quantities: \n",
    "    - `TF-IDF = 0.03 * 4 = 0.12`."
   ]
  },
  {
   "cell_type": "code",
   "execution_count": 23,
   "metadata": {},
   "outputs": [],
   "source": [
    "'''\n",
    "Create tf-idf model object using models.TfidfModel on 'bow_corpus' and save it to 'tfidf'\n",
    "'''\n",
    "from gensim import corpora, models\n",
    "\n",
    "# TODO\n",
    "tfidf = models.TfidfModel(bow_corpus)"
   ]
  },
  {
   "cell_type": "code",
   "execution_count": 24,
   "metadata": {},
   "outputs": [],
   "source": [
    "'''\n",
    "Apply transformation to the entire corpus and call it 'corpus_tfidf'\n",
    "'''\n",
    "# TODO\n",
    "corpus_tfidf = tfidf[bow_corpus]"
   ]
  },
  {
   "cell_type": "code",
   "execution_count": 25,
   "metadata": {},
   "outputs": [
    {
     "name": "stdout",
     "output_type": "stream",
     "text": [
      "[(0, 0.5959813347777092),\n",
      " (1, 0.39204529549491984),\n",
      " (2, 0.48531419274988147),\n",
      " (3, 0.50554610985785686)]\n"
     ]
    }
   ],
   "source": [
    "'''\n",
    "Preview TF-IDF scores for our first document --> --> (token_id, tfidf score)\n",
    "'''\n",
    "from pprint import pprint\n",
    "for doc in corpus_tfidf:\n",
    "    pprint(doc)\n",
    "    break"
   ]
  },
  {
   "cell_type": "markdown",
   "metadata": {},
   "source": [
    "## Step 4.1: Running LDA using Bag of Words ##\n",
    "\n",
    "We are going for 10 topics in the document corpus.\n",
    "\n",
    "** We will be running LDA using all CPU cores to parallelize and speed up model training.**\n",
    "\n",
    "Some of the parameters we will be tweaking are:\n",
    "\n",
    "* **num_topics** is the number of requested latent topics to be extracted from the training corpus.\n",
    "* **id2word** is a mapping from word ids (integers) to words (strings). It is used to determine the vocabulary size, as well as for debugging and topic printing.\n",
    "* **workers** is the number of extra processes to use for parallelization. Uses all available cores by default.\n",
    "* **alpha** and **eta** are hyperparameters that affect sparsity of the document-topic (theta) and topic-word (lambda) distributions. We will let these be the default values for now(default value is `1/num_topics`)\n",
    "    - Alpha is the per document topic distribution.\n",
    "        * High alpha: Every document has a mixture of all topics(documents appear similar to each other).\n",
    "        * Low alpha: Every document has a mixture of very few topics\n",
    "\n",
    "    - Eta is the per topic word distribution.\n",
    "        * High eta: Each topic has a mixture of most words(topics appear similar to each other).\n",
    "        * Low eta: Each topic has a mixture of few words.\n",
    "* **passes** is the number of training passes through the corpus. For  example, if the training corpus has 50,000 documents, chunksize is  10,000, passes is 2, then online training is done in 10 updates: \n",
    "    * `#1 documents 0-9,999 `\n",
    "    * `#2 documents 10,000-19,999 `\n",
    "    * `#3 documents 20,000-29,999 `\n",
    "    * `#4 documents 30,000-39,999 `\n",
    "    * `#5 documents 40,000-49,999 `\n",
    "    * `#6 documents 0-9,999 `\n",
    "    * `#7 documents 10,000-19,999 `\n",
    "    * `#8 documents 20,000-29,999 `\n",
    "    * `#9 documents 30,000-39,999 `\n",
    "    * `#10 documents 40,000-49,999` "
   ]
  },
  {
   "cell_type": "code",
   "execution_count": 26,
   "metadata": {},
   "outputs": [],
   "source": [
    "# LDA mono-core -- fallback code in case LdaMulticore throws an error on your machine\n",
    "# lda_model = gensim.models.LdaModel(bow_corpus, \n",
    "#                                    num_topics = 10, \n",
    "#                                    id2word = dictionary,                                    \n",
    "#                                    passes = 50)\n",
    "\n",
    "# LDA multicore \n",
    "'''\n",
    "Train your lda model using gensim.models.LdaMulticore and save it to 'lda_model'\n",
    "'''\n",
    "# TODO\n",
    "lda_model = gensim.models.LdaModel(bow_corpus, \n",
    "                                   num_topics=10, \n",
    "                                   id2word = dictionary, \n",
    "                                   passes = 2)"
   ]
  },
  {
   "cell_type": "code",
   "execution_count": 27,
   "metadata": {},
   "outputs": [
    {
     "name": "stdout",
     "output_type": "stream",
     "text": [
      "Topic: 0.031*\"govt\" + 0.029*\"fund\" + 0.021*\"boost\" + 0.017*\"health\" + 0.017*\"school\" + 0.016*\"work\" + 0.013*\"indigen\" + 0.013*\"return\" + 0.013*\"urg\" + 0.012*\"call\" \n",
      "Words: 0\n",
      "\n",
      "\n",
      "Topic: 0.081*\"polic\" + 0.029*\"water\" + 0.026*\"crash\" + 0.022*\"investig\" + 0.021*\"miss\" + 0.020*\"death\" + 0.017*\"continu\" + 0.016*\"year\" + 0.015*\"search\" + 0.014*\"jail\" \n",
      "Words: 1\n",
      "\n",
      "\n",
      "Topic: 0.037*\"council\" + 0.024*\"claim\" + 0.023*\"iraq\" + 0.020*\"reject\" + 0.019*\"kill\" + 0.017*\"aust\" + 0.017*\"defend\" + 0.016*\"govt\" + 0.015*\"forc\" + 0.015*\"attack\" \n",
      "Words: 2\n",
      "\n",
      "\n",
      "Topic: 0.024*\"hous\" + 0.021*\"rise\" + 0.019*\"consid\" + 0.015*\"deal\" + 0.014*\"market\" + 0.013*\"assault\" + 0.012*\"price\" + 0.012*\"take\" + 0.012*\"mayor\" + 0.011*\"guilti\" \n",
      "Words: 3\n",
      "\n",
      "\n",
      "Topic: 0.042*\"charg\" + 0.036*\"court\" + 0.034*\"face\" + 0.023*\"accus\" + 0.019*\"back\" + 0.017*\"howard\" + 0.017*\"murder\" + 0.014*\"england\" + 0.013*\"leader\" + 0.012*\"bodi\" \n",
      "Words: 4\n",
      "\n",
      "\n",
      "Topic: 0.051*\"say\" + 0.033*\"urg\" + 0.020*\"closer\" + 0.020*\"govt\" + 0.019*\"opposit\" + 0.017*\"warn\" + 0.016*\"australia\" + 0.014*\"union\" + 0.013*\"talk\" + 0.013*\"public\" \n",
      "Words: 5\n",
      "\n",
      "\n",
      "Topic: 0.024*\"drug\" + 0.020*\"want\" + 0.020*\"record\" + 0.019*\"die\" + 0.019*\"driver\" + 0.018*\"australian\" + 0.016*\"teen\" + 0.016*\"rule\" + 0.014*\"lose\" + 0.013*\"stand\" \n",
      "Words: 6\n",
      "\n",
      "\n",
      "Topic: 0.024*\"sydney\" + 0.022*\"drought\" + 0.019*\"green\" + 0.018*\"water\" + 0.017*\"arrest\" + 0.016*\"case\" + 0.014*\"farmer\" + 0.014*\"communiti\" + 0.014*\"plan\" + 0.013*\"decis\" \n",
      "Words: 7\n",
      "\n",
      "\n",
      "Topic: 0.023*\"chang\" + 0.022*\"push\" + 0.020*\"nation\" + 0.019*\"plan\" + 0.018*\"group\" + 0.016*\"deni\" + 0.016*\"concern\" + 0.014*\"industri\" + 0.014*\"break\" + 0.012*\"council\" \n",
      "Words: 8\n",
      "\n",
      "\n",
      "Topic: 0.024*\"open\" + 0.017*\"power\" + 0.016*\"win\" + 0.016*\"road\" + 0.014*\"feder\" + 0.013*\"water\" + 0.013*\"final\" + 0.012*\"close\" + 0.012*\"storm\" + 0.011*\"gold\" \n",
      "Words: 9\n",
      "\n",
      "\n"
     ]
    }
   ],
   "source": [
    "'''\n",
    "For each topic, we will explore the words occuring in that topic and its relative weight\n",
    "'''\n",
    "for idx, topic in lda_model.print_topics(-1):\n",
    "    print(\"Topic: {} \\nWords: {}\".format(topic, idx ))\n",
    "    print(\"\\n\")"
   ]
  },
  {
   "cell_type": "markdown",
   "metadata": {},
   "source": [
    "### Classification of the topics ###\n",
    "\n",
    "Using the words in each topic and their corresponding weights, what categories were you able to infer?\n",
    "\n",
    "* 0: \n",
    "* 1: \n",
    "* 2: \n",
    "* 3: \n",
    "* 4: \n",
    "* 5: \n",
    "* 6: \n",
    "* 7:  \n",
    "* 8: \n",
    "* 9: "
   ]
  },
  {
   "cell_type": "markdown",
   "metadata": {},
   "source": [
    "## Step 4.2 Running LDA using TF-IDF ##"
   ]
  },
  {
   "cell_type": "code",
   "execution_count": 28,
   "metadata": {},
   "outputs": [],
   "source": [
    "'''\n",
    "Define lda model using corpus_tfidf, again using gensim.models.LdaMulticore()\n",
    "'''\n",
    "# TODO\n",
    "lda_model_tfidf = gensim.models.LdaMulticore(corpus_tfidf, \n",
    "                                             num_topics=10, \n",
    "                                             id2word = dictionary, \n",
    "                                             passes = 2)"
   ]
  },
  {
   "cell_type": "code",
   "execution_count": 29,
   "metadata": {},
   "outputs": [
    {
     "name": "stdout",
     "output_type": "stream",
     "text": [
      "Topic: 0 Word: 0.046*\"closer\" + 0.010*\"crew\" + 0.009*\"iran\" + 0.009*\"bushfir\" + 0.008*\"wind\" + 0.008*\"farm\" + 0.007*\"recycl\" + 0.007*\"alic\" + 0.006*\"contain\" + 0.006*\"weather\"\n",
      "\n",
      "\n",
      "Topic: 1 Word: 0.013*\"govt\" + 0.009*\"price\" + 0.009*\"rise\" + 0.008*\"water\" + 0.008*\"drought\" + 0.008*\"fund\" + 0.008*\"council\" + 0.007*\"urg\" + 0.007*\"plan\" + 0.007*\"push\"\n",
      "\n",
      "\n",
      "Topic: 2 Word: 0.012*\"howard\" + 0.009*\"north\" + 0.008*\"nuclear\" + 0.008*\"qanta\" + 0.008*\"labor\" + 0.008*\"east\" + 0.008*\"west\" + 0.008*\"south\" + 0.007*\"elect\" + 0.007*\"bush\"\n",
      "\n",
      "\n",
      "Topic: 3 Word: 0.013*\"timor\" + 0.011*\"prompt\" + 0.008*\"beatti\" + 0.008*\"worri\" + 0.007*\"staff\" + 0.006*\"youth\" + 0.006*\"theft\" + 0.005*\"govt\" + 0.005*\"tunnel\" + 0.005*\"safe\"\n",
      "\n",
      "\n",
      "Topic: 4 Word: 0.025*\"crash\" + 0.018*\"polic\" + 0.016*\"miss\" + 0.015*\"search\" + 0.014*\"blaze\" + 0.012*\"road\" + 0.011*\"die\" + 0.011*\"investig\" + 0.010*\"fatal\" + 0.008*\"firefight\"\n",
      "\n",
      "\n",
      "Topic: 5 Word: 0.010*\"england\" + 0.008*\"takeov\" + 0.008*\"share\" + 0.008*\"victori\" + 0.007*\"aussi\" + 0.007*\"award\" + 0.007*\"doubt\" + 0.007*\"refus\" + 0.007*\"darl\" + 0.007*\"win\"\n",
      "\n",
      "\n",
      "Topic: 6 Word: 0.012*\"climat\" + 0.010*\"damag\" + 0.009*\"iemma\" + 0.007*\"number\" + 0.007*\"govern\" + 0.007*\"debnam\" + 0.007*\"extend\" + 0.006*\"airport\" + 0.006*\"track\" + 0.006*\"hurt\"\n",
      "\n",
      "\n",
      "Topic: 7 Word: 0.016*\"water\" + 0.010*\"plan\" + 0.009*\"council\" + 0.009*\"resid\" + 0.009*\"govt\" + 0.008*\"liber\" + 0.007*\"solomon\" + 0.007*\"plant\" + 0.007*\"restrict\" + 0.007*\"emerg\"\n",
      "\n",
      "\n",
      "Topic: 8 Word: 0.018*\"kill\" + 0.013*\"iraq\" + 0.012*\"troop\" + 0.010*\"plane\" + 0.009*\"bomb\" + 0.007*\"baghdad\" + 0.007*\"soldier\" + 0.007*\"scientist\" + 0.007*\"burn\" + 0.007*\"iraqi\"\n",
      "\n",
      "\n",
      "Topic: 9 Word: 0.024*\"charg\" + 0.020*\"court\" + 0.016*\"murder\" + 0.015*\"jail\" + 0.015*\"polic\" + 0.013*\"hick\" + 0.013*\"rudd\" + 0.012*\"face\" + 0.011*\"assault\" + 0.010*\"arrest\"\n",
      "\n",
      "\n"
     ]
    }
   ],
   "source": [
    "'''\n",
    "For each topic, we will explore the words occuring in that topic and its relative weight\n",
    "'''\n",
    "for idx, topic in lda_model_tfidf.print_topics(-1):\n",
    "    print(\"Topic: {} Word: {}\".format(idx, topic))\n",
    "    print(\"\\n\")"
   ]
  },
  {
   "cell_type": "markdown",
   "metadata": {},
   "source": [
    "### Classification of the topics ###\n",
    "\n",
    "As we can see, when using tf-idf, heavier weights are given to words that are not as frequent which results in nouns being factored in. That makes it harder to figure out the categories as nouns can be hard to categorize. This goes to show that the models we apply depend on the type of corpus of text we are dealing with. \n",
    "\n",
    "Using the words in each topic and their corresponding weights, what categories could you find?\n",
    "\n",
    "* 0: \n",
    "* 1:  \n",
    "* 2: \n",
    "* 3: \n",
    "* 4:  \n",
    "* 5: \n",
    "* 6: \n",
    "* 7: \n",
    "* 8: \n",
    "* 9: "
   ]
  },
  {
   "cell_type": "markdown",
   "metadata": {},
   "source": [
    "## Step 5.1: Performance evaluation by classifying sample document using LDA Bag of Words model##\n",
    "\n",
    "We will check to see where our test document would be classified. "
   ]
  },
  {
   "cell_type": "code",
   "execution_count": 30,
   "metadata": {},
   "outputs": [
    {
     "data": {
      "text/plain": [
       "['rain', 'help', 'dampen', 'bushfir']"
      ]
     },
     "execution_count": 30,
     "metadata": {},
     "output_type": "execute_result"
    }
   ],
   "source": [
    "'''\n",
    "Text of sample document 4310\n",
    "'''\n",
    "processed_docs[4310]"
   ]
  },
  {
   "cell_type": "code",
   "execution_count": 31,
   "metadata": {},
   "outputs": [
    {
     "name": "stdout",
     "output_type": "stream",
     "text": [
      "\n",
      "Score: 0.32513219118118286\t \n",
      "Topic: 0.051*\"say\" + 0.033*\"urg\" + 0.020*\"closer\" + 0.020*\"govt\" + 0.019*\"opposit\" + 0.017*\"warn\" + 0.016*\"australia\" + 0.014*\"union\" + 0.013*\"talk\" + 0.013*\"public\"\n",
      "\n",
      "Score: 0.31485870480537415\t \n",
      "Topic: 0.024*\"sydney\" + 0.022*\"drought\" + 0.019*\"green\" + 0.018*\"water\" + 0.017*\"arrest\" + 0.016*\"case\" + 0.014*\"farmer\" + 0.014*\"communiti\" + 0.014*\"plan\" + 0.013*\"decis\"\n",
      "\n",
      "Score: 0.2200000286102295\t \n",
      "Topic: 0.031*\"govt\" + 0.029*\"fund\" + 0.021*\"boost\" + 0.017*\"health\" + 0.017*\"school\" + 0.016*\"work\" + 0.013*\"indigen\" + 0.013*\"return\" + 0.013*\"urg\" + 0.012*\"call\"\n",
      "\n",
      "Score: 0.02000455930829048\t \n",
      "Topic: 0.081*\"polic\" + 0.029*\"water\" + 0.026*\"crash\" + 0.022*\"investig\" + 0.021*\"miss\" + 0.020*\"death\" + 0.017*\"continu\" + 0.016*\"year\" + 0.015*\"search\" + 0.014*\"jail\"\n",
      "\n",
      "Score: 0.020001746714115143\t \n",
      "Topic: 0.024*\"open\" + 0.017*\"power\" + 0.016*\"win\" + 0.016*\"road\" + 0.014*\"feder\" + 0.013*\"water\" + 0.013*\"final\" + 0.012*\"close\" + 0.012*\"storm\" + 0.011*\"gold\"\n",
      "\n",
      "Score: 0.020001396536827087\t \n",
      "Topic: 0.024*\"hous\" + 0.021*\"rise\" + 0.019*\"consid\" + 0.015*\"deal\" + 0.014*\"market\" + 0.013*\"assault\" + 0.012*\"price\" + 0.012*\"take\" + 0.012*\"mayor\" + 0.011*\"guilti\"\n",
      "\n",
      "Score: 0.02000138722360134\t \n",
      "Topic: 0.023*\"chang\" + 0.022*\"push\" + 0.020*\"nation\" + 0.019*\"plan\" + 0.018*\"group\" + 0.016*\"deni\" + 0.016*\"concern\" + 0.014*\"industri\" + 0.014*\"break\" + 0.012*\"council\"\n",
      "\n",
      "Score: 0.019999999552965164\t \n",
      "Topic: 0.037*\"council\" + 0.024*\"claim\" + 0.023*\"iraq\" + 0.020*\"reject\" + 0.019*\"kill\" + 0.017*\"aust\" + 0.017*\"defend\" + 0.016*\"govt\" + 0.015*\"forc\" + 0.015*\"attack\"\n",
      "\n",
      "Score: 0.019999999552965164\t \n",
      "Topic: 0.042*\"charg\" + 0.036*\"court\" + 0.034*\"face\" + 0.023*\"accus\" + 0.019*\"back\" + 0.017*\"howard\" + 0.017*\"murder\" + 0.014*\"england\" + 0.013*\"leader\" + 0.012*\"bodi\"\n",
      "\n",
      "Score: 0.019999999552965164\t \n",
      "Topic: 0.024*\"drug\" + 0.020*\"want\" + 0.020*\"record\" + 0.019*\"die\" + 0.019*\"driver\" + 0.018*\"australian\" + 0.016*\"teen\" + 0.016*\"rule\" + 0.014*\"lose\" + 0.013*\"stand\"\n"
     ]
    }
   ],
   "source": [
    "'''\n",
    "Check which topic our test document belongs to using the LDA Bag of Words model.\n",
    "'''\n",
    "document_num = 4310\n",
    "# Our test document is document number 4310\n",
    "\n",
    "# TODO\n",
    "# Our test document is document number 4310\n",
    "for index, score in sorted(lda_model[bow_corpus[document_num]], key=lambda tup: -1*tup[1]):\n",
    "    print(\"\\nScore: {}\\t \\nTopic: {}\".format(score, lda_model.print_topic(index, 10)))"
   ]
  },
  {
   "cell_type": "markdown",
   "metadata": {},
   "source": [
    "### It has the highest probability (`x`) to be  part of the topic that we assigned as X, which is the accurate classification. ###"
   ]
  },
  {
   "cell_type": "markdown",
   "metadata": {},
   "source": [
    "## Step 5.2: Performance evaluation by classifying sample document using LDA TF-IDF model##"
   ]
  },
  {
   "cell_type": "code",
   "execution_count": 33,
   "metadata": {},
   "outputs": [
    {
     "name": "stdout",
     "output_type": "stream",
     "text": [
      "\n",
      "Score: 0.6128941774368286\t \n",
      "Topic: 0.046*\"closer\" + 0.010*\"crew\" + 0.009*\"iran\" + 0.009*\"bushfir\" + 0.008*\"wind\" + 0.008*\"farm\" + 0.007*\"recycl\" + 0.007*\"alic\" + 0.006*\"contain\" + 0.006*\"weather\"\n",
      "\n",
      "Score: 0.22706778347492218\t \n",
      "Topic: 0.018*\"kill\" + 0.013*\"iraq\" + 0.012*\"troop\" + 0.010*\"plane\" + 0.009*\"bomb\" + 0.007*\"baghdad\" + 0.007*\"soldier\" + 0.007*\"scientist\" + 0.007*\"burn\" + 0.007*\"iraqi\"\n",
      "\n",
      "Score: 0.02001005969941616\t \n",
      "Topic: 0.016*\"water\" + 0.010*\"plan\" + 0.009*\"council\" + 0.009*\"resid\" + 0.009*\"govt\" + 0.008*\"liber\" + 0.007*\"solomon\" + 0.007*\"plant\" + 0.007*\"restrict\" + 0.007*\"emerg\"\n",
      "\n",
      "Score: 0.02000816911458969\t \n",
      "Topic: 0.013*\"govt\" + 0.009*\"price\" + 0.009*\"rise\" + 0.008*\"water\" + 0.008*\"drought\" + 0.008*\"fund\" + 0.008*\"council\" + 0.007*\"urg\" + 0.007*\"plan\" + 0.007*\"push\"\n",
      "\n",
      "Score: 0.02000812441110611\t \n",
      "Topic: 0.025*\"crash\" + 0.018*\"polic\" + 0.016*\"miss\" + 0.015*\"search\" + 0.014*\"blaze\" + 0.012*\"road\" + 0.011*\"die\" + 0.011*\"investig\" + 0.010*\"fatal\" + 0.008*\"firefight\"\n",
      "\n",
      "Score: 0.0200043898075819\t \n",
      "Topic: 0.012*\"howard\" + 0.009*\"north\" + 0.008*\"nuclear\" + 0.008*\"qanta\" + 0.008*\"labor\" + 0.008*\"east\" + 0.008*\"west\" + 0.008*\"south\" + 0.007*\"elect\" + 0.007*\"bush\"\n",
      "\n",
      "Score: 0.02000322937965393\t \n",
      "Topic: 0.010*\"england\" + 0.008*\"takeov\" + 0.008*\"share\" + 0.008*\"victori\" + 0.007*\"aussi\" + 0.007*\"award\" + 0.007*\"doubt\" + 0.007*\"refus\" + 0.007*\"darl\" + 0.007*\"win\"\n",
      "\n",
      "Score: 0.02000221237540245\t \n",
      "Topic: 0.012*\"climat\" + 0.010*\"damag\" + 0.009*\"iemma\" + 0.007*\"number\" + 0.007*\"govern\" + 0.007*\"debnam\" + 0.007*\"extend\" + 0.006*\"airport\" + 0.006*\"track\" + 0.006*\"hurt\"\n",
      "\n",
      "Score: 0.020001070573925972\t \n",
      "Topic: 0.024*\"charg\" + 0.020*\"court\" + 0.016*\"murder\" + 0.015*\"jail\" + 0.015*\"polic\" + 0.013*\"hick\" + 0.013*\"rudd\" + 0.012*\"face\" + 0.011*\"assault\" + 0.010*\"arrest\"\n",
      "\n",
      "Score: 0.020000724121928215\t \n",
      "Topic: 0.013*\"timor\" + 0.011*\"prompt\" + 0.008*\"beatti\" + 0.008*\"worri\" + 0.007*\"staff\" + 0.006*\"youth\" + 0.006*\"theft\" + 0.005*\"govt\" + 0.005*\"tunnel\" + 0.005*\"safe\"\n"
     ]
    }
   ],
   "source": [
    "'''\n",
    "Check which topic our test document belongs to using the LDA TF-IDF model.\n",
    "'''\n",
    "# Our test document is document number 4310\n",
    "for index, score in sorted(lda_model_tfidf[bow_corpus[document_num]], key=lambda tup: -1*tup[1]):\n",
    "    print(\"\\nScore: {}\\t \\nTopic: {}\".format(score, lda_model_tfidf.print_topic(index, 10)))"
   ]
  },
  {
   "cell_type": "markdown",
   "metadata": {},
   "source": [
    "### It has the highest probability (`x%`) to be  part of the topic that we assigned as X. ###"
   ]
  },
  {
   "cell_type": "markdown",
   "metadata": {},
   "source": [
    "## Step 6: Testing model on unseen document ##"
   ]
  },
  {
   "cell_type": "code",
   "execution_count": 34,
   "metadata": {},
   "outputs": [
    {
     "name": "stdout",
     "output_type": "stream",
     "text": [
      "Score: 0.42000001668930054\t Topic: 0.023*\"chang\" + 0.022*\"push\" + 0.020*\"nation\" + 0.019*\"plan\" + 0.018*\"group\"\n",
      "Score: 0.2199999988079071\t Topic: 0.051*\"say\" + 0.033*\"urg\" + 0.020*\"closer\" + 0.020*\"govt\" + 0.019*\"opposit\"\n",
      "Score: 0.2199999988079071\t Topic: 0.024*\"sydney\" + 0.022*\"drought\" + 0.019*\"green\" + 0.018*\"water\" + 0.017*\"arrest\"\n",
      "Score: 0.020000001415610313\t Topic: 0.031*\"govt\" + 0.029*\"fund\" + 0.021*\"boost\" + 0.017*\"health\" + 0.017*\"school\"\n",
      "Score: 0.020000001415610313\t Topic: 0.081*\"polic\" + 0.029*\"water\" + 0.026*\"crash\" + 0.022*\"investig\" + 0.021*\"miss\"\n",
      "Score: 0.020000001415610313\t Topic: 0.037*\"council\" + 0.024*\"claim\" + 0.023*\"iraq\" + 0.020*\"reject\" + 0.019*\"kill\"\n",
      "Score: 0.020000001415610313\t Topic: 0.024*\"hous\" + 0.021*\"rise\" + 0.019*\"consid\" + 0.015*\"deal\" + 0.014*\"market\"\n",
      "Score: 0.020000001415610313\t Topic: 0.042*\"charg\" + 0.036*\"court\" + 0.034*\"face\" + 0.023*\"accus\" + 0.019*\"back\"\n",
      "Score: 0.020000001415610313\t Topic: 0.024*\"drug\" + 0.020*\"want\" + 0.020*\"record\" + 0.019*\"die\" + 0.019*\"driver\"\n",
      "Score: 0.020000001415610313\t Topic: 0.024*\"open\" + 0.017*\"power\" + 0.016*\"win\" + 0.016*\"road\" + 0.014*\"feder\"\n"
     ]
    }
   ],
   "source": [
    "unseen_document = \"My favorite sports activities are running and swimming.\"\n",
    "\n",
    "# Data preprocessing step for the unseen document\n",
    "bow_vector = dictionary.doc2bow(preprocess(unseen_document))\n",
    "\n",
    "for index, score in sorted(lda_model[bow_vector], key=lambda tup: -1*tup[1]):\n",
    "    print(\"Score: {}\\t Topic: {}\".format(score, lda_model.print_topic(index, 5)))"
   ]
  },
  {
   "cell_type": "markdown",
   "metadata": {},
   "source": [
    "The model correctly classifies the unseen document with 'x'% probability to the X category."
   ]
  }
 ],
 "metadata": {
  "kernelspec": {
   "display_name": "Python 3.8.3 ('base')",
   "language": "python",
   "name": "python3"
  },
  "language_info": {
   "codemirror_mode": {
    "name": "ipython",
    "version": 3
   },
   "file_extension": ".py",
   "mimetype": "text/x-python",
   "name": "python",
   "nbconvert_exporter": "python",
   "pygments_lexer": "ipython3",
   "version": "3.8.3"
  },
  "vscode": {
   "interpreter": {
    "hash": "ad2bdc8ecc057115af97d19610ffacc2b4e99fae6737bb82f5d7fb13d2f2c186"
   }
  }
 },
 "nbformat": 4,
 "nbformat_minor": 1
}
