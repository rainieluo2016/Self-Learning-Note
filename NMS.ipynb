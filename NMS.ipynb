{
 "cells": [
  {
   "cell_type": "markdown",
   "metadata": {},
   "source": [
    "# Non Maximum Suppression (NMS)\n",
    "\n",
    "[reference 1](https://learnopencv.com/non-maximum-suppression-theory-and-implementation-in-pytorch/)\n",
    "[reference 2](https://pyimagesearch.com/2014/11/17/non-maximum-suppression-object-detection-python/)\n",
    "\n",
    "This is a class of algorithms to select one entity out of many overlapping entities. The criteria commonly used to achieve this are some forms of probabilites and overlap measures (such as IoU - Intersection Over Union).\n",
    "\n",
    "## Intersection Over Union (IoU)\n",
    "\n",
    "The idead of IoU is from [Jaccard Index](https://en.wikipedia.org/wiki/Jaccard_index). The Jaccard Index is defined as $J(A, B) = \\frac{ \\left| A \\bigcap B \\right| }{\\left| A \\bigcup B \\right|}$, which is the percentage of overlap between the ground truth Bounding Box and the prediction Bounding Box. \n",
    "\n",
    "Applying this idea into NMS, we can generate so many boxes for one object. In this case $IoU(Box1, Box2) = \\frac{ \\left| Box1 \\bigcap Box2 \\right| }{\\left| Box1 \\bigcup Box2 \\right|}$\n",
    "\n",
    "Let's first implement the Idea of IoU in Python:\n",
    "+ Box1 lower left coordinates (x1, y1) and upper right coordinates (a1, b1)\n",
    "+ Similarily, Box2 lower left coordinates (x2, y2) and upper right coordinates (a2, b2)\n",
    "+ The intersection box of Box1 and Box2 has coordinates (xx, yy) and (aa, bb)\n"
   ]
  },
  {
   "cell_type": "code",
   "execution_count": 1,
   "metadata": {},
   "outputs": [],
   "source": [
    "def IoU(x1, y1, a1, b1\n",
    "        , x2, y2, a2, b2):\n",
    "    \n",
    "    area1 = (a1 - x1) * (b1 - y1)\n",
    "    area2 = (a2 - x2) * (b2 - y2)\n",
    "\n",
    "    # here we find the coordinate of overlap boxes\n",
    "    xx = max(x1, x2)\n",
    "    yy = max(y1, y2)\n",
    "    aa = min(a1, a2)\n",
    "    bb = min(b1, b2)\n",
    "\n",
    "    w = max(0, aa - xx)\n",
    "    h = max(0, bb - yy)\n",
    "\n",
    "    # intersection area\n",
    "    intersection_area = w * h \n",
    "    union_area = area1 + area2 - intersection_area\n",
    "\n",
    "    IoU = intersection_area/union_area\n",
    "\n",
    "    return IoU"
   ]
  },
  {
   "cell_type": "markdown",
   "metadata": {},
   "source": [
    "## The NMS Algorithm\n",
    "\n",
    "+ Input\n",
    "    + a list $P$ of prediction Bboxes of the form $(x1, y1, x2, y2, c)$ \n",
    "        + $(x1, y1)$ lower left and $(x2, y2)$ upper right\n",
    "        + $c$ is the predicted confidence score of the model\n",
    "    + overlap threshold IoU $thresh_iou$\n",
    "\n",
    "+ Output\n",
    "    + a list keep of filtered prediction Bboxes\n",
    "\n",
    "+ Algorithm\n",
    "    + Suppose $keep$ as the final output list, we first select the prediction $S$ as highest confidence score and remove it from $P$ and add it to $keep$\n",
    "    + Calculate the IoU of this prediction $S$ with all other present prediction in $P$.\n",
    "        + If IoU between $P$ and $S_i$ is greater than the threshold $thresh_iou$, remove the prediction $S_i$ from $P$ (__suppress the non-maximum ones__)\n",
    "    + If there are still predictions left in $P$, we then go through from beginning again and then return the list $keep$ containing the filtered prediction.(__keep the maximum ones__)\n",
    "\n",
    "Through this algorithm, we select the predictions with the maximum confidence and suppresss all the other predictions having overlap with the selected predictions greater than a therehold."
   ]
  }
 ],
 "metadata": {
  "interpreter": {
   "hash": "b3ba2566441a7c06988d0923437866b63cedc61552a5af99d1f4fb67d367b25f"
  },
  "kernelspec": {
   "display_name": "Python 3.8.3 64-bit ('base': conda)",
   "language": "python",
   "name": "python3"
  },
  "language_info": {
   "codemirror_mode": {
    "name": "ipython",
    "version": 3
   },
   "file_extension": ".py",
   "mimetype": "text/x-python",
   "name": "python",
   "nbconvert_exporter": "python",
   "pygments_lexer": "ipython3",
   "version": "3.8.3"
  },
  "orig_nbformat": 4
 },
 "nbformat": 4,
 "nbformat_minor": 2
}
