{
  "nbformat": 4,
  "nbformat_minor": 0,
  "metadata": {
    "colab": {
      "name": "AI_Blix13_02_Age_Prediction",
      "provenance": [],
      "collapsed_sections": []
    },
    "kernelspec": {
      "name": "python3",
      "display_name": "Python 3"
    },
    "language_info": {
      "name": "python"
    },
    "widgets": {
      "application/vnd.jupyter.widget-state+json": {
        "c369b6795de54af3a8b2f860278b84a2": {
          "model_module": "@jupyter-widgets/output",
          "model_name": "OutputModel",
          "model_module_version": "1.0.0",
          "state": {
            "_view_name": "OutputView",
            "msg_id": "",
            "_dom_classes": [],
            "_model_name": "OutputModel",
            "outputs": [
              {
                "output_type": "display_data",
                "data": {
                  "text/html": "<pre style=\"white-space:pre;overflow-x:auto;line-height:normal;font-family:Menlo,'DejaVu Sans Mono',consolas,'Courier New',monospace\"><span style=\"color: #000080; text-decoration-color: #000080; font-weight: bold\">submission.zip</span> <span style=\"color: #729c1f; text-decoration-color: #729c1f\">━━━━━━━━━━━━━━━━━━━━━━━━━━━━━━━</span> <span style=\"color: #800080; text-decoration-color: #800080\">100.0%</span> • <span style=\"color: #008000; text-decoration-color: #008000\">766.0/764.4 KB</span> • <span style=\"color: #800000; text-decoration-color: #800000\">665.9 kB/s</span> • <span style=\"color: #008080; text-decoration-color: #008080\">0:00:00</span>\n</pre>\n",
                  "text/plain": "\u001b[1;34msubmission.zip\u001b[0m \u001b[38;2;114;156;31m━━━━━━━━━━━━━━━━━━━━━━━━━━━━━━━\u001b[0m \u001b[35m100.0%\u001b[0m • \u001b[32m766.0/764.4 KB\u001b[0m • \u001b[31m665.9 kB/s\u001b[0m • \u001b[36m0:00:00\u001b[0m\n"
                },
                "metadata": {}
              }
            ],
            "_view_module": "@jupyter-widgets/output",
            "_model_module_version": "1.0.0",
            "_view_count": null,
            "_view_module_version": "1.0.0",
            "layout": "IPY_MODEL_05cb91525cf2495faacaa4278ca127ec",
            "_model_module": "@jupyter-widgets/output"
          }
        },
        "05cb91525cf2495faacaa4278ca127ec": {
          "model_module": "@jupyter-widgets/base",
          "model_name": "LayoutModel",
          "model_module_version": "1.2.0",
          "state": {
            "_view_name": "LayoutView",
            "grid_template_rows": null,
            "right": null,
            "justify_content": null,
            "_view_module": "@jupyter-widgets/base",
            "overflow": null,
            "_model_module_version": "1.2.0",
            "_view_count": null,
            "flex_flow": null,
            "width": null,
            "min_width": null,
            "border": null,
            "align_items": null,
            "bottom": null,
            "_model_module": "@jupyter-widgets/base",
            "top": null,
            "grid_column": null,
            "overflow_y": null,
            "overflow_x": null,
            "grid_auto_flow": null,
            "grid_area": null,
            "grid_template_columns": null,
            "flex": null,
            "_model_name": "LayoutModel",
            "justify_items": null,
            "grid_row": null,
            "max_height": null,
            "align_content": null,
            "visibility": null,
            "align_self": null,
            "height": null,
            "min_height": null,
            "padding": null,
            "grid_auto_rows": null,
            "grid_gap": null,
            "max_width": null,
            "order": null,
            "_view_module_version": "1.2.0",
            "grid_template_areas": null,
            "object_position": null,
            "object_fit": null,
            "grid_auto_columns": null,
            "margin": null,
            "display": null,
            "left": null
          }
        },
        "15836bd3fb314003b108296b9fb20c69": {
          "model_module": "@jupyter-widgets/controls",
          "model_name": "HBoxModel",
          "model_module_version": "1.5.0",
          "state": {
            "_view_name": "HBoxView",
            "_dom_classes": [],
            "_model_name": "HBoxModel",
            "_view_module": "@jupyter-widgets/controls",
            "_model_module_version": "1.5.0",
            "_view_count": null,
            "_view_module_version": "1.5.0",
            "box_style": "",
            "layout": "IPY_MODEL_5d003a5dd78346d6b729a45039e4af40",
            "_model_module": "@jupyter-widgets/controls",
            "children": [
              "IPY_MODEL_192003aeba3849d5987102879bc9e365",
              "IPY_MODEL_846a0c4eea2f42de8fb91d5a6b2b1fd4",
              "IPY_MODEL_5e3b221aa0064d8cbe70faffa40fa52e"
            ]
          }
        },
        "5d003a5dd78346d6b729a45039e4af40": {
          "model_module": "@jupyter-widgets/base",
          "model_name": "LayoutModel",
          "model_module_version": "1.2.0",
          "state": {
            "_view_name": "LayoutView",
            "grid_template_rows": null,
            "right": null,
            "justify_content": null,
            "_view_module": "@jupyter-widgets/base",
            "overflow": null,
            "_model_module_version": "1.2.0",
            "_view_count": null,
            "flex_flow": null,
            "width": null,
            "min_width": null,
            "border": null,
            "align_items": null,
            "bottom": null,
            "_model_module": "@jupyter-widgets/base",
            "top": null,
            "grid_column": null,
            "overflow_y": null,
            "overflow_x": null,
            "grid_auto_flow": null,
            "grid_area": null,
            "grid_template_columns": null,
            "flex": null,
            "_model_name": "LayoutModel",
            "justify_items": null,
            "grid_row": null,
            "max_height": null,
            "align_content": null,
            "visibility": null,
            "align_self": null,
            "height": null,
            "min_height": null,
            "padding": null,
            "grid_auto_rows": null,
            "grid_gap": null,
            "max_width": null,
            "order": null,
            "_view_module_version": "1.2.0",
            "grid_template_areas": null,
            "object_position": null,
            "object_fit": null,
            "grid_auto_columns": null,
            "margin": null,
            "display": null,
            "left": null
          }
        },
        "192003aeba3849d5987102879bc9e365": {
          "model_module": "@jupyter-widgets/controls",
          "model_name": "HTMLModel",
          "model_module_version": "1.5.0",
          "state": {
            "_view_name": "HTMLView",
            "style": "IPY_MODEL_7cf69e00fcb74f54905dc4a6b7163203",
            "_dom_classes": [],
            "description": "",
            "_model_name": "HTMLModel",
            "placeholder": "​",
            "_view_module": "@jupyter-widgets/controls",
            "_model_module_version": "1.5.0",
            "value": "sample_submission.csv: 100%",
            "_view_count": null,
            "_view_module_version": "1.5.0",
            "description_tooltip": null,
            "_model_module": "@jupyter-widgets/controls",
            "layout": "IPY_MODEL_1893a9664f2048759a953426a1b60636"
          }
        },
        "846a0c4eea2f42de8fb91d5a6b2b1fd4": {
          "model_module": "@jupyter-widgets/controls",
          "model_name": "FloatProgressModel",
          "model_module_version": "1.5.0",
          "state": {
            "_view_name": "ProgressView",
            "style": "IPY_MODEL_4d858aae7c574db28a4b1ba240fa0b18",
            "_dom_classes": [],
            "description": "",
            "_model_name": "FloatProgressModel",
            "bar_style": "success",
            "max": 36048,
            "_view_module": "@jupyter-widgets/controls",
            "_model_module_version": "1.5.0",
            "value": 36048,
            "_view_count": null,
            "_view_module_version": "1.5.0",
            "orientation": "horizontal",
            "min": 0,
            "description_tooltip": null,
            "_model_module": "@jupyter-widgets/controls",
            "layout": "IPY_MODEL_d106b5f7dcd04f5e852a892159304f9f"
          }
        },
        "5e3b221aa0064d8cbe70faffa40fa52e": {
          "model_module": "@jupyter-widgets/controls",
          "model_name": "HTMLModel",
          "model_module_version": "1.5.0",
          "state": {
            "_view_name": "HTMLView",
            "style": "IPY_MODEL_985d5a9d55a342baa4ec12aad29fa144",
            "_dom_classes": [],
            "description": "",
            "_model_name": "HTMLModel",
            "placeholder": "​",
            "_view_module": "@jupyter-widgets/controls",
            "_model_module_version": "1.5.0",
            "value": " 36.0k/36.0k [00:00&lt;00:00, 285kB/s]",
            "_view_count": null,
            "_view_module_version": "1.5.0",
            "description_tooltip": null,
            "_model_module": "@jupyter-widgets/controls",
            "layout": "IPY_MODEL_4cc5292d20cf45f4a2fa8e2d4c82b55c"
          }
        },
        "7cf69e00fcb74f54905dc4a6b7163203": {
          "model_module": "@jupyter-widgets/controls",
          "model_name": "DescriptionStyleModel",
          "model_module_version": "1.5.0",
          "state": {
            "_view_name": "StyleView",
            "_model_name": "DescriptionStyleModel",
            "description_width": "",
            "_view_module": "@jupyter-widgets/base",
            "_model_module_version": "1.5.0",
            "_view_count": null,
            "_view_module_version": "1.2.0",
            "_model_module": "@jupyter-widgets/controls"
          }
        },
        "1893a9664f2048759a953426a1b60636": {
          "model_module": "@jupyter-widgets/base",
          "model_name": "LayoutModel",
          "model_module_version": "1.2.0",
          "state": {
            "_view_name": "LayoutView",
            "grid_template_rows": null,
            "right": null,
            "justify_content": null,
            "_view_module": "@jupyter-widgets/base",
            "overflow": null,
            "_model_module_version": "1.2.0",
            "_view_count": null,
            "flex_flow": null,
            "width": null,
            "min_width": null,
            "border": null,
            "align_items": null,
            "bottom": null,
            "_model_module": "@jupyter-widgets/base",
            "top": null,
            "grid_column": null,
            "overflow_y": null,
            "overflow_x": null,
            "grid_auto_flow": null,
            "grid_area": null,
            "grid_template_columns": null,
            "flex": null,
            "_model_name": "LayoutModel",
            "justify_items": null,
            "grid_row": null,
            "max_height": null,
            "align_content": null,
            "visibility": null,
            "align_self": null,
            "height": null,
            "min_height": null,
            "padding": null,
            "grid_auto_rows": null,
            "grid_gap": null,
            "max_width": null,
            "order": null,
            "_view_module_version": "1.2.0",
            "grid_template_areas": null,
            "object_position": null,
            "object_fit": null,
            "grid_auto_columns": null,
            "margin": null,
            "display": null,
            "left": null
          }
        },
        "4d858aae7c574db28a4b1ba240fa0b18": {
          "model_module": "@jupyter-widgets/controls",
          "model_name": "ProgressStyleModel",
          "model_module_version": "1.5.0",
          "state": {
            "_view_name": "StyleView",
            "_model_name": "ProgressStyleModel",
            "description_width": "",
            "_view_module": "@jupyter-widgets/base",
            "_model_module_version": "1.5.0",
            "_view_count": null,
            "_view_module_version": "1.2.0",
            "bar_color": null,
            "_model_module": "@jupyter-widgets/controls"
          }
        },
        "d106b5f7dcd04f5e852a892159304f9f": {
          "model_module": "@jupyter-widgets/base",
          "model_name": "LayoutModel",
          "model_module_version": "1.2.0",
          "state": {
            "_view_name": "LayoutView",
            "grid_template_rows": null,
            "right": null,
            "justify_content": null,
            "_view_module": "@jupyter-widgets/base",
            "overflow": null,
            "_model_module_version": "1.2.0",
            "_view_count": null,
            "flex_flow": null,
            "width": null,
            "min_width": null,
            "border": null,
            "align_items": null,
            "bottom": null,
            "_model_module": "@jupyter-widgets/base",
            "top": null,
            "grid_column": null,
            "overflow_y": null,
            "overflow_x": null,
            "grid_auto_flow": null,
            "grid_area": null,
            "grid_template_columns": null,
            "flex": null,
            "_model_name": "LayoutModel",
            "justify_items": null,
            "grid_row": null,
            "max_height": null,
            "align_content": null,
            "visibility": null,
            "align_self": null,
            "height": null,
            "min_height": null,
            "padding": null,
            "grid_auto_rows": null,
            "grid_gap": null,
            "max_width": null,
            "order": null,
            "_view_module_version": "1.2.0",
            "grid_template_areas": null,
            "object_position": null,
            "object_fit": null,
            "grid_auto_columns": null,
            "margin": null,
            "display": null,
            "left": null
          }
        },
        "985d5a9d55a342baa4ec12aad29fa144": {
          "model_module": "@jupyter-widgets/controls",
          "model_name": "DescriptionStyleModel",
          "model_module_version": "1.5.0",
          "state": {
            "_view_name": "StyleView",
            "_model_name": "DescriptionStyleModel",
            "description_width": "",
            "_view_module": "@jupyter-widgets/base",
            "_model_module_version": "1.5.0",
            "_view_count": null,
            "_view_module_version": "1.2.0",
            "_model_module": "@jupyter-widgets/controls"
          }
        },
        "4cc5292d20cf45f4a2fa8e2d4c82b55c": {
          "model_module": "@jupyter-widgets/base",
          "model_name": "LayoutModel",
          "model_module_version": "1.2.0",
          "state": {
            "_view_name": "LayoutView",
            "grid_template_rows": null,
            "right": null,
            "justify_content": null,
            "_view_module": "@jupyter-widgets/base",
            "overflow": null,
            "_model_module_version": "1.2.0",
            "_view_count": null,
            "flex_flow": null,
            "width": null,
            "min_width": null,
            "border": null,
            "align_items": null,
            "bottom": null,
            "_model_module": "@jupyter-widgets/base",
            "top": null,
            "grid_column": null,
            "overflow_y": null,
            "overflow_x": null,
            "grid_auto_flow": null,
            "grid_area": null,
            "grid_template_columns": null,
            "flex": null,
            "_model_name": "LayoutModel",
            "justify_items": null,
            "grid_row": null,
            "max_height": null,
            "align_content": null,
            "visibility": null,
            "align_self": null,
            "height": null,
            "min_height": null,
            "padding": null,
            "grid_auto_rows": null,
            "grid_gap": null,
            "max_width": null,
            "order": null,
            "_view_module_version": "1.2.0",
            "grid_template_areas": null,
            "object_position": null,
            "object_fit": null,
            "grid_auto_columns": null,
            "margin": null,
            "display": null,
            "left": null
          }
        },
        "92f4ad8abfb64eb59d4ee9625812cb31": {
          "model_module": "@jupyter-widgets/controls",
          "model_name": "HBoxModel",
          "model_module_version": "1.5.0",
          "state": {
            "_view_name": "HBoxView",
            "_dom_classes": [],
            "_model_name": "HBoxModel",
            "_view_module": "@jupyter-widgets/controls",
            "_model_module_version": "1.5.0",
            "_view_count": null,
            "_view_module_version": "1.5.0",
            "box_style": "",
            "layout": "IPY_MODEL_81b81c034a6740ac84caaf2a3b42fa6f",
            "_model_module": "@jupyter-widgets/controls",
            "children": [
              "IPY_MODEL_995e088a0cfb46f99a0b4fefcd2cfb1a",
              "IPY_MODEL_c7d81d48f5e34d1681373aa6f64f4d18",
              "IPY_MODEL_2b79cb5410604d26821884bb2d626212"
            ]
          }
        },
        "81b81c034a6740ac84caaf2a3b42fa6f": {
          "model_module": "@jupyter-widgets/base",
          "model_name": "LayoutModel",
          "model_module_version": "1.2.0",
          "state": {
            "_view_name": "LayoutView",
            "grid_template_rows": null,
            "right": null,
            "justify_content": null,
            "_view_module": "@jupyter-widgets/base",
            "overflow": null,
            "_model_module_version": "1.2.0",
            "_view_count": null,
            "flex_flow": null,
            "width": null,
            "min_width": null,
            "border": null,
            "align_items": null,
            "bottom": null,
            "_model_module": "@jupyter-widgets/base",
            "top": null,
            "grid_column": null,
            "overflow_y": null,
            "overflow_x": null,
            "grid_auto_flow": null,
            "grid_area": null,
            "grid_template_columns": null,
            "flex": null,
            "_model_name": "LayoutModel",
            "justify_items": null,
            "grid_row": null,
            "max_height": null,
            "align_content": null,
            "visibility": null,
            "align_self": null,
            "height": null,
            "min_height": null,
            "padding": null,
            "grid_auto_rows": null,
            "grid_gap": null,
            "max_width": null,
            "order": null,
            "_view_module_version": "1.2.0",
            "grid_template_areas": null,
            "object_position": null,
            "object_fit": null,
            "grid_auto_columns": null,
            "margin": null,
            "display": null,
            "left": null
          }
        },
        "995e088a0cfb46f99a0b4fefcd2cfb1a": {
          "model_module": "@jupyter-widgets/controls",
          "model_name": "HTMLModel",
          "model_module_version": "1.5.0",
          "state": {
            "_view_name": "HTMLView",
            "style": "IPY_MODEL_8c066f9de4814e0d9f3dfa6c95e9c2f5",
            "_dom_classes": [],
            "description": "",
            "_model_name": "HTMLModel",
            "placeholder": "​",
            "_view_module": "@jupyter-widgets/controls",
            "_model_module_version": "1.5.0",
            "value": "test.csv: 100%",
            "_view_count": null,
            "_view_module_version": "1.5.0",
            "description_tooltip": null,
            "_model_module": "@jupyter-widgets/controls",
            "layout": "IPY_MODEL_4527727e78cb4e84a38a21284a4cf824"
          }
        },
        "c7d81d48f5e34d1681373aa6f64f4d18": {
          "model_module": "@jupyter-widgets/controls",
          "model_name": "FloatProgressModel",
          "model_module_version": "1.5.0",
          "state": {
            "_view_name": "ProgressView",
            "style": "IPY_MODEL_adff098c6039471e876d0fcb995d291e",
            "_dom_classes": [],
            "description": "",
            "_model_name": "FloatProgressModel",
            "bar_style": "success",
            "max": 36048,
            "_view_module": "@jupyter-widgets/controls",
            "_model_module_version": "1.5.0",
            "value": 36048,
            "_view_count": null,
            "_view_module_version": "1.5.0",
            "orientation": "horizontal",
            "min": 0,
            "description_tooltip": null,
            "_model_module": "@jupyter-widgets/controls",
            "layout": "IPY_MODEL_cea3342fb57943069e0ee660f25c0493"
          }
        },
        "2b79cb5410604d26821884bb2d626212": {
          "model_module": "@jupyter-widgets/controls",
          "model_name": "HTMLModel",
          "model_module_version": "1.5.0",
          "state": {
            "_view_name": "HTMLView",
            "style": "IPY_MODEL_2950afb7d5f2408ab0332283b88ca563",
            "_dom_classes": [],
            "description": "",
            "_model_name": "HTMLModel",
            "placeholder": "​",
            "_view_module": "@jupyter-widgets/controls",
            "_model_module_version": "1.5.0",
            "value": " 36.0k/36.0k [00:00&lt;00:00, 276kB/s]",
            "_view_count": null,
            "_view_module_version": "1.5.0",
            "description_tooltip": null,
            "_model_module": "@jupyter-widgets/controls",
            "layout": "IPY_MODEL_d0dfb83dbd824950860f00f08cca5f8a"
          }
        },
        "8c066f9de4814e0d9f3dfa6c95e9c2f5": {
          "model_module": "@jupyter-widgets/controls",
          "model_name": "DescriptionStyleModel",
          "model_module_version": "1.5.0",
          "state": {
            "_view_name": "StyleView",
            "_model_name": "DescriptionStyleModel",
            "description_width": "",
            "_view_module": "@jupyter-widgets/base",
            "_model_module_version": "1.5.0",
            "_view_count": null,
            "_view_module_version": "1.2.0",
            "_model_module": "@jupyter-widgets/controls"
          }
        },
        "4527727e78cb4e84a38a21284a4cf824": {
          "model_module": "@jupyter-widgets/base",
          "model_name": "LayoutModel",
          "model_module_version": "1.2.0",
          "state": {
            "_view_name": "LayoutView",
            "grid_template_rows": null,
            "right": null,
            "justify_content": null,
            "_view_module": "@jupyter-widgets/base",
            "overflow": null,
            "_model_module_version": "1.2.0",
            "_view_count": null,
            "flex_flow": null,
            "width": null,
            "min_width": null,
            "border": null,
            "align_items": null,
            "bottom": null,
            "_model_module": "@jupyter-widgets/base",
            "top": null,
            "grid_column": null,
            "overflow_y": null,
            "overflow_x": null,
            "grid_auto_flow": null,
            "grid_area": null,
            "grid_template_columns": null,
            "flex": null,
            "_model_name": "LayoutModel",
            "justify_items": null,
            "grid_row": null,
            "max_height": null,
            "align_content": null,
            "visibility": null,
            "align_self": null,
            "height": null,
            "min_height": null,
            "padding": null,
            "grid_auto_rows": null,
            "grid_gap": null,
            "max_width": null,
            "order": null,
            "_view_module_version": "1.2.0",
            "grid_template_areas": null,
            "object_position": null,
            "object_fit": null,
            "grid_auto_columns": null,
            "margin": null,
            "display": null,
            "left": null
          }
        },
        "adff098c6039471e876d0fcb995d291e": {
          "model_module": "@jupyter-widgets/controls",
          "model_name": "ProgressStyleModel",
          "model_module_version": "1.5.0",
          "state": {
            "_view_name": "StyleView",
            "_model_name": "ProgressStyleModel",
            "description_width": "",
            "_view_module": "@jupyter-widgets/base",
            "_model_module_version": "1.5.0",
            "_view_count": null,
            "_view_module_version": "1.2.0",
            "bar_color": null,
            "_model_module": "@jupyter-widgets/controls"
          }
        },
        "cea3342fb57943069e0ee660f25c0493": {
          "model_module": "@jupyter-widgets/base",
          "model_name": "LayoutModel",
          "model_module_version": "1.2.0",
          "state": {
            "_view_name": "LayoutView",
            "grid_template_rows": null,
            "right": null,
            "justify_content": null,
            "_view_module": "@jupyter-widgets/base",
            "overflow": null,
            "_model_module_version": "1.2.0",
            "_view_count": null,
            "flex_flow": null,
            "width": null,
            "min_width": null,
            "border": null,
            "align_items": null,
            "bottom": null,
            "_model_module": "@jupyter-widgets/base",
            "top": null,
            "grid_column": null,
            "overflow_y": null,
            "overflow_x": null,
            "grid_auto_flow": null,
            "grid_area": null,
            "grid_template_columns": null,
            "flex": null,
            "_model_name": "LayoutModel",
            "justify_items": null,
            "grid_row": null,
            "max_height": null,
            "align_content": null,
            "visibility": null,
            "align_self": null,
            "height": null,
            "min_height": null,
            "padding": null,
            "grid_auto_rows": null,
            "grid_gap": null,
            "max_width": null,
            "order": null,
            "_view_module_version": "1.2.0",
            "grid_template_areas": null,
            "object_position": null,
            "object_fit": null,
            "grid_auto_columns": null,
            "margin": null,
            "display": null,
            "left": null
          }
        },
        "2950afb7d5f2408ab0332283b88ca563": {
          "model_module": "@jupyter-widgets/controls",
          "model_name": "DescriptionStyleModel",
          "model_module_version": "1.5.0",
          "state": {
            "_view_name": "StyleView",
            "_model_name": "DescriptionStyleModel",
            "description_width": "",
            "_view_module": "@jupyter-widgets/base",
            "_model_module_version": "1.5.0",
            "_view_count": null,
            "_view_module_version": "1.2.0",
            "_model_module": "@jupyter-widgets/controls"
          }
        },
        "d0dfb83dbd824950860f00f08cca5f8a": {
          "model_module": "@jupyter-widgets/base",
          "model_name": "LayoutModel",
          "model_module_version": "1.2.0",
          "state": {
            "_view_name": "LayoutView",
            "grid_template_rows": null,
            "right": null,
            "justify_content": null,
            "_view_module": "@jupyter-widgets/base",
            "overflow": null,
            "_model_module_version": "1.2.0",
            "_view_count": null,
            "flex_flow": null,
            "width": null,
            "min_width": null,
            "border": null,
            "align_items": null,
            "bottom": null,
            "_model_module": "@jupyter-widgets/base",
            "top": null,
            "grid_column": null,
            "overflow_y": null,
            "overflow_x": null,
            "grid_auto_flow": null,
            "grid_area": null,
            "grid_template_columns": null,
            "flex": null,
            "_model_name": "LayoutModel",
            "justify_items": null,
            "grid_row": null,
            "max_height": null,
            "align_content": null,
            "visibility": null,
            "align_self": null,
            "height": null,
            "min_height": null,
            "padding": null,
            "grid_auto_rows": null,
            "grid_gap": null,
            "max_width": null,
            "order": null,
            "_view_module_version": "1.2.0",
            "grid_template_areas": null,
            "object_position": null,
            "object_fit": null,
            "grid_auto_columns": null,
            "margin": null,
            "display": null,
            "left": null
          }
        },
        "9b36b6086b454113bec9fd7653ca5825": {
          "model_module": "@jupyter-widgets/controls",
          "model_name": "HBoxModel",
          "model_module_version": "1.5.0",
          "state": {
            "_view_name": "HBoxView",
            "_dom_classes": [],
            "_model_name": "HBoxModel",
            "_view_module": "@jupyter-widgets/controls",
            "_model_module_version": "1.5.0",
            "_view_count": null,
            "_view_module_version": "1.5.0",
            "box_style": "",
            "layout": "IPY_MODEL_303967d3972841e9a829972a00226c44",
            "_model_module": "@jupyter-widgets/controls",
            "children": [
              "IPY_MODEL_0cec6ee1f5624842988c40d35bea05e0",
              "IPY_MODEL_2435cb7b4fd547c9a9081eb91b29a445",
              "IPY_MODEL_66414522e8f7484daea99f989a734863"
            ]
          }
        },
        "303967d3972841e9a829972a00226c44": {
          "model_module": "@jupyter-widgets/base",
          "model_name": "LayoutModel",
          "model_module_version": "1.2.0",
          "state": {
            "_view_name": "LayoutView",
            "grid_template_rows": null,
            "right": null,
            "justify_content": null,
            "_view_module": "@jupyter-widgets/base",
            "overflow": null,
            "_model_module_version": "1.2.0",
            "_view_count": null,
            "flex_flow": null,
            "width": null,
            "min_width": null,
            "border": null,
            "align_items": null,
            "bottom": null,
            "_model_module": "@jupyter-widgets/base",
            "top": null,
            "grid_column": null,
            "overflow_y": null,
            "overflow_x": null,
            "grid_auto_flow": null,
            "grid_area": null,
            "grid_template_columns": null,
            "flex": null,
            "_model_name": "LayoutModel",
            "justify_items": null,
            "grid_row": null,
            "max_height": null,
            "align_content": null,
            "visibility": null,
            "align_self": null,
            "height": null,
            "min_height": null,
            "padding": null,
            "grid_auto_rows": null,
            "grid_gap": null,
            "max_width": null,
            "order": null,
            "_view_module_version": "1.2.0",
            "grid_template_areas": null,
            "object_position": null,
            "object_fit": null,
            "grid_auto_columns": null,
            "margin": null,
            "display": null,
            "left": null
          }
        },
        "0cec6ee1f5624842988c40d35bea05e0": {
          "model_module": "@jupyter-widgets/controls",
          "model_name": "HTMLModel",
          "model_module_version": "1.5.0",
          "state": {
            "_view_name": "HTMLView",
            "style": "IPY_MODEL_236241325f0f45089995e654a1e9479d",
            "_dom_classes": [],
            "description": "",
            "_model_name": "HTMLModel",
            "placeholder": "​",
            "_view_module": "@jupyter-widgets/controls",
            "_model_module_version": "1.5.0",
            "value": "test.zip: 100%",
            "_view_count": null,
            "_view_module_version": "1.5.0",
            "description_tooltip": null,
            "_model_module": "@jupyter-widgets/controls",
            "layout": "IPY_MODEL_961bf1ece11d4f2e83192e2903020a7e"
          }
        },
        "2435cb7b4fd547c9a9081eb91b29a445": {
          "model_module": "@jupyter-widgets/controls",
          "model_name": "FloatProgressModel",
          "model_module_version": "1.5.0",
          "state": {
            "_view_name": "ProgressView",
            "style": "IPY_MODEL_275d174b34ff409196671d1cbfa259d7",
            "_dom_classes": [],
            "description": "",
            "_model_name": "FloatProgressModel",
            "bar_style": "success",
            "max": 176473181,
            "_view_module": "@jupyter-widgets/controls",
            "_model_module_version": "1.5.0",
            "value": 176473181,
            "_view_count": null,
            "_view_module_version": "1.5.0",
            "orientation": "horizontal",
            "min": 0,
            "description_tooltip": null,
            "_model_module": "@jupyter-widgets/controls",
            "layout": "IPY_MODEL_fa9d85435f624fbca1bae5663d6875be"
          }
        },
        "66414522e8f7484daea99f989a734863": {
          "model_module": "@jupyter-widgets/controls",
          "model_name": "HTMLModel",
          "model_module_version": "1.5.0",
          "state": {
            "_view_name": "HTMLView",
            "style": "IPY_MODEL_4e6704377a03448b87c71c0a43b39f79",
            "_dom_classes": [],
            "description": "",
            "_model_name": "HTMLModel",
            "placeholder": "​",
            "_view_module": "@jupyter-widgets/controls",
            "_model_module_version": "1.5.0",
            "value": " 176M/176M [00:24&lt;00:00, 7.84MB/s]",
            "_view_count": null,
            "_view_module_version": "1.5.0",
            "description_tooltip": null,
            "_model_module": "@jupyter-widgets/controls",
            "layout": "IPY_MODEL_606a83bbfdf04897b33eb9119afe8e37"
          }
        },
        "236241325f0f45089995e654a1e9479d": {
          "model_module": "@jupyter-widgets/controls",
          "model_name": "DescriptionStyleModel",
          "model_module_version": "1.5.0",
          "state": {
            "_view_name": "StyleView",
            "_model_name": "DescriptionStyleModel",
            "description_width": "",
            "_view_module": "@jupyter-widgets/base",
            "_model_module_version": "1.5.0",
            "_view_count": null,
            "_view_module_version": "1.2.0",
            "_model_module": "@jupyter-widgets/controls"
          }
        },
        "961bf1ece11d4f2e83192e2903020a7e": {
          "model_module": "@jupyter-widgets/base",
          "model_name": "LayoutModel",
          "model_module_version": "1.2.0",
          "state": {
            "_view_name": "LayoutView",
            "grid_template_rows": null,
            "right": null,
            "justify_content": null,
            "_view_module": "@jupyter-widgets/base",
            "overflow": null,
            "_model_module_version": "1.2.0",
            "_view_count": null,
            "flex_flow": null,
            "width": null,
            "min_width": null,
            "border": null,
            "align_items": null,
            "bottom": null,
            "_model_module": "@jupyter-widgets/base",
            "top": null,
            "grid_column": null,
            "overflow_y": null,
            "overflow_x": null,
            "grid_auto_flow": null,
            "grid_area": null,
            "grid_template_columns": null,
            "flex": null,
            "_model_name": "LayoutModel",
            "justify_items": null,
            "grid_row": null,
            "max_height": null,
            "align_content": null,
            "visibility": null,
            "align_self": null,
            "height": null,
            "min_height": null,
            "padding": null,
            "grid_auto_rows": null,
            "grid_gap": null,
            "max_width": null,
            "order": null,
            "_view_module_version": "1.2.0",
            "grid_template_areas": null,
            "object_position": null,
            "object_fit": null,
            "grid_auto_columns": null,
            "margin": null,
            "display": null,
            "left": null
          }
        },
        "275d174b34ff409196671d1cbfa259d7": {
          "model_module": "@jupyter-widgets/controls",
          "model_name": "ProgressStyleModel",
          "model_module_version": "1.5.0",
          "state": {
            "_view_name": "StyleView",
            "_model_name": "ProgressStyleModel",
            "description_width": "",
            "_view_module": "@jupyter-widgets/base",
            "_model_module_version": "1.5.0",
            "_view_count": null,
            "_view_module_version": "1.2.0",
            "bar_color": null,
            "_model_module": "@jupyter-widgets/controls"
          }
        },
        "fa9d85435f624fbca1bae5663d6875be": {
          "model_module": "@jupyter-widgets/base",
          "model_name": "LayoutModel",
          "model_module_version": "1.2.0",
          "state": {
            "_view_name": "LayoutView",
            "grid_template_rows": null,
            "right": null,
            "justify_content": null,
            "_view_module": "@jupyter-widgets/base",
            "overflow": null,
            "_model_module_version": "1.2.0",
            "_view_count": null,
            "flex_flow": null,
            "width": null,
            "min_width": null,
            "border": null,
            "align_items": null,
            "bottom": null,
            "_model_module": "@jupyter-widgets/base",
            "top": null,
            "grid_column": null,
            "overflow_y": null,
            "overflow_x": null,
            "grid_auto_flow": null,
            "grid_area": null,
            "grid_template_columns": null,
            "flex": null,
            "_model_name": "LayoutModel",
            "justify_items": null,
            "grid_row": null,
            "max_height": null,
            "align_content": null,
            "visibility": null,
            "align_self": null,
            "height": null,
            "min_height": null,
            "padding": null,
            "grid_auto_rows": null,
            "grid_gap": null,
            "max_width": null,
            "order": null,
            "_view_module_version": "1.2.0",
            "grid_template_areas": null,
            "object_position": null,
            "object_fit": null,
            "grid_auto_columns": null,
            "margin": null,
            "display": null,
            "left": null
          }
        },
        "4e6704377a03448b87c71c0a43b39f79": {
          "model_module": "@jupyter-widgets/controls",
          "model_name": "DescriptionStyleModel",
          "model_module_version": "1.5.0",
          "state": {
            "_view_name": "StyleView",
            "_model_name": "DescriptionStyleModel",
            "description_width": "",
            "_view_module": "@jupyter-widgets/base",
            "_model_module_version": "1.5.0",
            "_view_count": null,
            "_view_module_version": "1.2.0",
            "_model_module": "@jupyter-widgets/controls"
          }
        },
        "606a83bbfdf04897b33eb9119afe8e37": {
          "model_module": "@jupyter-widgets/base",
          "model_name": "LayoutModel",
          "model_module_version": "1.2.0",
          "state": {
            "_view_name": "LayoutView",
            "grid_template_rows": null,
            "right": null,
            "justify_content": null,
            "_view_module": "@jupyter-widgets/base",
            "overflow": null,
            "_model_module_version": "1.2.0",
            "_view_count": null,
            "flex_flow": null,
            "width": null,
            "min_width": null,
            "border": null,
            "align_items": null,
            "bottom": null,
            "_model_module": "@jupyter-widgets/base",
            "top": null,
            "grid_column": null,
            "overflow_y": null,
            "overflow_x": null,
            "grid_auto_flow": null,
            "grid_area": null,
            "grid_template_columns": null,
            "flex": null,
            "_model_name": "LayoutModel",
            "justify_items": null,
            "grid_row": null,
            "max_height": null,
            "align_content": null,
            "visibility": null,
            "align_self": null,
            "height": null,
            "min_height": null,
            "padding": null,
            "grid_auto_rows": null,
            "grid_gap": null,
            "max_width": null,
            "order": null,
            "_view_module_version": "1.2.0",
            "grid_template_areas": null,
            "object_position": null,
            "object_fit": null,
            "grid_auto_columns": null,
            "margin": null,
            "display": null,
            "left": null
          }
        },
        "76608106bce740c0a32e3f5d5b59bf75": {
          "model_module": "@jupyter-widgets/controls",
          "model_name": "HBoxModel",
          "model_module_version": "1.5.0",
          "state": {
            "_view_name": "HBoxView",
            "_dom_classes": [],
            "_model_name": "HBoxModel",
            "_view_module": "@jupyter-widgets/controls",
            "_model_module_version": "1.5.0",
            "_view_count": null,
            "_view_module_version": "1.5.0",
            "box_style": "",
            "layout": "IPY_MODEL_7accca5af1dd47778a7234def81fc471",
            "_model_module": "@jupyter-widgets/controls",
            "children": [
              "IPY_MODEL_a069cd5b60594bc5a459f209e6cb5981",
              "IPY_MODEL_2ca934b324f449c0a0a4d9e88a46100a",
              "IPY_MODEL_51cd57e3073e4007a24b0c7f4e264300"
            ]
          }
        },
        "7accca5af1dd47778a7234def81fc471": {
          "model_module": "@jupyter-widgets/base",
          "model_name": "LayoutModel",
          "model_module_version": "1.2.0",
          "state": {
            "_view_name": "LayoutView",
            "grid_template_rows": null,
            "right": null,
            "justify_content": null,
            "_view_module": "@jupyter-widgets/base",
            "overflow": null,
            "_model_module_version": "1.2.0",
            "_view_count": null,
            "flex_flow": null,
            "width": null,
            "min_width": null,
            "border": null,
            "align_items": null,
            "bottom": null,
            "_model_module": "@jupyter-widgets/base",
            "top": null,
            "grid_column": null,
            "overflow_y": null,
            "overflow_x": null,
            "grid_auto_flow": null,
            "grid_area": null,
            "grid_template_columns": null,
            "flex": null,
            "_model_name": "LayoutModel",
            "justify_items": null,
            "grid_row": null,
            "max_height": null,
            "align_content": null,
            "visibility": null,
            "align_self": null,
            "height": null,
            "min_height": null,
            "padding": null,
            "grid_auto_rows": null,
            "grid_gap": null,
            "max_width": null,
            "order": null,
            "_view_module_version": "1.2.0",
            "grid_template_areas": null,
            "object_position": null,
            "object_fit": null,
            "grid_auto_columns": null,
            "margin": null,
            "display": null,
            "left": null
          }
        },
        "a069cd5b60594bc5a459f209e6cb5981": {
          "model_module": "@jupyter-widgets/controls",
          "model_name": "HTMLModel",
          "model_module_version": "1.5.0",
          "state": {
            "_view_name": "HTMLView",
            "style": "IPY_MODEL_5c6c55afc5c74ed68a4a2a46af9f9a8f",
            "_dom_classes": [],
            "description": "",
            "_model_name": "HTMLModel",
            "placeholder": "​",
            "_view_module": "@jupyter-widgets/controls",
            "_model_module_version": "1.5.0",
            "value": "train.csv: 100%",
            "_view_count": null,
            "_view_module_version": "1.5.0",
            "description_tooltip": null,
            "_model_module": "@jupyter-widgets/controls",
            "layout": "IPY_MODEL_7143a6e39b7f4635ab3783431f6d61b0"
          }
        },
        "2ca934b324f449c0a0a4d9e88a46100a": {
          "model_module": "@jupyter-widgets/controls",
          "model_name": "FloatProgressModel",
          "model_module_version": "1.5.0",
          "state": {
            "_view_name": "ProgressView",
            "style": "IPY_MODEL_380e006294e0461eafcf45df406a3541",
            "_dom_classes": [],
            "description": "",
            "_model_name": "FloatProgressModel",
            "bar_style": "success",
            "max": 48347,
            "_view_module": "@jupyter-widgets/controls",
            "_model_module_version": "1.5.0",
            "value": 48347,
            "_view_count": null,
            "_view_module_version": "1.5.0",
            "orientation": "horizontal",
            "min": 0,
            "description_tooltip": null,
            "_model_module": "@jupyter-widgets/controls",
            "layout": "IPY_MODEL_d9e417b61fed488fa6248ae3fa1b525f"
          }
        },
        "51cd57e3073e4007a24b0c7f4e264300": {
          "model_module": "@jupyter-widgets/controls",
          "model_name": "HTMLModel",
          "model_module_version": "1.5.0",
          "state": {
            "_view_name": "HTMLView",
            "style": "IPY_MODEL_3fa98fa1d7dc4c3b991ccc0299c533bc",
            "_dom_classes": [],
            "description": "",
            "_model_name": "HTMLModel",
            "placeholder": "​",
            "_view_module": "@jupyter-widgets/controls",
            "_model_module_version": "1.5.0",
            "value": " 48.3k/48.3k [00:00&lt;00:00, 281kB/s]",
            "_view_count": null,
            "_view_module_version": "1.5.0",
            "description_tooltip": null,
            "_model_module": "@jupyter-widgets/controls",
            "layout": "IPY_MODEL_13495f4865b74d208616985c5c6e4429"
          }
        },
        "5c6c55afc5c74ed68a4a2a46af9f9a8f": {
          "model_module": "@jupyter-widgets/controls",
          "model_name": "DescriptionStyleModel",
          "model_module_version": "1.5.0",
          "state": {
            "_view_name": "StyleView",
            "_model_name": "DescriptionStyleModel",
            "description_width": "",
            "_view_module": "@jupyter-widgets/base",
            "_model_module_version": "1.5.0",
            "_view_count": null,
            "_view_module_version": "1.2.0",
            "_model_module": "@jupyter-widgets/controls"
          }
        },
        "7143a6e39b7f4635ab3783431f6d61b0": {
          "model_module": "@jupyter-widgets/base",
          "model_name": "LayoutModel",
          "model_module_version": "1.2.0",
          "state": {
            "_view_name": "LayoutView",
            "grid_template_rows": null,
            "right": null,
            "justify_content": null,
            "_view_module": "@jupyter-widgets/base",
            "overflow": null,
            "_model_module_version": "1.2.0",
            "_view_count": null,
            "flex_flow": null,
            "width": null,
            "min_width": null,
            "border": null,
            "align_items": null,
            "bottom": null,
            "_model_module": "@jupyter-widgets/base",
            "top": null,
            "grid_column": null,
            "overflow_y": null,
            "overflow_x": null,
            "grid_auto_flow": null,
            "grid_area": null,
            "grid_template_columns": null,
            "flex": null,
            "_model_name": "LayoutModel",
            "justify_items": null,
            "grid_row": null,
            "max_height": null,
            "align_content": null,
            "visibility": null,
            "align_self": null,
            "height": null,
            "min_height": null,
            "padding": null,
            "grid_auto_rows": null,
            "grid_gap": null,
            "max_width": null,
            "order": null,
            "_view_module_version": "1.2.0",
            "grid_template_areas": null,
            "object_position": null,
            "object_fit": null,
            "grid_auto_columns": null,
            "margin": null,
            "display": null,
            "left": null
          }
        },
        "380e006294e0461eafcf45df406a3541": {
          "model_module": "@jupyter-widgets/controls",
          "model_name": "ProgressStyleModel",
          "model_module_version": "1.5.0",
          "state": {
            "_view_name": "StyleView",
            "_model_name": "ProgressStyleModel",
            "description_width": "",
            "_view_module": "@jupyter-widgets/base",
            "_model_module_version": "1.5.0",
            "_view_count": null,
            "_view_module_version": "1.2.0",
            "bar_color": null,
            "_model_module": "@jupyter-widgets/controls"
          }
        },
        "d9e417b61fed488fa6248ae3fa1b525f": {
          "model_module": "@jupyter-widgets/base",
          "model_name": "LayoutModel",
          "model_module_version": "1.2.0",
          "state": {
            "_view_name": "LayoutView",
            "grid_template_rows": null,
            "right": null,
            "justify_content": null,
            "_view_module": "@jupyter-widgets/base",
            "overflow": null,
            "_model_module_version": "1.2.0",
            "_view_count": null,
            "flex_flow": null,
            "width": null,
            "min_width": null,
            "border": null,
            "align_items": null,
            "bottom": null,
            "_model_module": "@jupyter-widgets/base",
            "top": null,
            "grid_column": null,
            "overflow_y": null,
            "overflow_x": null,
            "grid_auto_flow": null,
            "grid_area": null,
            "grid_template_columns": null,
            "flex": null,
            "_model_name": "LayoutModel",
            "justify_items": null,
            "grid_row": null,
            "max_height": null,
            "align_content": null,
            "visibility": null,
            "align_self": null,
            "height": null,
            "min_height": null,
            "padding": null,
            "grid_auto_rows": null,
            "grid_gap": null,
            "max_width": null,
            "order": null,
            "_view_module_version": "1.2.0",
            "grid_template_areas": null,
            "object_position": null,
            "object_fit": null,
            "grid_auto_columns": null,
            "margin": null,
            "display": null,
            "left": null
          }
        },
        "3fa98fa1d7dc4c3b991ccc0299c533bc": {
          "model_module": "@jupyter-widgets/controls",
          "model_name": "DescriptionStyleModel",
          "model_module_version": "1.5.0",
          "state": {
            "_view_name": "StyleView",
            "_model_name": "DescriptionStyleModel",
            "description_width": "",
            "_view_module": "@jupyter-widgets/base",
            "_model_module_version": "1.5.0",
            "_view_count": null,
            "_view_module_version": "1.2.0",
            "_model_module": "@jupyter-widgets/controls"
          }
        },
        "13495f4865b74d208616985c5c6e4429": {
          "model_module": "@jupyter-widgets/base",
          "model_name": "LayoutModel",
          "model_module_version": "1.2.0",
          "state": {
            "_view_name": "LayoutView",
            "grid_template_rows": null,
            "right": null,
            "justify_content": null,
            "_view_module": "@jupyter-widgets/base",
            "overflow": null,
            "_model_module_version": "1.2.0",
            "_view_count": null,
            "flex_flow": null,
            "width": null,
            "min_width": null,
            "border": null,
            "align_items": null,
            "bottom": null,
            "_model_module": "@jupyter-widgets/base",
            "top": null,
            "grid_column": null,
            "overflow_y": null,
            "overflow_x": null,
            "grid_auto_flow": null,
            "grid_area": null,
            "grid_template_columns": null,
            "flex": null,
            "_model_name": "LayoutModel",
            "justify_items": null,
            "grid_row": null,
            "max_height": null,
            "align_content": null,
            "visibility": null,
            "align_self": null,
            "height": null,
            "min_height": null,
            "padding": null,
            "grid_auto_rows": null,
            "grid_gap": null,
            "max_width": null,
            "order": null,
            "_view_module_version": "1.2.0",
            "grid_template_areas": null,
            "object_position": null,
            "object_fit": null,
            "grid_auto_columns": null,
            "margin": null,
            "display": null,
            "left": null
          }
        },
        "15f39fb37eab464aa169cf94672f1cc6": {
          "model_module": "@jupyter-widgets/controls",
          "model_name": "HBoxModel",
          "model_module_version": "1.5.0",
          "state": {
            "_view_name": "HBoxView",
            "_dom_classes": [],
            "_model_name": "HBoxModel",
            "_view_module": "@jupyter-widgets/controls",
            "_model_module_version": "1.5.0",
            "_view_count": null,
            "_view_module_version": "1.5.0",
            "box_style": "",
            "layout": "IPY_MODEL_0dfaa2a01fa24ea18f5da4fe01934729",
            "_model_module": "@jupyter-widgets/controls",
            "children": [
              "IPY_MODEL_552eba432c00415a9015d57b1268702b",
              "IPY_MODEL_9c0321feff2a4835b7eae5b4d4d1b888",
              "IPY_MODEL_a45897d7740e4096ab524d4192315928"
            ]
          }
        },
        "0dfaa2a01fa24ea18f5da4fe01934729": {
          "model_module": "@jupyter-widgets/base",
          "model_name": "LayoutModel",
          "model_module_version": "1.2.0",
          "state": {
            "_view_name": "LayoutView",
            "grid_template_rows": null,
            "right": null,
            "justify_content": null,
            "_view_module": "@jupyter-widgets/base",
            "overflow": null,
            "_model_module_version": "1.2.0",
            "_view_count": null,
            "flex_flow": null,
            "width": null,
            "min_width": null,
            "border": null,
            "align_items": null,
            "bottom": null,
            "_model_module": "@jupyter-widgets/base",
            "top": null,
            "grid_column": null,
            "overflow_y": null,
            "overflow_x": null,
            "grid_auto_flow": null,
            "grid_area": null,
            "grid_template_columns": null,
            "flex": null,
            "_model_name": "LayoutModel",
            "justify_items": null,
            "grid_row": null,
            "max_height": null,
            "align_content": null,
            "visibility": null,
            "align_self": null,
            "height": null,
            "min_height": null,
            "padding": null,
            "grid_auto_rows": null,
            "grid_gap": null,
            "max_width": null,
            "order": null,
            "_view_module_version": "1.2.0",
            "grid_template_areas": null,
            "object_position": null,
            "object_fit": null,
            "grid_auto_columns": null,
            "margin": null,
            "display": null,
            "left": null
          }
        },
        "552eba432c00415a9015d57b1268702b": {
          "model_module": "@jupyter-widgets/controls",
          "model_name": "HTMLModel",
          "model_module_version": "1.5.0",
          "state": {
            "_view_name": "HTMLView",
            "style": "IPY_MODEL_9cb379569caa4b1cb3225edbd6c52c8f",
            "_dom_classes": [],
            "description": "",
            "_model_name": "HTMLModel",
            "placeholder": "​",
            "_view_module": "@jupyter-widgets/controls",
            "_model_module_version": "1.5.0",
            "value": "train.zip: 100%",
            "_view_count": null,
            "_view_module_version": "1.5.0",
            "description_tooltip": null,
            "_model_module": "@jupyter-widgets/controls",
            "layout": "IPY_MODEL_60a1fec0cdb44359a74335af7ce39b1e"
          }
        },
        "9c0321feff2a4835b7eae5b4d4d1b888": {
          "model_module": "@jupyter-widgets/controls",
          "model_name": "FloatProgressModel",
          "model_module_version": "1.5.0",
          "state": {
            "_view_name": "ProgressView",
            "style": "IPY_MODEL_e4c56259d5764d46af2dd2a0c75a07ab",
            "_dom_classes": [],
            "description": "",
            "_model_name": "FloatProgressModel",
            "bar_style": "success",
            "max": 235740401,
            "_view_module": "@jupyter-widgets/controls",
            "_model_module_version": "1.5.0",
            "value": 235740401,
            "_view_count": null,
            "_view_module_version": "1.5.0",
            "orientation": "horizontal",
            "min": 0,
            "description_tooltip": null,
            "_model_module": "@jupyter-widgets/controls",
            "layout": "IPY_MODEL_28eaeaab059045c1807b4f54af21fa48"
          }
        },
        "a45897d7740e4096ab524d4192315928": {
          "model_module": "@jupyter-widgets/controls",
          "model_name": "HTMLModel",
          "model_module_version": "1.5.0",
          "state": {
            "_view_name": "HTMLView",
            "style": "IPY_MODEL_be05544576e143f684003080b5bde38e",
            "_dom_classes": [],
            "description": "",
            "_model_name": "HTMLModel",
            "placeholder": "​",
            "_view_module": "@jupyter-widgets/controls",
            "_model_module_version": "1.5.0",
            "value": " 236M/236M [00:30&lt;00:00, 8.17MB/s]",
            "_view_count": null,
            "_view_module_version": "1.5.0",
            "description_tooltip": null,
            "_model_module": "@jupyter-widgets/controls",
            "layout": "IPY_MODEL_269ac409157242c0aedc75832ea436fe"
          }
        },
        "9cb379569caa4b1cb3225edbd6c52c8f": {
          "model_module": "@jupyter-widgets/controls",
          "model_name": "DescriptionStyleModel",
          "model_module_version": "1.5.0",
          "state": {
            "_view_name": "StyleView",
            "_model_name": "DescriptionStyleModel",
            "description_width": "",
            "_view_module": "@jupyter-widgets/base",
            "_model_module_version": "1.5.0",
            "_view_count": null,
            "_view_module_version": "1.2.0",
            "_model_module": "@jupyter-widgets/controls"
          }
        },
        "60a1fec0cdb44359a74335af7ce39b1e": {
          "model_module": "@jupyter-widgets/base",
          "model_name": "LayoutModel",
          "model_module_version": "1.2.0",
          "state": {
            "_view_name": "LayoutView",
            "grid_template_rows": null,
            "right": null,
            "justify_content": null,
            "_view_module": "@jupyter-widgets/base",
            "overflow": null,
            "_model_module_version": "1.2.0",
            "_view_count": null,
            "flex_flow": null,
            "width": null,
            "min_width": null,
            "border": null,
            "align_items": null,
            "bottom": null,
            "_model_module": "@jupyter-widgets/base",
            "top": null,
            "grid_column": null,
            "overflow_y": null,
            "overflow_x": null,
            "grid_auto_flow": null,
            "grid_area": null,
            "grid_template_columns": null,
            "flex": null,
            "_model_name": "LayoutModel",
            "justify_items": null,
            "grid_row": null,
            "max_height": null,
            "align_content": null,
            "visibility": null,
            "align_self": null,
            "height": null,
            "min_height": null,
            "padding": null,
            "grid_auto_rows": null,
            "grid_gap": null,
            "max_width": null,
            "order": null,
            "_view_module_version": "1.2.0",
            "grid_template_areas": null,
            "object_position": null,
            "object_fit": null,
            "grid_auto_columns": null,
            "margin": null,
            "display": null,
            "left": null
          }
        },
        "e4c56259d5764d46af2dd2a0c75a07ab": {
          "model_module": "@jupyter-widgets/controls",
          "model_name": "ProgressStyleModel",
          "model_module_version": "1.5.0",
          "state": {
            "_view_name": "StyleView",
            "_model_name": "ProgressStyleModel",
            "description_width": "",
            "_view_module": "@jupyter-widgets/base",
            "_model_module_version": "1.5.0",
            "_view_count": null,
            "_view_module_version": "1.2.0",
            "bar_color": null,
            "_model_module": "@jupyter-widgets/controls"
          }
        },
        "28eaeaab059045c1807b4f54af21fa48": {
          "model_module": "@jupyter-widgets/base",
          "model_name": "LayoutModel",
          "model_module_version": "1.2.0",
          "state": {
            "_view_name": "LayoutView",
            "grid_template_rows": null,
            "right": null,
            "justify_content": null,
            "_view_module": "@jupyter-widgets/base",
            "overflow": null,
            "_model_module_version": "1.2.0",
            "_view_count": null,
            "flex_flow": null,
            "width": null,
            "min_width": null,
            "border": null,
            "align_items": null,
            "bottom": null,
            "_model_module": "@jupyter-widgets/base",
            "top": null,
            "grid_column": null,
            "overflow_y": null,
            "overflow_x": null,
            "grid_auto_flow": null,
            "grid_area": null,
            "grid_template_columns": null,
            "flex": null,
            "_model_name": "LayoutModel",
            "justify_items": null,
            "grid_row": null,
            "max_height": null,
            "align_content": null,
            "visibility": null,
            "align_self": null,
            "height": null,
            "min_height": null,
            "padding": null,
            "grid_auto_rows": null,
            "grid_gap": null,
            "max_width": null,
            "order": null,
            "_view_module_version": "1.2.0",
            "grid_template_areas": null,
            "object_position": null,
            "object_fit": null,
            "grid_auto_columns": null,
            "margin": null,
            "display": null,
            "left": null
          }
        },
        "be05544576e143f684003080b5bde38e": {
          "model_module": "@jupyter-widgets/controls",
          "model_name": "DescriptionStyleModel",
          "model_module_version": "1.5.0",
          "state": {
            "_view_name": "StyleView",
            "_model_name": "DescriptionStyleModel",
            "description_width": "",
            "_view_module": "@jupyter-widgets/base",
            "_model_module_version": "1.5.0",
            "_view_count": null,
            "_view_module_version": "1.2.0",
            "_model_module": "@jupyter-widgets/controls"
          }
        },
        "269ac409157242c0aedc75832ea436fe": {
          "model_module": "@jupyter-widgets/base",
          "model_name": "LayoutModel",
          "model_module_version": "1.2.0",
          "state": {
            "_view_name": "LayoutView",
            "grid_template_rows": null,
            "right": null,
            "justify_content": null,
            "_view_module": "@jupyter-widgets/base",
            "overflow": null,
            "_model_module_version": "1.2.0",
            "_view_count": null,
            "flex_flow": null,
            "width": null,
            "min_width": null,
            "border": null,
            "align_items": null,
            "bottom": null,
            "_model_module": "@jupyter-widgets/base",
            "top": null,
            "grid_column": null,
            "overflow_y": null,
            "overflow_x": null,
            "grid_auto_flow": null,
            "grid_area": null,
            "grid_template_columns": null,
            "flex": null,
            "_model_name": "LayoutModel",
            "justify_items": null,
            "grid_row": null,
            "max_height": null,
            "align_content": null,
            "visibility": null,
            "align_self": null,
            "height": null,
            "min_height": null,
            "padding": null,
            "grid_auto_rows": null,
            "grid_gap": null,
            "max_width": null,
            "order": null,
            "_view_module_version": "1.2.0",
            "grid_template_areas": null,
            "object_position": null,
            "object_fit": null,
            "grid_auto_columns": null,
            "margin": null,
            "display": null,
            "left": null
          }
        },
        "d87d59a251344a73b2458c4c8f85329c": {
          "model_module": "@jupyter-widgets/controls",
          "model_name": "HBoxModel",
          "model_module_version": "1.5.0",
          "state": {
            "_view_name": "HBoxView",
            "_dom_classes": [],
            "_model_name": "HBoxModel",
            "_view_module": "@jupyter-widgets/controls",
            "_model_module_version": "1.5.0",
            "_view_count": null,
            "_view_module_version": "1.5.0",
            "box_style": "",
            "layout": "IPY_MODEL_2187f8ce0026475f9f8272678d73e237",
            "_model_module": "@jupyter-widgets/controls",
            "children": [
              "IPY_MODEL_018ec7293c5240ec9e367ae1906ae182",
              "IPY_MODEL_667a4e5000394bc7bc8c7aedbe862b28",
              "IPY_MODEL_555da9330436414190adc089593aaa97"
            ]
          }
        },
        "2187f8ce0026475f9f8272678d73e237": {
          "model_module": "@jupyter-widgets/base",
          "model_name": "LayoutModel",
          "model_module_version": "1.2.0",
          "state": {
            "_view_name": "LayoutView",
            "grid_template_rows": null,
            "right": null,
            "justify_content": null,
            "_view_module": "@jupyter-widgets/base",
            "overflow": null,
            "_model_module_version": "1.2.0",
            "_view_count": null,
            "flex_flow": null,
            "width": null,
            "min_width": null,
            "border": null,
            "align_items": null,
            "bottom": null,
            "_model_module": "@jupyter-widgets/base",
            "top": null,
            "grid_column": null,
            "overflow_y": null,
            "overflow_x": null,
            "grid_auto_flow": null,
            "grid_area": null,
            "grid_template_columns": null,
            "flex": null,
            "_model_name": "LayoutModel",
            "justify_items": null,
            "grid_row": null,
            "max_height": null,
            "align_content": null,
            "visibility": null,
            "align_self": null,
            "height": null,
            "min_height": null,
            "padding": null,
            "grid_auto_rows": null,
            "grid_gap": null,
            "max_width": null,
            "order": null,
            "_view_module_version": "1.2.0",
            "grid_template_areas": null,
            "object_position": null,
            "object_fit": null,
            "grid_auto_columns": null,
            "margin": null,
            "display": null,
            "left": null
          }
        },
        "018ec7293c5240ec9e367ae1906ae182": {
          "model_module": "@jupyter-widgets/controls",
          "model_name": "HTMLModel",
          "model_module_version": "1.5.0",
          "state": {
            "_view_name": "HTMLView",
            "style": "IPY_MODEL_35e8a655955641acae0032a13e8f8be0",
            "_dom_classes": [],
            "description": "",
            "_model_name": "HTMLModel",
            "placeholder": "​",
            "_view_module": "@jupyter-widgets/controls",
            "_model_module_version": "1.5.0",
            "value": "val.csv: 100%",
            "_view_count": null,
            "_view_module_version": "1.5.0",
            "description_tooltip": null,
            "_model_module": "@jupyter-widgets/controls",
            "layout": "IPY_MODEL_ba6a7f4c2f3f4387a94af39dae451165"
          }
        },
        "667a4e5000394bc7bc8c7aedbe862b28": {
          "model_module": "@jupyter-widgets/controls",
          "model_name": "FloatProgressModel",
          "model_module_version": "1.5.0",
          "state": {
            "_view_name": "ProgressView",
            "style": "IPY_MODEL_6a04ffe074db401083db9ec404cafd49",
            "_dom_classes": [],
            "description": "",
            "_model_name": "FloatProgressModel",
            "bar_style": "success",
            "max": 24192,
            "_view_module": "@jupyter-widgets/controls",
            "_model_module_version": "1.5.0",
            "value": 24192,
            "_view_count": null,
            "_view_module_version": "1.5.0",
            "orientation": "horizontal",
            "min": 0,
            "description_tooltip": null,
            "_model_module": "@jupyter-widgets/controls",
            "layout": "IPY_MODEL_84843a9929ac4d2fb6aa06ae2636a63a"
          }
        },
        "555da9330436414190adc089593aaa97": {
          "model_module": "@jupyter-widgets/controls",
          "model_name": "HTMLModel",
          "model_module_version": "1.5.0",
          "state": {
            "_view_name": "HTMLView",
            "style": "IPY_MODEL_2f64b818b4c340cf9dafbb049df1ec65",
            "_dom_classes": [],
            "description": "",
            "_model_name": "HTMLModel",
            "placeholder": "​",
            "_view_module": "@jupyter-widgets/controls",
            "_model_module_version": "1.5.0",
            "value": " 24.2k/24.2k [00:00&lt;00:00, 536kB/s]",
            "_view_count": null,
            "_view_module_version": "1.5.0",
            "description_tooltip": null,
            "_model_module": "@jupyter-widgets/controls",
            "layout": "IPY_MODEL_476602d8cd204a6ba3d6c8d15a3e70b3"
          }
        },
        "35e8a655955641acae0032a13e8f8be0": {
          "model_module": "@jupyter-widgets/controls",
          "model_name": "DescriptionStyleModel",
          "model_module_version": "1.5.0",
          "state": {
            "_view_name": "StyleView",
            "_model_name": "DescriptionStyleModel",
            "description_width": "",
            "_view_module": "@jupyter-widgets/base",
            "_model_module_version": "1.5.0",
            "_view_count": null,
            "_view_module_version": "1.2.0",
            "_model_module": "@jupyter-widgets/controls"
          }
        },
        "ba6a7f4c2f3f4387a94af39dae451165": {
          "model_module": "@jupyter-widgets/base",
          "model_name": "LayoutModel",
          "model_module_version": "1.2.0",
          "state": {
            "_view_name": "LayoutView",
            "grid_template_rows": null,
            "right": null,
            "justify_content": null,
            "_view_module": "@jupyter-widgets/base",
            "overflow": null,
            "_model_module_version": "1.2.0",
            "_view_count": null,
            "flex_flow": null,
            "width": null,
            "min_width": null,
            "border": null,
            "align_items": null,
            "bottom": null,
            "_model_module": "@jupyter-widgets/base",
            "top": null,
            "grid_column": null,
            "overflow_y": null,
            "overflow_x": null,
            "grid_auto_flow": null,
            "grid_area": null,
            "grid_template_columns": null,
            "flex": null,
            "_model_name": "LayoutModel",
            "justify_items": null,
            "grid_row": null,
            "max_height": null,
            "align_content": null,
            "visibility": null,
            "align_self": null,
            "height": null,
            "min_height": null,
            "padding": null,
            "grid_auto_rows": null,
            "grid_gap": null,
            "max_width": null,
            "order": null,
            "_view_module_version": "1.2.0",
            "grid_template_areas": null,
            "object_position": null,
            "object_fit": null,
            "grid_auto_columns": null,
            "margin": null,
            "display": null,
            "left": null
          }
        },
        "6a04ffe074db401083db9ec404cafd49": {
          "model_module": "@jupyter-widgets/controls",
          "model_name": "ProgressStyleModel",
          "model_module_version": "1.5.0",
          "state": {
            "_view_name": "StyleView",
            "_model_name": "ProgressStyleModel",
            "description_width": "",
            "_view_module": "@jupyter-widgets/base",
            "_model_module_version": "1.5.0",
            "_view_count": null,
            "_view_module_version": "1.2.0",
            "bar_color": null,
            "_model_module": "@jupyter-widgets/controls"
          }
        },
        "84843a9929ac4d2fb6aa06ae2636a63a": {
          "model_module": "@jupyter-widgets/base",
          "model_name": "LayoutModel",
          "model_module_version": "1.2.0",
          "state": {
            "_view_name": "LayoutView",
            "grid_template_rows": null,
            "right": null,
            "justify_content": null,
            "_view_module": "@jupyter-widgets/base",
            "overflow": null,
            "_model_module_version": "1.2.0",
            "_view_count": null,
            "flex_flow": null,
            "width": null,
            "min_width": null,
            "border": null,
            "align_items": null,
            "bottom": null,
            "_model_module": "@jupyter-widgets/base",
            "top": null,
            "grid_column": null,
            "overflow_y": null,
            "overflow_x": null,
            "grid_auto_flow": null,
            "grid_area": null,
            "grid_template_columns": null,
            "flex": null,
            "_model_name": "LayoutModel",
            "justify_items": null,
            "grid_row": null,
            "max_height": null,
            "align_content": null,
            "visibility": null,
            "align_self": null,
            "height": null,
            "min_height": null,
            "padding": null,
            "grid_auto_rows": null,
            "grid_gap": null,
            "max_width": null,
            "order": null,
            "_view_module_version": "1.2.0",
            "grid_template_areas": null,
            "object_position": null,
            "object_fit": null,
            "grid_auto_columns": null,
            "margin": null,
            "display": null,
            "left": null
          }
        },
        "2f64b818b4c340cf9dafbb049df1ec65": {
          "model_module": "@jupyter-widgets/controls",
          "model_name": "DescriptionStyleModel",
          "model_module_version": "1.5.0",
          "state": {
            "_view_name": "StyleView",
            "_model_name": "DescriptionStyleModel",
            "description_width": "",
            "_view_module": "@jupyter-widgets/base",
            "_model_module_version": "1.5.0",
            "_view_count": null,
            "_view_module_version": "1.2.0",
            "_model_module": "@jupyter-widgets/controls"
          }
        },
        "476602d8cd204a6ba3d6c8d15a3e70b3": {
          "model_module": "@jupyter-widgets/base",
          "model_name": "LayoutModel",
          "model_module_version": "1.2.0",
          "state": {
            "_view_name": "LayoutView",
            "grid_template_rows": null,
            "right": null,
            "justify_content": null,
            "_view_module": "@jupyter-widgets/base",
            "overflow": null,
            "_model_module_version": "1.2.0",
            "_view_count": null,
            "flex_flow": null,
            "width": null,
            "min_width": null,
            "border": null,
            "align_items": null,
            "bottom": null,
            "_model_module": "@jupyter-widgets/base",
            "top": null,
            "grid_column": null,
            "overflow_y": null,
            "overflow_x": null,
            "grid_auto_flow": null,
            "grid_area": null,
            "grid_template_columns": null,
            "flex": null,
            "_model_name": "LayoutModel",
            "justify_items": null,
            "grid_row": null,
            "max_height": null,
            "align_content": null,
            "visibility": null,
            "align_self": null,
            "height": null,
            "min_height": null,
            "padding": null,
            "grid_auto_rows": null,
            "grid_gap": null,
            "max_width": null,
            "order": null,
            "_view_module_version": "1.2.0",
            "grid_template_areas": null,
            "object_position": null,
            "object_fit": null,
            "grid_auto_columns": null,
            "margin": null,
            "display": null,
            "left": null
          }
        },
        "ece836158ee4401e95353e8bfa03c4b3": {
          "model_module": "@jupyter-widgets/controls",
          "model_name": "HBoxModel",
          "model_module_version": "1.5.0",
          "state": {
            "_view_name": "HBoxView",
            "_dom_classes": [],
            "_model_name": "HBoxModel",
            "_view_module": "@jupyter-widgets/controls",
            "_model_module_version": "1.5.0",
            "_view_count": null,
            "_view_module_version": "1.5.0",
            "box_style": "",
            "layout": "IPY_MODEL_e941bca9977443099221c90861038127",
            "_model_module": "@jupyter-widgets/controls",
            "children": [
              "IPY_MODEL_7ec7ec5d12874c79838347007f17de9a",
              "IPY_MODEL_47b3bb3a60b140b1a3276031258001a9",
              "IPY_MODEL_000d27decebd4057b77072a45aed2d9d"
            ]
          }
        },
        "e941bca9977443099221c90861038127": {
          "model_module": "@jupyter-widgets/base",
          "model_name": "LayoutModel",
          "model_module_version": "1.2.0",
          "state": {
            "_view_name": "LayoutView",
            "grid_template_rows": null,
            "right": null,
            "justify_content": null,
            "_view_module": "@jupyter-widgets/base",
            "overflow": null,
            "_model_module_version": "1.2.0",
            "_view_count": null,
            "flex_flow": null,
            "width": null,
            "min_width": null,
            "border": null,
            "align_items": null,
            "bottom": null,
            "_model_module": "@jupyter-widgets/base",
            "top": null,
            "grid_column": null,
            "overflow_y": null,
            "overflow_x": null,
            "grid_auto_flow": null,
            "grid_area": null,
            "grid_template_columns": null,
            "flex": null,
            "_model_name": "LayoutModel",
            "justify_items": null,
            "grid_row": null,
            "max_height": null,
            "align_content": null,
            "visibility": null,
            "align_self": null,
            "height": null,
            "min_height": null,
            "padding": null,
            "grid_auto_rows": null,
            "grid_gap": null,
            "max_width": null,
            "order": null,
            "_view_module_version": "1.2.0",
            "grid_template_areas": null,
            "object_position": null,
            "object_fit": null,
            "grid_auto_columns": null,
            "margin": null,
            "display": null,
            "left": null
          }
        },
        "7ec7ec5d12874c79838347007f17de9a": {
          "model_module": "@jupyter-widgets/controls",
          "model_name": "HTMLModel",
          "model_module_version": "1.5.0",
          "state": {
            "_view_name": "HTMLView",
            "style": "IPY_MODEL_e495795a27774564b1e343f44f2958e2",
            "_dom_classes": [],
            "description": "",
            "_model_name": "HTMLModel",
            "placeholder": "​",
            "_view_module": "@jupyter-widgets/controls",
            "_model_module_version": "1.5.0",
            "value": "val.zip: 100%",
            "_view_count": null,
            "_view_module_version": "1.5.0",
            "description_tooltip": null,
            "_model_module": "@jupyter-widgets/controls",
            "layout": "IPY_MODEL_04333a38859a4191b804e0f764bf8563"
          }
        },
        "47b3bb3a60b140b1a3276031258001a9": {
          "model_module": "@jupyter-widgets/controls",
          "model_name": "FloatProgressModel",
          "model_module_version": "1.5.0",
          "state": {
            "_view_name": "ProgressView",
            "style": "IPY_MODEL_0ae0d4a930da4716baf3c558cc409099",
            "_dom_classes": [],
            "description": "",
            "_model_name": "FloatProgressModel",
            "bar_style": "success",
            "max": 117202508,
            "_view_module": "@jupyter-widgets/controls",
            "_model_module_version": "1.5.0",
            "value": 117202508,
            "_view_count": null,
            "_view_module_version": "1.5.0",
            "orientation": "horizontal",
            "min": 0,
            "description_tooltip": null,
            "_model_module": "@jupyter-widgets/controls",
            "layout": "IPY_MODEL_122df56f1bc34cf4981016f73632bb52"
          }
        },
        "000d27decebd4057b77072a45aed2d9d": {
          "model_module": "@jupyter-widgets/controls",
          "model_name": "HTMLModel",
          "model_module_version": "1.5.0",
          "state": {
            "_view_name": "HTMLView",
            "style": "IPY_MODEL_fbe16e45290b41afb9e1a4fab09de7d8",
            "_dom_classes": [],
            "description": "",
            "_model_name": "HTMLModel",
            "placeholder": "​",
            "_view_module": "@jupyter-widgets/controls",
            "_model_module_version": "1.5.0",
            "value": " 117M/117M [00:16&lt;00:00, 7.28MB/s]",
            "_view_count": null,
            "_view_module_version": "1.5.0",
            "description_tooltip": null,
            "_model_module": "@jupyter-widgets/controls",
            "layout": "IPY_MODEL_d13375953c5b48c9a31b5f043a463a25"
          }
        },
        "e495795a27774564b1e343f44f2958e2": {
          "model_module": "@jupyter-widgets/controls",
          "model_name": "DescriptionStyleModel",
          "model_module_version": "1.5.0",
          "state": {
            "_view_name": "StyleView",
            "_model_name": "DescriptionStyleModel",
            "description_width": "",
            "_view_module": "@jupyter-widgets/base",
            "_model_module_version": "1.5.0",
            "_view_count": null,
            "_view_module_version": "1.2.0",
            "_model_module": "@jupyter-widgets/controls"
          }
        },
        "04333a38859a4191b804e0f764bf8563": {
          "model_module": "@jupyter-widgets/base",
          "model_name": "LayoutModel",
          "model_module_version": "1.2.0",
          "state": {
            "_view_name": "LayoutView",
            "grid_template_rows": null,
            "right": null,
            "justify_content": null,
            "_view_module": "@jupyter-widgets/base",
            "overflow": null,
            "_model_module_version": "1.2.0",
            "_view_count": null,
            "flex_flow": null,
            "width": null,
            "min_width": null,
            "border": null,
            "align_items": null,
            "bottom": null,
            "_model_module": "@jupyter-widgets/base",
            "top": null,
            "grid_column": null,
            "overflow_y": null,
            "overflow_x": null,
            "grid_auto_flow": null,
            "grid_area": null,
            "grid_template_columns": null,
            "flex": null,
            "_model_name": "LayoutModel",
            "justify_items": null,
            "grid_row": null,
            "max_height": null,
            "align_content": null,
            "visibility": null,
            "align_self": null,
            "height": null,
            "min_height": null,
            "padding": null,
            "grid_auto_rows": null,
            "grid_gap": null,
            "max_width": null,
            "order": null,
            "_view_module_version": "1.2.0",
            "grid_template_areas": null,
            "object_position": null,
            "object_fit": null,
            "grid_auto_columns": null,
            "margin": null,
            "display": null,
            "left": null
          }
        },
        "0ae0d4a930da4716baf3c558cc409099": {
          "model_module": "@jupyter-widgets/controls",
          "model_name": "ProgressStyleModel",
          "model_module_version": "1.5.0",
          "state": {
            "_view_name": "StyleView",
            "_model_name": "ProgressStyleModel",
            "description_width": "",
            "_view_module": "@jupyter-widgets/base",
            "_model_module_version": "1.5.0",
            "_view_count": null,
            "_view_module_version": "1.2.0",
            "bar_color": null,
            "_model_module": "@jupyter-widgets/controls"
          }
        },
        "122df56f1bc34cf4981016f73632bb52": {
          "model_module": "@jupyter-widgets/base",
          "model_name": "LayoutModel",
          "model_module_version": "1.2.0",
          "state": {
            "_view_name": "LayoutView",
            "grid_template_rows": null,
            "right": null,
            "justify_content": null,
            "_view_module": "@jupyter-widgets/base",
            "overflow": null,
            "_model_module_version": "1.2.0",
            "_view_count": null,
            "flex_flow": null,
            "width": null,
            "min_width": null,
            "border": null,
            "align_items": null,
            "bottom": null,
            "_model_module": "@jupyter-widgets/base",
            "top": null,
            "grid_column": null,
            "overflow_y": null,
            "overflow_x": null,
            "grid_auto_flow": null,
            "grid_area": null,
            "grid_template_columns": null,
            "flex": null,
            "_model_name": "LayoutModel",
            "justify_items": null,
            "grid_row": null,
            "max_height": null,
            "align_content": null,
            "visibility": null,
            "align_self": null,
            "height": null,
            "min_height": null,
            "padding": null,
            "grid_auto_rows": null,
            "grid_gap": null,
            "max_width": null,
            "order": null,
            "_view_module_version": "1.2.0",
            "grid_template_areas": null,
            "object_position": null,
            "object_fit": null,
            "grid_auto_columns": null,
            "margin": null,
            "display": null,
            "left": null
          }
        },
        "fbe16e45290b41afb9e1a4fab09de7d8": {
          "model_module": "@jupyter-widgets/controls",
          "model_name": "DescriptionStyleModel",
          "model_module_version": "1.5.0",
          "state": {
            "_view_name": "StyleView",
            "_model_name": "DescriptionStyleModel",
            "description_width": "",
            "_view_module": "@jupyter-widgets/base",
            "_model_module_version": "1.5.0",
            "_view_count": null,
            "_view_module_version": "1.2.0",
            "_model_module": "@jupyter-widgets/controls"
          }
        },
        "d13375953c5b48c9a31b5f043a463a25": {
          "model_module": "@jupyter-widgets/base",
          "model_name": "LayoutModel",
          "model_module_version": "1.2.0",
          "state": {
            "_view_name": "LayoutView",
            "grid_template_rows": null,
            "right": null,
            "justify_content": null,
            "_view_module": "@jupyter-widgets/base",
            "overflow": null,
            "_model_module_version": "1.2.0",
            "_view_count": null,
            "flex_flow": null,
            "width": null,
            "min_width": null,
            "border": null,
            "align_items": null,
            "bottom": null,
            "_model_module": "@jupyter-widgets/base",
            "top": null,
            "grid_column": null,
            "overflow_y": null,
            "overflow_x": null,
            "grid_auto_flow": null,
            "grid_area": null,
            "grid_template_columns": null,
            "flex": null,
            "_model_name": "LayoutModel",
            "justify_items": null,
            "grid_row": null,
            "max_height": null,
            "align_content": null,
            "visibility": null,
            "align_self": null,
            "height": null,
            "min_height": null,
            "padding": null,
            "grid_auto_rows": null,
            "grid_gap": null,
            "max_width": null,
            "order": null,
            "_view_module_version": "1.2.0",
            "grid_template_areas": null,
            "object_position": null,
            "object_fit": null,
            "grid_auto_columns": null,
            "margin": null,
            "display": null,
            "left": null
          }
        }
      }
    },
    "accelerator": "GPU"
  },
  "cells": [
    {
      "cell_type": "markdown",
      "source": [
        "![Age_Desktop Banner-3.png](data:image/png;base64,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)"
      ],
      "metadata": {
        "id": "IDumPHDrzvll"
      }
    },
    {
      "cell_type": "markdown",
      "metadata": {
        "id": "0KgOzMgr-PJN"
      },
      "source": [
        "<h2><center> Getting Started with Age Prediction</center></h2>\n",
        "\n",
        "In this puzzle, we have to predict the age from the given human faces.\n",
        "\n",
        "This is a starter kit explaining how to download the data and also submit direcly via this notebook. \n",
        "\n",
        "We will be the sample submission file directly in the required format. \n",
        "\n",
        "\n"
      ]
    },
    {
      "cell_type": "markdown",
      "source": [
        "\n",
        "# Download the files 💾¶\n",
        "## Download AIcrowd CLI\n",
        "\n",
        "We will first install aicrowd-cli which will help you download and later make submission directly via the notebook.\n"
      ],
      "metadata": {
        "id": "pYnuxNvIJZRn"
      }
    },
    {
      "cell_type": "code",
      "source": [
        "!pip install aicrowd-cli\n",
        "%load_ext aicrowd.magic"
      ],
      "metadata": {
        "id": "m4w04PPgJf3T",
        "colab": {
          "base_uri": "https://localhost:8080/"
        },
        "outputId": "807e6157-f262-4119-aa7f-eb26c8b04526"
      },
      "execution_count": null,
      "outputs": [
        {
          "output_type": "stream",
          "name": "stdout",
          "text": [
            "Requirement already satisfied: aicrowd-cli in /usr/local/lib/python3.7/dist-packages (0.1.14)\n",
            "Requirement already satisfied: GitPython==3.1.18 in /usr/local/lib/python3.7/dist-packages (from aicrowd-cli) (3.1.18)\n",
            "Requirement already satisfied: tqdm<5,>=4.56.0 in /usr/local/lib/python3.7/dist-packages (from aicrowd-cli) (4.62.3)\n",
            "Requirement already satisfied: requests<3,>=2.25.1 in /usr/local/lib/python3.7/dist-packages (from aicrowd-cli) (2.27.1)\n",
            "Requirement already satisfied: python-slugify<6,>=5.0.0 in /usr/local/lib/python3.7/dist-packages (from aicrowd-cli) (5.0.2)\n",
            "Requirement already satisfied: pyzmq==22.1.0 in /usr/local/lib/python3.7/dist-packages (from aicrowd-cli) (22.1.0)\n",
            "Requirement already satisfied: semver<3,>=2.13.0 in /usr/local/lib/python3.7/dist-packages (from aicrowd-cli) (2.13.0)\n",
            "Requirement already satisfied: rich<11,>=10.0.0 in /usr/local/lib/python3.7/dist-packages (from aicrowd-cli) (10.16.2)\n",
            "Requirement already satisfied: toml<1,>=0.10.2 in /usr/local/lib/python3.7/dist-packages (from aicrowd-cli) (0.10.2)\n",
            "Requirement already satisfied: click<8,>=7.1.2 in /usr/local/lib/python3.7/dist-packages (from aicrowd-cli) (7.1.2)\n",
            "Requirement already satisfied: requests-toolbelt<1,>=0.9.1 in /usr/local/lib/python3.7/dist-packages (from aicrowd-cli) (0.9.1)\n",
            "Requirement already satisfied: typing-extensions>=3.7.4.0 in /usr/local/lib/python3.7/dist-packages (from GitPython==3.1.18->aicrowd-cli) (3.10.0.2)\n",
            "Requirement already satisfied: gitdb<5,>=4.0.1 in /usr/local/lib/python3.7/dist-packages (from GitPython==3.1.18->aicrowd-cli) (4.0.9)\n",
            "Requirement already satisfied: smmap<6,>=3.0.1 in /usr/local/lib/python3.7/dist-packages (from gitdb<5,>=4.0.1->GitPython==3.1.18->aicrowd-cli) (5.0.0)\n",
            "Requirement already satisfied: text-unidecode>=1.3 in /usr/local/lib/python3.7/dist-packages (from python-slugify<6,>=5.0.0->aicrowd-cli) (1.3)\n",
            "Requirement already satisfied: idna<4,>=2.5 in /usr/local/lib/python3.7/dist-packages (from requests<3,>=2.25.1->aicrowd-cli) (2.10)\n",
            "Requirement already satisfied: urllib3<1.27,>=1.21.1 in /usr/local/lib/python3.7/dist-packages (from requests<3,>=2.25.1->aicrowd-cli) (1.24.3)\n",
            "Requirement already satisfied: certifi>=2017.4.17 in /usr/local/lib/python3.7/dist-packages (from requests<3,>=2.25.1->aicrowd-cli) (2021.10.8)\n",
            "Requirement already satisfied: charset-normalizer~=2.0.0 in /usr/local/lib/python3.7/dist-packages (from requests<3,>=2.25.1->aicrowd-cli) (2.0.12)\n",
            "Requirement already satisfied: commonmark<0.10.0,>=0.9.0 in /usr/local/lib/python3.7/dist-packages (from rich<11,>=10.0.0->aicrowd-cli) (0.9.1)\n",
            "Requirement already satisfied: colorama<0.5.0,>=0.4.0 in /usr/local/lib/python3.7/dist-packages (from rich<11,>=10.0.0->aicrowd-cli) (0.4.4)\n",
            "Requirement already satisfied: pygments<3.0.0,>=2.6.0 in /usr/local/lib/python3.7/dist-packages (from rich<11,>=10.0.0->aicrowd-cli) (2.6.1)\n"
          ]
        }
      ]
    },
    {
      "cell_type": "markdown",
      "source": [
        "\n",
        "## Login to AIcrowd ㊗¶\n"
      ],
      "metadata": {
        "id": "aqmhTshfJzbz"
      }
    },
    {
      "cell_type": "code",
      "source": [
        "%aicrowd login"
      ],
      "metadata": {
        "colab": {
          "base_uri": "https://localhost:8080/"
        },
        "id": "5vRJiRKJJoe2",
        "outputId": "aa77b398-7c47-4911-f550-798d1357a0f9"
      },
      "execution_count": null,
      "outputs": [
        {
          "output_type": "stream",
          "name": "stdout",
          "text": [
            "Please login here: \u001b[34m\u001b[1m\u001b[4mhttps://api.aicrowd.com/auth/vgS5RitUKvanV8sOpJyFXBEt94ieDhcYsdwFcf0f5mY\u001b[0m\n",
            "\u001b[32mAPI Key valid\u001b[0m\n",
            "\u001b[32mGitlab access token valid\u001b[0m\n",
            "\u001b[32mSaved details successfully!\u001b[0m\n"
          ]
        }
      ]
    },
    {
      "cell_type": "markdown",
      "source": [
        "\n",
        "## Download Dataset¶\n",
        "\n",
        "We will create a folder name data and download the files there.\n"
      ],
      "metadata": {
        "id": "1Qavs9YbJ-_z"
      }
    },
    {
      "cell_type": "code",
      "source": [
        "!rm -rf data\n",
        "!mkdir data\n",
        "%aicrowd ds dl -c age-prediction -o data"
      ],
      "metadata": {
        "colab": {
          "base_uri": "https://localhost:8080/",
          "height": 241,
          "referenced_widgets": [
            "15836bd3fb314003b108296b9fb20c69",
            "5d003a5dd78346d6b729a45039e4af40",
            "192003aeba3849d5987102879bc9e365",
            "846a0c4eea2f42de8fb91d5a6b2b1fd4",
            "5e3b221aa0064d8cbe70faffa40fa52e",
            "7cf69e00fcb74f54905dc4a6b7163203",
            "1893a9664f2048759a953426a1b60636",
            "4d858aae7c574db28a4b1ba240fa0b18",
            "d106b5f7dcd04f5e852a892159304f9f",
            "985d5a9d55a342baa4ec12aad29fa144",
            "4cc5292d20cf45f4a2fa8e2d4c82b55c",
            "92f4ad8abfb64eb59d4ee9625812cb31",
            "81b81c034a6740ac84caaf2a3b42fa6f",
            "995e088a0cfb46f99a0b4fefcd2cfb1a",
            "c7d81d48f5e34d1681373aa6f64f4d18",
            "2b79cb5410604d26821884bb2d626212",
            "8c066f9de4814e0d9f3dfa6c95e9c2f5",
            "4527727e78cb4e84a38a21284a4cf824",
            "adff098c6039471e876d0fcb995d291e",
            "cea3342fb57943069e0ee660f25c0493",
            "2950afb7d5f2408ab0332283b88ca563",
            "d0dfb83dbd824950860f00f08cca5f8a",
            "9b36b6086b454113bec9fd7653ca5825",
            "303967d3972841e9a829972a00226c44",
            "0cec6ee1f5624842988c40d35bea05e0",
            "2435cb7b4fd547c9a9081eb91b29a445",
            "66414522e8f7484daea99f989a734863",
            "236241325f0f45089995e654a1e9479d",
            "961bf1ece11d4f2e83192e2903020a7e",
            "275d174b34ff409196671d1cbfa259d7",
            "fa9d85435f624fbca1bae5663d6875be",
            "4e6704377a03448b87c71c0a43b39f79",
            "606a83bbfdf04897b33eb9119afe8e37",
            "76608106bce740c0a32e3f5d5b59bf75",
            "7accca5af1dd47778a7234def81fc471",
            "a069cd5b60594bc5a459f209e6cb5981",
            "2ca934b324f449c0a0a4d9e88a46100a",
            "51cd57e3073e4007a24b0c7f4e264300",
            "5c6c55afc5c74ed68a4a2a46af9f9a8f",
            "7143a6e39b7f4635ab3783431f6d61b0",
            "380e006294e0461eafcf45df406a3541",
            "d9e417b61fed488fa6248ae3fa1b525f",
            "3fa98fa1d7dc4c3b991ccc0299c533bc",
            "13495f4865b74d208616985c5c6e4429",
            "15f39fb37eab464aa169cf94672f1cc6",
            "0dfaa2a01fa24ea18f5da4fe01934729",
            "552eba432c00415a9015d57b1268702b",
            "9c0321feff2a4835b7eae5b4d4d1b888",
            "a45897d7740e4096ab524d4192315928",
            "9cb379569caa4b1cb3225edbd6c52c8f",
            "60a1fec0cdb44359a74335af7ce39b1e",
            "e4c56259d5764d46af2dd2a0c75a07ab",
            "28eaeaab059045c1807b4f54af21fa48",
            "be05544576e143f684003080b5bde38e",
            "269ac409157242c0aedc75832ea436fe",
            "d87d59a251344a73b2458c4c8f85329c",
            "2187f8ce0026475f9f8272678d73e237",
            "018ec7293c5240ec9e367ae1906ae182",
            "667a4e5000394bc7bc8c7aedbe862b28",
            "555da9330436414190adc089593aaa97",
            "35e8a655955641acae0032a13e8f8be0",
            "ba6a7f4c2f3f4387a94af39dae451165",
            "6a04ffe074db401083db9ec404cafd49",
            "84843a9929ac4d2fb6aa06ae2636a63a",
            "2f64b818b4c340cf9dafbb049df1ec65",
            "476602d8cd204a6ba3d6c8d15a3e70b3",
            "ece836158ee4401e95353e8bfa03c4b3",
            "e941bca9977443099221c90861038127",
            "7ec7ec5d12874c79838347007f17de9a",
            "47b3bb3a60b140b1a3276031258001a9",
            "000d27decebd4057b77072a45aed2d9d",
            "e495795a27774564b1e343f44f2958e2",
            "04333a38859a4191b804e0f764bf8563",
            "0ae0d4a930da4716baf3c558cc409099",
            "122df56f1bc34cf4981016f73632bb52",
            "fbe16e45290b41afb9e1a4fab09de7d8",
            "d13375953c5b48c9a31b5f043a463a25"
          ]
        },
        "id": "YQI8-4M7KE2W",
        "outputId": "3d4129da-7ff7-41c3-9202-77391471aedb"
      },
      "execution_count": null,
      "outputs": [
        {
          "output_type": "display_data",
          "data": {
            "application/vnd.jupyter.widget-view+json": {
              "model_id": "15836bd3fb314003b108296b9fb20c69",
              "version_minor": 0,
              "version_major": 2
            },
            "text/plain": [
              "sample_submission.csv:   0%|          | 0.00/36.0k [00:00<?, ?B/s]"
            ]
          },
          "metadata": {}
        },
        {
          "output_type": "display_data",
          "data": {
            "application/vnd.jupyter.widget-view+json": {
              "model_id": "92f4ad8abfb64eb59d4ee9625812cb31",
              "version_minor": 0,
              "version_major": 2
            },
            "text/plain": [
              "test.csv:   0%|          | 0.00/36.0k [00:00<?, ?B/s]"
            ]
          },
          "metadata": {}
        },
        {
          "output_type": "display_data",
          "data": {
            "application/vnd.jupyter.widget-view+json": {
              "model_id": "9b36b6086b454113bec9fd7653ca5825",
              "version_minor": 0,
              "version_major": 2
            },
            "text/plain": [
              "test.zip:   0%|          | 0.00/176M [00:00<?, ?B/s]"
            ]
          },
          "metadata": {}
        },
        {
          "output_type": "display_data",
          "data": {
            "application/vnd.jupyter.widget-view+json": {
              "model_id": "76608106bce740c0a32e3f5d5b59bf75",
              "version_minor": 0,
              "version_major": 2
            },
            "text/plain": [
              "train.csv:   0%|          | 0.00/48.3k [00:00<?, ?B/s]"
            ]
          },
          "metadata": {}
        },
        {
          "output_type": "display_data",
          "data": {
            "application/vnd.jupyter.widget-view+json": {
              "model_id": "15f39fb37eab464aa169cf94672f1cc6",
              "version_minor": 0,
              "version_major": 2
            },
            "text/plain": [
              "train.zip:   0%|          | 0.00/236M [00:00<?, ?B/s]"
            ]
          },
          "metadata": {}
        },
        {
          "output_type": "display_data",
          "data": {
            "application/vnd.jupyter.widget-view+json": {
              "model_id": "d87d59a251344a73b2458c4c8f85329c",
              "version_minor": 0,
              "version_major": 2
            },
            "text/plain": [
              "val.csv:   0%|          | 0.00/24.2k [00:00<?, ?B/s]"
            ]
          },
          "metadata": {}
        },
        {
          "output_type": "display_data",
          "data": {
            "application/vnd.jupyter.widget-view+json": {
              "model_id": "ece836158ee4401e95353e8bfa03c4b3",
              "version_minor": 0,
              "version_major": 2
            },
            "text/plain": [
              "val.zip:   0%|          | 0.00/117M [00:00<?, ?B/s]"
            ]
          },
          "metadata": {}
        }
      ]
    },
    {
      "cell_type": "code",
      "source": [
        "!unzip data/train.zip -d data/train > /dev/null\n",
        "!unzip data/val.zip -d data/val > /dev/null\n",
        "!unzip data/test.zip -d data/test > /dev/null"
      ],
      "metadata": {
        "id": "NFyqwNtN47m1"
      },
      "execution_count": null,
      "outputs": []
    },
    {
      "cell_type": "markdown",
      "metadata": {
        "id": "Da9HOX9CF7Th"
      },
      "source": [
        "## Importing Libraries:"
      ]
    },
    {
      "cell_type": "code",
      "source": [
        "!pip install tensorflow_addons"
      ],
      "metadata": {
        "colab": {
          "base_uri": "https://localhost:8080/"
        },
        "id": "b5E2uSW1VZAs",
        "outputId": "45b72c36-7d74-4612-d125-843b405d9b44"
      },
      "execution_count": null,
      "outputs": [
        {
          "output_type": "stream",
          "name": "stdout",
          "text": [
            "Collecting tensorflow_addons\n",
            "  Downloading tensorflow_addons-0.16.1-cp37-cp37m-manylinux_2_12_x86_64.manylinux2010_x86_64.whl (1.1 MB)\n",
            "\u001b[?25l\r\u001b[K     |▎                               | 10 kB 22.0 MB/s eta 0:00:01\r\u001b[K     |▋                               | 20 kB 29.1 MB/s eta 0:00:01\r\u001b[K     |▉                               | 30 kB 29.3 MB/s eta 0:00:01\r\u001b[K     |█▏                              | 40 kB 14.0 MB/s eta 0:00:01\r\u001b[K     |█▌                              | 51 kB 13.2 MB/s eta 0:00:01\r\u001b[K     |█▊                              | 61 kB 15.4 MB/s eta 0:00:01\r\u001b[K     |██                              | 71 kB 14.7 MB/s eta 0:00:01\r\u001b[K     |██▍                             | 81 kB 14.4 MB/s eta 0:00:01\r\u001b[K     |██▋                             | 92 kB 15.9 MB/s eta 0:00:01\r\u001b[K     |███                             | 102 kB 14.3 MB/s eta 0:00:01\r\u001b[K     |███▏                            | 112 kB 14.3 MB/s eta 0:00:01\r\u001b[K     |███▌                            | 122 kB 14.3 MB/s eta 0:00:01\r\u001b[K     |███▉                            | 133 kB 14.3 MB/s eta 0:00:01\r\u001b[K     |████                            | 143 kB 14.3 MB/s eta 0:00:01\r\u001b[K     |████▍                           | 153 kB 14.3 MB/s eta 0:00:01\r\u001b[K     |████▊                           | 163 kB 14.3 MB/s eta 0:00:01\r\u001b[K     |█████                           | 174 kB 14.3 MB/s eta 0:00:01\r\u001b[K     |█████▎                          | 184 kB 14.3 MB/s eta 0:00:01\r\u001b[K     |█████▌                          | 194 kB 14.3 MB/s eta 0:00:01\r\u001b[K     |█████▉                          | 204 kB 14.3 MB/s eta 0:00:01\r\u001b[K     |██████▏                         | 215 kB 14.3 MB/s eta 0:00:01\r\u001b[K     |██████▍                         | 225 kB 14.3 MB/s eta 0:00:01\r\u001b[K     |██████▊                         | 235 kB 14.3 MB/s eta 0:00:01\r\u001b[K     |███████                         | 245 kB 14.3 MB/s eta 0:00:01\r\u001b[K     |███████▎                        | 256 kB 14.3 MB/s eta 0:00:01\r\u001b[K     |███████▋                        | 266 kB 14.3 MB/s eta 0:00:01\r\u001b[K     |███████▉                        | 276 kB 14.3 MB/s eta 0:00:01\r\u001b[K     |████████▏                       | 286 kB 14.3 MB/s eta 0:00:01\r\u001b[K     |████████▌                       | 296 kB 14.3 MB/s eta 0:00:01\r\u001b[K     |████████▊                       | 307 kB 14.3 MB/s eta 0:00:01\r\u001b[K     |█████████                       | 317 kB 14.3 MB/s eta 0:00:01\r\u001b[K     |█████████▍                      | 327 kB 14.3 MB/s eta 0:00:01\r\u001b[K     |█████████▋                      | 337 kB 14.3 MB/s eta 0:00:01\r\u001b[K     |██████████                      | 348 kB 14.3 MB/s eta 0:00:01\r\u001b[K     |██████████▏                     | 358 kB 14.3 MB/s eta 0:00:01\r\u001b[K     |██████████▌                     | 368 kB 14.3 MB/s eta 0:00:01\r\u001b[K     |██████████▉                     | 378 kB 14.3 MB/s eta 0:00:01\r\u001b[K     |███████████                     | 389 kB 14.3 MB/s eta 0:00:01\r\u001b[K     |███████████▍                    | 399 kB 14.3 MB/s eta 0:00:01\r\u001b[K     |███████████▊                    | 409 kB 14.3 MB/s eta 0:00:01\r\u001b[K     |████████████                    | 419 kB 14.3 MB/s eta 0:00:01\r\u001b[K     |████████████▎                   | 430 kB 14.3 MB/s eta 0:00:01\r\u001b[K     |████████████▌                   | 440 kB 14.3 MB/s eta 0:00:01\r\u001b[K     |████████████▉                   | 450 kB 14.3 MB/s eta 0:00:01\r\u001b[K     |█████████████▏                  | 460 kB 14.3 MB/s eta 0:00:01\r\u001b[K     |█████████████▍                  | 471 kB 14.3 MB/s eta 0:00:01\r\u001b[K     |█████████████▊                  | 481 kB 14.3 MB/s eta 0:00:01\r\u001b[K     |██████████████                  | 491 kB 14.3 MB/s eta 0:00:01\r\u001b[K     |██████████████▎                 | 501 kB 14.3 MB/s eta 0:00:01\r\u001b[K     |██████████████▋                 | 512 kB 14.3 MB/s eta 0:00:01\r\u001b[K     |██████████████▉                 | 522 kB 14.3 MB/s eta 0:00:01\r\u001b[K     |███████████████▏                | 532 kB 14.3 MB/s eta 0:00:01\r\u001b[K     |███████████████▌                | 542 kB 14.3 MB/s eta 0:00:01\r\u001b[K     |███████████████▊                | 552 kB 14.3 MB/s eta 0:00:01\r\u001b[K     |████████████████                | 563 kB 14.3 MB/s eta 0:00:01\r\u001b[K     |████████████████▍               | 573 kB 14.3 MB/s eta 0:00:01\r\u001b[K     |████████████████▋               | 583 kB 14.3 MB/s eta 0:00:01\r\u001b[K     |█████████████████               | 593 kB 14.3 MB/s eta 0:00:01\r\u001b[K     |█████████████████▏              | 604 kB 14.3 MB/s eta 0:00:01\r\u001b[K     |█████████████████▌              | 614 kB 14.3 MB/s eta 0:00:01\r\u001b[K     |█████████████████▉              | 624 kB 14.3 MB/s eta 0:00:01\r\u001b[K     |██████████████████              | 634 kB 14.3 MB/s eta 0:00:01\r\u001b[K     |██████████████████▍             | 645 kB 14.3 MB/s eta 0:00:01\r\u001b[K     |██████████████████▊             | 655 kB 14.3 MB/s eta 0:00:01\r\u001b[K     |███████████████████             | 665 kB 14.3 MB/s eta 0:00:01\r\u001b[K     |███████████████████▎            | 675 kB 14.3 MB/s eta 0:00:01\r\u001b[K     |███████████████████▌            | 686 kB 14.3 MB/s eta 0:00:01\r\u001b[K     |███████████████████▉            | 696 kB 14.3 MB/s eta 0:00:01\r\u001b[K     |████████████████████▏           | 706 kB 14.3 MB/s eta 0:00:01\r\u001b[K     |████████████████████▍           | 716 kB 14.3 MB/s eta 0:00:01\r\u001b[K     |████████████████████▊           | 727 kB 14.3 MB/s eta 0:00:01\r\u001b[K     |█████████████████████           | 737 kB 14.3 MB/s eta 0:00:01\r\u001b[K     |█████████████████████▎          | 747 kB 14.3 MB/s eta 0:00:01\r\u001b[K     |█████████████████████▋          | 757 kB 14.3 MB/s eta 0:00:01\r\u001b[K     |█████████████████████▉          | 768 kB 14.3 MB/s eta 0:00:01\r\u001b[K     |██████████████████████▏         | 778 kB 14.3 MB/s eta 0:00:01\r\u001b[K     |██████████████████████▌         | 788 kB 14.3 MB/s eta 0:00:01\r\u001b[K     |██████████████████████▊         | 798 kB 14.3 MB/s eta 0:00:01\r\u001b[K     |███████████████████████         | 808 kB 14.3 MB/s eta 0:00:01\r\u001b[K     |███████████████████████▍        | 819 kB 14.3 MB/s eta 0:00:01\r\u001b[K     |███████████████████████▋        | 829 kB 14.3 MB/s eta 0:00:01\r\u001b[K     |████████████████████████        | 839 kB 14.3 MB/s eta 0:00:01\r\u001b[K     |████████████████████████▏       | 849 kB 14.3 MB/s eta 0:00:01\r\u001b[K     |████████████████████████▌       | 860 kB 14.3 MB/s eta 0:00:01\r\u001b[K     |████████████████████████▉       | 870 kB 14.3 MB/s eta 0:00:01\r\u001b[K     |█████████████████████████       | 880 kB 14.3 MB/s eta 0:00:01\r\u001b[K     |█████████████████████████▍      | 890 kB 14.3 MB/s eta 0:00:01\r\u001b[K     |█████████████████████████▊      | 901 kB 14.3 MB/s eta 0:00:01\r\u001b[K     |██████████████████████████      | 911 kB 14.3 MB/s eta 0:00:01\r\u001b[K     |██████████████████████████▎     | 921 kB 14.3 MB/s eta 0:00:01\r\u001b[K     |██████████████████████████▌     | 931 kB 14.3 MB/s eta 0:00:01\r\u001b[K     |██████████████████████████▉     | 942 kB 14.3 MB/s eta 0:00:01\r\u001b[K     |███████████████████████████▏    | 952 kB 14.3 MB/s eta 0:00:01\r\u001b[K     |███████████████████████████▍    | 962 kB 14.3 MB/s eta 0:00:01\r\u001b[K     |███████████████████████████▊    | 972 kB 14.3 MB/s eta 0:00:01\r\u001b[K     |████████████████████████████    | 983 kB 14.3 MB/s eta 0:00:01\r\u001b[K     |████████████████████████████▎   | 993 kB 14.3 MB/s eta 0:00:01\r\u001b[K     |████████████████████████████▋   | 1.0 MB 14.3 MB/s eta 0:00:01\r\u001b[K     |████████████████████████████▉   | 1.0 MB 14.3 MB/s eta 0:00:01\r\u001b[K     |█████████████████████████████▏  | 1.0 MB 14.3 MB/s eta 0:00:01\r\u001b[K     |█████████████████████████████▌  | 1.0 MB 14.3 MB/s eta 0:00:01\r\u001b[K     |█████████████████████████████▊  | 1.0 MB 14.3 MB/s eta 0:00:01\r\u001b[K     |██████████████████████████████  | 1.1 MB 14.3 MB/s eta 0:00:01\r\u001b[K     |██████████████████████████████▍ | 1.1 MB 14.3 MB/s eta 0:00:01\r\u001b[K     |██████████████████████████████▋ | 1.1 MB 14.3 MB/s eta 0:00:01\r\u001b[K     |███████████████████████████████ | 1.1 MB 14.3 MB/s eta 0:00:01\r\u001b[K     |███████████████████████████████▏| 1.1 MB 14.3 MB/s eta 0:00:01\r\u001b[K     |███████████████████████████████▌| 1.1 MB 14.3 MB/s eta 0:00:01\r\u001b[K     |███████████████████████████████▉| 1.1 MB 14.3 MB/s eta 0:00:01\r\u001b[K     |████████████████████████████████| 1.1 MB 14.3 MB/s \n",
            "\u001b[?25hRequirement already satisfied: typeguard>=2.7 in /usr/local/lib/python3.7/dist-packages (from tensorflow_addons) (2.7.1)\n",
            "Installing collected packages: tensorflow-addons\n",
            "Successfully installed tensorflow-addons-0.16.1\n"
          ]
        }
      ]
    },
    {
      "cell_type": "code",
      "metadata": {
        "id": "PKg7dTVDF9n0"
      },
      "source": [
        "import pandas as pd\n",
        "import numpy as np\n",
        "import os\n",
        "import seaborn as sns\n",
        "import matplotlib.pyplot as plt\n",
        "\n",
        "import cv2\n",
        "from sklearn.model_selection import train_test_split\n",
        "import tensorflow.keras as keras\n",
        "import tensorflow as tf\n",
        "from IPython.display import Image\n",
        "%matplotlib inline\n",
        "import tensorflow_addons as tfa\n",
        "from PIL import Image"
      ],
      "execution_count": null,
      "outputs": []
    },
    {
      "cell_type": "markdown",
      "metadata": {
        "id": "UitqWMEr48hW"
      },
      "source": [
        "## Diving in the dataset 🕵️‍♂️\n",
        "\n",
        "[reference 1](https://sanjayasubedi.com.np/deeplearning/multioutput-keras/)\n",
        "\n",
        "[reference 2](https://github.com/jangedoo/age-gender-race-prediction)"
      ]
    },
    {
      "cell_type": "code",
      "metadata": {
        "id": "zI0bUy6OGLFH"
      },
      "source": [
        "train_df = pd.read_csv(\"data/train.csv\")\n",
        "val_df = pd.read_csv(\"data/val.csv\")\n",
        "test_df = pd.read_csv(\"data/test.csv\")"
      ],
      "execution_count": null,
      "outputs": []
    },
    {
      "cell_type": "code",
      "metadata": {
        "colab": {
          "base_uri": "https://localhost:8080/",
          "height": 206
        },
        "id": "ZRBaBFAhGKAP",
        "outputId": "176a87dc-1f8f-4e1c-e17b-27c5e4801202"
      },
      "source": [
        "train_df.head()"
      ],
      "execution_count": null,
      "outputs": [
        {
          "output_type": "execute_result",
          "data": {
            "text/html": [
              "\n",
              "  <div id=\"df-970c9c93-ba52-4b2e-869c-6fd449bfd623\">\n",
              "    <div class=\"colab-df-container\">\n",
              "      <div>\n",
              "<style scoped>\n",
              "    .dataframe tbody tr th:only-of-type {\n",
              "        vertical-align: middle;\n",
              "    }\n",
              "\n",
              "    .dataframe tbody tr th {\n",
              "        vertical-align: top;\n",
              "    }\n",
              "\n",
              "    .dataframe thead th {\n",
              "        text-align: right;\n",
              "    }\n",
              "</style>\n",
              "<table border=\"1\" class=\"dataframe\">\n",
              "  <thead>\n",
              "    <tr style=\"text-align: right;\">\n",
              "      <th></th>\n",
              "      <th>ImageID</th>\n",
              "      <th>age</th>\n",
              "    </tr>\n",
              "  </thead>\n",
              "  <tbody>\n",
              "    <tr>\n",
              "      <th>0</th>\n",
              "      <td>93vu1</td>\n",
              "      <td>30-40</td>\n",
              "    </tr>\n",
              "    <tr>\n",
              "      <th>1</th>\n",
              "      <td>yjifi</td>\n",
              "      <td>80-90</td>\n",
              "    </tr>\n",
              "    <tr>\n",
              "      <th>2</th>\n",
              "      <td>ldd2k</td>\n",
              "      <td>90-100</td>\n",
              "    </tr>\n",
              "    <tr>\n",
              "      <th>3</th>\n",
              "      <td>eiwe0</td>\n",
              "      <td>40-50</td>\n",
              "    </tr>\n",
              "    <tr>\n",
              "      <th>4</th>\n",
              "      <td>sc0bp</td>\n",
              "      <td>0-10</td>\n",
              "    </tr>\n",
              "  </tbody>\n",
              "</table>\n",
              "</div>\n",
              "      <button class=\"colab-df-convert\" onclick=\"convertToInteractive('df-970c9c93-ba52-4b2e-869c-6fd449bfd623')\"\n",
              "              title=\"Convert this dataframe to an interactive table.\"\n",
              "              style=\"display:none;\">\n",
              "        \n",
              "  <svg xmlns=\"http://www.w3.org/2000/svg\" height=\"24px\"viewBox=\"0 0 24 24\"\n",
              "       width=\"24px\">\n",
              "    <path d=\"M0 0h24v24H0V0z\" fill=\"none\"/>\n",
              "    <path d=\"M18.56 5.44l.94 2.06.94-2.06 2.06-.94-2.06-.94-.94-2.06-.94 2.06-2.06.94zm-11 1L8.5 8.5l.94-2.06 2.06-.94-2.06-.94L8.5 2.5l-.94 2.06-2.06.94zm10 10l.94 2.06.94-2.06 2.06-.94-2.06-.94-.94-2.06-.94 2.06-2.06.94z\"/><path d=\"M17.41 7.96l-1.37-1.37c-.4-.4-.92-.59-1.43-.59-.52 0-1.04.2-1.43.59L10.3 9.45l-7.72 7.72c-.78.78-.78 2.05 0 2.83L4 21.41c.39.39.9.59 1.41.59.51 0 1.02-.2 1.41-.59l7.78-7.78 2.81-2.81c.8-.78.8-2.07 0-2.86zM5.41 20L4 18.59l7.72-7.72 1.47 1.35L5.41 20z\"/>\n",
              "  </svg>\n",
              "      </button>\n",
              "      \n",
              "  <style>\n",
              "    .colab-df-container {\n",
              "      display:flex;\n",
              "      flex-wrap:wrap;\n",
              "      gap: 12px;\n",
              "    }\n",
              "\n",
              "    .colab-df-convert {\n",
              "      background-color: #E8F0FE;\n",
              "      border: none;\n",
              "      border-radius: 50%;\n",
              "      cursor: pointer;\n",
              "      display: none;\n",
              "      fill: #1967D2;\n",
              "      height: 32px;\n",
              "      padding: 0 0 0 0;\n",
              "      width: 32px;\n",
              "    }\n",
              "\n",
              "    .colab-df-convert:hover {\n",
              "      background-color: #E2EBFA;\n",
              "      box-shadow: 0px 1px 2px rgba(60, 64, 67, 0.3), 0px 1px 3px 1px rgba(60, 64, 67, 0.15);\n",
              "      fill: #174EA6;\n",
              "    }\n",
              "\n",
              "    [theme=dark] .colab-df-convert {\n",
              "      background-color: #3B4455;\n",
              "      fill: #D2E3FC;\n",
              "    }\n",
              "\n",
              "    [theme=dark] .colab-df-convert:hover {\n",
              "      background-color: #434B5C;\n",
              "      box-shadow: 0px 1px 3px 1px rgba(0, 0, 0, 0.15);\n",
              "      filter: drop-shadow(0px 1px 2px rgba(0, 0, 0, 0.3));\n",
              "      fill: #FFFFFF;\n",
              "    }\n",
              "  </style>\n",
              "\n",
              "      <script>\n",
              "        const buttonEl =\n",
              "          document.querySelector('#df-970c9c93-ba52-4b2e-869c-6fd449bfd623 button.colab-df-convert');\n",
              "        buttonEl.style.display =\n",
              "          google.colab.kernel.accessAllowed ? 'block' : 'none';\n",
              "\n",
              "        async function convertToInteractive(key) {\n",
              "          const element = document.querySelector('#df-970c9c93-ba52-4b2e-869c-6fd449bfd623');\n",
              "          const dataTable =\n",
              "            await google.colab.kernel.invokeFunction('convertToInteractive',\n",
              "                                                     [key], {});\n",
              "          if (!dataTable) return;\n",
              "\n",
              "          const docLinkHtml = 'Like what you see? Visit the ' +\n",
              "            '<a target=\"_blank\" href=https://colab.research.google.com/notebooks/data_table.ipynb>data table notebook</a>'\n",
              "            + ' to learn more about interactive tables.';\n",
              "          element.innerHTML = '';\n",
              "          dataTable['output_type'] = 'display_data';\n",
              "          await google.colab.output.renderOutput(dataTable, element);\n",
              "          const docLink = document.createElement('div');\n",
              "          docLink.innerHTML = docLinkHtml;\n",
              "          element.appendChild(docLink);\n",
              "        }\n",
              "      </script>\n",
              "    </div>\n",
              "  </div>\n",
              "  "
            ],
            "text/plain": [
              "  ImageID     age\n",
              "0   93vu1   30-40\n",
              "1   yjifi   80-90\n",
              "2   ldd2k  90-100\n",
              "3   eiwe0   40-50\n",
              "4   sc0bp    0-10"
            ]
          },
          "metadata": {},
          "execution_count": 8
        }
      ]
    },
    {
      "cell_type": "code",
      "metadata": {
        "id": "oQJG0KflGC-N",
        "colab": {
          "base_uri": "https://localhost:8080/",
          "height": 296
        },
        "outputId": "281e56e4-c94c-4e36-f098-45a16593793c"
      },
      "source": [
        "train_df = train_df.sort_values(by = ['age'])\n",
        "sns.histplot(train_df['age'])"
      ],
      "execution_count": null,
      "outputs": [
        {
          "output_type": "execute_result",
          "data": {
            "text/plain": [
              "<matplotlib.axes._subplots.AxesSubplot at 0x7faf40f1e090>"
            ]
          },
          "metadata": {},
          "execution_count": 8
        },
        {
          "output_type": "display_data",
          "data": {
            "image/png": "[encoded data removed]",
            "text/plain": [
              "<Figure size 432x288 with 1 Axes>"
            ]
          },
          "metadata": {
            "needs_background": "light"
          }
        }
      ]
    },
    {
      "cell_type": "markdown",
      "source": [
        "As we can see that there are 10 different time range in this dataframe."
      ],
      "metadata": {
        "id": "8fgbXFlIR1N8"
      }
    },
    {
      "cell_type": "code",
      "source": [
        "train_df.shape, val_df.shape, test_df.shape"
      ],
      "metadata": {
        "colab": {
          "base_uri": "https://localhost:8080/"
        },
        "id": "X4091n24RFbe",
        "outputId": "54214c75-62d4-4992-cb6f-f596c56f53fa"
      },
      "execution_count": null,
      "outputs": [
        {
          "output_type": "execute_result",
          "data": {
            "text/plain": [
              "((4000, 2), (2000, 2), (3000, 2))"
            ]
          },
          "metadata": {},
          "execution_count": 9
        }
      ]
    },
    {
      "cell_type": "markdown",
      "source": [
        "# 2. Preparation"
      ],
      "metadata": {
        "id": "s7b1o-8tSS3a"
      }
    },
    {
      "cell_type": "markdown",
      "source": [
        "## 2.0 Global Constant"
      ],
      "metadata": {
        "id": "BxrfkYVKW0yE"
      }
    },
    {
      "cell_type": "code",
      "source": [
        "train_path = '/content/data/train'\n",
        "test_path = '/content/data/test'\n",
        "val_path = '/content/data/val'\n",
        "\n",
        "train_test_prop = 0.3\n",
        "wid = height = 200"
      ],
      "metadata": {
        "id": "u2iL29goW0Tu"
      },
      "execution_count": null,
      "outputs": []
    },
    {
      "cell_type": "code",
      "source": [
        "# prepare the map to tranlate the label with a index\n",
        "age_map = {}\n",
        "for i in list(train_df['age'].unique()):\n",
        "  age_map[i] = int(i[0])\n",
        "age_map"
      ],
      "metadata": {
        "colab": {
          "base_uri": "https://localhost:8080/"
        },
        "id": "ZkzmyG5yavtY",
        "outputId": "223086a2-2575-4556-ae5e-3f554df4d996"
      },
      "execution_count": null,
      "outputs": [
        {
          "output_type": "execute_result",
          "data": {
            "text/plain": [
              "{'0-10': 0,\n",
              " '10-20': 1,\n",
              " '20-30': 2,\n",
              " '30-40': 3,\n",
              " '40-50': 4,\n",
              " '50-60': 5,\n",
              " '60-70': 6,\n",
              " '70-80': 7,\n",
              " '80-90': 8,\n",
              " '90-100': 9}"
            ]
          },
          "metadata": {},
          "execution_count": 11
        }
      ]
    },
    {
      "cell_type": "code",
      "source": [
        "len(age_map)"
      ],
      "metadata": {
        "colab": {
          "base_uri": "https://localhost:8080/"
        },
        "id": "DRrKoy1paT_U",
        "outputId": "f37517c8-0b58-4f92-d35a-3dfaae5c7416"
      },
      "execution_count": null,
      "outputs": [
        {
          "output_type": "execute_result",
          "data": {
            "text/plain": [
              "10"
            ]
          },
          "metadata": {},
          "execution_count": 10
        }
      ]
    },
    {
      "cell_type": "markdown",
      "source": [
        "## 2.1 Load the pictures"
      ],
      "metadata": {
        "id": "WMJFnZ30SVWc"
      }
    },
    {
      "cell_type": "code",
      "source": [
        "def get_data_generator(df, path, indices, for_training, batch_size):\n",
        "\n",
        "  images, ages = [], []\n",
        "  while True:\n",
        "    for i in indices:\n",
        "      r = df.iloc[i]\n",
        "      file, age = r['ImageID'], r['age']\n",
        "      im = Image.open(os.path.join(path, file + '.jpg'))\n",
        "      im = im.resize((wid, height))\n",
        "      im = np.array(im)/ 255.0\n",
        "\n",
        "      images.append(im)\n",
        "      # change the sparse category to a list \n",
        "      ages.append(keras.utils.to_categorical(age_map[age], len(age_map)))\n",
        "\n",
        "      if len(images) >= batch_size:\n",
        "        yield np.array(images), (np.array(ages))\n",
        "        images, ages = [], []\n",
        "    if not for_training:\n",
        "      break"
      ],
      "metadata": {
        "id": "GH5b_hblVoWX"
      },
      "execution_count": null,
      "outputs": []
    },
    {
      "cell_type": "code",
      "source": [
        "# define the index for train and test spilt for the train \n",
        "np.random.seed(1234)\n",
        "total_idx = np.arange(train_df.shape[0])\n",
        "np.random.shuffle(total_idx)\n",
        "train_size = int(train_test_prop * train_df.shape[0])\n",
        "\n",
        "# seperate train and test\n",
        "train_train_idx = total_idx[:train_size]\n",
        "train_test_idx = total_idx[train_size:]"
      ],
      "metadata": {
        "id": "4KN6jcLJbAyT"
      },
      "execution_count": null,
      "outputs": []
    },
    {
      "cell_type": "code",
      "source": [
        "# prepare the dataset for training\n",
        "batch_size = 32\n",
        "train_set = get_data_generator(train_df\n",
        "                               , train_path\n",
        "                               , train_train_idx\n",
        "                               , for_training = True\n",
        "                               , batch_size=batch_size)\n",
        "val_set = get_data_generator(train_df\n",
        "                             , train_path\n",
        "                             , train_test_idx\n",
        "                             , for_training = True\n",
        "                             , batch_size=batch_size)"
      ],
      "metadata": {
        "id": "1hPbggWIcWSI"
      },
      "execution_count": null,
      "outputs": []
    },
    {
      "cell_type": "code",
      "source": [
        "# prepare the dataset for validation using for model comparison\n",
        "val_batch = 128 \n",
        "val_index = list(range(val_df.shape[0]))\n",
        "\n",
        "val_comp_set = get_data_generator(val_df\n",
        "                                  , val_path\n",
        "                                  , val_index\n",
        "                                  , for_training = False\n",
        "                                  , batch_size = val_batch)"
      ],
      "metadata": {
        "id": "lpyAKMKNdjbd"
      },
      "execution_count": null,
      "outputs": []
    },
    {
      "cell_type": "code",
      "source": [
        "a, b = next(train_set)\n",
        "b.shape"
      ],
      "metadata": {
        "colab": {
          "base_uri": "https://localhost:8080/"
        },
        "id": "MOLoRJBMiXzG",
        "outputId": "0430ef5b-3a64-4999-ca81-14a01326a96c"
      },
      "execution_count": null,
      "outputs": [
        {
          "output_type": "execute_result",
          "data": {
            "text/plain": [
              "(32, 10)"
            ]
          },
          "metadata": {},
          "execution_count": 58
        }
      ]
    },
    {
      "cell_type": "code",
      "source": [
        "keras.utils.to_categorical(age_map['0-10'], len(age_map))"
      ],
      "metadata": {
        "colab": {
          "base_uri": "https://localhost:8080/"
        },
        "id": "r9GmPrK1ihvR",
        "outputId": "59d0524d-a8fe-461a-b255-986d036b3214"
      },
      "execution_count": null,
      "outputs": [
        {
          "output_type": "execute_result",
          "data": {
            "text/plain": [
              "array([1., 0., 0., 0., 0., 0., 0., 0., 0., 0.], dtype=float32)"
            ]
          },
          "metadata": {},
          "execution_count": 54
        }
      ]
    },
    {
      "cell_type": "markdown",
      "source": [
        "# Train\n",
        "\n",
        "## 3.1 CNN from Draft"
      ],
      "metadata": {
        "id": "RDuD4ATZgsAK"
      }
    },
    {
      "cell_type": "code",
      "source": [
        "!nvidia-smi"
      ],
      "metadata": {
        "colab": {
          "base_uri": "https://localhost:8080/"
        },
        "id": "7YWUnjz2fqTs",
        "outputId": "4c4057ec-5473-4b2e-9385-e1a447167ecc"
      },
      "execution_count": null,
      "outputs": [
        {
          "output_type": "stream",
          "name": "stdout",
          "text": [
            "Thu Feb 17 02:54:05 2022       \n",
            "+-----------------------------------------------------------------------------+\n",
            "| NVIDIA-SMI 460.32.03    Driver Version: 460.32.03    CUDA Version: 11.2     |\n",
            "|-------------------------------+----------------------+----------------------+\n",
            "| GPU  Name        Persistence-M| Bus-Id        Disp.A | Volatile Uncorr. ECC |\n",
            "| Fan  Temp  Perf  Pwr:Usage/Cap|         Memory-Usage | GPU-Util  Compute M. |\n",
            "|                               |                      |               MIG M. |\n",
            "|===============================+======================+======================|\n",
            "|   0  Tesla P100-PCIE...  Off  | 00000000:00:04.0 Off |                    0 |\n",
            "| N/A   46C    P0    37W / 250W |   8781MiB / 16280MiB |      0%      Default |\n",
            "|                               |                      |                  N/A |\n",
            "+-------------------------------+----------------------+----------------------+\n",
            "                                                                               \n",
            "+-----------------------------------------------------------------------------+\n",
            "| Processes:                                                                  |\n",
            "|  GPU   GI   CI        PID   Type   Process name                  GPU Memory |\n",
            "|        ID   ID                                                   Usage      |\n",
            "|=============================================================================|\n",
            "+-----------------------------------------------------------------------------+\n"
          ]
        }
      ]
    },
    {
      "cell_type": "code",
      "source": [
        "model = keras.models.Sequential([\n",
        "    keras.layers.Conv2D(filters = 64, kernel_size=7\n",
        "                        , activation = 'relu'\n",
        "                        , padding = 'same'\n",
        "                        , kernel_initializer = 'he_normal'\n",
        "                        , input_shape = (wid, height, 3)),\n",
        "    keras.layers.Conv2D(filters = 128, kernel_size=3\n",
        "                        , activation = 'relu'\n",
        "                        , padding = 'same'\n",
        "                        , kernel_initializer = 'he_normal'),\n",
        "    keras.layers.MaxPooling2D(2),\n",
        "    keras.layers.BatchNormalization(),\n",
        "    keras.layers.Conv2D(filters = 192, kernel_size=3\n",
        "                        , activation = 'relu'\n",
        "                        , padding = 'same'\n",
        "                        , kernel_initializer = 'he_normal'),\n",
        "    keras.layers.MaxPooling2D(2),\n",
        "    keras.layers.BatchNormalization(),\n",
        "    keras.layers.Conv2D(filters = 256, kernel_size=3\n",
        "                        , activation = 'relu'\n",
        "                        , padding = 'same'\n",
        "                        , kernel_initializer = 'he_normal'),\n",
        "    keras.layers.MaxPooling2D(2),\n",
        "    keras.layers.BatchNormalization(),\n",
        "\n",
        "    keras.layers.Flatten(),\n",
        "    \n",
        "    keras.layers.Dense(128\n",
        "                       , kernel_initializer = 'he_normal'\n",
        "                       , activation = 'sigmoid'),\n",
        "    keras.layers.Dropout(0.2),\n",
        "    keras.layers.Dense(64\n",
        "                       , kernel_initializer = 'he_normal'\n",
        "                       , activation = 'softmax'), \n",
        "    keras.layers.Dropout(0.2),                      \n",
        "    keras.layers.Dense(10, activation = 'softmax')\n",
        "])"
      ],
      "metadata": {
        "id": "XHTeaEDCgvex"
      },
      "execution_count": null,
      "outputs": []
    },
    {
      "cell_type": "code",
      "source": [
        "# print the schema\n",
        "keras.utils.plot_model(model, show_shapes=True)"
      ],
      "metadata": {
        "colab": {
          "base_uri": "https://localhost:8080/",
          "height": 1000
        },
        "id": "jQjP622doR4A",
        "outputId": "a7bb39f5-52a9-490a-f3d5-7530a6504c1f"
      },
      "execution_count": null,
      "outputs": [
        {
          "output_type": "execute_result",
          "data": {
            "image/png": "[encoded data removed]",
            "text/plain": [
              "<IPython.core.display.Image object>"
            ]
          },
          "metadata": {},
          "execution_count": 92
        }
      ]
    },
    {
      "cell_type": "code",
      "source": [
        "def exponential_decay(lr0, s):\n",
        "    def exponential_decay_fn(epoch):\n",
        "        return lr0 * 0.1**(epoch / s)\n",
        "    return exponential_decay_fn\n",
        "\n",
        "exponential_decay_fn = exponential_decay(lr0=0.01, s=20)"
      ],
      "metadata": {
        "id": "BYjf1lH1pDUc"
      },
      "execution_count": null,
      "outputs": []
    },
    {
      "cell_type": "code",
      "source": [
        "metric_f1 = tfa.metrics.F1Score(num_classes=10, threshold=0.5)\n",
        "\n",
        "lr_scheduler = keras.callbacks.LearningRateScheduler(exponential_decay_fn)\n",
        "early_stopping_cb = keras.callbacks.EarlyStopping(patience=20)\n",
        "\n",
        "opt = keras.optimizers.SGD(learning_rate=0.01, momentum=0.9)\n",
        "\n",
        "model.compile(loss = 'categorical_crossentropy'\n",
        "              , optimizer = opt\n",
        "              , metrics = [metric_f1, 'accuracy'])"
      ],
      "metadata": {
        "id": "ALOCcyKLo6GD"
      },
      "execution_count": null,
      "outputs": []
    },
    {
      "cell_type": "code",
      "source": [
        "hist1 = model.fit(train_set, epochs=50\n",
        "                  , steps_per_epoch=len(train_train_idx)//batch_size\n",
        "                  , validation_data= val_set\n",
        "                  , callbacks=[early_stopping_cb]\n",
        "                  , validation_steps=len(train_test_idx)//batch_size)"
      ],
      "metadata": {
        "colab": {
          "base_uri": "https://localhost:8080/"
        },
        "id": "MLMdN2m3ojdJ",
        "outputId": "81d76d39-0d6e-4eeb-cc1f-46583cae0963"
      },
      "execution_count": null,
      "outputs": [
        {
          "output_type": "stream",
          "name": "stdout",
          "text": [
            "Epoch 1/50\n",
            "37/37 [==============================] - 33s 903ms/step - loss: 1.4840 - f1_score: 0.0720 - accuracy: 0.4198 - val_loss: 1.7173 - val_f1_score: 0.0860 - val_accuracy: 0.3628\n",
            "Epoch 2/50\n",
            "37/37 [==============================] - 33s 899ms/step - loss: 1.4166 - f1_score: 0.0711 - accuracy: 0.4265 - val_loss: 1.7013 - val_f1_score: 0.0851 - val_accuracy: 0.3667\n",
            "Epoch 3/50\n",
            "37/37 [==============================] - 32s 895ms/step - loss: 1.4132 - f1_score: 0.0697 - accuracy: 0.4324 - val_loss: 1.6483 - val_f1_score: 0.0822 - val_accuracy: 0.3710\n",
            "Epoch 4/50\n",
            "37/37 [==============================] - 32s 898ms/step - loss: 1.3620 - f1_score: 0.0715 - accuracy: 0.4409 - val_loss: 1.5915 - val_f1_score: 0.0856 - val_accuracy: 0.4023\n",
            "Epoch 5/50\n",
            "37/37 [==============================] - 32s 896ms/step - loss: 1.3640 - f1_score: 0.0701 - accuracy: 0.4350 - val_loss: 1.7250 - val_f1_score: 0.0805 - val_accuracy: 0.3552\n",
            "Epoch 6/50\n",
            "37/37 [==============================] - 33s 902ms/step - loss: 1.3367 - f1_score: 0.0680 - accuracy: 0.4316 - val_loss: 1.5671 - val_f1_score: 0.0851 - val_accuracy: 0.3980\n",
            "Epoch 7/50\n",
            "37/37 [==============================] - 33s 906ms/step - loss: 1.3322 - f1_score: 0.0697 - accuracy: 0.4367 - val_loss: 1.5776 - val_f1_score: 0.0802 - val_accuracy: 0.3940\n",
            "Epoch 8/50\n",
            "37/37 [==============================] - 33s 906ms/step - loss: 1.2855 - f1_score: 0.0728 - accuracy: 0.4434 - val_loss: 1.5446 - val_f1_score: 0.0857 - val_accuracy: 0.3933\n",
            "Epoch 9/50\n",
            "37/37 [==============================] - 32s 896ms/step - loss: 1.3096 - f1_score: 0.0690 - accuracy: 0.4367 - val_loss: 1.5594 - val_f1_score: 0.0863 - val_accuracy: 0.3980\n",
            "Epoch 10/50\n",
            "37/37 [==============================] - 33s 904ms/step - loss: 1.2846 - f1_score: 0.0715 - accuracy: 0.4240 - val_loss: 1.5282 - val_f1_score: 0.0863 - val_accuracy: 0.4052\n",
            "Epoch 11/50\n",
            "37/37 [==============================] - 33s 902ms/step - loss: 1.3053 - f1_score: 0.0734 - accuracy: 0.4324 - val_loss: 1.5086 - val_f1_score: 0.0867 - val_accuracy: 0.3998\n",
            "Epoch 12/50\n",
            "37/37 [==============================] - 32s 897ms/step - loss: 1.2677 - f1_score: 0.0716 - accuracy: 0.4350 - val_loss: 1.4532 - val_f1_score: 0.0839 - val_accuracy: 0.4199\n",
            "Epoch 13/50\n",
            "37/37 [==============================] - 51s 1s/step - loss: 1.2485 - f1_score: 0.0727 - accuracy: 0.4611 - val_loss: 1.4895 - val_f1_score: 0.0856 - val_accuracy: 0.4098\n",
            "Epoch 14/50\n",
            "37/37 [==============================] - 51s 1s/step - loss: 1.2911 - f1_score: 0.0706 - accuracy: 0.4231 - val_loss: 1.5567 - val_f1_score: 0.0795 - val_accuracy: 0.3937\n",
            "Epoch 15/50\n",
            "37/37 [==============================] - 33s 902ms/step - loss: 1.2716 - f1_score: 0.0735 - accuracy: 0.4493 - val_loss: 1.4502 - val_f1_score: 0.0843 - val_accuracy: 0.4199\n",
            "Epoch 16/50\n",
            "37/37 [==============================] - 32s 895ms/step - loss: 1.2774 - f1_score: 0.0676 - accuracy: 0.4443 - val_loss: 1.4502 - val_f1_score: 0.0860 - val_accuracy: 0.4098\n",
            "Epoch 17/50\n",
            "37/37 [==============================] - 33s 902ms/step - loss: 1.2572 - f1_score: 0.0701 - accuracy: 0.4468 - val_loss: 1.4672 - val_f1_score: 0.0848 - val_accuracy: 0.4019\n",
            "Epoch 18/50\n",
            "37/37 [==============================] - 33s 900ms/step - loss: 1.2325 - f1_score: 0.0698 - accuracy: 0.4586 - val_loss: 1.4556 - val_f1_score: 0.0843 - val_accuracy: 0.4145\n",
            "Epoch 19/50\n",
            "37/37 [==============================] - 33s 899ms/step - loss: 1.2603 - f1_score: 0.0701 - accuracy: 0.4451 - val_loss: 1.4406 - val_f1_score: 0.0829 - val_accuracy: 0.4134\n",
            "Epoch 20/50\n",
            "37/37 [==============================] - 32s 897ms/step - loss: 1.2089 - f1_score: 0.0695 - accuracy: 0.4603 - val_loss: 1.4534 - val_f1_score: 0.0828 - val_accuracy: 0.4080\n",
            "Epoch 21/50\n",
            "37/37 [==============================] - 32s 897ms/step - loss: 1.2353 - f1_score: 0.0710 - accuracy: 0.4578 - val_loss: 1.5311 - val_f1_score: 0.0844 - val_accuracy: 0.3926\n",
            "Epoch 22/50\n",
            "37/37 [==============================] - 32s 898ms/step - loss: 1.1992 - f1_score: 0.0713 - accuracy: 0.4662 - val_loss: 1.4404 - val_f1_score: 0.0854 - val_accuracy: 0.4106\n",
            "Epoch 23/50\n",
            "37/37 [==============================] - 33s 910ms/step - loss: 1.2252 - f1_score: 0.0673 - accuracy: 0.4578 - val_loss: 1.4454 - val_f1_score: 0.0855 - val_accuracy: 0.4124\n",
            "Epoch 24/50\n",
            "37/37 [==============================] - 32s 894ms/step - loss: 1.2052 - f1_score: 0.0726 - accuracy: 0.4569 - val_loss: 1.4543 - val_f1_score: 0.0865 - val_accuracy: 0.4059\n",
            "Epoch 25/50\n",
            "37/37 [==============================] - 32s 897ms/step - loss: 1.2075 - f1_score: 0.0717 - accuracy: 0.4569 - val_loss: 1.4230 - val_f1_score: 0.0822 - val_accuracy: 0.4213\n",
            "Epoch 26/50\n",
            "37/37 [==============================] - 32s 892ms/step - loss: 1.2039 - f1_score: 0.0697 - accuracy: 0.4696 - val_loss: 1.4014 - val_f1_score: 0.0854 - val_accuracy: 0.4253\n",
            "Epoch 27/50\n",
            "37/37 [==============================] - 32s 896ms/step - loss: 1.1954 - f1_score: 0.0689 - accuracy: 0.4713 - val_loss: 1.4315 - val_f1_score: 0.0829 - val_accuracy: 0.4098\n",
            "Epoch 28/50\n",
            "37/37 [==============================] - 32s 896ms/step - loss: 1.2168 - f1_score: 0.0701 - accuracy: 0.4569 - val_loss: 1.4148 - val_f1_score: 0.0851 - val_accuracy: 0.4066\n",
            "Epoch 29/50\n",
            "37/37 [==============================] - 32s 892ms/step - loss: 1.1983 - f1_score: 0.0687 - accuracy: 0.4586 - val_loss: 1.4318 - val_f1_score: 0.0852 - val_accuracy: 0.4174\n",
            "Epoch 30/50\n",
            "37/37 [==============================] - 33s 904ms/step - loss: 1.1964 - f1_score: 0.0709 - accuracy: 0.4637 - val_loss: 1.3801 - val_f1_score: 0.0852 - val_accuracy: 0.4177\n",
            "Epoch 31/50\n",
            "37/37 [==============================] - 32s 898ms/step - loss: 1.1952 - f1_score: 0.0714 - accuracy: 0.4611 - val_loss: 1.4392 - val_f1_score: 0.0815 - val_accuracy: 0.4192\n",
            "Epoch 32/50\n",
            "37/37 [==============================] - 33s 904ms/step - loss: 1.1846 - f1_score: 0.0715 - accuracy: 0.4603 - val_loss: 1.4282 - val_f1_score: 0.0855 - val_accuracy: 0.4181\n",
            "Epoch 33/50\n",
            "37/37 [==============================] - 33s 900ms/step - loss: 1.1973 - f1_score: 0.0718 - accuracy: 0.4637 - val_loss: 1.4009 - val_f1_score: 0.0846 - val_accuracy: 0.4188\n",
            "Epoch 34/50\n",
            "37/37 [==============================] - 32s 898ms/step - loss: 1.2045 - f1_score: 0.0695 - accuracy: 0.4679 - val_loss: 1.4127 - val_f1_score: 0.0832 - val_accuracy: 0.4199\n",
            "Epoch 35/50\n",
            "37/37 [==============================] - 32s 897ms/step - loss: 1.1860 - f1_score: 0.0711 - accuracy: 0.4730 - val_loss: 1.4292 - val_f1_score: 0.0839 - val_accuracy: 0.4170\n",
            "Epoch 36/50\n",
            "37/37 [==============================] - 33s 900ms/step - loss: 1.1911 - f1_score: 0.0727 - accuracy: 0.4611 - val_loss: 1.3858 - val_f1_score: 0.0842 - val_accuracy: 0.4192\n",
            "Epoch 37/50\n",
            "37/37 [==============================] - 33s 901ms/step - loss: 1.1668 - f1_score: 0.0695 - accuracy: 0.4637 - val_loss: 1.3903 - val_f1_score: 0.0832 - val_accuracy: 0.4170\n",
            "Epoch 38/50\n",
            "37/37 [==============================] - 32s 897ms/step - loss: 1.1790 - f1_score: 0.0706 - accuracy: 0.4586 - val_loss: 1.4006 - val_f1_score: 0.0839 - val_accuracy: 0.4188\n",
            "Epoch 39/50\n",
            "37/37 [==============================] - 32s 897ms/step - loss: 1.1690 - f1_score: 0.0719 - accuracy: 0.4620 - val_loss: 1.4002 - val_f1_score: 0.0853 - val_accuracy: 0.4188\n",
            "Epoch 40/50\n",
            "37/37 [==============================] - 33s 903ms/step - loss: 1.1943 - f1_score: 0.0693 - accuracy: 0.4654 - val_loss: 1.3958 - val_f1_score: 0.0844 - val_accuracy: 0.4235\n",
            "Epoch 41/50\n",
            "37/37 [==============================] - 32s 898ms/step - loss: 1.1742 - f1_score: 0.0717 - accuracy: 0.4671 - val_loss: 1.3952 - val_f1_score: 0.0834 - val_accuracy: 0.4228\n",
            "Epoch 42/50\n",
            "37/37 [==============================] - 32s 897ms/step - loss: 1.1730 - f1_score: 0.0725 - accuracy: 0.4620 - val_loss: 1.3986 - val_f1_score: 0.0832 - val_accuracy: 0.4188\n",
            "Epoch 43/50\n",
            "37/37 [==============================] - 32s 898ms/step - loss: 1.1654 - f1_score: 0.0714 - accuracy: 0.4688 - val_loss: 1.4392 - val_f1_score: 0.0855 - val_accuracy: 0.4102\n",
            "Epoch 44/50\n",
            "37/37 [==============================] - 33s 913ms/step - loss: 1.1755 - f1_score: 0.0724 - accuracy: 0.4721 - val_loss: 1.4164 - val_f1_score: 0.0850 - val_accuracy: 0.4192\n",
            "Epoch 45/50\n",
            "37/37 [==============================] - 32s 896ms/step - loss: 1.1715 - f1_score: 0.0732 - accuracy: 0.4671 - val_loss: 1.4401 - val_f1_score: 0.0797 - val_accuracy: 0.4142\n",
            "Epoch 46/50\n",
            "37/37 [==============================] - 32s 896ms/step - loss: 1.1716 - f1_score: 0.0729 - accuracy: 0.4696 - val_loss: 1.4295 - val_f1_score: 0.0828 - val_accuracy: 0.4181\n",
            "Epoch 47/50\n",
            "37/37 [==============================] - 32s 888ms/step - loss: 1.1858 - f1_score: 0.0685 - accuracy: 0.4552 - val_loss: 1.3893 - val_f1_score: 0.0853 - val_accuracy: 0.4282\n",
            "Epoch 48/50\n",
            "37/37 [==============================] - 32s 894ms/step - loss: 1.1902 - f1_score: 0.0700 - accuracy: 0.4611 - val_loss: 1.3904 - val_f1_score: 0.0844 - val_accuracy: 0.4231\n",
            "Epoch 49/50\n",
            "37/37 [==============================] - 51s 1s/step - loss: 1.1485 - f1_score: 0.0745 - accuracy: 0.4831 - val_loss: 1.3897 - val_f1_score: 0.0836 - val_accuracy: 0.4235\n",
            "Epoch 50/50\n",
            "37/37 [==============================] - 32s 891ms/step - loss: 1.1460 - f1_score: 0.0741 - accuracy: 0.4730 - val_loss: 1.4044 - val_f1_score: 0.0838 - val_accuracy: 0.4278\n"
          ]
        }
      ]
    },
    {
      "cell_type": "markdown",
      "source": [
        "## 3.2 CNN from VGG16\n",
        "\n",
        "We train the model from the output of vgg"
      ],
      "metadata": {
        "id": "IxafAdSce1fS"
      }
    },
    {
      "cell_type": "code",
      "source": [
        "# load the VGG16 network, ensuring the head FC layers are left off\n",
        "vgg = keras.applications.VGG16(weights=\"imagenet\", \n",
        "                               include_top=False,\n",
        "                               input_tensor=keras.layers.Input(shape=(wid, height, 3)))\n",
        "\n",
        "# freeze all VGG layers so they will *not* be updated during the\n",
        "# training process\n",
        "vgg.trainable = False\n",
        "\n",
        "# flatten the max-pooling output of VGG\n",
        "flatten = vgg.output\n",
        "flatten = keras.layers.Flatten()(flatten)"
      ],
      "metadata": {
        "id": "ikpwg4SBfFqE"
      },
      "execution_count": null,
      "outputs": []
    },
    {
      "cell_type": "code",
      "source": [
        "# apply layers on the vgg results\n",
        "age_addon = keras.layers.Dense(512, activation = 'relu', \n",
        "                               kernel_initializer = 'he_normal')(flatten)\n",
        "age_addon = keras.layers.Dropout(0.5)(age_addon)\n",
        "age_addon = keras.layers.Dense(64, activation = 'relu', \n",
        "                               kernel_initializer = 'he_normal')(age_addon)\n",
        "age_addon = keras.layers.Dropout(0.5)(age_addon)\n",
        "age_addon = keras.layers.Dense(10, activation = 'softmax', \n",
        "                               kernel_initializer = 'he_normal', \n",
        "                               name = 'age_final_layer')(age_addon)"
      ],
      "metadata": {
        "id": "S9bUzJtlfWvi"
      },
      "execution_count": null,
      "outputs": []
    },
    {
      "cell_type": "code",
      "source": [
        "model2 = keras.models.Model(inputs = vgg.input,\n",
        "                            outputs = (age_addon))\n",
        "keras.utils.plot_model(model2, show_shapes = True)"
      ],
      "metadata": {
        "colab": {
          "base_uri": "https://localhost:8080/",
          "height": 1000
        },
        "id": "r6or0Z8cf7IX",
        "outputId": "b6677a69-6380-4eb1-b28c-52d8476848aa"
      },
      "execution_count": null,
      "outputs": [
        {
          "output_type": "execute_result",
          "data": {
            "image/png": "[encoded data removed]",
            "text/plain": [
              "<IPython.core.display.Image object>"
            ]
          },
          "metadata": {},
          "execution_count": 28
        }
      ]
    },
    {
      "cell_type": "code",
      "source": [
        "# define optimizers and other configurations\n",
        "loss = 'categorical_crossentropy'\n",
        "early_stopping_cb = keras.callbacks.EarlyStopping(patience=20)\n",
        "opt = keras.optimizers.SGD(learning_rate=0.001, momentum=0.9)\n",
        "metric_f1 = tfa.metrics.F1Score(num_classes=10, threshold=0.5)\n",
        "\n",
        "# apply on the model\n",
        "model2.compile(loss = loss\n",
        "              , optimizer = opt\n",
        "              , metrics = [metric_f1, 'accuracy'])"
      ],
      "metadata": {
        "id": "KeOFouiLgK2H"
      },
      "execution_count": null,
      "outputs": []
    },
    {
      "cell_type": "code",
      "source": [
        "hist1 = model2.fit(train_set, epochs=20\n",
        "                  , steps_per_epoch=len(train_train_idx)//batch_size\n",
        "                  , validation_data= val_set\n",
        "                  , callbacks=[early_stopping_cb]\n",
        "                  , validation_steps=len(train_test_idx)//batch_size)"
      ],
      "metadata": {
        "colab": {
          "base_uri": "https://localhost:8080/"
        },
        "id": "oz3es4xQgub-",
        "outputId": "0f25d089-6663-42db-d300-d5b4e736efcf"
      },
      "execution_count": null,
      "outputs": [
        {
          "output_type": "stream",
          "name": "stdout",
          "text": [
            "Epoch 1/20\n",
            "37/37 [==============================] - 34s 923ms/step - loss: 2.5220 - f1_score: 0.0063 - accuracy: 0.1157 - val_loss: 2.2758 - val_f1_score: 0.0000e+00 - val_accuracy: 0.1821\n",
            "Epoch 2/20\n",
            "37/37 [==============================] - 33s 910ms/step - loss: 2.3710 - f1_score: 8.9686e-04 - accuracy: 0.1191 - val_loss: 2.2791 - val_f1_score: 0.0000e+00 - val_accuracy: 0.1828\n",
            "Epoch 3/20\n",
            "37/37 [==============================] - 33s 919ms/step - loss: 2.3278 - f1_score: 0.0000e+00 - accuracy: 0.1571 - val_loss: 2.2745 - val_f1_score: 0.0000e+00 - val_accuracy: 0.1818\n",
            "Epoch 4/20\n",
            "37/37 [==============================] - 33s 918ms/step - loss: 2.2925 - f1_score: 0.0000e+00 - accuracy: 0.1461 - val_loss: 2.2597 - val_f1_score: 0.0000e+00 - val_accuracy: 0.1814\n",
            "Epoch 5/20\n",
            "37/37 [==============================] - 33s 914ms/step - loss: 2.2783 - f1_score: 0.0018 - accuracy: 0.1765 - val_loss: 2.2462 - val_f1_score: 0.0000e+00 - val_accuracy: 0.1825\n",
            "Epoch 6/20\n",
            "37/37 [==============================] - 33s 909ms/step - loss: 2.2752 - f1_score: 0.0000e+00 - accuracy: 0.1723 - val_loss: 2.2323 - val_f1_score: 0.0000e+00 - val_accuracy: 0.1810\n",
            "Epoch 7/20\n",
            "37/37 [==============================] - 33s 917ms/step - loss: 2.2554 - f1_score: 0.0018 - accuracy: 0.1698 - val_loss: 2.2271 - val_f1_score: 0.0000e+00 - val_accuracy: 0.1879\n",
            "Epoch 8/20\n",
            "37/37 [==============================] - 33s 915ms/step - loss: 2.2568 - f1_score: 8.8496e-04 - accuracy: 0.1824 - val_loss: 2.2448 - val_f1_score: 0.0000e+00 - val_accuracy: 0.1825\n",
            "Epoch 9/20\n",
            "37/37 [==============================] - 33s 911ms/step - loss: 2.2376 - f1_score: 0.0000e+00 - accuracy: 0.1824 - val_loss: 2.2323 - val_f1_score: 0.0000e+00 - val_accuracy: 0.1853\n",
            "Epoch 10/20\n",
            "37/37 [==============================] - 33s 916ms/step - loss: 2.2229 - f1_score: 0.0051 - accuracy: 0.1917 - val_loss: 2.2061 - val_f1_score: 0.0000e+00 - val_accuracy: 0.2446\n",
            "Epoch 11/20\n",
            "37/37 [==============================] - 33s 921ms/step - loss: 2.2087 - f1_score: 0.0026 - accuracy: 0.2095 - val_loss: 2.1919 - val_f1_score: 0.0000e+00 - val_accuracy: 0.2403\n",
            "Epoch 12/20\n",
            "37/37 [==============================] - 33s 921ms/step - loss: 2.1697 - f1_score: 0.0098 - accuracy: 0.2297 - val_loss: 2.1263 - val_f1_score: 0.0000e+00 - val_accuracy: 0.2550\n",
            "Epoch 13/20\n",
            "37/37 [==============================] - 33s 921ms/step - loss: 2.1628 - f1_score: 0.0163 - accuracy: 0.2264 - val_loss: 2.1331 - val_f1_score: 0.0000e+00 - val_accuracy: 0.2636\n",
            "Epoch 14/20\n",
            "37/37 [==============================] - 33s 918ms/step - loss: 2.1278 - f1_score: 0.0165 - accuracy: 0.2399 - val_loss: 2.0863 - val_f1_score: 0.0000e+00 - val_accuracy: 0.2694\n",
            "Epoch 15/20\n",
            "37/37 [==============================] - 33s 925ms/step - loss: 2.0893 - f1_score: 0.0250 - accuracy: 0.2449 - val_loss: 2.0626 - val_f1_score: 0.0000e+00 - val_accuracy: 0.2723\n",
            "Epoch 16/20\n",
            "37/37 [==============================] - 33s 918ms/step - loss: 2.0660 - f1_score: 0.0407 - accuracy: 0.2517 - val_loss: 2.0352 - val_f1_score: 0.0000e+00 - val_accuracy: 0.2755\n",
            "Epoch 17/20\n",
            "37/37 [==============================] - 33s 922ms/step - loss: 2.0566 - f1_score: 0.0368 - accuracy: 0.2483 - val_loss: 2.0204 - val_f1_score: 0.0000e+00 - val_accuracy: 0.2759\n",
            "Epoch 18/20\n",
            "37/37 [==============================] - 33s 925ms/step - loss: 2.0219 - f1_score: 0.0335 - accuracy: 0.2559 - val_loss: 1.9501 - val_f1_score: 0.0031 - val_accuracy: 0.2759\n",
            "Epoch 19/20\n",
            "37/37 [==============================] - 33s 915ms/step - loss: 2.0122 - f1_score: 0.0359 - accuracy: 0.2492 - val_loss: 1.9473 - val_f1_score: 0.0000e+00 - val_accuracy: 0.2823\n",
            "Epoch 20/20\n",
            "37/37 [==============================] - 33s 914ms/step - loss: 2.0143 - f1_score: 0.0297 - accuracy: 0.2483 - val_loss: 1.9333 - val_f1_score: 0.0000e+00 - val_accuracy: 0.2787\n"
          ]
        }
      ]
    },
    {
      "cell_type": "markdown",
      "source": [
        "## Generating Prediction File\n",
        "\n",
        "In this starter kit we will directly be submitting the sample prediction file. In case you would like to see a submission via baseline model, check it out here. "
      ],
      "metadata": {
        "id": "pVCAU-zoH2mV"
      }
    },
    {
      "cell_type": "code",
      "source": [
        "age_key = list(age_map.keys())\n",
        "age_key.sort()"
      ],
      "metadata": {
        "id": "8bByTZXf6srr"
      },
      "execution_count": null,
      "outputs": []
    },
    {
      "cell_type": "code",
      "source": [
        "def get_test_result(df_original, path, key_list, model):\n",
        "\n",
        "  df = df_original.copy()\n",
        "\n",
        "  label = []\n",
        "  for idx, r in df.iterrows():\n",
        "    \n",
        "    file = r['ImageID']\n",
        "    im = Image.open(os.path.join(path, file + '.jpg'))\n",
        "    im = im.resize((wid, height))\n",
        "    im = np.array(im)/ 255.0\n",
        "    im = im[np.newaxis, ...]\n",
        "\n",
        "    result = model.predict(im)\n",
        "    label.append(key_list[result.argmax()])\n",
        "  \n",
        "  df['age'] = label\n",
        "  return df"
      ],
      "metadata": {
        "id": "1eexNalmqdDV"
      },
      "execution_count": null,
      "outputs": []
    },
    {
      "cell_type": "code",
      "source": [
        "test_submit = get_test_result(test_df, test_path, age_key, model)"
      ],
      "metadata": {
        "id": "wSDOsJdN8QRn"
      },
      "execution_count": null,
      "outputs": []
    },
    {
      "cell_type": "code",
      "source": [
        "im = Image.open('/content/data/test/000e3.jpg')\n",
        "im = im.resize((wid, height))\n",
        "im = np.array(im)/ 255.0\n",
        "im = im[np.newaxis, ...]"
      ],
      "metadata": {
        "id": "Ias0q28drOWy"
      },
      "execution_count": null,
      "outputs": []
    },
    {
      "cell_type": "code",
      "metadata": {
        "id": "gNZQmMmeaD3V"
      },
      "source": [
        "!rm -rf assets\n",
        "!mkdir assets\n",
        "test_submit.to_csv(os.path.join(\"assets\", \"submission.csv\"))"
      ],
      "execution_count": null,
      "outputs": []
    },
    {
      "cell_type": "markdown",
      "source": [
        "\n",
        "# Submitting our Predictions\n",
        "\n",
        "Note : Please save the notebook before submitting it (Ctrl + S)\n"
      ],
      "metadata": {
        "id": "zVH_sGk4AW86"
      }
    },
    {
      "cell_type": "code",
      "source": [
        "%aicrowd notebook submit -c age-prediction -a assets --no-verify"
      ],
      "metadata": {
        "colab": {
          "base_uri": "https://localhost:8080/",
          "height": 352,
          "referenced_widgets": [
            "c369b6795de54af3a8b2f860278b84a2",
            "05cb91525cf2495faacaa4278ca127ec"
          ]
        },
        "id": "aSq4P4o69tp_",
        "outputId": "2a45ca0d-544f-43e9-a3e0-99682c910766"
      },
      "execution_count": null,
      "outputs": [
        {
          "output_type": "stream",
          "name": "stdout",
          "text": [
            "Using notebook: AI_Blix13_02_Age_Prediction for submission...\n",
            "Scrubbing API keys from the notebook...\n",
            "Collecting notebook...\n"
          ]
        },
        {
          "output_type": "display_data",
          "data": {
            "application/vnd.jupyter.widget-view+json": {
              "model_id": "c369b6795de54af3a8b2f860278b84a2",
              "version_minor": 0,
              "version_major": 2
            },
            "text/plain": [
              "Output()"
            ]
          },
          "metadata": {}
        },
        {
          "output_type": "display_data",
          "data": {
            "text/html": [
              "<pre style=\"white-space:pre;overflow-x:auto;line-height:normal;font-family:Menlo,'DejaVu Sans Mono',consolas,'Courier New',monospace\"></pre>\n"
            ],
            "text/plain": [
              ""
            ]
          },
          "metadata": {}
        },
        {
          "output_type": "display_data",
          "data": {
            "text/html": [
              "<pre style=\"white-space:pre;overflow-x:auto;line-height:normal;font-family:Menlo,'DejaVu Sans Mono',consolas,'Courier New',monospace\">\n",
              "</pre>\n"
            ],
            "text/plain": [
              "\n"
            ]
          },
          "metadata": {}
        },
        {
          "output_type": "display_data",
          "data": {
            "text/html": [
              "<pre style=\"white-space:pre;overflow-x:auto;line-height:normal;font-family:Menlo,'DejaVu Sans Mono',consolas,'Courier New',monospace\">                                                  ╭─────────────────────────╮                                                  \n",
              "                                                  │ <span style=\"font-weight: bold\">Successfully submitted!</span> │                                                  \n",
              "                                                  ╰─────────────────────────╯                                                  \n",
              "</pre>\n"
            ],
            "text/plain": [
              "                                                  ╭─────────────────────────╮                                                  \n",
              "                                                  │ \u001b[1mSuccessfully submitted!\u001b[0m │                                                  \n",
              "                                                  ╰─────────────────────────╯                                                  \n"
            ]
          },
          "metadata": {}
        },
        {
          "output_type": "display_data",
          "data": {
            "text/html": [
              "<pre style=\"white-space:pre;overflow-x:auto;line-height:normal;font-family:Menlo,'DejaVu Sans Mono',consolas,'Courier New',monospace\"><span style=\"font-style: italic\">                                                        Important links                                                        </span>\n",
              "┌──────────────────┬──────────────────────────────────────────────────────────────────────────────────────────────────────────┐\n",
              "│  This submission │ https://www.aicrowd.com/challenges/ai-blitz-xiii/problems/age-prediction/submissions/174146              │\n",
              "│                  │                                                                                                          │\n",
              "│  All submissions │ https://www.aicrowd.com/challenges/ai-blitz-xiii/problems/age-prediction/submissions?my_submissions=true │\n",
              "│                  │                                                                                                          │\n",
              "│      Leaderboard │ https://www.aicrowd.com/challenges/ai-blitz-xiii/problems/age-prediction/leaderboards                    │\n",
              "│                  │                                                                                                          │\n",
              "│ Discussion forum │ https://discourse.aicrowd.com/c/ai-blitz-xiii                                                            │\n",
              "│                  │                                                                                                          │\n",
              "│   Challenge page │ https://www.aicrowd.com/challenges/ai-blitz-xiii/problems/age-prediction                                 │\n",
              "└──────────────────┴──────────────────────────────────────────────────────────────────────────────────────────────────────────┘\n",
              "</pre>\n"
            ],
            "text/plain": [
              "\u001b[3m                                                        Important links                                                        \u001b[0m\n",
              "┌──────────────────┬──────────────────────────────────────────────────────────────────────────────────────────────────────────┐\n",
              "│  This submission │ https://www.aicrowd.com/challenges/ai-blitz-xiii/problems/age-prediction/submissions/174146              │\n",
              "│                  │                                                                                                          │\n",
              "│  All submissions │ https://www.aicrowd.com/challenges/ai-blitz-xiii/problems/age-prediction/submissions?my_submissions=true │\n",
              "│                  │                                                                                                          │\n",
              "│      Leaderboard │ https://www.aicrowd.com/challenges/ai-blitz-xiii/problems/age-prediction/leaderboards                    │\n",
              "│                  │                                                                                                          │\n",
              "│ Discussion forum │ https://discourse.aicrowd.com/c/ai-blitz-xiii                                                            │\n",
              "│                  │                                                                                                          │\n",
              "│   Challenge page │ https://www.aicrowd.com/challenges/ai-blitz-xiii/problems/age-prediction                                 │\n",
              "└──────────────────┴──────────────────────────────────────────────────────────────────────────────────────────────────────────┘\n"
            ]
          },
          "metadata": {}
        }
      ]
    },
    {
      "cell_type": "code",
      "source": [
        ""
      ],
      "metadata": {
        "id": "RsEVnyhb-r1c"
      },
      "execution_count": null,
      "outputs": []
    }
  ]
}