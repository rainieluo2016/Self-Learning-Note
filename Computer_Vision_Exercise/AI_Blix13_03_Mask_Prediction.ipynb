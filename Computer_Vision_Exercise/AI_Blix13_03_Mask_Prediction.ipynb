{
  "nbformat": 4,
  "nbformat_minor": 0,
  "metadata": {
    "colab": {
      "name": "AI_Blix13_03_Mask_Prediction",
      "provenance": [],
      "collapsed_sections": []
    },
    "kernelspec": {
      "name": "python3",
      "display_name": "Python 3"
    },
    "language_info": {
      "name": "python"
    },
    "widgets": {
      "application/vnd.jupyter.widget-state+json": {
        "3fea4d3cb12847c2a2d7fc19d76ac4fc": {
          "model_module": "@jupyter-widgets/controls",
          "model_name": "HBoxModel",
          "model_module_version": "1.5.0",
          "state": {
            "_view_name": "HBoxView",
            "_dom_classes": [],
            "_model_name": "HBoxModel",
            "_view_module": "@jupyter-widgets/controls",
            "_model_module_version": "1.5.0",
            "_view_count": null,
            "_view_module_version": "1.5.0",
            "box_style": "",
            "layout": "IPY_MODEL_708ae892061e4e87b9dd5dcd3a86097e",
            "_model_module": "@jupyter-widgets/controls",
            "children": [
              "IPY_MODEL_0d7ac131e9ed4323ab80405b1f3d96dc",
              "IPY_MODEL_591097b5b8bc4fb3b795abffdcbd16e5",
              "IPY_MODEL_2aaa0bd7f6154c3187cc7616d81fe8e4"
            ]
          }
        },
        "708ae892061e4e87b9dd5dcd3a86097e": {
          "model_module": "@jupyter-widgets/base",
          "model_name": "LayoutModel",
          "model_module_version": "1.2.0",
          "state": {
            "_view_name": "LayoutView",
            "grid_template_rows": null,
            "right": null,
            "justify_content": null,
            "_view_module": "@jupyter-widgets/base",
            "overflow": null,
            "_model_module_version": "1.2.0",
            "_view_count": null,
            "flex_flow": null,
            "width": null,
            "min_width": null,
            "border": null,
            "align_items": null,
            "bottom": null,
            "_model_module": "@jupyter-widgets/base",
            "top": null,
            "grid_column": null,
            "overflow_y": null,
            "overflow_x": null,
            "grid_auto_flow": null,
            "grid_area": null,
            "grid_template_columns": null,
            "flex": null,
            "_model_name": "LayoutModel",
            "justify_items": null,
            "grid_row": null,
            "max_height": null,
            "align_content": null,
            "visibility": null,
            "align_self": null,
            "height": null,
            "min_height": null,
            "padding": null,
            "grid_auto_rows": null,
            "grid_gap": null,
            "max_width": null,
            "order": null,
            "_view_module_version": "1.2.0",
            "grid_template_areas": null,
            "object_position": null,
            "object_fit": null,
            "grid_auto_columns": null,
            "margin": null,
            "display": null,
            "left": null
          }
        },
        "0d7ac131e9ed4323ab80405b1f3d96dc": {
          "model_module": "@jupyter-widgets/controls",
          "model_name": "HTMLModel",
          "model_module_version": "1.5.0",
          "state": {
            "_view_name": "HTMLView",
            "style": "IPY_MODEL_beb35bb37f0b43339cc62790438c2cbc",
            "_dom_classes": [],
            "description": "",
            "_model_name": "HTMLModel",
            "placeholder": "​",
            "_view_module": "@jupyter-widgets/controls",
            "_model_module_version": "1.5.0",
            "value": "sample_submission.csv: 100%",
            "_view_count": null,
            "_view_module_version": "1.5.0",
            "description_tooltip": null,
            "_model_module": "@jupyter-widgets/controls",
            "layout": "IPY_MODEL_46f584978bc749c4bd780a0e6310f678"
          }
        },
        "591097b5b8bc4fb3b795abffdcbd16e5": {
          "model_module": "@jupyter-widgets/controls",
          "model_name": "FloatProgressModel",
          "model_module_version": "1.5.0",
          "state": {
            "_view_name": "ProgressView",
            "style": "IPY_MODEL_eb078cb2ab9c4ceab3fbf0a9355a7a93",
            "_dom_classes": [],
            "description": "",
            "_model_name": "FloatProgressModel",
            "bar_style": "success",
            "max": 44022,
            "_view_module": "@jupyter-widgets/controls",
            "_model_module_version": "1.5.0",
            "value": 44022,
            "_view_count": null,
            "_view_module_version": "1.5.0",
            "orientation": "horizontal",
            "min": 0,
            "description_tooltip": null,
            "_model_module": "@jupyter-widgets/controls",
            "layout": "IPY_MODEL_43f4e690365b4167b866d7210b702c77"
          }
        },
        "2aaa0bd7f6154c3187cc7616d81fe8e4": {
          "model_module": "@jupyter-widgets/controls",
          "model_name": "HTMLModel",
          "model_module_version": "1.5.0",
          "state": {
            "_view_name": "HTMLView",
            "style": "IPY_MODEL_4e577e31c2ab4e09943218b1eeefdd33",
            "_dom_classes": [],
            "description": "",
            "_model_name": "HTMLModel",
            "placeholder": "​",
            "_view_module": "@jupyter-widgets/controls",
            "_model_module_version": "1.5.0",
            "value": " 44.0k/44.0k [00:00&lt;00:00, 675kB/s]",
            "_view_count": null,
            "_view_module_version": "1.5.0",
            "description_tooltip": null,
            "_model_module": "@jupyter-widgets/controls",
            "layout": "IPY_MODEL_fcff15991016405ebbf6eeb06bdb6351"
          }
        },
        "beb35bb37f0b43339cc62790438c2cbc": {
          "model_module": "@jupyter-widgets/controls",
          "model_name": "DescriptionStyleModel",
          "model_module_version": "1.5.0",
          "state": {
            "_view_name": "StyleView",
            "_model_name": "DescriptionStyleModel",
            "description_width": "",
            "_view_module": "@jupyter-widgets/base",
            "_model_module_version": "1.5.0",
            "_view_count": null,
            "_view_module_version": "1.2.0",
            "_model_module": "@jupyter-widgets/controls"
          }
        },
        "46f584978bc749c4bd780a0e6310f678": {
          "model_module": "@jupyter-widgets/base",
          "model_name": "LayoutModel",
          "model_module_version": "1.2.0",
          "state": {
            "_view_name": "LayoutView",
            "grid_template_rows": null,
            "right": null,
            "justify_content": null,
            "_view_module": "@jupyter-widgets/base",
            "overflow": null,
            "_model_module_version": "1.2.0",
            "_view_count": null,
            "flex_flow": null,
            "width": null,
            "min_width": null,
            "border": null,
            "align_items": null,
            "bottom": null,
            "_model_module": "@jupyter-widgets/base",
            "top": null,
            "grid_column": null,
            "overflow_y": null,
            "overflow_x": null,
            "grid_auto_flow": null,
            "grid_area": null,
            "grid_template_columns": null,
            "flex": null,
            "_model_name": "LayoutModel",
            "justify_items": null,
            "grid_row": null,
            "max_height": null,
            "align_content": null,
            "visibility": null,
            "align_self": null,
            "height": null,
            "min_height": null,
            "padding": null,
            "grid_auto_rows": null,
            "grid_gap": null,
            "max_width": null,
            "order": null,
            "_view_module_version": "1.2.0",
            "grid_template_areas": null,
            "object_position": null,
            "object_fit": null,
            "grid_auto_columns": null,
            "margin": null,
            "display": null,
            "left": null
          }
        },
        "eb078cb2ab9c4ceab3fbf0a9355a7a93": {
          "model_module": "@jupyter-widgets/controls",
          "model_name": "ProgressStyleModel",
          "model_module_version": "1.5.0",
          "state": {
            "_view_name": "StyleView",
            "_model_name": "ProgressStyleModel",
            "description_width": "",
            "_view_module": "@jupyter-widgets/base",
            "_model_module_version": "1.5.0",
            "_view_count": null,
            "_view_module_version": "1.2.0",
            "bar_color": null,
            "_model_module": "@jupyter-widgets/controls"
          }
        },
        "43f4e690365b4167b866d7210b702c77": {
          "model_module": "@jupyter-widgets/base",
          "model_name": "LayoutModel",
          "model_module_version": "1.2.0",
          "state": {
            "_view_name": "LayoutView",
            "grid_template_rows": null,
            "right": null,
            "justify_content": null,
            "_view_module": "@jupyter-widgets/base",
            "overflow": null,
            "_model_module_version": "1.2.0",
            "_view_count": null,
            "flex_flow": null,
            "width": null,
            "min_width": null,
            "border": null,
            "align_items": null,
            "bottom": null,
            "_model_module": "@jupyter-widgets/base",
            "top": null,
            "grid_column": null,
            "overflow_y": null,
            "overflow_x": null,
            "grid_auto_flow": null,
            "grid_area": null,
            "grid_template_columns": null,
            "flex": null,
            "_model_name": "LayoutModel",
            "justify_items": null,
            "grid_row": null,
            "max_height": null,
            "align_content": null,
            "visibility": null,
            "align_self": null,
            "height": null,
            "min_height": null,
            "padding": null,
            "grid_auto_rows": null,
            "grid_gap": null,
            "max_width": null,
            "order": null,
            "_view_module_version": "1.2.0",
            "grid_template_areas": null,
            "object_position": null,
            "object_fit": null,
            "grid_auto_columns": null,
            "margin": null,
            "display": null,
            "left": null
          }
        },
        "4e577e31c2ab4e09943218b1eeefdd33": {
          "model_module": "@jupyter-widgets/controls",
          "model_name": "DescriptionStyleModel",
          "model_module_version": "1.5.0",
          "state": {
            "_view_name": "StyleView",
            "_model_name": "DescriptionStyleModel",
            "description_width": "",
            "_view_module": "@jupyter-widgets/base",
            "_model_module_version": "1.5.0",
            "_view_count": null,
            "_view_module_version": "1.2.0",
            "_model_module": "@jupyter-widgets/controls"
          }
        },
        "fcff15991016405ebbf6eeb06bdb6351": {
          "model_module": "@jupyter-widgets/base",
          "model_name": "LayoutModel",
          "model_module_version": "1.2.0",
          "state": {
            "_view_name": "LayoutView",
            "grid_template_rows": null,
            "right": null,
            "justify_content": null,
            "_view_module": "@jupyter-widgets/base",
            "overflow": null,
            "_model_module_version": "1.2.0",
            "_view_count": null,
            "flex_flow": null,
            "width": null,
            "min_width": null,
            "border": null,
            "align_items": null,
            "bottom": null,
            "_model_module": "@jupyter-widgets/base",
            "top": null,
            "grid_column": null,
            "overflow_y": null,
            "overflow_x": null,
            "grid_auto_flow": null,
            "grid_area": null,
            "grid_template_columns": null,
            "flex": null,
            "_model_name": "LayoutModel",
            "justify_items": null,
            "grid_row": null,
            "max_height": null,
            "align_content": null,
            "visibility": null,
            "align_self": null,
            "height": null,
            "min_height": null,
            "padding": null,
            "grid_auto_rows": null,
            "grid_gap": null,
            "max_width": null,
            "order": null,
            "_view_module_version": "1.2.0",
            "grid_template_areas": null,
            "object_position": null,
            "object_fit": null,
            "grid_auto_columns": null,
            "margin": null,
            "display": null,
            "left": null
          }
        },
        "495332af16e041e4987355051cd5d3b2": {
          "model_module": "@jupyter-widgets/controls",
          "model_name": "HBoxModel",
          "model_module_version": "1.5.0",
          "state": {
            "_view_name": "HBoxView",
            "_dom_classes": [],
            "_model_name": "HBoxModel",
            "_view_module": "@jupyter-widgets/controls",
            "_model_module_version": "1.5.0",
            "_view_count": null,
            "_view_module_version": "1.5.0",
            "box_style": "",
            "layout": "IPY_MODEL_fd1e09dc700e42f082c0bfd4eae3e319",
            "_model_module": "@jupyter-widgets/controls",
            "children": [
              "IPY_MODEL_e5f83b7d690942e7ba2b180932bf810d",
              "IPY_MODEL_815a96fa98d641ce98928b51b7d00239",
              "IPY_MODEL_dd232e59568d45cb912aaa2983272958"
            ]
          }
        },
        "fd1e09dc700e42f082c0bfd4eae3e319": {
          "model_module": "@jupyter-widgets/base",
          "model_name": "LayoutModel",
          "model_module_version": "1.2.0",
          "state": {
            "_view_name": "LayoutView",
            "grid_template_rows": null,
            "right": null,
            "justify_content": null,
            "_view_module": "@jupyter-widgets/base",
            "overflow": null,
            "_model_module_version": "1.2.0",
            "_view_count": null,
            "flex_flow": null,
            "width": null,
            "min_width": null,
            "border": null,
            "align_items": null,
            "bottom": null,
            "_model_module": "@jupyter-widgets/base",
            "top": null,
            "grid_column": null,
            "overflow_y": null,
            "overflow_x": null,
            "grid_auto_flow": null,
            "grid_area": null,
            "grid_template_columns": null,
            "flex": null,
            "_model_name": "LayoutModel",
            "justify_items": null,
            "grid_row": null,
            "max_height": null,
            "align_content": null,
            "visibility": null,
            "align_self": null,
            "height": null,
            "min_height": null,
            "padding": null,
            "grid_auto_rows": null,
            "grid_gap": null,
            "max_width": null,
            "order": null,
            "_view_module_version": "1.2.0",
            "grid_template_areas": null,
            "object_position": null,
            "object_fit": null,
            "grid_auto_columns": null,
            "margin": null,
            "display": null,
            "left": null
          }
        },
        "e5f83b7d690942e7ba2b180932bf810d": {
          "model_module": "@jupyter-widgets/controls",
          "model_name": "HTMLModel",
          "model_module_version": "1.5.0",
          "state": {
            "_view_name": "HTMLView",
            "style": "IPY_MODEL_6ae5f435a6544cfbb8550ea06306db08",
            "_dom_classes": [],
            "description": "",
            "_model_name": "HTMLModel",
            "placeholder": "​",
            "_view_module": "@jupyter-widgets/controls",
            "_model_module_version": "1.5.0",
            "value": "test.zip: 100%",
            "_view_count": null,
            "_view_module_version": "1.5.0",
            "description_tooltip": null,
            "_model_module": "@jupyter-widgets/controls",
            "layout": "IPY_MODEL_ac4050238d4b40969aa188485bbc3b03"
          }
        },
        "815a96fa98d641ce98928b51b7d00239": {
          "model_module": "@jupyter-widgets/controls",
          "model_name": "FloatProgressModel",
          "model_module_version": "1.5.0",
          "state": {
            "_view_name": "ProgressView",
            "style": "IPY_MODEL_cd862b880973489f83cd9734ec8a4127",
            "_dom_classes": [],
            "description": "",
            "_model_name": "FloatProgressModel",
            "bar_style": "success",
            "max": 114569948,
            "_view_module": "@jupyter-widgets/controls",
            "_model_module_version": "1.5.0",
            "value": 114569948,
            "_view_count": null,
            "_view_module_version": "1.5.0",
            "orientation": "horizontal",
            "min": 0,
            "description_tooltip": null,
            "_model_module": "@jupyter-widgets/controls",
            "layout": "IPY_MODEL_9b1e2e6b1c5f4e2ab6eaa7f33260f4a7"
          }
        },
        "dd232e59568d45cb912aaa2983272958": {
          "model_module": "@jupyter-widgets/controls",
          "model_name": "HTMLModel",
          "model_module_version": "1.5.0",
          "state": {
            "_view_name": "HTMLView",
            "style": "IPY_MODEL_5d330cc7173a4cc992b3363288024665",
            "_dom_classes": [],
            "description": "",
            "_model_name": "HTMLModel",
            "placeholder": "​",
            "_view_module": "@jupyter-widgets/controls",
            "_model_module_version": "1.5.0",
            "value": " 115M/115M [00:13&lt;00:00, 9.02MB/s]",
            "_view_count": null,
            "_view_module_version": "1.5.0",
            "description_tooltip": null,
            "_model_module": "@jupyter-widgets/controls",
            "layout": "IPY_MODEL_6a2ba115b1204f4699fd309335284f85"
          }
        },
        "6ae5f435a6544cfbb8550ea06306db08": {
          "model_module": "@jupyter-widgets/controls",
          "model_name": "DescriptionStyleModel",
          "model_module_version": "1.5.0",
          "state": {
            "_view_name": "StyleView",
            "_model_name": "DescriptionStyleModel",
            "description_width": "",
            "_view_module": "@jupyter-widgets/base",
            "_model_module_version": "1.5.0",
            "_view_count": null,
            "_view_module_version": "1.2.0",
            "_model_module": "@jupyter-widgets/controls"
          }
        },
        "ac4050238d4b40969aa188485bbc3b03": {
          "model_module": "@jupyter-widgets/base",
          "model_name": "LayoutModel",
          "model_module_version": "1.2.0",
          "state": {
            "_view_name": "LayoutView",
            "grid_template_rows": null,
            "right": null,
            "justify_content": null,
            "_view_module": "@jupyter-widgets/base",
            "overflow": null,
            "_model_module_version": "1.2.0",
            "_view_count": null,
            "flex_flow": null,
            "width": null,
            "min_width": null,
            "border": null,
            "align_items": null,
            "bottom": null,
            "_model_module": "@jupyter-widgets/base",
            "top": null,
            "grid_column": null,
            "overflow_y": null,
            "overflow_x": null,
            "grid_auto_flow": null,
            "grid_area": null,
            "grid_template_columns": null,
            "flex": null,
            "_model_name": "LayoutModel",
            "justify_items": null,
            "grid_row": null,
            "max_height": null,
            "align_content": null,
            "visibility": null,
            "align_self": null,
            "height": null,
            "min_height": null,
            "padding": null,
            "grid_auto_rows": null,
            "grid_gap": null,
            "max_width": null,
            "order": null,
            "_view_module_version": "1.2.0",
            "grid_template_areas": null,
            "object_position": null,
            "object_fit": null,
            "grid_auto_columns": null,
            "margin": null,
            "display": null,
            "left": null
          }
        },
        "cd862b880973489f83cd9734ec8a4127": {
          "model_module": "@jupyter-widgets/controls",
          "model_name": "ProgressStyleModel",
          "model_module_version": "1.5.0",
          "state": {
            "_view_name": "StyleView",
            "_model_name": "ProgressStyleModel",
            "description_width": "",
            "_view_module": "@jupyter-widgets/base",
            "_model_module_version": "1.5.0",
            "_view_count": null,
            "_view_module_version": "1.2.0",
            "bar_color": null,
            "_model_module": "@jupyter-widgets/controls"
          }
        },
        "9b1e2e6b1c5f4e2ab6eaa7f33260f4a7": {
          "model_module": "@jupyter-widgets/base",
          "model_name": "LayoutModel",
          "model_module_version": "1.2.0",
          "state": {
            "_view_name": "LayoutView",
            "grid_template_rows": null,
            "right": null,
            "justify_content": null,
            "_view_module": "@jupyter-widgets/base",
            "overflow": null,
            "_model_module_version": "1.2.0",
            "_view_count": null,
            "flex_flow": null,
            "width": null,
            "min_width": null,
            "border": null,
            "align_items": null,
            "bottom": null,
            "_model_module": "@jupyter-widgets/base",
            "top": null,
            "grid_column": null,
            "overflow_y": null,
            "overflow_x": null,
            "grid_auto_flow": null,
            "grid_area": null,
            "grid_template_columns": null,
            "flex": null,
            "_model_name": "LayoutModel",
            "justify_items": null,
            "grid_row": null,
            "max_height": null,
            "align_content": null,
            "visibility": null,
            "align_self": null,
            "height": null,
            "min_height": null,
            "padding": null,
            "grid_auto_rows": null,
            "grid_gap": null,
            "max_width": null,
            "order": null,
            "_view_module_version": "1.2.0",
            "grid_template_areas": null,
            "object_position": null,
            "object_fit": null,
            "grid_auto_columns": null,
            "margin": null,
            "display": null,
            "left": null
          }
        },
        "5d330cc7173a4cc992b3363288024665": {
          "model_module": "@jupyter-widgets/controls",
          "model_name": "DescriptionStyleModel",
          "model_module_version": "1.5.0",
          "state": {
            "_view_name": "StyleView",
            "_model_name": "DescriptionStyleModel",
            "description_width": "",
            "_view_module": "@jupyter-widgets/base",
            "_model_module_version": "1.5.0",
            "_view_count": null,
            "_view_module_version": "1.2.0",
            "_model_module": "@jupyter-widgets/controls"
          }
        },
        "6a2ba115b1204f4699fd309335284f85": {
          "model_module": "@jupyter-widgets/base",
          "model_name": "LayoutModel",
          "model_module_version": "1.2.0",
          "state": {
            "_view_name": "LayoutView",
            "grid_template_rows": null,
            "right": null,
            "justify_content": null,
            "_view_module": "@jupyter-widgets/base",
            "overflow": null,
            "_model_module_version": "1.2.0",
            "_view_count": null,
            "flex_flow": null,
            "width": null,
            "min_width": null,
            "border": null,
            "align_items": null,
            "bottom": null,
            "_model_module": "@jupyter-widgets/base",
            "top": null,
            "grid_column": null,
            "overflow_y": null,
            "overflow_x": null,
            "grid_auto_flow": null,
            "grid_area": null,
            "grid_template_columns": null,
            "flex": null,
            "_model_name": "LayoutModel",
            "justify_items": null,
            "grid_row": null,
            "max_height": null,
            "align_content": null,
            "visibility": null,
            "align_self": null,
            "height": null,
            "min_height": null,
            "padding": null,
            "grid_auto_rows": null,
            "grid_gap": null,
            "max_width": null,
            "order": null,
            "_view_module_version": "1.2.0",
            "grid_template_areas": null,
            "object_position": null,
            "object_fit": null,
            "grid_auto_columns": null,
            "margin": null,
            "display": null,
            "left": null
          }
        },
        "9520a6f14f214db7b0db937f52ddd484": {
          "model_module": "@jupyter-widgets/controls",
          "model_name": "HBoxModel",
          "model_module_version": "1.5.0",
          "state": {
            "_view_name": "HBoxView",
            "_dom_classes": [],
            "_model_name": "HBoxModel",
            "_view_module": "@jupyter-widgets/controls",
            "_model_module_version": "1.5.0",
            "_view_count": null,
            "_view_module_version": "1.5.0",
            "box_style": "",
            "layout": "IPY_MODEL_af3b2ca328834f7f9df32017eaaedb73",
            "_model_module": "@jupyter-widgets/controls",
            "children": [
              "IPY_MODEL_0ede500d75af4ada8a5f3db1279f3e1a",
              "IPY_MODEL_84c8487e00d0483fb5fd8dd2ac52c9c9",
              "IPY_MODEL_a8ce4357e1904a0980da3cc9fe7bc74b"
            ]
          }
        },
        "af3b2ca328834f7f9df32017eaaedb73": {
          "model_module": "@jupyter-widgets/base",
          "model_name": "LayoutModel",
          "model_module_version": "1.2.0",
          "state": {
            "_view_name": "LayoutView",
            "grid_template_rows": null,
            "right": null,
            "justify_content": null,
            "_view_module": "@jupyter-widgets/base",
            "overflow": null,
            "_model_module_version": "1.2.0",
            "_view_count": null,
            "flex_flow": null,
            "width": null,
            "min_width": null,
            "border": null,
            "align_items": null,
            "bottom": null,
            "_model_module": "@jupyter-widgets/base",
            "top": null,
            "grid_column": null,
            "overflow_y": null,
            "overflow_x": null,
            "grid_auto_flow": null,
            "grid_area": null,
            "grid_template_columns": null,
            "flex": null,
            "_model_name": "LayoutModel",
            "justify_items": null,
            "grid_row": null,
            "max_height": null,
            "align_content": null,
            "visibility": null,
            "align_self": null,
            "height": null,
            "min_height": null,
            "padding": null,
            "grid_auto_rows": null,
            "grid_gap": null,
            "max_width": null,
            "order": null,
            "_view_module_version": "1.2.0",
            "grid_template_areas": null,
            "object_position": null,
            "object_fit": null,
            "grid_auto_columns": null,
            "margin": null,
            "display": null,
            "left": null
          }
        },
        "0ede500d75af4ada8a5f3db1279f3e1a": {
          "model_module": "@jupyter-widgets/controls",
          "model_name": "HTMLModel",
          "model_module_version": "1.5.0",
          "state": {
            "_view_name": "HTMLView",
            "style": "IPY_MODEL_ffe569fa9cc5411582afa01cfb3465bc",
            "_dom_classes": [],
            "description": "",
            "_model_name": "HTMLModel",
            "placeholder": "​",
            "_view_module": "@jupyter-widgets/controls",
            "_model_module_version": "1.5.0",
            "value": "train.csv: 100%",
            "_view_count": null,
            "_view_module_version": "1.5.0",
            "description_tooltip": null,
            "_model_module": "@jupyter-widgets/controls",
            "layout": "IPY_MODEL_a386b863024c4310a6be4858c3b8453c"
          }
        },
        "84c8487e00d0483fb5fd8dd2ac52c9c9": {
          "model_module": "@jupyter-widgets/controls",
          "model_name": "FloatProgressModel",
          "model_module_version": "1.5.0",
          "state": {
            "_view_name": "ProgressView",
            "style": "IPY_MODEL_6aad26df890545adbf252c42aad102fa",
            "_dom_classes": [],
            "description": "",
            "_model_name": "FloatProgressModel",
            "bar_style": "success",
            "max": 193219,
            "_view_module": "@jupyter-widgets/controls",
            "_model_module_version": "1.5.0",
            "value": 193219,
            "_view_count": null,
            "_view_module_version": "1.5.0",
            "orientation": "horizontal",
            "min": 0,
            "description_tooltip": null,
            "_model_module": "@jupyter-widgets/controls",
            "layout": "IPY_MODEL_34c8b05a66f74a1abb0058af79ddd6cb"
          }
        },
        "a8ce4357e1904a0980da3cc9fe7bc74b": {
          "model_module": "@jupyter-widgets/controls",
          "model_name": "HTMLModel",
          "model_module_version": "1.5.0",
          "state": {
            "_view_name": "HTMLView",
            "style": "IPY_MODEL_b96025ea00364c5cbcc2d2b4eed7bdec",
            "_dom_classes": [],
            "description": "",
            "_model_name": "HTMLModel",
            "placeholder": "​",
            "_view_module": "@jupyter-widgets/controls",
            "_model_module_version": "1.5.0",
            "value": " 193k/193k [00:00&lt;00:00, 1.86MB/s]",
            "_view_count": null,
            "_view_module_version": "1.5.0",
            "description_tooltip": null,
            "_model_module": "@jupyter-widgets/controls",
            "layout": "IPY_MODEL_02ea11270bae4f0d9b3cf5da9d19222e"
          }
        },
        "ffe569fa9cc5411582afa01cfb3465bc": {
          "model_module": "@jupyter-widgets/controls",
          "model_name": "DescriptionStyleModel",
          "model_module_version": "1.5.0",
          "state": {
            "_view_name": "StyleView",
            "_model_name": "DescriptionStyleModel",
            "description_width": "",
            "_view_module": "@jupyter-widgets/base",
            "_model_module_version": "1.5.0",
            "_view_count": null,
            "_view_module_version": "1.2.0",
            "_model_module": "@jupyter-widgets/controls"
          }
        },
        "a386b863024c4310a6be4858c3b8453c": {
          "model_module": "@jupyter-widgets/base",
          "model_name": "LayoutModel",
          "model_module_version": "1.2.0",
          "state": {
            "_view_name": "LayoutView",
            "grid_template_rows": null,
            "right": null,
            "justify_content": null,
            "_view_module": "@jupyter-widgets/base",
            "overflow": null,
            "_model_module_version": "1.2.0",
            "_view_count": null,
            "flex_flow": null,
            "width": null,
            "min_width": null,
            "border": null,
            "align_items": null,
            "bottom": null,
            "_model_module": "@jupyter-widgets/base",
            "top": null,
            "grid_column": null,
            "overflow_y": null,
            "overflow_x": null,
            "grid_auto_flow": null,
            "grid_area": null,
            "grid_template_columns": null,
            "flex": null,
            "_model_name": "LayoutModel",
            "justify_items": null,
            "grid_row": null,
            "max_height": null,
            "align_content": null,
            "visibility": null,
            "align_self": null,
            "height": null,
            "min_height": null,
            "padding": null,
            "grid_auto_rows": null,
            "grid_gap": null,
            "max_width": null,
            "order": null,
            "_view_module_version": "1.2.0",
            "grid_template_areas": null,
            "object_position": null,
            "object_fit": null,
            "grid_auto_columns": null,
            "margin": null,
            "display": null,
            "left": null
          }
        },
        "6aad26df890545adbf252c42aad102fa": {
          "model_module": "@jupyter-widgets/controls",
          "model_name": "ProgressStyleModel",
          "model_module_version": "1.5.0",
          "state": {
            "_view_name": "StyleView",
            "_model_name": "ProgressStyleModel",
            "description_width": "",
            "_view_module": "@jupyter-widgets/base",
            "_model_module_version": "1.5.0",
            "_view_count": null,
            "_view_module_version": "1.2.0",
            "bar_color": null,
            "_model_module": "@jupyter-widgets/controls"
          }
        },
        "34c8b05a66f74a1abb0058af79ddd6cb": {
          "model_module": "@jupyter-widgets/base",
          "model_name": "LayoutModel",
          "model_module_version": "1.2.0",
          "state": {
            "_view_name": "LayoutView",
            "grid_template_rows": null,
            "right": null,
            "justify_content": null,
            "_view_module": "@jupyter-widgets/base",
            "overflow": null,
            "_model_module_version": "1.2.0",
            "_view_count": null,
            "flex_flow": null,
            "width": null,
            "min_width": null,
            "border": null,
            "align_items": null,
            "bottom": null,
            "_model_module": "@jupyter-widgets/base",
            "top": null,
            "grid_column": null,
            "overflow_y": null,
            "overflow_x": null,
            "grid_auto_flow": null,
            "grid_area": null,
            "grid_template_columns": null,
            "flex": null,
            "_model_name": "LayoutModel",
            "justify_items": null,
            "grid_row": null,
            "max_height": null,
            "align_content": null,
            "visibility": null,
            "align_self": null,
            "height": null,
            "min_height": null,
            "padding": null,
            "grid_auto_rows": null,
            "grid_gap": null,
            "max_width": null,
            "order": null,
            "_view_module_version": "1.2.0",
            "grid_template_areas": null,
            "object_position": null,
            "object_fit": null,
            "grid_auto_columns": null,
            "margin": null,
            "display": null,
            "left": null
          }
        },
        "b96025ea00364c5cbcc2d2b4eed7bdec": {
          "model_module": "@jupyter-widgets/controls",
          "model_name": "DescriptionStyleModel",
          "model_module_version": "1.5.0",
          "state": {
            "_view_name": "StyleView",
            "_model_name": "DescriptionStyleModel",
            "description_width": "",
            "_view_module": "@jupyter-widgets/base",
            "_model_module_version": "1.5.0",
            "_view_count": null,
            "_view_module_version": "1.2.0",
            "_model_module": "@jupyter-widgets/controls"
          }
        },
        "02ea11270bae4f0d9b3cf5da9d19222e": {
          "model_module": "@jupyter-widgets/base",
          "model_name": "LayoutModel",
          "model_module_version": "1.2.0",
          "state": {
            "_view_name": "LayoutView",
            "grid_template_rows": null,
            "right": null,
            "justify_content": null,
            "_view_module": "@jupyter-widgets/base",
            "overflow": null,
            "_model_module_version": "1.2.0",
            "_view_count": null,
            "flex_flow": null,
            "width": null,
            "min_width": null,
            "border": null,
            "align_items": null,
            "bottom": null,
            "_model_module": "@jupyter-widgets/base",
            "top": null,
            "grid_column": null,
            "overflow_y": null,
            "overflow_x": null,
            "grid_auto_flow": null,
            "grid_area": null,
            "grid_template_columns": null,
            "flex": null,
            "_model_name": "LayoutModel",
            "justify_items": null,
            "grid_row": null,
            "max_height": null,
            "align_content": null,
            "visibility": null,
            "align_self": null,
            "height": null,
            "min_height": null,
            "padding": null,
            "grid_auto_rows": null,
            "grid_gap": null,
            "max_width": null,
            "order": null,
            "_view_module_version": "1.2.0",
            "grid_template_areas": null,
            "object_position": null,
            "object_fit": null,
            "grid_auto_columns": null,
            "margin": null,
            "display": null,
            "left": null
          }
        },
        "7a3c50695c1f473abef1ec82cda1ecf9": {
          "model_module": "@jupyter-widgets/controls",
          "model_name": "HBoxModel",
          "model_module_version": "1.5.0",
          "state": {
            "_view_name": "HBoxView",
            "_dom_classes": [],
            "_model_name": "HBoxModel",
            "_view_module": "@jupyter-widgets/controls",
            "_model_module_version": "1.5.0",
            "_view_count": null,
            "_view_module_version": "1.5.0",
            "box_style": "",
            "layout": "IPY_MODEL_4d90e3de82bd4291960699a23b37b8b3",
            "_model_module": "@jupyter-widgets/controls",
            "children": [
              "IPY_MODEL_48bbb4937bcb43e7930bc234197e803f",
              "IPY_MODEL_4ed38092e9484fd4bac5a039980c77b7",
              "IPY_MODEL_58ae4a135b6346d2ba0db70cb346dd69"
            ]
          }
        },
        "4d90e3de82bd4291960699a23b37b8b3": {
          "model_module": "@jupyter-widgets/base",
          "model_name": "LayoutModel",
          "model_module_version": "1.2.0",
          "state": {
            "_view_name": "LayoutView",
            "grid_template_rows": null,
            "right": null,
            "justify_content": null,
            "_view_module": "@jupyter-widgets/base",
            "overflow": null,
            "_model_module_version": "1.2.0",
            "_view_count": null,
            "flex_flow": null,
            "width": null,
            "min_width": null,
            "border": null,
            "align_items": null,
            "bottom": null,
            "_model_module": "@jupyter-widgets/base",
            "top": null,
            "grid_column": null,
            "overflow_y": null,
            "overflow_x": null,
            "grid_auto_flow": null,
            "grid_area": null,
            "grid_template_columns": null,
            "flex": null,
            "_model_name": "LayoutModel",
            "justify_items": null,
            "grid_row": null,
            "max_height": null,
            "align_content": null,
            "visibility": null,
            "align_self": null,
            "height": null,
            "min_height": null,
            "padding": null,
            "grid_auto_rows": null,
            "grid_gap": null,
            "max_width": null,
            "order": null,
            "_view_module_version": "1.2.0",
            "grid_template_areas": null,
            "object_position": null,
            "object_fit": null,
            "grid_auto_columns": null,
            "margin": null,
            "display": null,
            "left": null
          }
        },
        "48bbb4937bcb43e7930bc234197e803f": {
          "model_module": "@jupyter-widgets/controls",
          "model_name": "HTMLModel",
          "model_module_version": "1.5.0",
          "state": {
            "_view_name": "HTMLView",
            "style": "IPY_MODEL_9c8f512753cb4c95886ea3860e01e350",
            "_dom_classes": [],
            "description": "",
            "_model_name": "HTMLModel",
            "placeholder": "​",
            "_view_module": "@jupyter-widgets/controls",
            "_model_module_version": "1.5.0",
            "value": "train.zip: 100%",
            "_view_count": null,
            "_view_module_version": "1.5.0",
            "description_tooltip": null,
            "_model_module": "@jupyter-widgets/controls",
            "layout": "IPY_MODEL_2b27b43ac67340538e1f97bb430d2de6"
          }
        },
        "4ed38092e9484fd4bac5a039980c77b7": {
          "model_module": "@jupyter-widgets/controls",
          "model_name": "FloatProgressModel",
          "model_module_version": "1.5.0",
          "state": {
            "_view_name": "ProgressView",
            "style": "IPY_MODEL_51c5735f56f44bc5aff2040c34e25eaa",
            "_dom_classes": [],
            "description": "",
            "_model_name": "FloatProgressModel",
            "bar_style": "success",
            "max": 318198718,
            "_view_module": "@jupyter-widgets/controls",
            "_model_module_version": "1.5.0",
            "value": 318198718,
            "_view_count": null,
            "_view_module_version": "1.5.0",
            "orientation": "horizontal",
            "min": 0,
            "description_tooltip": null,
            "_model_module": "@jupyter-widgets/controls",
            "layout": "IPY_MODEL_9262505d6f2b40c8b3e8a7870894841e"
          }
        },
        "58ae4a135b6346d2ba0db70cb346dd69": {
          "model_module": "@jupyter-widgets/controls",
          "model_name": "HTMLModel",
          "model_module_version": "1.5.0",
          "state": {
            "_view_name": "HTMLView",
            "style": "IPY_MODEL_88fdd87df1a74f23a0f09d3331514898",
            "_dom_classes": [],
            "description": "",
            "_model_name": "HTMLModel",
            "placeholder": "​",
            "_view_module": "@jupyter-widgets/controls",
            "_model_module_version": "1.5.0",
            "value": " 318M/318M [00:22&lt;00:00, 14.8MB/s]",
            "_view_count": null,
            "_view_module_version": "1.5.0",
            "description_tooltip": null,
            "_model_module": "@jupyter-widgets/controls",
            "layout": "IPY_MODEL_ab59813fe37f4bf3b47305635a285dff"
          }
        },
        "9c8f512753cb4c95886ea3860e01e350": {
          "model_module": "@jupyter-widgets/controls",
          "model_name": "DescriptionStyleModel",
          "model_module_version": "1.5.0",
          "state": {
            "_view_name": "StyleView",
            "_model_name": "DescriptionStyleModel",
            "description_width": "",
            "_view_module": "@jupyter-widgets/base",
            "_model_module_version": "1.5.0",
            "_view_count": null,
            "_view_module_version": "1.2.0",
            "_model_module": "@jupyter-widgets/controls"
          }
        },
        "2b27b43ac67340538e1f97bb430d2de6": {
          "model_module": "@jupyter-widgets/base",
          "model_name": "LayoutModel",
          "model_module_version": "1.2.0",
          "state": {
            "_view_name": "LayoutView",
            "grid_template_rows": null,
            "right": null,
            "justify_content": null,
            "_view_module": "@jupyter-widgets/base",
            "overflow": null,
            "_model_module_version": "1.2.0",
            "_view_count": null,
            "flex_flow": null,
            "width": null,
            "min_width": null,
            "border": null,
            "align_items": null,
            "bottom": null,
            "_model_module": "@jupyter-widgets/base",
            "top": null,
            "grid_column": null,
            "overflow_y": null,
            "overflow_x": null,
            "grid_auto_flow": null,
            "grid_area": null,
            "grid_template_columns": null,
            "flex": null,
            "_model_name": "LayoutModel",
            "justify_items": null,
            "grid_row": null,
            "max_height": null,
            "align_content": null,
            "visibility": null,
            "align_self": null,
            "height": null,
            "min_height": null,
            "padding": null,
            "grid_auto_rows": null,
            "grid_gap": null,
            "max_width": null,
            "order": null,
            "_view_module_version": "1.2.0",
            "grid_template_areas": null,
            "object_position": null,
            "object_fit": null,
            "grid_auto_columns": null,
            "margin": null,
            "display": null,
            "left": null
          }
        },
        "51c5735f56f44bc5aff2040c34e25eaa": {
          "model_module": "@jupyter-widgets/controls",
          "model_name": "ProgressStyleModel",
          "model_module_version": "1.5.0",
          "state": {
            "_view_name": "StyleView",
            "_model_name": "ProgressStyleModel",
            "description_width": "",
            "_view_module": "@jupyter-widgets/base",
            "_model_module_version": "1.5.0",
            "_view_count": null,
            "_view_module_version": "1.2.0",
            "bar_color": null,
            "_model_module": "@jupyter-widgets/controls"
          }
        },
        "9262505d6f2b40c8b3e8a7870894841e": {
          "model_module": "@jupyter-widgets/base",
          "model_name": "LayoutModel",
          "model_module_version": "1.2.0",
          "state": {
            "_view_name": "LayoutView",
            "grid_template_rows": null,
            "right": null,
            "justify_content": null,
            "_view_module": "@jupyter-widgets/base",
            "overflow": null,
            "_model_module_version": "1.2.0",
            "_view_count": null,
            "flex_flow": null,
            "width": null,
            "min_width": null,
            "border": null,
            "align_items": null,
            "bottom": null,
            "_model_module": "@jupyter-widgets/base",
            "top": null,
            "grid_column": null,
            "overflow_y": null,
            "overflow_x": null,
            "grid_auto_flow": null,
            "grid_area": null,
            "grid_template_columns": null,
            "flex": null,
            "_model_name": "LayoutModel",
            "justify_items": null,
            "grid_row": null,
            "max_height": null,
            "align_content": null,
            "visibility": null,
            "align_self": null,
            "height": null,
            "min_height": null,
            "padding": null,
            "grid_auto_rows": null,
            "grid_gap": null,
            "max_width": null,
            "order": null,
            "_view_module_version": "1.2.0",
            "grid_template_areas": null,
            "object_position": null,
            "object_fit": null,
            "grid_auto_columns": null,
            "margin": null,
            "display": null,
            "left": null
          }
        },
        "88fdd87df1a74f23a0f09d3331514898": {
          "model_module": "@jupyter-widgets/controls",
          "model_name": "DescriptionStyleModel",
          "model_module_version": "1.5.0",
          "state": {
            "_view_name": "StyleView",
            "_model_name": "DescriptionStyleModel",
            "description_width": "",
            "_view_module": "@jupyter-widgets/base",
            "_model_module_version": "1.5.0",
            "_view_count": null,
            "_view_module_version": "1.2.0",
            "_model_module": "@jupyter-widgets/controls"
          }
        },
        "ab59813fe37f4bf3b47305635a285dff": {
          "model_module": "@jupyter-widgets/base",
          "model_name": "LayoutModel",
          "model_module_version": "1.2.0",
          "state": {
            "_view_name": "LayoutView",
            "grid_template_rows": null,
            "right": null,
            "justify_content": null,
            "_view_module": "@jupyter-widgets/base",
            "overflow": null,
            "_model_module_version": "1.2.0",
            "_view_count": null,
            "flex_flow": null,
            "width": null,
            "min_width": null,
            "border": null,
            "align_items": null,
            "bottom": null,
            "_model_module": "@jupyter-widgets/base",
            "top": null,
            "grid_column": null,
            "overflow_y": null,
            "overflow_x": null,
            "grid_auto_flow": null,
            "grid_area": null,
            "grid_template_columns": null,
            "flex": null,
            "_model_name": "LayoutModel",
            "justify_items": null,
            "grid_row": null,
            "max_height": null,
            "align_content": null,
            "visibility": null,
            "align_self": null,
            "height": null,
            "min_height": null,
            "padding": null,
            "grid_auto_rows": null,
            "grid_gap": null,
            "max_width": null,
            "order": null,
            "_view_module_version": "1.2.0",
            "grid_template_areas": null,
            "object_position": null,
            "object_fit": null,
            "grid_auto_columns": null,
            "margin": null,
            "display": null,
            "left": null
          }
        },
        "712ebd81c6c34a72b94be2449d154ff3": {
          "model_module": "@jupyter-widgets/controls",
          "model_name": "HBoxModel",
          "model_module_version": "1.5.0",
          "state": {
            "_view_name": "HBoxView",
            "_dom_classes": [],
            "_model_name": "HBoxModel",
            "_view_module": "@jupyter-widgets/controls",
            "_model_module_version": "1.5.0",
            "_view_count": null,
            "_view_module_version": "1.5.0",
            "box_style": "",
            "layout": "IPY_MODEL_2ccf07d58efe42bca1917a618439e1df",
            "_model_module": "@jupyter-widgets/controls",
            "children": [
              "IPY_MODEL_a7e527eae325494bb3cc6daf15068935",
              "IPY_MODEL_8a335a668c764b24aa33f7e53882cbdc",
              "IPY_MODEL_f3b0068fe556440992223399699c201a"
            ]
          }
        },
        "2ccf07d58efe42bca1917a618439e1df": {
          "model_module": "@jupyter-widgets/base",
          "model_name": "LayoutModel",
          "model_module_version": "1.2.0",
          "state": {
            "_view_name": "LayoutView",
            "grid_template_rows": null,
            "right": null,
            "justify_content": null,
            "_view_module": "@jupyter-widgets/base",
            "overflow": null,
            "_model_module_version": "1.2.0",
            "_view_count": null,
            "flex_flow": null,
            "width": null,
            "min_width": null,
            "border": null,
            "align_items": null,
            "bottom": null,
            "_model_module": "@jupyter-widgets/base",
            "top": null,
            "grid_column": null,
            "overflow_y": null,
            "overflow_x": null,
            "grid_auto_flow": null,
            "grid_area": null,
            "grid_template_columns": null,
            "flex": null,
            "_model_name": "LayoutModel",
            "justify_items": null,
            "grid_row": null,
            "max_height": null,
            "align_content": null,
            "visibility": null,
            "align_self": null,
            "height": null,
            "min_height": null,
            "padding": null,
            "grid_auto_rows": null,
            "grid_gap": null,
            "max_width": null,
            "order": null,
            "_view_module_version": "1.2.0",
            "grid_template_areas": null,
            "object_position": null,
            "object_fit": null,
            "grid_auto_columns": null,
            "margin": null,
            "display": null,
            "left": null
          }
        },
        "a7e527eae325494bb3cc6daf15068935": {
          "model_module": "@jupyter-widgets/controls",
          "model_name": "HTMLModel",
          "model_module_version": "1.5.0",
          "state": {
            "_view_name": "HTMLView",
            "style": "IPY_MODEL_657126bf06d24779ab57a561aaad29cb",
            "_dom_classes": [],
            "description": "",
            "_model_name": "HTMLModel",
            "placeholder": "​",
            "_view_module": "@jupyter-widgets/controls",
            "_model_module_version": "1.5.0",
            "value": "val.csv: 100%",
            "_view_count": null,
            "_view_module_version": "1.5.0",
            "description_tooltip": null,
            "_model_module": "@jupyter-widgets/controls",
            "layout": "IPY_MODEL_1a35f0fe498748d2be9f155b7d537f0a"
          }
        },
        "8a335a668c764b24aa33f7e53882cbdc": {
          "model_module": "@jupyter-widgets/controls",
          "model_name": "FloatProgressModel",
          "model_module_version": "1.5.0",
          "state": {
            "_view_name": "ProgressView",
            "style": "IPY_MODEL_49f1d3c8bef042dc932602176b490d1b",
            "_dom_classes": [],
            "description": "",
            "_model_name": "FloatProgressModel",
            "bar_style": "success",
            "max": 82778,
            "_view_module": "@jupyter-widgets/controls",
            "_model_module_version": "1.5.0",
            "value": 82778,
            "_view_count": null,
            "_view_module_version": "1.5.0",
            "orientation": "horizontal",
            "min": 0,
            "description_tooltip": null,
            "_model_module": "@jupyter-widgets/controls",
            "layout": "IPY_MODEL_b69ec5ea98d44c47b0f3e9fd86c6a8b3"
          }
        },
        "f3b0068fe556440992223399699c201a": {
          "model_module": "@jupyter-widgets/controls",
          "model_name": "HTMLModel",
          "model_module_version": "1.5.0",
          "state": {
            "_view_name": "HTMLView",
            "style": "IPY_MODEL_9f1852d175ac4e99937da73cd1dcdd06",
            "_dom_classes": [],
            "description": "",
            "_model_name": "HTMLModel",
            "placeholder": "​",
            "_view_module": "@jupyter-widgets/controls",
            "_model_module_version": "1.5.0",
            "value": " 82.8k/82.8k [00:00&lt;00:00, 1.41MB/s]",
            "_view_count": null,
            "_view_module_version": "1.5.0",
            "description_tooltip": null,
            "_model_module": "@jupyter-widgets/controls",
            "layout": "IPY_MODEL_8efbd55943b0410d82c5f5d5c84d6a0e"
          }
        },
        "657126bf06d24779ab57a561aaad29cb": {
          "model_module": "@jupyter-widgets/controls",
          "model_name": "DescriptionStyleModel",
          "model_module_version": "1.5.0",
          "state": {
            "_view_name": "StyleView",
            "_model_name": "DescriptionStyleModel",
            "description_width": "",
            "_view_module": "@jupyter-widgets/base",
            "_model_module_version": "1.5.0",
            "_view_count": null,
            "_view_module_version": "1.2.0",
            "_model_module": "@jupyter-widgets/controls"
          }
        },
        "1a35f0fe498748d2be9f155b7d537f0a": {
          "model_module": "@jupyter-widgets/base",
          "model_name": "LayoutModel",
          "model_module_version": "1.2.0",
          "state": {
            "_view_name": "LayoutView",
            "grid_template_rows": null,
            "right": null,
            "justify_content": null,
            "_view_module": "@jupyter-widgets/base",
            "overflow": null,
            "_model_module_version": "1.2.0",
            "_view_count": null,
            "flex_flow": null,
            "width": null,
            "min_width": null,
            "border": null,
            "align_items": null,
            "bottom": null,
            "_model_module": "@jupyter-widgets/base",
            "top": null,
            "grid_column": null,
            "overflow_y": null,
            "overflow_x": null,
            "grid_auto_flow": null,
            "grid_area": null,
            "grid_template_columns": null,
            "flex": null,
            "_model_name": "LayoutModel",
            "justify_items": null,
            "grid_row": null,
            "max_height": null,
            "align_content": null,
            "visibility": null,
            "align_self": null,
            "height": null,
            "min_height": null,
            "padding": null,
            "grid_auto_rows": null,
            "grid_gap": null,
            "max_width": null,
            "order": null,
            "_view_module_version": "1.2.0",
            "grid_template_areas": null,
            "object_position": null,
            "object_fit": null,
            "grid_auto_columns": null,
            "margin": null,
            "display": null,
            "left": null
          }
        },
        "49f1d3c8bef042dc932602176b490d1b": {
          "model_module": "@jupyter-widgets/controls",
          "model_name": "ProgressStyleModel",
          "model_module_version": "1.5.0",
          "state": {
            "_view_name": "StyleView",
            "_model_name": "ProgressStyleModel",
            "description_width": "",
            "_view_module": "@jupyter-widgets/base",
            "_model_module_version": "1.5.0",
            "_view_count": null,
            "_view_module_version": "1.2.0",
            "bar_color": null,
            "_model_module": "@jupyter-widgets/controls"
          }
        },
        "b69ec5ea98d44c47b0f3e9fd86c6a8b3": {
          "model_module": "@jupyter-widgets/base",
          "model_name": "LayoutModel",
          "model_module_version": "1.2.0",
          "state": {
            "_view_name": "LayoutView",
            "grid_template_rows": null,
            "right": null,
            "justify_content": null,
            "_view_module": "@jupyter-widgets/base",
            "overflow": null,
            "_model_module_version": "1.2.0",
            "_view_count": null,
            "flex_flow": null,
            "width": null,
            "min_width": null,
            "border": null,
            "align_items": null,
            "bottom": null,
            "_model_module": "@jupyter-widgets/base",
            "top": null,
            "grid_column": null,
            "overflow_y": null,
            "overflow_x": null,
            "grid_auto_flow": null,
            "grid_area": null,
            "grid_template_columns": null,
            "flex": null,
            "_model_name": "LayoutModel",
            "justify_items": null,
            "grid_row": null,
            "max_height": null,
            "align_content": null,
            "visibility": null,
            "align_self": null,
            "height": null,
            "min_height": null,
            "padding": null,
            "grid_auto_rows": null,
            "grid_gap": null,
            "max_width": null,
            "order": null,
            "_view_module_version": "1.2.0",
            "grid_template_areas": null,
            "object_position": null,
            "object_fit": null,
            "grid_auto_columns": null,
            "margin": null,
            "display": null,
            "left": null
          }
        },
        "9f1852d175ac4e99937da73cd1dcdd06": {
          "model_module": "@jupyter-widgets/controls",
          "model_name": "DescriptionStyleModel",
          "model_module_version": "1.5.0",
          "state": {
            "_view_name": "StyleView",
            "_model_name": "DescriptionStyleModel",
            "description_width": "",
            "_view_module": "@jupyter-widgets/base",
            "_model_module_version": "1.5.0",
            "_view_count": null,
            "_view_module_version": "1.2.0",
            "_model_module": "@jupyter-widgets/controls"
          }
        },
        "8efbd55943b0410d82c5f5d5c84d6a0e": {
          "model_module": "@jupyter-widgets/base",
          "model_name": "LayoutModel",
          "model_module_version": "1.2.0",
          "state": {
            "_view_name": "LayoutView",
            "grid_template_rows": null,
            "right": null,
            "justify_content": null,
            "_view_module": "@jupyter-widgets/base",
            "overflow": null,
            "_model_module_version": "1.2.0",
            "_view_count": null,
            "flex_flow": null,
            "width": null,
            "min_width": null,
            "border": null,
            "align_items": null,
            "bottom": null,
            "_model_module": "@jupyter-widgets/base",
            "top": null,
            "grid_column": null,
            "overflow_y": null,
            "overflow_x": null,
            "grid_auto_flow": null,
            "grid_area": null,
            "grid_template_columns": null,
            "flex": null,
            "_model_name": "LayoutModel",
            "justify_items": null,
            "grid_row": null,
            "max_height": null,
            "align_content": null,
            "visibility": null,
            "align_self": null,
            "height": null,
            "min_height": null,
            "padding": null,
            "grid_auto_rows": null,
            "grid_gap": null,
            "max_width": null,
            "order": null,
            "_view_module_version": "1.2.0",
            "grid_template_areas": null,
            "object_position": null,
            "object_fit": null,
            "grid_auto_columns": null,
            "margin": null,
            "display": null,
            "left": null
          }
        },
        "97e2d65cc26f48bdbb0975fb23d640fb": {
          "model_module": "@jupyter-widgets/controls",
          "model_name": "HBoxModel",
          "model_module_version": "1.5.0",
          "state": {
            "_view_name": "HBoxView",
            "_dom_classes": [],
            "_model_name": "HBoxModel",
            "_view_module": "@jupyter-widgets/controls",
            "_model_module_version": "1.5.0",
            "_view_count": null,
            "_view_module_version": "1.5.0",
            "box_style": "",
            "layout": "IPY_MODEL_3cf9b123b3374721a24d0c21a4e07182",
            "_model_module": "@jupyter-widgets/controls",
            "children": [
              "IPY_MODEL_e3e5c59087924391b4e6daafd1b704e4",
              "IPY_MODEL_7820ac2d191541ce8ebd988b38510d99",
              "IPY_MODEL_d497f8d1c35648c18c951981a7ec2eee"
            ]
          }
        },
        "3cf9b123b3374721a24d0c21a4e07182": {
          "model_module": "@jupyter-widgets/base",
          "model_name": "LayoutModel",
          "model_module_version": "1.2.0",
          "state": {
            "_view_name": "LayoutView",
            "grid_template_rows": null,
            "right": null,
            "justify_content": null,
            "_view_module": "@jupyter-widgets/base",
            "overflow": null,
            "_model_module_version": "1.2.0",
            "_view_count": null,
            "flex_flow": null,
            "width": null,
            "min_width": null,
            "border": null,
            "align_items": null,
            "bottom": null,
            "_model_module": "@jupyter-widgets/base",
            "top": null,
            "grid_column": null,
            "overflow_y": null,
            "overflow_x": null,
            "grid_auto_flow": null,
            "grid_area": null,
            "grid_template_columns": null,
            "flex": null,
            "_model_name": "LayoutModel",
            "justify_items": null,
            "grid_row": null,
            "max_height": null,
            "align_content": null,
            "visibility": null,
            "align_self": null,
            "height": null,
            "min_height": null,
            "padding": null,
            "grid_auto_rows": null,
            "grid_gap": null,
            "max_width": null,
            "order": null,
            "_view_module_version": "1.2.0",
            "grid_template_areas": null,
            "object_position": null,
            "object_fit": null,
            "grid_auto_columns": null,
            "margin": null,
            "display": null,
            "left": null
          }
        },
        "e3e5c59087924391b4e6daafd1b704e4": {
          "model_module": "@jupyter-widgets/controls",
          "model_name": "HTMLModel",
          "model_module_version": "1.5.0",
          "state": {
            "_view_name": "HTMLView",
            "style": "IPY_MODEL_b29d506bfd95458bbb4f7f323db112f0",
            "_dom_classes": [],
            "description": "",
            "_model_name": "HTMLModel",
            "placeholder": "​",
            "_view_module": "@jupyter-widgets/controls",
            "_model_module_version": "1.5.0",
            "value": "val.zip: 100%",
            "_view_count": null,
            "_view_module_version": "1.5.0",
            "description_tooltip": null,
            "_model_module": "@jupyter-widgets/controls",
            "layout": "IPY_MODEL_46ccec6cf5a24a3db03acee1061ed64e"
          }
        },
        "7820ac2d191541ce8ebd988b38510d99": {
          "model_module": "@jupyter-widgets/controls",
          "model_name": "FloatProgressModel",
          "model_module_version": "1.5.0",
          "state": {
            "_view_name": "ProgressView",
            "style": "IPY_MODEL_318dad30b32e4a9582da16045027b47b",
            "_dom_classes": [],
            "description": "",
            "_model_name": "FloatProgressModel",
            "bar_style": "success",
            "max": 137232017,
            "_view_module": "@jupyter-widgets/controls",
            "_model_module_version": "1.5.0",
            "value": 137232017,
            "_view_count": null,
            "_view_module_version": "1.5.0",
            "orientation": "horizontal",
            "min": 0,
            "description_tooltip": null,
            "_model_module": "@jupyter-widgets/controls",
            "layout": "IPY_MODEL_8805c703a0e2464899e909166a3bb20d"
          }
        },
        "d497f8d1c35648c18c951981a7ec2eee": {
          "model_module": "@jupyter-widgets/controls",
          "model_name": "HTMLModel",
          "model_module_version": "1.5.0",
          "state": {
            "_view_name": "HTMLView",
            "style": "IPY_MODEL_562eec52ce3b4aa2b91a54e2d0c824c3",
            "_dom_classes": [],
            "description": "",
            "_model_name": "HTMLModel",
            "placeholder": "​",
            "_view_module": "@jupyter-widgets/controls",
            "_model_module_version": "1.5.0",
            "value": " 137M/137M [00:17&lt;00:00, 7.95MB/s]",
            "_view_count": null,
            "_view_module_version": "1.5.0",
            "description_tooltip": null,
            "_model_module": "@jupyter-widgets/controls",
            "layout": "IPY_MODEL_ca3603ab6bee4df4a6df3fed8bcef31a"
          }
        },
        "b29d506bfd95458bbb4f7f323db112f0": {
          "model_module": "@jupyter-widgets/controls",
          "model_name": "DescriptionStyleModel",
          "model_module_version": "1.5.0",
          "state": {
            "_view_name": "StyleView",
            "_model_name": "DescriptionStyleModel",
            "description_width": "",
            "_view_module": "@jupyter-widgets/base",
            "_model_module_version": "1.5.0",
            "_view_count": null,
            "_view_module_version": "1.2.0",
            "_model_module": "@jupyter-widgets/controls"
          }
        },
        "46ccec6cf5a24a3db03acee1061ed64e": {
          "model_module": "@jupyter-widgets/base",
          "model_name": "LayoutModel",
          "model_module_version": "1.2.0",
          "state": {
            "_view_name": "LayoutView",
            "grid_template_rows": null,
            "right": null,
            "justify_content": null,
            "_view_module": "@jupyter-widgets/base",
            "overflow": null,
            "_model_module_version": "1.2.0",
            "_view_count": null,
            "flex_flow": null,
            "width": null,
            "min_width": null,
            "border": null,
            "align_items": null,
            "bottom": null,
            "_model_module": "@jupyter-widgets/base",
            "top": null,
            "grid_column": null,
            "overflow_y": null,
            "overflow_x": null,
            "grid_auto_flow": null,
            "grid_area": null,
            "grid_template_columns": null,
            "flex": null,
            "_model_name": "LayoutModel",
            "justify_items": null,
            "grid_row": null,
            "max_height": null,
            "align_content": null,
            "visibility": null,
            "align_self": null,
            "height": null,
            "min_height": null,
            "padding": null,
            "grid_auto_rows": null,
            "grid_gap": null,
            "max_width": null,
            "order": null,
            "_view_module_version": "1.2.0",
            "grid_template_areas": null,
            "object_position": null,
            "object_fit": null,
            "grid_auto_columns": null,
            "margin": null,
            "display": null,
            "left": null
          }
        },
        "318dad30b32e4a9582da16045027b47b": {
          "model_module": "@jupyter-widgets/controls",
          "model_name": "ProgressStyleModel",
          "model_module_version": "1.5.0",
          "state": {
            "_view_name": "StyleView",
            "_model_name": "ProgressStyleModel",
            "description_width": "",
            "_view_module": "@jupyter-widgets/base",
            "_model_module_version": "1.5.0",
            "_view_count": null,
            "_view_module_version": "1.2.0",
            "bar_color": null,
            "_model_module": "@jupyter-widgets/controls"
          }
        },
        "8805c703a0e2464899e909166a3bb20d": {
          "model_module": "@jupyter-widgets/base",
          "model_name": "LayoutModel",
          "model_module_version": "1.2.0",
          "state": {
            "_view_name": "LayoutView",
            "grid_template_rows": null,
            "right": null,
            "justify_content": null,
            "_view_module": "@jupyter-widgets/base",
            "overflow": null,
            "_model_module_version": "1.2.0",
            "_view_count": null,
            "flex_flow": null,
            "width": null,
            "min_width": null,
            "border": null,
            "align_items": null,
            "bottom": null,
            "_model_module": "@jupyter-widgets/base",
            "top": null,
            "grid_column": null,
            "overflow_y": null,
            "overflow_x": null,
            "grid_auto_flow": null,
            "grid_area": null,
            "grid_template_columns": null,
            "flex": null,
            "_model_name": "LayoutModel",
            "justify_items": null,
            "grid_row": null,
            "max_height": null,
            "align_content": null,
            "visibility": null,
            "align_self": null,
            "height": null,
            "min_height": null,
            "padding": null,
            "grid_auto_rows": null,
            "grid_gap": null,
            "max_width": null,
            "order": null,
            "_view_module_version": "1.2.0",
            "grid_template_areas": null,
            "object_position": null,
            "object_fit": null,
            "grid_auto_columns": null,
            "margin": null,
            "display": null,
            "left": null
          }
        },
        "562eec52ce3b4aa2b91a54e2d0c824c3": {
          "model_module": "@jupyter-widgets/controls",
          "model_name": "DescriptionStyleModel",
          "model_module_version": "1.5.0",
          "state": {
            "_view_name": "StyleView",
            "_model_name": "DescriptionStyleModel",
            "description_width": "",
            "_view_module": "@jupyter-widgets/base",
            "_model_module_version": "1.5.0",
            "_view_count": null,
            "_view_module_version": "1.2.0",
            "_model_module": "@jupyter-widgets/controls"
          }
        },
        "ca3603ab6bee4df4a6df3fed8bcef31a": {
          "model_module": "@jupyter-widgets/base",
          "model_name": "LayoutModel",
          "model_module_version": "1.2.0",
          "state": {
            "_view_name": "LayoutView",
            "grid_template_rows": null,
            "right": null,
            "justify_content": null,
            "_view_module": "@jupyter-widgets/base",
            "overflow": null,
            "_model_module_version": "1.2.0",
            "_view_count": null,
            "flex_flow": null,
            "width": null,
            "min_width": null,
            "border": null,
            "align_items": null,
            "bottom": null,
            "_model_module": "@jupyter-widgets/base",
            "top": null,
            "grid_column": null,
            "overflow_y": null,
            "overflow_x": null,
            "grid_auto_flow": null,
            "grid_area": null,
            "grid_template_columns": null,
            "flex": null,
            "_model_name": "LayoutModel",
            "justify_items": null,
            "grid_row": null,
            "max_height": null,
            "align_content": null,
            "visibility": null,
            "align_self": null,
            "height": null,
            "min_height": null,
            "padding": null,
            "grid_auto_rows": null,
            "grid_gap": null,
            "max_width": null,
            "order": null,
            "_view_module_version": "1.2.0",
            "grid_template_areas": null,
            "object_position": null,
            "object_fit": null,
            "grid_auto_columns": null,
            "margin": null,
            "display": null,
            "left": null
          }
        },
        "b68fe41d45a845d58537619e750c8b8e": {
          "model_module": "@jupyter-widgets/output",
          "model_name": "OutputModel",
          "model_module_version": "1.0.0",
          "state": {
            "_view_name": "OutputView",
            "msg_id": "",
            "_dom_classes": [],
            "_model_name": "OutputModel",
            "outputs": [
              {
                "output_type": "display_data",
                "data": {
                  "text/html": "<pre style=\"white-space:pre;overflow-x:auto;line-height:normal;font-family:Menlo,'DejaVu Sans Mono',consolas,'Courier New',monospace\"><span style=\"color: #000080; text-decoration-color: #000080; font-weight: bold\">submission.zip</span> <span style=\"color: #729c1f; text-decoration-color: #729c1f\">━━━━━━━━━━━━━━━━━━━━━━━━━━━━━━━━━━━</span> <span style=\"color: #800080; text-decoration-color: #800080\">100.0%</span> • <span style=\"color: #008000; text-decoration-color: #008000\">1.0/1.0 MB</span> • <span style=\"color: #800000; text-decoration-color: #800000\">520.5 kB/s</span> • <span style=\"color: #008080; text-decoration-color: #008080\">0:00:00</span>\n</pre>\n",
                  "text/plain": "\u001b[1;34msubmission.zip\u001b[0m \u001b[38;2;114;156;31m━━━━━━━━━━━━━━━━━━━━━━━━━━━━━━━━━━━\u001b[0m \u001b[35m100.0%\u001b[0m • \u001b[32m1.0/1.0 MB\u001b[0m • \u001b[31m520.5 kB/s\u001b[0m • \u001b[36m0:00:00\u001b[0m\n"
                },
                "metadata": {}
              }
            ],
            "_view_module": "@jupyter-widgets/output",
            "_model_module_version": "1.0.0",
            "_view_count": null,
            "_view_module_version": "1.0.0",
            "layout": "IPY_MODEL_5df1570fb97840c78ba10867e1e15c7c",
            "_model_module": "@jupyter-widgets/output"
          }
        },
        "5df1570fb97840c78ba10867e1e15c7c": {
          "model_module": "@jupyter-widgets/base",
          "model_name": "LayoutModel",
          "model_module_version": "1.2.0",
          "state": {
            "_view_name": "LayoutView",
            "grid_template_rows": null,
            "right": null,
            "justify_content": null,
            "_view_module": "@jupyter-widgets/base",
            "overflow": null,
            "_model_module_version": "1.2.0",
            "_view_count": null,
            "flex_flow": null,
            "width": null,
            "min_width": null,
            "border": null,
            "align_items": null,
            "bottom": null,
            "_model_module": "@jupyter-widgets/base",
            "top": null,
            "grid_column": null,
            "overflow_y": null,
            "overflow_x": null,
            "grid_auto_flow": null,
            "grid_area": null,
            "grid_template_columns": null,
            "flex": null,
            "_model_name": "LayoutModel",
            "justify_items": null,
            "grid_row": null,
            "max_height": null,
            "align_content": null,
            "visibility": null,
            "align_self": null,
            "height": null,
            "min_height": null,
            "padding": null,
            "grid_auto_rows": null,
            "grid_gap": null,
            "max_width": null,
            "order": null,
            "_view_module_version": "1.2.0",
            "grid_template_areas": null,
            "object_position": null,
            "object_fit": null,
            "grid_auto_columns": null,
            "margin": null,
            "display": null,
            "left": null
          }
        }
      }
    },
    "accelerator": "GPU"
  },
  "cells": [
    {
      "cell_type": "markdown",
      "source": [
        "![](https://images.aicrowd.com/raw_images/challenges/banner_file/1020/d25db945a27379961cea.png)"
      ],
      "metadata": {
        "id": "qjiA2Ccn_b7y"
      }
    },
    {
      "cell_type": "markdown",
      "source": [
        "<h2><center> Getting Started with Mask Recognition Challenge</center></h2>\n",
        "\n",
        "In this puzzle, we have detect mask type and bounding box of the mask from the image of human face. \n",
        "\n",
        "In this notebook, we'll use the naive approach to prepare the baseline for this puzzle. \n",
        "\n",
        "\n",
        "Naive Approach\n",
        "---\n",
        "\n",
        "*   We will create bounding box that will detect the face and crop the image as per the co-ordinates of bounding box from image. \n",
        "*   Once we've the cropped image(It'll have the image of mask), we'll feed the data to train classifier which will classify the mask.\n",
        "\n",
        "\n",
        "\n"
      ],
      "metadata": {
        "id": "HkvtNQEJa_fB"
      }
    },
    {
      "cell_type": "markdown",
      "metadata": {
        "id": "OTH-V7VePU7Q"
      },
      "source": [
        "# Setting up Environment"
      ]
    },
    {
      "cell_type": "markdown",
      "metadata": {
        "id": "q4ohW-A7PSzk"
      },
      "source": [
        "### Downloading Dataset\n",
        "\n",
        "So we will first need to download the python library by AIcrowd that will allow us to download the dataset by just inputting the API key. "
      ]
    },
    {
      "cell_type": "code",
      "metadata": {
        "id": "EyqYx7UVBf57"
      },
      "source": [
        "%%capture\n",
        "!pip install aicrowd-cli\n",
        "\n",
        "%load_ext aicrowd.magic"
      ],
      "execution_count": null,
      "outputs": []
    },
    {
      "cell_type": "markdown",
      "source": [
        "\n",
        "## Login to AIcrowd ㊗¶\n"
      ],
      "metadata": {
        "id": "DQ_4QKPRasfB"
      }
    },
    {
      "cell_type": "code",
      "metadata": {
        "id": "5osQtAkNlK3l",
        "colab": {
          "base_uri": "https://localhost:8080/"
        },
        "outputId": "467f156a-01ac-48f0-eb57-4bfdb4562998"
      },
      "source": [
        "%aicrowd login"
      ],
      "execution_count": null,
      "outputs": [
        {
          "output_type": "stream",
          "name": "stdout",
          "text": [
            "Please login here: \u001b[34m\u001b[1m\u001b[4mhttps://api.aicrowd.com/auth/CuH2t5beAhrhnUwmpbKoFbF7i3Mp6qFD6Fr73un1CA0\u001b[0m\n",
            "\u001b[32mAPI Key valid\u001b[0m\n",
            "\u001b[32mGitlab access token valid\u001b[0m\n",
            "\u001b[32mSaved details successfully!\u001b[0m\n"
          ]
        }
      ]
    },
    {
      "cell_type": "markdown",
      "source": [
        "\n",
        "## Download Dataset¶\n",
        "\n",
        "We will create a folder name data and download the files there.\n"
      ],
      "metadata": {
        "id": "Jo62NbdmazM6"
      }
    },
    {
      "cell_type": "code",
      "metadata": {
        "colab": {
          "base_uri": "https://localhost:8080/",
          "height": 237,
          "referenced_widgets": [
            "3fea4d3cb12847c2a2d7fc19d76ac4fc",
            "708ae892061e4e87b9dd5dcd3a86097e",
            "0d7ac131e9ed4323ab80405b1f3d96dc",
            "591097b5b8bc4fb3b795abffdcbd16e5",
            "2aaa0bd7f6154c3187cc7616d81fe8e4",
            "beb35bb37f0b43339cc62790438c2cbc",
            "46f584978bc749c4bd780a0e6310f678",
            "eb078cb2ab9c4ceab3fbf0a9355a7a93",
            "43f4e690365b4167b866d7210b702c77",
            "4e577e31c2ab4e09943218b1eeefdd33",
            "fcff15991016405ebbf6eeb06bdb6351",
            "495332af16e041e4987355051cd5d3b2",
            "fd1e09dc700e42f082c0bfd4eae3e319",
            "e5f83b7d690942e7ba2b180932bf810d",
            "815a96fa98d641ce98928b51b7d00239",
            "dd232e59568d45cb912aaa2983272958",
            "6ae5f435a6544cfbb8550ea06306db08",
            "ac4050238d4b40969aa188485bbc3b03",
            "cd862b880973489f83cd9734ec8a4127",
            "9b1e2e6b1c5f4e2ab6eaa7f33260f4a7",
            "5d330cc7173a4cc992b3363288024665",
            "6a2ba115b1204f4699fd309335284f85",
            "9520a6f14f214db7b0db937f52ddd484",
            "af3b2ca328834f7f9df32017eaaedb73",
            "0ede500d75af4ada8a5f3db1279f3e1a",
            "84c8487e00d0483fb5fd8dd2ac52c9c9",
            "a8ce4357e1904a0980da3cc9fe7bc74b",
            "ffe569fa9cc5411582afa01cfb3465bc",
            "a386b863024c4310a6be4858c3b8453c",
            "6aad26df890545adbf252c42aad102fa",
            "34c8b05a66f74a1abb0058af79ddd6cb",
            "b96025ea00364c5cbcc2d2b4eed7bdec",
            "02ea11270bae4f0d9b3cf5da9d19222e",
            "7a3c50695c1f473abef1ec82cda1ecf9",
            "4d90e3de82bd4291960699a23b37b8b3",
            "48bbb4937bcb43e7930bc234197e803f",
            "4ed38092e9484fd4bac5a039980c77b7",
            "58ae4a135b6346d2ba0db70cb346dd69",
            "9c8f512753cb4c95886ea3860e01e350",
            "2b27b43ac67340538e1f97bb430d2de6",
            "51c5735f56f44bc5aff2040c34e25eaa",
            "9262505d6f2b40c8b3e8a7870894841e",
            "88fdd87df1a74f23a0f09d3331514898",
            "ab59813fe37f4bf3b47305635a285dff",
            "712ebd81c6c34a72b94be2449d154ff3",
            "2ccf07d58efe42bca1917a618439e1df",
            "a7e527eae325494bb3cc6daf15068935",
            "8a335a668c764b24aa33f7e53882cbdc",
            "f3b0068fe556440992223399699c201a",
            "657126bf06d24779ab57a561aaad29cb",
            "1a35f0fe498748d2be9f155b7d537f0a",
            "49f1d3c8bef042dc932602176b490d1b",
            "b69ec5ea98d44c47b0f3e9fd86c6a8b3",
            "9f1852d175ac4e99937da73cd1dcdd06",
            "8efbd55943b0410d82c5f5d5c84d6a0e",
            "97e2d65cc26f48bdbb0975fb23d640fb",
            "3cf9b123b3374721a24d0c21a4e07182",
            "e3e5c59087924391b4e6daafd1b704e4",
            "7820ac2d191541ce8ebd988b38510d99",
            "d497f8d1c35648c18c951981a7ec2eee",
            "b29d506bfd95458bbb4f7f323db112f0",
            "46ccec6cf5a24a3db03acee1061ed64e",
            "318dad30b32e4a9582da16045027b47b",
            "8805c703a0e2464899e909166a3bb20d",
            "562eec52ce3b4aa2b91a54e2d0c824c3",
            "ca3603ab6bee4df4a6df3fed8bcef31a"
          ]
        },
        "id": "m2yCXL6kBkDv",
        "outputId": "c5079aad-f9eb-44f0-98d8-e4d5c957b023"
      },
      "source": [
        "!rm -rf data\n",
        "!mkdir data\n",
        "%aicrowd ds dl -c mask-prediction -o data"
      ],
      "execution_count": null,
      "outputs": [
        {
          "output_type": "display_data",
          "data": {
            "application/vnd.jupyter.widget-view+json": {
              "model_id": "3fea4d3cb12847c2a2d7fc19d76ac4fc",
              "version_minor": 0,
              "version_major": 2
            },
            "text/plain": [
              "sample_submission.csv:   0%|          | 0.00/44.0k [00:00<?, ?B/s]"
            ]
          },
          "metadata": {}
        },
        {
          "output_type": "display_data",
          "data": {
            "application/vnd.jupyter.widget-view+json": {
              "model_id": "495332af16e041e4987355051cd5d3b2",
              "version_minor": 0,
              "version_major": 2
            },
            "text/plain": [
              "test.zip:   0%|          | 0.00/115M [00:00<?, ?B/s]"
            ]
          },
          "metadata": {}
        },
        {
          "output_type": "display_data",
          "data": {
            "application/vnd.jupyter.widget-view+json": {
              "model_id": "9520a6f14f214db7b0db937f52ddd484",
              "version_minor": 0,
              "version_major": 2
            },
            "text/plain": [
              "train.csv:   0%|          | 0.00/193k [00:00<?, ?B/s]"
            ]
          },
          "metadata": {}
        },
        {
          "output_type": "display_data",
          "data": {
            "application/vnd.jupyter.widget-view+json": {
              "model_id": "7a3c50695c1f473abef1ec82cda1ecf9",
              "version_minor": 0,
              "version_major": 2
            },
            "text/plain": [
              "train.zip:   0%|          | 0.00/318M [00:00<?, ?B/s]"
            ]
          },
          "metadata": {}
        },
        {
          "output_type": "display_data",
          "data": {
            "application/vnd.jupyter.widget-view+json": {
              "model_id": "712ebd81c6c34a72b94be2449d154ff3",
              "version_minor": 0,
              "version_major": 2
            },
            "text/plain": [
              "val.csv:   0%|          | 0.00/82.8k [00:00<?, ?B/s]"
            ]
          },
          "metadata": {}
        },
        {
          "output_type": "display_data",
          "data": {
            "application/vnd.jupyter.widget-view+json": {
              "model_id": "97e2d65cc26f48bdbb0975fb23d640fb",
              "version_minor": 0,
              "version_major": 2
            },
            "text/plain": [
              "val.zip:   0%|          | 0.00/137M [00:00<?, ?B/s]"
            ]
          },
          "metadata": {}
        }
      ]
    },
    {
      "cell_type": "code",
      "metadata": {
        "id": "1aglh49wDRRp"
      },
      "source": [
        "!unzip data/train.zip -d data/ > /dev/null\n",
        "!unzip data/val.zip -d data/ > /dev/null\n",
        "!unzip data/test.zip -d data/ > /dev/null"
      ],
      "execution_count": null,
      "outputs": []
    },
    {
      "cell_type": "markdown",
      "metadata": {
        "id": "Ahd2ZMYFCjrU"
      },
      "source": [
        "# Importing Libraries"
      ]
    },
    {
      "cell_type": "code",
      "metadata": {
        "id": "stwwufBXCglz"
      },
      "source": [
        "#Reading the file\n",
        "import pandas as pd\n",
        "import numpy as np\n",
        "import os\n",
        "from ast import literal_eval\n",
        "\n",
        "# Image Reading & Preprocessing\n",
        "from PIL import Image, ImageDraw\n",
        "import cv2\n",
        "import matplotlib.pyplot as plt\n",
        "import numpy as np\n",
        "import seaborn as sns\n",
        "\n",
        "# Misc.\n",
        "from tqdm.notebook import tqdm\n",
        "from sklearn.ensemble import RandomForestClassifier\n",
        "from sklearn.preprocessing import LabelBinarizer\n",
        "from sklearn.model_selection import train_test_split\n",
        "from imutils import paths\n",
        "import mimetypes\n",
        "import argparse\n",
        "import imutils\n",
        "\n",
        "# tensorflow\n",
        "import tensorflow.keras as keras\n",
        "import tensorflow as tf\n",
        "from tensorflow.keras.layers import Input"
      ],
      "execution_count": null,
      "outputs": []
    },
    {
      "cell_type": "code",
      "source": [
        ""
      ],
      "metadata": {
        "id": "JImzQwpFeVFA"
      },
      "execution_count": null,
      "outputs": []
    },
    {
      "cell_type": "markdown",
      "source": [
        "# Diving in the dataset 🕵️‍♂️"
      ],
      "metadata": {
        "id": "aUQhLQIjYC-J"
      }
    },
    {
      "cell_type": "code",
      "source": [
        "# define the constant config\n",
        "class Config:\n",
        "\n",
        "  # define the input image path\n",
        "  train_images_path = 'data/train'\n",
        "  val_images_path = 'data/val'\n",
        "  test_images_path = 'data/test'\n",
        "\n",
        "  # define the model hyperparameters\n",
        "  height, width = 190, 190\n",
        "  lr = 1e-4\n",
        "  epochs = 20\n",
        "  batch_size = 32\n",
        "\n",
        "# instantiate the config class\n",
        "config = Config()"
      ],
      "metadata": {
        "id": "yaeYoJ68ng0m"
      },
      "execution_count": null,
      "outputs": []
    },
    {
      "cell_type": "code",
      "source": [
        "train_df = pd.read_csv(\"data/train.csv\")\n",
        "val_df = pd.read_csv(\"data/val.csv\")\n",
        "\n",
        "# evaluate the list column as list, otherwise default as str\n",
        "train_df['bbox'] = train_df['bbox'].apply(literal_eval)\n",
        "val_df['bbox'] = val_df['bbox'].apply(literal_eval)"
      ],
      "metadata": {
        "id": "k4UN2FN4ppVK"
      },
      "execution_count": null,
      "outputs": []
    },
    {
      "cell_type": "code",
      "source": [
        "train_df.head()"
      ],
      "metadata": {
        "colab": {
          "base_uri": "https://localhost:8080/",
          "height": 206
        },
        "id": "sQNDOb7JWg8P",
        "outputId": "b5647b1b-b84e-4152-e168-bec53f5be30c"
      },
      "execution_count": null,
      "outputs": [
        {
          "output_type": "execute_result",
          "data": {
            "text/html": [
              "\n",
              "  <div id=\"df-e88e3ed3-da9c-4c9a-b79d-cd0cbbad51e3\">\n",
              "    <div class=\"colab-df-container\">\n",
              "      <div>\n",
              "<style scoped>\n",
              "    .dataframe tbody tr th:only-of-type {\n",
              "        vertical-align: middle;\n",
              "    }\n",
              "\n",
              "    .dataframe tbody tr th {\n",
              "        vertical-align: top;\n",
              "    }\n",
              "\n",
              "    .dataframe thead th {\n",
              "        text-align: right;\n",
              "    }\n",
              "</style>\n",
              "<table border=\"1\" class=\"dataframe\">\n",
              "  <thead>\n",
              "    <tr style=\"text-align: right;\">\n",
              "      <th></th>\n",
              "      <th>ImageID</th>\n",
              "      <th>bbox</th>\n",
              "      <th>masktype</th>\n",
              "    </tr>\n",
              "  </thead>\n",
              "  <tbody>\n",
              "    <tr>\n",
              "      <th>0</th>\n",
              "      <td>k8o0f</td>\n",
              "      <td>[73, 197, 293, 400]</td>\n",
              "      <td>N95</td>\n",
              "    </tr>\n",
              "    <tr>\n",
              "      <th>1</th>\n",
              "      <td>7a0l9</td>\n",
              "      <td>[47, 364, 300, 512]</td>\n",
              "      <td>surgical</td>\n",
              "    </tr>\n",
              "    <tr>\n",
              "      <th>2</th>\n",
              "      <td>wfp7p</td>\n",
              "      <td>[203, 221, 380, 403]</td>\n",
              "      <td>N95</td>\n",
              "    </tr>\n",
              "    <tr>\n",
              "      <th>3</th>\n",
              "      <td>7qaw6</td>\n",
              "      <td>[87, 210, 322, 385]</td>\n",
              "      <td>surgical</td>\n",
              "    </tr>\n",
              "    <tr>\n",
              "      <th>4</th>\n",
              "      <td>i4kqj</td>\n",
              "      <td>[227, 283, 479, 475]</td>\n",
              "      <td>surgical</td>\n",
              "    </tr>\n",
              "  </tbody>\n",
              "</table>\n",
              "</div>\n",
              "      <button class=\"colab-df-convert\" onclick=\"convertToInteractive('df-e88e3ed3-da9c-4c9a-b79d-cd0cbbad51e3')\"\n",
              "              title=\"Convert this dataframe to an interactive table.\"\n",
              "              style=\"display:none;\">\n",
              "        \n",
              "  <svg xmlns=\"http://www.w3.org/2000/svg\" height=\"24px\"viewBox=\"0 0 24 24\"\n",
              "       width=\"24px\">\n",
              "    <path d=\"M0 0h24v24H0V0z\" fill=\"none\"/>\n",
              "    <path d=\"M18.56 5.44l.94 2.06.94-2.06 2.06-.94-2.06-.94-.94-2.06-.94 2.06-2.06.94zm-11 1L8.5 8.5l.94-2.06 2.06-.94-2.06-.94L8.5 2.5l-.94 2.06-2.06.94zm10 10l.94 2.06.94-2.06 2.06-.94-2.06-.94-.94-2.06-.94 2.06-2.06.94z\"/><path d=\"M17.41 7.96l-1.37-1.37c-.4-.4-.92-.59-1.43-.59-.52 0-1.04.2-1.43.59L10.3 9.45l-7.72 7.72c-.78.78-.78 2.05 0 2.83L4 21.41c.39.39.9.59 1.41.59.51 0 1.02-.2 1.41-.59l7.78-7.78 2.81-2.81c.8-.78.8-2.07 0-2.86zM5.41 20L4 18.59l7.72-7.72 1.47 1.35L5.41 20z\"/>\n",
              "  </svg>\n",
              "      </button>\n",
              "      \n",
              "  <style>\n",
              "    .colab-df-container {\n",
              "      display:flex;\n",
              "      flex-wrap:wrap;\n",
              "      gap: 12px;\n",
              "    }\n",
              "\n",
              "    .colab-df-convert {\n",
              "      background-color: #E8F0FE;\n",
              "      border: none;\n",
              "      border-radius: 50%;\n",
              "      cursor: pointer;\n",
              "      display: none;\n",
              "      fill: #1967D2;\n",
              "      height: 32px;\n",
              "      padding: 0 0 0 0;\n",
              "      width: 32px;\n",
              "    }\n",
              "\n",
              "    .colab-df-convert:hover {\n",
              "      background-color: #E2EBFA;\n",
              "      box-shadow: 0px 1px 2px rgba(60, 64, 67, 0.3), 0px 1px 3px 1px rgba(60, 64, 67, 0.15);\n",
              "      fill: #174EA6;\n",
              "    }\n",
              "\n",
              "    [theme=dark] .colab-df-convert {\n",
              "      background-color: #3B4455;\n",
              "      fill: #D2E3FC;\n",
              "    }\n",
              "\n",
              "    [theme=dark] .colab-df-convert:hover {\n",
              "      background-color: #434B5C;\n",
              "      box-shadow: 0px 1px 3px 1px rgba(0, 0, 0, 0.15);\n",
              "      filter: drop-shadow(0px 1px 2px rgba(0, 0, 0, 0.3));\n",
              "      fill: #FFFFFF;\n",
              "    }\n",
              "  </style>\n",
              "\n",
              "      <script>\n",
              "        const buttonEl =\n",
              "          document.querySelector('#df-e88e3ed3-da9c-4c9a-b79d-cd0cbbad51e3 button.colab-df-convert');\n",
              "        buttonEl.style.display =\n",
              "          google.colab.kernel.accessAllowed ? 'block' : 'none';\n",
              "\n",
              "        async function convertToInteractive(key) {\n",
              "          const element = document.querySelector('#df-e88e3ed3-da9c-4c9a-b79d-cd0cbbad51e3');\n",
              "          const dataTable =\n",
              "            await google.colab.kernel.invokeFunction('convertToInteractive',\n",
              "                                                     [key], {});\n",
              "          if (!dataTable) return;\n",
              "\n",
              "          const docLinkHtml = 'Like what you see? Visit the ' +\n",
              "            '<a target=\"_blank\" href=https://colab.research.google.com/notebooks/data_table.ipynb>data table notebook</a>'\n",
              "            + ' to learn more about interactive tables.';\n",
              "          element.innerHTML = '';\n",
              "          dataTable['output_type'] = 'display_data';\n",
              "          await google.colab.output.renderOutput(dataTable, element);\n",
              "          const docLink = document.createElement('div');\n",
              "          docLink.innerHTML = docLinkHtml;\n",
              "          element.appendChild(docLink);\n",
              "        }\n",
              "      </script>\n",
              "    </div>\n",
              "  </div>\n",
              "  "
            ],
            "text/plain": [
              "  ImageID                  bbox  masktype\n",
              "0   k8o0f   [73, 197, 293, 400]       N95\n",
              "1   7a0l9   [47, 364, 300, 512]  surgical\n",
              "2   wfp7p  [203, 221, 380, 403]       N95\n",
              "3   7qaw6   [87, 210, 322, 385]  surgical\n",
              "4   i4kqj  [227, 283, 479, 475]  surgical"
            ]
          },
          "metadata": {},
          "execution_count": 8
        }
      ]
    },
    {
      "cell_type": "code",
      "source": [
        "plt.title('Histogram of Mask type count')\n",
        "sns.histplot(train_df['masktype'])"
      ],
      "metadata": {
        "colab": {
          "base_uri": "https://localhost:8080/",
          "height": 312
        },
        "id": "s1isr3j7UbhO",
        "outputId": "e641f0c0-bf80-49d9-989e-dcd73b919c85"
      },
      "execution_count": null,
      "outputs": [
        {
          "output_type": "execute_result",
          "data": {
            "text/plain": [
              "<matplotlib.axes._subplots.AxesSubplot at 0x7f49668e7f90>"
            ]
          },
          "metadata": {},
          "execution_count": 9
        },
        {
          "output_type": "display_data",
          "data": {
            "image/png": "[encoded data removed]",
            "text/plain": [
              "<Figure size 432x288 with 1 Axes>"
            ]
          },
          "metadata": {
            "needs_background": "light"
          }
        }
      ]
    },
    {
      "cell_type": "code",
      "source": [
        "# prepare the map to tranlate the label with a index\n",
        "mask_map = {}\n",
        "for idx, m in enumerate(list(train_df['masktype'].unique())):\n",
        "  mask_map[m] = idx\n",
        "mask_map"
      ],
      "metadata": {
        "colab": {
          "base_uri": "https://localhost:8080/"
        },
        "id": "veRLf-xkbl0C",
        "outputId": "c95188e0-90b6-4c79-e5a1-3bee35771c32"
      },
      "execution_count": null,
      "outputs": [
        {
          "output_type": "execute_result",
          "data": {
            "text/plain": [
              "{'KN95': 3, 'N95': 0, 'cloth': 2, 'surgical': 1}"
            ]
          },
          "metadata": {},
          "execution_count": 34
        }
      ]
    },
    {
      "cell_type": "markdown",
      "metadata": {
        "id": "iVgpfJwdDMPx"
      },
      "source": [
        "# Image Preprocessing\n",
        "\n",
        "In this section we are going to learn some opencv functions which can help us detecting the mask from the image!"
      ]
    },
    {
      "cell_type": "code",
      "metadata": {
        "id": "acXdREYsDX4h"
      },
      "source": [
        "def plt_imshow(title, image):\n",
        "  # convert the image frame BGR to RGB color space and display it\n",
        "\timage = cv2.cvtColor(image, cv2.COLOR_BGR2RGB)\n",
        "\tplt.imshow(image)\n",
        "\tplt.title(title)\n",
        "\tplt.grid(False)\n",
        "\tplt.show()"
      ],
      "execution_count": null,
      "outputs": []
    },
    {
      "cell_type": "code",
      "source": [
        "def plt_imshow_box(title, imagePath, coord):\n",
        "\n",
        "  # define the function that will wrap box to image\n",
        "  image = cv2.imread(imagePath)\n",
        "  # add bbox onto the image\n",
        "  cv2.rectangle(image, (coord[0], coord[1]), (coord[2], coord[3])\n",
        "                , (0, 255, 0), 2)\n",
        "  \n",
        "  plt_imshow(title, image)"
      ],
      "metadata": {
        "id": "g3ahbwhrRKCm"
      },
      "execution_count": null,
      "outputs": []
    },
    {
      "cell_type": "code",
      "source": [
        "sample_title = train_df.iloc[0,-1]\n",
        "sample_image = os.path.join(config.train_images_path, train_df.iloc[0,0] + '.jpg')\n",
        "sample_box = train_df.iloc[0, 1]\n",
        "\n",
        "plt_imshow_box(sample_title, sample_image, sample_box)"
      ],
      "metadata": {
        "colab": {
          "base_uri": "https://localhost:8080/",
          "height": 281
        },
        "id": "pgI-N3PvTV13",
        "outputId": "2dd32a00-f003-483a-8984-068e5824bc0d"
      },
      "execution_count": null,
      "outputs": [
        {
          "output_type": "display_data",
          "data": {
            "image/png": "[encoded data removed]",
            "text/plain": [
              "<Figure size 432x288 with 1 Axes>"
            ]
          },
          "metadata": {
            "needs_background": "light"
          }
        }
      ]
    },
    {
      "cell_type": "markdown",
      "source": [
        "Preprocessor\n",
        "----\n",
        "Prepare data for feeding the model. Get numpy array for image, label and bounding box."
      ],
      "metadata": {
        "id": "bFh12QvOaKOi"
      }
    },
    {
      "cell_type": "code",
      "source": [
        "def image_process(image_path, targe_size):\n",
        "  image = cv2.imread(image_path)\n",
        "  original_h, original_w = image.shape[:2]\n",
        "\n",
        "  # preprocess the image\n",
        "  image = keras.utils.load_img(image_path, target_size= targe_size)\n",
        "  image = keras.utils.img_to_array(image)\n",
        "  image = image/ 255.0\n",
        " \n",
        "  return original_h, original_w, image"
      ],
      "metadata": {
        "id": "FpsWTW2fXiy8"
      },
      "execution_count": null,
      "outputs": []
    },
    {
      "cell_type": "code",
      "metadata": {
        "id": "v2z2SqaBPi2-"
      },
      "source": [
        "def preprocessor(folder, dataframe, target_size, map):\n",
        "\n",
        "  # preprocess the dataset from dataframe\n",
        "  data, label, bbox = [], [], []\n",
        "  df = dataframe.copy()\n",
        "\n",
        "  # loop through the dataframe\n",
        "  for idx, row in df.iterrows():\n",
        "    path = os.path.join(folder, row['ImageID'] + '.jpg')\n",
        "    original_h, original_w, image = image_process(path, target_size)\n",
        "\n",
        "    # scale the coordinates according to the image size\n",
        "    coord = row['bbox']\n",
        "    x1, a1 = coord[0] / original_w, coord[2] / original_w\n",
        "    y1, b1 = coord[1] / original_h, coord[3] / original_h\n",
        "\n",
        "    # one-hot label\n",
        "    mask = map[row['masktype']]\n",
        "    one_hot = np.zeros(len(map))\n",
        "    one_hot[mask] = 1\n",
        "\n",
        "    data.append(image)\n",
        "    label.append(one_hot)\n",
        "    bbox.append((x1,y1,a1,b1))\n",
        "  \n",
        "  # transform the list into np.array to fit in the model\n",
        "  data = np.array(data, dtype=\"float32\")\n",
        "  label = np.array(label)\n",
        "  bbox = np.array(bbox, dtype=\"float32\")\n",
        "\n",
        "  return data, label, bbox"
      ],
      "execution_count": null,
      "outputs": []
    },
    {
      "cell_type": "code",
      "source": [
        "#prepare for training\n",
        "train_data, train_label, train_bbox = preprocessor(config.train_images_path,\n",
        "                                                   train_df, \n",
        "                                                   (config.height, config.width),\n",
        "                                                   mask_map)"
      ],
      "metadata": {
        "id": "BrZzBBaVcCh1"
      },
      "execution_count": null,
      "outputs": []
    },
    {
      "cell_type": "code",
      "source": [
        "#prepare for validation\n",
        "val_data, val_label, val_bbox = preprocessor(config.val_images_path,\n",
        "                                             val_df, \n",
        "                                             (config.height, config.width),\n",
        "                                             mask_map)"
      ],
      "metadata": {
        "id": "u_9FQWvvdGHq"
      },
      "execution_count": null,
      "outputs": []
    },
    {
      "cell_type": "code",
      "source": [
        "train_data.shape, val_data.shape"
      ],
      "metadata": {
        "id": "xQvHyOcBZ0sC",
        "colab": {
          "base_uri": "https://localhost:8080/"
        },
        "outputId": "4ff0a081-62c2-44b0-8ff3-6be32a796272"
      },
      "execution_count": null,
      "outputs": [
        {
          "output_type": "execute_result",
          "data": {
            "text/plain": [
              "((5600, 190, 190, 3), (2400, 190, 190, 3))"
            ]
          },
          "metadata": {},
          "execution_count": 41
        }
      ]
    },
    {
      "cell_type": "markdown",
      "source": [
        "# Model\n",
        "\n",
        "As for object detection, we use VGG16."
      ],
      "metadata": {
        "id": "ElqW6cmxZx4K"
      }
    },
    {
      "cell_type": "code",
      "source": [
        "# load the VGG16 network, ensuring the head FC layers are left off\n",
        "vgg = keras.applications.VGG16(weights=\"imagenet\", \n",
        "                               include_top=False,\n",
        "                               input_tensor=Input(shape=(config.height, config.width, 3)))\n",
        "\n",
        "# freeze all VGG layers so they will *not* be updated during the\n",
        "# training process\n",
        "vgg.trainable = False\n",
        "\n",
        "# flatten the max-pooling output of VGG\n",
        "flatten = vgg.output\n",
        "flatten = keras.layers.Flatten()(flatten)"
      ],
      "metadata": {
        "id": "RmvhdLPG7E-m",
        "colab": {
          "base_uri": "https://localhost:8080/"
        },
        "outputId": "eca3622c-1354-4028-91ba-7862196c1fc4"
      },
      "execution_count": null,
      "outputs": [
        {
          "output_type": "stream",
          "name": "stdout",
          "text": [
            "Downloading data from https://storage.googleapis.com/tensorflow/keras-applications/vgg16/vgg16_weights_tf_dim_ordering_tf_kernels_notop.h5\n",
            "58892288/58889256 [==============================] - 0s 0us/step\n",
            "58900480/58889256 [==============================] - 0s 0us/step\n"
          ]
        }
      ]
    },
    {
      "cell_type": "code",
      "source": [
        "# add on the vgg results\n",
        "# bbox\n",
        "bbox_addon = keras.layers.Dense(128, activation = 'relu')(flatten)\n",
        "bbox_addon = keras.layers.Dense(64, activation = 'relu')(bbox_addon)\n",
        "bbox_addon = keras.layers.Dense(32, activation = 'relu')(bbox_addon)\n",
        "bbox_addon = keras.layers.Dense(4, activation = 'sigmoid', \n",
        "                                name = 'box_final')(bbox_addon)\n",
        "\n",
        "# label\n",
        "label_addon = keras.layers.Dense(512, activation = 'relu')(flatten)\n",
        "label_addon = keras.layers.Dropout(0.5)(label_addon)\n",
        "label_addon = keras.layers.Dense(64, activation = 'relu')(label_addon)\n",
        "label_addon = keras.layers.Dropout(0.5)(label_addon)\n",
        "label_addon = keras.layers.Dense(4, activation = 'softmax', \n",
        "                                name = 'label_final')(label_addon)"
      ],
      "metadata": {
        "id": "Dej8Zfr6emKs"
      },
      "execution_count": null,
      "outputs": []
    },
    {
      "cell_type": "code",
      "source": [
        "# add those to output to the VGG\n",
        "model = keras.models.Model(\n",
        "\tinputs=vgg.input,\n",
        "\toutputs=(bbox_addon, label_addon))\n",
        "\n",
        "# print the schema\n",
        "keras.utils.plot_model(model, show_shapes=True)"
      ],
      "metadata": {
        "id": "qIZnqR09ZmFA",
        "colab": {
          "base_uri": "https://localhost:8080/",
          "height": 1000
        },
        "outputId": "8793913a-381f-4305-f468-5e3161f5eaf5"
      },
      "execution_count": null,
      "outputs": [
        {
          "output_type": "execute_result",
          "data": {
            "image/png": "[encoded data removed]",
            "text/plain": [
              "<IPython.core.display.Image object>"
            ]
          },
          "metadata": {},
          "execution_count": 55
        }
      ]
    },
    {
      "cell_type": "code",
      "source": [
        "# define a dictionary to set the loss methods -- categorical\n",
        "# cross-entropy for the class label head and mean absolute error\n",
        "# for the bounding box head\n",
        "losses = {\n",
        "\t\"label_final\": \"categorical_crossentropy\",\n",
        "\t\"box_final\": \"mean_squared_error\",\n",
        "}\n",
        "\n",
        "# define a dictionary that specifies the weights per loss (both the\n",
        "# class label and bounding box outputs will receive equal weight)\n",
        "lossWeights = {\n",
        "\t\"label_final\": 1.0,\n",
        "\t\"box_final\": 1.0\n",
        "}\n",
        "\n",
        "early_stopping_cb = keras.callbacks.EarlyStopping(patience=20)\n",
        "\n",
        "# initialize the optimizer, compile the model, and show the model\n",
        "# summary\n",
        "opt = keras.optimizers.Adam(learning_rate=config.lr)\n",
        "model.compile(loss=losses, optimizer=opt, metrics=[\"accuracy\"],\n",
        "    loss_weights=lossWeights)"
      ],
      "metadata": {
        "id": "gN7ujE1DVDlF"
      },
      "execution_count": null,
      "outputs": []
    },
    {
      "cell_type": "code",
      "source": [
        "# construct a dictionary for our target training outputs\n",
        "trainTargets = {\n",
        "\t\"label_final\": train_label,\n",
        "\t\"box_final\": train_bbox\n",
        "}\n",
        "\n",
        "# construct a second dictionary, this one for our target testing\n",
        "# outputs\n",
        "valTargets = {\n",
        "\t\"label_final\": val_label,\n",
        "\t\"box_final\": val_bbox\n",
        "}"
      ],
      "metadata": {
        "id": "78_uvF3khjEI"
      },
      "execution_count": null,
      "outputs": []
    },
    {
      "cell_type": "code",
      "source": [
        "hist1 = model.fit(train_data, trainTargets\n",
        "                  , validation_data = (val_data, valTargets)\n",
        "                  , epochs=config.epochs\n",
        "                  , batch_size = config.batch_size\n",
        "                  , callbacks=[early_stopping_cb])"
      ],
      "metadata": {
        "id": "EVX_yKH4ar6d",
        "colab": {
          "base_uri": "https://localhost:8080/"
        },
        "outputId": "3be4d93d-8bc7-4c84-de3a-01960176f648"
      },
      "execution_count": null,
      "outputs": [
        {
          "output_type": "stream",
          "name": "stdout",
          "text": [
            "Epoch 1/20\n",
            "175/175 [==============================] - 31s 111ms/step - loss: 1.1654 - box_final_loss: 0.0079 - label_final_loss: 1.1574 - box_final_accuracy: 0.8416 - label_final_accuracy: 0.4759 - val_loss: 0.5662 - val_box_final_loss: 0.0028 - val_label_final_loss: 0.5634 - val_box_final_accuracy: 0.9179 - val_label_final_accuracy: 0.8533\n",
            "Epoch 2/20\n",
            "175/175 [==============================] - 16s 94ms/step - loss: 0.6133 - box_final_loss: 0.0022 - label_final_loss: 0.6112 - box_final_accuracy: 0.9268 - label_final_accuracy: 0.7650 - val_loss: 0.3217 - val_box_final_loss: 0.0020 - val_label_final_loss: 0.3197 - val_box_final_accuracy: 0.9304 - val_label_final_accuracy: 0.9021\n",
            "Epoch 3/20\n",
            "175/175 [==============================] - 15s 88ms/step - loss: 0.4272 - box_final_loss: 0.0014 - label_final_loss: 0.4258 - box_final_accuracy: 0.9382 - label_final_accuracy: 0.8386 - val_loss: 0.2543 - val_box_final_loss: 0.0018 - val_label_final_loss: 0.2525 - val_box_final_accuracy: 0.9267 - val_label_final_accuracy: 0.9187\n",
            "Epoch 4/20\n",
            "175/175 [==============================] - 15s 89ms/step - loss: 0.3287 - box_final_loss: 0.0010 - label_final_loss: 0.3277 - box_final_accuracy: 0.9457 - label_final_accuracy: 0.8827 - val_loss: 0.2045 - val_box_final_loss: 0.0016 - val_label_final_loss: 0.2029 - val_box_final_accuracy: 0.9429 - val_label_final_accuracy: 0.9362\n",
            "Epoch 5/20\n",
            "175/175 [==============================] - 16s 94ms/step - loss: 0.2496 - box_final_loss: 7.8906e-04 - label_final_loss: 0.2488 - box_final_accuracy: 0.9500 - label_final_accuracy: 0.9152 - val_loss: 0.1690 - val_box_final_loss: 0.0015 - val_label_final_loss: 0.1676 - val_box_final_accuracy: 0.9383 - val_label_final_accuracy: 0.9454\n",
            "Epoch 6/20\n",
            "175/175 [==============================] - 16s 93ms/step - loss: 0.2049 - box_final_loss: 6.3801e-04 - label_final_loss: 0.2042 - box_final_accuracy: 0.9532 - label_final_accuracy: 0.9329 - val_loss: 0.1597 - val_box_final_loss: 0.0014 - val_label_final_loss: 0.1582 - val_box_final_accuracy: 0.9442 - val_label_final_accuracy: 0.9467\n",
            "Epoch 7/20\n",
            "175/175 [==============================] - 16s 89ms/step - loss: 0.1684 - box_final_loss: 5.1862e-04 - label_final_loss: 0.1679 - box_final_accuracy: 0.9566 - label_final_accuracy: 0.9429 - val_loss: 0.1551 - val_box_final_loss: 0.0014 - val_label_final_loss: 0.1538 - val_box_final_accuracy: 0.9446 - val_label_final_accuracy: 0.9479\n",
            "Epoch 8/20\n",
            "175/175 [==============================] - 15s 89ms/step - loss: 0.1487 - box_final_loss: 4.2468e-04 - label_final_loss: 0.1483 - box_final_accuracy: 0.9588 - label_final_accuracy: 0.9495 - val_loss: 0.1480 - val_box_final_loss: 0.0013 - val_label_final_loss: 0.1466 - val_box_final_accuracy: 0.9471 - val_label_final_accuracy: 0.9483\n",
            "Epoch 9/20\n",
            "175/175 [==============================] - 16s 93ms/step - loss: 0.1216 - box_final_loss: 3.6106e-04 - label_final_loss: 0.1213 - box_final_accuracy: 0.9604 - label_final_accuracy: 0.9602 - val_loss: 0.1357 - val_box_final_loss: 0.0013 - val_label_final_loss: 0.1344 - val_box_final_accuracy: 0.9458 - val_label_final_accuracy: 0.9529\n",
            "Epoch 10/20\n",
            "175/175 [==============================] - 16s 93ms/step - loss: 0.1033 - box_final_loss: 3.0445e-04 - label_final_loss: 0.1030 - box_final_accuracy: 0.9621 - label_final_accuracy: 0.9673 - val_loss: 0.1423 - val_box_final_loss: 0.0013 - val_label_final_loss: 0.1410 - val_box_final_accuracy: 0.9475 - val_label_final_accuracy: 0.9538\n",
            "Epoch 11/20\n",
            "175/175 [==============================] - 16s 93ms/step - loss: 0.0925 - box_final_loss: 2.6887e-04 - label_final_loss: 0.0923 - box_final_accuracy: 0.9663 - label_final_accuracy: 0.9712 - val_loss: 0.1520 - val_box_final_loss: 0.0013 - val_label_final_loss: 0.1507 - val_box_final_accuracy: 0.9483 - val_label_final_accuracy: 0.9458\n",
            "Epoch 12/20\n",
            "175/175 [==============================] - 15s 88ms/step - loss: 0.0815 - box_final_loss: 2.4334e-04 - label_final_loss: 0.0813 - box_final_accuracy: 0.9652 - label_final_accuracy: 0.9755 - val_loss: 0.1313 - val_box_final_loss: 0.0013 - val_label_final_loss: 0.1300 - val_box_final_accuracy: 0.9475 - val_label_final_accuracy: 0.9575\n",
            "Epoch 13/20\n",
            "175/175 [==============================] - 15s 88ms/step - loss: 0.0764 - box_final_loss: 2.1942e-04 - label_final_loss: 0.0761 - box_final_accuracy: 0.9682 - label_final_accuracy: 0.9752 - val_loss: 0.1512 - val_box_final_loss: 0.0013 - val_label_final_loss: 0.1499 - val_box_final_accuracy: 0.9508 - val_label_final_accuracy: 0.9538\n",
            "Epoch 14/20\n",
            "175/175 [==============================] - 16s 94ms/step - loss: 0.0624 - box_final_loss: 2.0732e-04 - label_final_loss: 0.0622 - box_final_accuracy: 0.9686 - label_final_accuracy: 0.9812 - val_loss: 0.1411 - val_box_final_loss: 0.0013 - val_label_final_loss: 0.1398 - val_box_final_accuracy: 0.9496 - val_label_final_accuracy: 0.9558\n",
            "Epoch 15/20\n",
            "175/175 [==============================] - 16s 89ms/step - loss: 0.0550 - box_final_loss: 1.9405e-04 - label_final_loss: 0.0548 - box_final_accuracy: 0.9684 - label_final_accuracy: 0.9850 - val_loss: 0.1441 - val_box_final_loss: 0.0013 - val_label_final_loss: 0.1428 - val_box_final_accuracy: 0.9479 - val_label_final_accuracy: 0.9554\n",
            "Epoch 16/20\n",
            "175/175 [==============================] - 16s 93ms/step - loss: 0.0482 - box_final_loss: 1.8163e-04 - label_final_loss: 0.0480 - box_final_accuracy: 0.9691 - label_final_accuracy: 0.9859 - val_loss: 0.1565 - val_box_final_loss: 0.0013 - val_label_final_loss: 0.1552 - val_box_final_accuracy: 0.9488 - val_label_final_accuracy: 0.9550\n",
            "Epoch 17/20\n",
            "175/175 [==============================] - 16s 94ms/step - loss: 0.0407 - box_final_loss: 1.6556e-04 - label_final_loss: 0.0405 - box_final_accuracy: 0.9671 - label_final_accuracy: 0.9891 - val_loss: 0.1594 - val_box_final_loss: 0.0012 - val_label_final_loss: 0.1581 - val_box_final_accuracy: 0.9483 - val_label_final_accuracy: 0.9550\n",
            "Epoch 18/20\n",
            "175/175 [==============================] - 15s 88ms/step - loss: 0.0416 - box_final_loss: 1.5302e-04 - label_final_loss: 0.0414 - box_final_accuracy: 0.9700 - label_final_accuracy: 0.9873 - val_loss: 0.1532 - val_box_final_loss: 0.0013 - val_label_final_loss: 0.1519 - val_box_final_accuracy: 0.9492 - val_label_final_accuracy: 0.9592\n",
            "Epoch 19/20\n",
            "175/175 [==============================] - 16s 93ms/step - loss: 0.0391 - box_final_loss: 1.3957e-04 - label_final_loss: 0.0390 - box_final_accuracy: 0.9712 - label_final_accuracy: 0.9882 - val_loss: 0.1489 - val_box_final_loss: 0.0012 - val_label_final_loss: 0.1476 - val_box_final_accuracy: 0.9475 - val_label_final_accuracy: 0.9571\n",
            "Epoch 20/20\n",
            "175/175 [==============================] - 15s 88ms/step - loss: 0.0318 - box_final_loss: 1.5233e-04 - label_final_loss: 0.0317 - box_final_accuracy: 0.9709 - label_final_accuracy: 0.9911 - val_loss: 0.1568 - val_box_final_loss: 0.0013 - val_label_final_loss: 0.1555 - val_box_final_accuracy: 0.9508 - val_label_final_accuracy: 0.9567\n"
          ]
        }
      ]
    },
    {
      "cell_type": "code",
      "source": [
        "# save the model to disk\n",
        "model.save('vgg_addon.h5', save_format=\"h5\")"
      ],
      "metadata": {
        "id": "aQ_EsE3Jiw40"
      },
      "execution_count": null,
      "outputs": []
    },
    {
      "cell_type": "markdown",
      "source": [
        "## Visualize the model loss"
      ],
      "metadata": {
        "id": "VN-VcKAekwGr"
      }
    },
    {
      "cell_type": "code",
      "source": [
        "loss_type = ['loss', 'box_final_loss', 'label_final_loss',\n",
        "             'val_loss', 'val_box_final_loss', 'val_label_final_loss']\n",
        "acc_type = ['box_final_accuracy', 'label_final_accuracy', \n",
        "            'val_box_final_accuracy', 'val_label_final_accuracy']"
      ],
      "metadata": {
        "id": "1ApWRMW1Zl_r"
      },
      "execution_count": null,
      "outputs": []
    },
    {
      "cell_type": "code",
      "source": [
        "loss_record = []\n",
        "for i in loss_type:\n",
        "  temp_loss = hist1.history[i]\n",
        "  loss_record.append(temp_loss)\n",
        "\n",
        "loss_record = pd.DataFrame(loss_record, index = loss_type).T\n",
        "loss_record.index = list(range(1, config.epochs+1))\n",
        "loss_record.index.name = 'Epoch'\n",
        "\n",
        "loss_record.plot()"
      ],
      "metadata": {
        "colab": {
          "base_uri": "https://localhost:8080/",
          "height": 296
        },
        "id": "CuCw-V-miQOK",
        "outputId": "530642df-a654-433a-f75b-64f09ed01a0e"
      },
      "execution_count": null,
      "outputs": [
        {
          "output_type": "execute_result",
          "data": {
            "text/plain": [
              "<matplotlib.axes._subplots.AxesSubplot at 0x7f494dfc0290>"
            ]
          },
          "metadata": {},
          "execution_count": 74
        },
        {
          "output_type": "display_data",
          "data": {
            "image/png": "[encoded data removed]",
            "text/plain": [
              "<Figure size 432x288 with 1 Axes>"
            ]
          },
          "metadata": {
            "needs_background": "light"
          }
        }
      ]
    },
    {
      "cell_type": "code",
      "source": [
        "acc_record = []\n",
        "for i in acc_type:\n",
        "  temp_loss = hist1.history[i]\n",
        "  acc_record.append(temp_loss)\n",
        "\n",
        "acc_record = pd.DataFrame(acc_record, index = acc_type).T\n",
        "acc_record.index = list(range(1, config.epochs+1))\n",
        "acc_record.index.name = 'Epoch'\n",
        "\n",
        "acc_record.plot()"
      ],
      "metadata": {
        "colab": {
          "base_uri": "https://localhost:8080/",
          "height": 296
        },
        "id": "oivnYKiampFN",
        "outputId": "9bdf05ba-018f-4126-dce9-c4886168ead4"
      },
      "execution_count": null,
      "outputs": [
        {
          "output_type": "execute_result",
          "data": {
            "text/plain": [
              "<matplotlib.axes._subplots.AxesSubplot at 0x7f49102a9950>"
            ]
          },
          "metadata": {},
          "execution_count": 76
        },
        {
          "output_type": "display_data",
          "data": {
            "image/png": "[encoded data removed]",
            "text/plain": [
              "<Figure size 432x288 with 1 Axes>"
            ]
          },
          "metadata": {
            "needs_background": "light"
          }
        }
      ]
    },
    {
      "cell_type": "code",
      "source": [
        ""
      ],
      "metadata": {
        "id": "g2AKR33PnfoX"
      },
      "execution_count": null,
      "outputs": []
    },
    {
      "cell_type": "markdown",
      "source": [
        "# Submitting Results 📄"
      ],
      "metadata": {
        "id": "nnorstdofZEm"
      }
    },
    {
      "cell_type": "code",
      "source": [
        "# prepare test dataset\n",
        "test_df = pd.DataFrame()\n",
        "n_test_image = os.listdir(config.test_images_path)\n",
        "test_df['ImageID'] = [img_name.split(\".\")[0] for img_name in n_test_image]\n",
        "test_df.head()"
      ],
      "metadata": {
        "colab": {
          "base_uri": "https://localhost:8080/",
          "height": 206
        },
        "id": "uWq7Jm_Wijvm",
        "outputId": "d4df3aa1-bc2a-494e-b8ae-e39c6bce6cd2"
      },
      "execution_count": null,
      "outputs": [
        {
          "output_type": "execute_result",
          "data": {
            "text/html": [
              "\n",
              "  <div id=\"df-557fdfbd-ab52-4436-9605-4f13a4ee0fdc\">\n",
              "    <div class=\"colab-df-container\">\n",
              "      <div>\n",
              "<style scoped>\n",
              "    .dataframe tbody tr th:only-of-type {\n",
              "        vertical-align: middle;\n",
              "    }\n",
              "\n",
              "    .dataframe tbody tr th {\n",
              "        vertical-align: top;\n",
              "    }\n",
              "\n",
              "    .dataframe thead th {\n",
              "        text-align: right;\n",
              "    }\n",
              "</style>\n",
              "<table border=\"1\" class=\"dataframe\">\n",
              "  <thead>\n",
              "    <tr style=\"text-align: right;\">\n",
              "      <th></th>\n",
              "      <th>ImageID</th>\n",
              "    </tr>\n",
              "  </thead>\n",
              "  <tbody>\n",
              "    <tr>\n",
              "      <th>0</th>\n",
              "      <td>hm3nl</td>\n",
              "    </tr>\n",
              "    <tr>\n",
              "      <th>1</th>\n",
              "      <td>6bbrv</td>\n",
              "    </tr>\n",
              "    <tr>\n",
              "      <th>2</th>\n",
              "      <td>1sa11</td>\n",
              "    </tr>\n",
              "    <tr>\n",
              "      <th>3</th>\n",
              "      <td>astz6</td>\n",
              "    </tr>\n",
              "    <tr>\n",
              "      <th>4</th>\n",
              "      <td>iaxwc</td>\n",
              "    </tr>\n",
              "  </tbody>\n",
              "</table>\n",
              "</div>\n",
              "      <button class=\"colab-df-convert\" onclick=\"convertToInteractive('df-557fdfbd-ab52-4436-9605-4f13a4ee0fdc')\"\n",
              "              title=\"Convert this dataframe to an interactive table.\"\n",
              "              style=\"display:none;\">\n",
              "        \n",
              "  <svg xmlns=\"http://www.w3.org/2000/svg\" height=\"24px\"viewBox=\"0 0 24 24\"\n",
              "       width=\"24px\">\n",
              "    <path d=\"M0 0h24v24H0V0z\" fill=\"none\"/>\n",
              "    <path d=\"M18.56 5.44l.94 2.06.94-2.06 2.06-.94-2.06-.94-.94-2.06-.94 2.06-2.06.94zm-11 1L8.5 8.5l.94-2.06 2.06-.94-2.06-.94L8.5 2.5l-.94 2.06-2.06.94zm10 10l.94 2.06.94-2.06 2.06-.94-2.06-.94-.94-2.06-.94 2.06-2.06.94z\"/><path d=\"M17.41 7.96l-1.37-1.37c-.4-.4-.92-.59-1.43-.59-.52 0-1.04.2-1.43.59L10.3 9.45l-7.72 7.72c-.78.78-.78 2.05 0 2.83L4 21.41c.39.39.9.59 1.41.59.51 0 1.02-.2 1.41-.59l7.78-7.78 2.81-2.81c.8-.78.8-2.07 0-2.86zM5.41 20L4 18.59l7.72-7.72 1.47 1.35L5.41 20z\"/>\n",
              "  </svg>\n",
              "      </button>\n",
              "      \n",
              "  <style>\n",
              "    .colab-df-container {\n",
              "      display:flex;\n",
              "      flex-wrap:wrap;\n",
              "      gap: 12px;\n",
              "    }\n",
              "\n",
              "    .colab-df-convert {\n",
              "      background-color: #E8F0FE;\n",
              "      border: none;\n",
              "      border-radius: 50%;\n",
              "      cursor: pointer;\n",
              "      display: none;\n",
              "      fill: #1967D2;\n",
              "      height: 32px;\n",
              "      padding: 0 0 0 0;\n",
              "      width: 32px;\n",
              "    }\n",
              "\n",
              "    .colab-df-convert:hover {\n",
              "      background-color: #E2EBFA;\n",
              "      box-shadow: 0px 1px 2px rgba(60, 64, 67, 0.3), 0px 1px 3px 1px rgba(60, 64, 67, 0.15);\n",
              "      fill: #174EA6;\n",
              "    }\n",
              "\n",
              "    [theme=dark] .colab-df-convert {\n",
              "      background-color: #3B4455;\n",
              "      fill: #D2E3FC;\n",
              "    }\n",
              "\n",
              "    [theme=dark] .colab-df-convert:hover {\n",
              "      background-color: #434B5C;\n",
              "      box-shadow: 0px 1px 3px 1px rgba(0, 0, 0, 0.15);\n",
              "      filter: drop-shadow(0px 1px 2px rgba(0, 0, 0, 0.3));\n",
              "      fill: #FFFFFF;\n",
              "    }\n",
              "  </style>\n",
              "\n",
              "      <script>\n",
              "        const buttonEl =\n",
              "          document.querySelector('#df-557fdfbd-ab52-4436-9605-4f13a4ee0fdc button.colab-df-convert');\n",
              "        buttonEl.style.display =\n",
              "          google.colab.kernel.accessAllowed ? 'block' : 'none';\n",
              "\n",
              "        async function convertToInteractive(key) {\n",
              "          const element = document.querySelector('#df-557fdfbd-ab52-4436-9605-4f13a4ee0fdc');\n",
              "          const dataTable =\n",
              "            await google.colab.kernel.invokeFunction('convertToInteractive',\n",
              "                                                     [key], {});\n",
              "          if (!dataTable) return;\n",
              "\n",
              "          const docLinkHtml = 'Like what you see? Visit the ' +\n",
              "            '<a target=\"_blank\" href=https://colab.research.google.com/notebooks/data_table.ipynb>data table notebook</a>'\n",
              "            + ' to learn more about interactive tables.';\n",
              "          element.innerHTML = '';\n",
              "          dataTable['output_type'] = 'display_data';\n",
              "          await google.colab.output.renderOutput(dataTable, element);\n",
              "          const docLink = document.createElement('div');\n",
              "          docLink.innerHTML = docLinkHtml;\n",
              "          element.appendChild(docLink);\n",
              "        }\n",
              "      </script>\n",
              "    </div>\n",
              "  </div>\n",
              "  "
            ],
            "text/plain": [
              "  ImageID\n",
              "0   hm3nl\n",
              "1   6bbrv\n",
              "2   1sa11\n",
              "3   astz6\n",
              "4   iaxwc"
            ]
          },
          "metadata": {},
          "execution_count": 80
        }
      ]
    },
    {
      "cell_type": "code",
      "source": [
        "# prepare label\n",
        "mask_map =  {k: v for k, v in sorted(mask_map.items(), key=lambda item: item[1])}\n",
        "mask_key = list(mask_map.keys())\n",
        "mask_key"
      ],
      "metadata": {
        "id": "bWGLmX8yfdVI",
        "colab": {
          "base_uri": "https://localhost:8080/"
        },
        "outputId": "962efe3b-387f-4846-e87e-efb74d953eb3"
      },
      "execution_count": null,
      "outputs": [
        {
          "output_type": "execute_result",
          "data": {
            "text/plain": [
              "['N95', 'surgical', 'cloth', 'KN95']"
            ]
          },
          "metadata": {},
          "execution_count": 78
        }
      ]
    },
    {
      "cell_type": "code",
      "source": [
        "def get_test_result(df_original, folder, target_size, key_list, model):\n",
        "\n",
        "  df = df_original.copy()\n",
        "\n",
        "  labels, bboxes = [], []\n",
        "  for idx, r in df.iterrows():\n",
        "    \n",
        "    # Reading the test image\n",
        "    image_id = r['ImageID']\n",
        "    image_path = os.path.join(folder, image_id+'.jpg')\n",
        "    original_h, original_w, image = image_process(image_path, target_size)\n",
        "    image = image[np.newaxis, ...]\n",
        "\n",
        "    # Generating the bounding boxes\n",
        "    (box, label) = model.predict(image)\n",
        "    (x1, y1, a1, b1) = box[0]\n",
        "\n",
        "    # find the label based one hot\n",
        "    labels.append(key_list[label.argmax()])\n",
        "\n",
        "    # find bbox in orginal scale\n",
        "    x1, a1  = int(x1 * original_w), int(a1 * original_w)\n",
        "    y1, b1  = int(y1 * original_h), int(b1 * original_h)\n",
        "    bboxes.append([x1, y1, a1, b1])\n",
        "  \n",
        "  df['bbox'] = bboxes\n",
        "  df['masktype'] = labels\n",
        "  return df"
      ],
      "metadata": {
        "id": "Mg-w7bxhgGi_"
      },
      "execution_count": null,
      "outputs": []
    },
    {
      "cell_type": "code",
      "source": [
        "test_df_final = get_test_result(test_df, config.test_images_path, \n",
        "                                (config.height, config.width), mask_key, model)"
      ],
      "metadata": {
        "id": "Bu1x3fSug-48"
      },
      "execution_count": null,
      "outputs": []
    },
    {
      "cell_type": "code",
      "source": [
        "test_df_final.head()"
      ],
      "metadata": {
        "colab": {
          "base_uri": "https://localhost:8080/",
          "height": 206
        },
        "id": "QnnC6MKzi_L8",
        "outputId": "b04b003e-7ba8-4ec8-f451-5bcb6812649c"
      },
      "execution_count": null,
      "outputs": [
        {
          "output_type": "execute_result",
          "data": {
            "text/html": [
              "\n",
              "  <div id=\"df-609b10ff-f503-4c6f-9d39-3e9171180a80\">\n",
              "    <div class=\"colab-df-container\">\n",
              "      <div>\n",
              "<style scoped>\n",
              "    .dataframe tbody tr th:only-of-type {\n",
              "        vertical-align: middle;\n",
              "    }\n",
              "\n",
              "    .dataframe tbody tr th {\n",
              "        vertical-align: top;\n",
              "    }\n",
              "\n",
              "    .dataframe thead th {\n",
              "        text-align: right;\n",
              "    }\n",
              "</style>\n",
              "<table border=\"1\" class=\"dataframe\">\n",
              "  <thead>\n",
              "    <tr style=\"text-align: right;\">\n",
              "      <th></th>\n",
              "      <th>ImageID</th>\n",
              "      <th>bbox</th>\n",
              "      <th>masktype</th>\n",
              "    </tr>\n",
              "  </thead>\n",
              "  <tbody>\n",
              "    <tr>\n",
              "      <th>0</th>\n",
              "      <td>hm3nl</td>\n",
              "      <td>[274, 180, 480, 417]</td>\n",
              "      <td>N95</td>\n",
              "    </tr>\n",
              "    <tr>\n",
              "      <th>1</th>\n",
              "      <td>6bbrv</td>\n",
              "      <td>[135, 320, 379, 503]</td>\n",
              "      <td>N95</td>\n",
              "    </tr>\n",
              "    <tr>\n",
              "      <th>2</th>\n",
              "      <td>1sa11</td>\n",
              "      <td>[193, 220, 455, 384]</td>\n",
              "      <td>KN95</td>\n",
              "    </tr>\n",
              "    <tr>\n",
              "      <th>3</th>\n",
              "      <td>astz6</td>\n",
              "      <td>[190, 357, 433, 507]</td>\n",
              "      <td>cloth</td>\n",
              "    </tr>\n",
              "    <tr>\n",
              "      <th>4</th>\n",
              "      <td>iaxwc</td>\n",
              "      <td>[350, 220, 507, 369]</td>\n",
              "      <td>cloth</td>\n",
              "    </tr>\n",
              "  </tbody>\n",
              "</table>\n",
              "</div>\n",
              "      <button class=\"colab-df-convert\" onclick=\"convertToInteractive('df-609b10ff-f503-4c6f-9d39-3e9171180a80')\"\n",
              "              title=\"Convert this dataframe to an interactive table.\"\n",
              "              style=\"display:none;\">\n",
              "        \n",
              "  <svg xmlns=\"http://www.w3.org/2000/svg\" height=\"24px\"viewBox=\"0 0 24 24\"\n",
              "       width=\"24px\">\n",
              "    <path d=\"M0 0h24v24H0V0z\" fill=\"none\"/>\n",
              "    <path d=\"M18.56 5.44l.94 2.06.94-2.06 2.06-.94-2.06-.94-.94-2.06-.94 2.06-2.06.94zm-11 1L8.5 8.5l.94-2.06 2.06-.94-2.06-.94L8.5 2.5l-.94 2.06-2.06.94zm10 10l.94 2.06.94-2.06 2.06-.94-2.06-.94-.94-2.06-.94 2.06-2.06.94z\"/><path d=\"M17.41 7.96l-1.37-1.37c-.4-.4-.92-.59-1.43-.59-.52 0-1.04.2-1.43.59L10.3 9.45l-7.72 7.72c-.78.78-.78 2.05 0 2.83L4 21.41c.39.39.9.59 1.41.59.51 0 1.02-.2 1.41-.59l7.78-7.78 2.81-2.81c.8-.78.8-2.07 0-2.86zM5.41 20L4 18.59l7.72-7.72 1.47 1.35L5.41 20z\"/>\n",
              "  </svg>\n",
              "      </button>\n",
              "      \n",
              "  <style>\n",
              "    .colab-df-container {\n",
              "      display:flex;\n",
              "      flex-wrap:wrap;\n",
              "      gap: 12px;\n",
              "    }\n",
              "\n",
              "    .colab-df-convert {\n",
              "      background-color: #E8F0FE;\n",
              "      border: none;\n",
              "      border-radius: 50%;\n",
              "      cursor: pointer;\n",
              "      display: none;\n",
              "      fill: #1967D2;\n",
              "      height: 32px;\n",
              "      padding: 0 0 0 0;\n",
              "      width: 32px;\n",
              "    }\n",
              "\n",
              "    .colab-df-convert:hover {\n",
              "      background-color: #E2EBFA;\n",
              "      box-shadow: 0px 1px 2px rgba(60, 64, 67, 0.3), 0px 1px 3px 1px rgba(60, 64, 67, 0.15);\n",
              "      fill: #174EA6;\n",
              "    }\n",
              "\n",
              "    [theme=dark] .colab-df-convert {\n",
              "      background-color: #3B4455;\n",
              "      fill: #D2E3FC;\n",
              "    }\n",
              "\n",
              "    [theme=dark] .colab-df-convert:hover {\n",
              "      background-color: #434B5C;\n",
              "      box-shadow: 0px 1px 3px 1px rgba(0, 0, 0, 0.15);\n",
              "      filter: drop-shadow(0px 1px 2px rgba(0, 0, 0, 0.3));\n",
              "      fill: #FFFFFF;\n",
              "    }\n",
              "  </style>\n",
              "\n",
              "      <script>\n",
              "        const buttonEl =\n",
              "          document.querySelector('#df-609b10ff-f503-4c6f-9d39-3e9171180a80 button.colab-df-convert');\n",
              "        buttonEl.style.display =\n",
              "          google.colab.kernel.accessAllowed ? 'block' : 'none';\n",
              "\n",
              "        async function convertToInteractive(key) {\n",
              "          const element = document.querySelector('#df-609b10ff-f503-4c6f-9d39-3e9171180a80');\n",
              "          const dataTable =\n",
              "            await google.colab.kernel.invokeFunction('convertToInteractive',\n",
              "                                                     [key], {});\n",
              "          if (!dataTable) return;\n",
              "\n",
              "          const docLinkHtml = 'Like what you see? Visit the ' +\n",
              "            '<a target=\"_blank\" href=https://colab.research.google.com/notebooks/data_table.ipynb>data table notebook</a>'\n",
              "            + ' to learn more about interactive tables.';\n",
              "          element.innerHTML = '';\n",
              "          dataTable['output_type'] = 'display_data';\n",
              "          await google.colab.output.renderOutput(dataTable, element);\n",
              "          const docLink = document.createElement('div');\n",
              "          docLink.innerHTML = docLinkHtml;\n",
              "          element.appendChild(docLink);\n",
              "        }\n",
              "      </script>\n",
              "    </div>\n",
              "  </div>\n",
              "  "
            ],
            "text/plain": [
              "  ImageID                  bbox masktype\n",
              "0   hm3nl  [274, 180, 480, 417]      N95\n",
              "1   6bbrv  [135, 320, 379, 503]      N95\n",
              "2   1sa11  [193, 220, 455, 384]     KN95\n",
              "3   astz6  [190, 357, 433, 507]    cloth\n",
              "4   iaxwc  [350, 220, 507, 369]    cloth"
            ]
          },
          "metadata": {},
          "execution_count": 95
        }
      ]
    },
    {
      "cell_type": "code",
      "metadata": {
        "id": "_KUaEntFQCrp"
      },
      "source": [
        "!rm -rf assets\n",
        "!mkdir assets\n",
        "\n",
        "test_df_final.to_csv(os.path.join(\"assets\", \"submission.csv\"), index=False)"
      ],
      "execution_count": null,
      "outputs": []
    },
    {
      "cell_type": "markdown",
      "source": [
        ""
      ],
      "metadata": {
        "id": "GzrVH4YRDr4W"
      }
    },
    {
      "cell_type": "markdown",
      "metadata": {
        "id": "3YN49CG4caU4"
      },
      "source": [
        "**Note : Please make sure that there should be filename `submission.csv` in `assets` folder before submitting it**"
      ]
    },
    {
      "cell_type": "markdown",
      "metadata": {
        "id": "Fk5bxI4BQQdP"
      },
      "source": [
        "## Uploading the Results"
      ]
    },
    {
      "cell_type": "code",
      "metadata": {
        "colab": {
          "base_uri": "https://localhost:8080/",
          "height": 366,
          "referenced_widgets": [
            "b68fe41d45a845d58537619e750c8b8e",
            "5df1570fb97840c78ba10867e1e15c7c"
          ]
        },
        "id": "I2-3yui5QGHp",
        "outputId": "0dc173fa-5cbe-470a-eebc-1a588883d123"
      },
      "source": [
        "%aicrowd notebook submit -c mask-prediction -a assets --no-verify"
      ],
      "execution_count": null,
      "outputs": [
        {
          "output_type": "stream",
          "name": "stdout",
          "text": [
            "Using notebook: AI_Blix13_03_Mask_Prediction for submission...\n",
            "Scrubbing API keys from the notebook...\n",
            "Collecting notebook...\n"
          ]
        },
        {
          "output_type": "display_data",
          "data": {
            "application/vnd.jupyter.widget-view+json": {
              "model_id": "b68fe41d45a845d58537619e750c8b8e",
              "version_minor": 0,
              "version_major": 2
            },
            "text/plain": [
              "Output()"
            ]
          },
          "metadata": {}
        },
        {
          "output_type": "display_data",
          "data": {
            "text/html": [
              "<pre style=\"white-space:pre;overflow-x:auto;line-height:normal;font-family:Menlo,'DejaVu Sans Mono',consolas,'Courier New',monospace\"></pre>\n"
            ],
            "text/plain": [
              ""
            ]
          },
          "metadata": {}
        },
        {
          "output_type": "display_data",
          "data": {
            "text/html": [
              "<pre style=\"white-space:pre;overflow-x:auto;line-height:normal;font-family:Menlo,'DejaVu Sans Mono',consolas,'Courier New',monospace\">\n",
              "</pre>\n"
            ],
            "text/plain": [
              "\n"
            ]
          },
          "metadata": {}
        },
        {
          "output_type": "display_data",
          "data": {
            "text/html": [
              "<pre style=\"white-space:pre;overflow-x:auto;line-height:normal;font-family:Menlo,'DejaVu Sans Mono',consolas,'Courier New',monospace\">                                                  ╭─────────────────────────╮                                                   \n",
              "                                                  │ <span style=\"font-weight: bold\">Successfully submitted!</span> │                                                   \n",
              "                                                  ╰─────────────────────────╯                                                   \n",
              "</pre>\n"
            ],
            "text/plain": [
              "                                                  ╭─────────────────────────╮                                                   \n",
              "                                                  │ \u001b[1mSuccessfully submitted!\u001b[0m │                                                   \n",
              "                                                  ╰─────────────────────────╯                                                   \n"
            ]
          },
          "metadata": {}
        },
        {
          "output_type": "display_data",
          "data": {
            "text/html": [
              "<pre style=\"white-space:pre;overflow-x:auto;line-height:normal;font-family:Menlo,'DejaVu Sans Mono',consolas,'Courier New',monospace\"><span style=\"font-style: italic\">                                                        Important links                                                         </span>\n",
              "┌──────────────────┬───────────────────────────────────────────────────────────────────────────────────────────────────────────┐\n",
              "│  This submission │ https://www.aicrowd.com/challenges/ai-blitz-xiii/problems/mask-prediction/submissions/174638              │\n",
              "│                  │                                                                                                           │\n",
              "│  All submissions │ https://www.aicrowd.com/challenges/ai-blitz-xiii/problems/mask-prediction/submissions?my_submissions=true │\n",
              "│                  │                                                                                                           │\n",
              "│      Leaderboard │ https://www.aicrowd.com/challenges/ai-blitz-xiii/problems/mask-prediction/leaderboards                    │\n",
              "│                  │                                                                                                           │\n",
              "│ Discussion forum │ https://discourse.aicrowd.com/c/ai-blitz-xiii                                                             │\n",
              "│                  │                                                                                                           │\n",
              "│   Challenge page │ https://www.aicrowd.com/challenges/ai-blitz-xiii/problems/mask-prediction                                 │\n",
              "└──────────────────┴───────────────────────────────────────────────────────────────────────────────────────────────────────────┘\n",
              "</pre>\n"
            ],
            "text/plain": [
              "\u001b[3m                                                        Important links                                                         \u001b[0m\n",
              "┌──────────────────┬───────────────────────────────────────────────────────────────────────────────────────────────────────────┐\n",
              "│  This submission │ https://www.aicrowd.com/challenges/ai-blitz-xiii/problems/mask-prediction/submissions/174638              │\n",
              "│                  │                                                                                                           │\n",
              "│  All submissions │ https://www.aicrowd.com/challenges/ai-blitz-xiii/problems/mask-prediction/submissions?my_submissions=true │\n",
              "│                  │                                                                                                           │\n",
              "│      Leaderboard │ https://www.aicrowd.com/challenges/ai-blitz-xiii/problems/mask-prediction/leaderboards                    │\n",
              "│                  │                                                                                                           │\n",
              "│ Discussion forum │ https://discourse.aicrowd.com/c/ai-blitz-xiii                                                             │\n",
              "│                  │                                                                                                           │\n",
              "│   Challenge page │ https://www.aicrowd.com/challenges/ai-blitz-xiii/problems/mask-prediction                                 │\n",
              "└──────────────────┴───────────────────────────────────────────────────────────────────────────────────────────────────────────┘\n"
            ]
          },
          "metadata": {}
        }
      ]
    },
    {
      "cell_type": "code",
      "source": [
        ""
      ],
      "metadata": {
        "id": "ngXbhBd48uaF"
      },
      "execution_count": null,
      "outputs": []
    }
  ]
}