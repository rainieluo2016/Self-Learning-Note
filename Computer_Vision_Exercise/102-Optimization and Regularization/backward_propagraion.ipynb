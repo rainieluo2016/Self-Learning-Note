{
  "nbformat": 4,
  "nbformat_minor": 0,
  "metadata": {
    "colab": {
      "provenance": [],
      "authorship_tag": "ABX9TyOdwGN76AjEB/RHCL84jYQQ",
      "include_colab_link": true
    },
    "kernelspec": {
      "name": "python3",
      "display_name": "Python 3"
    },
    "language_info": {
      "name": "python"
    }
  },
  "cells": [
    {
      "cell_type": "markdown",
      "metadata": {
        "id": "view-in-github",
        "colab_type": "text"
      },
      "source": [
        "<a href=\"https://colab.research.google.com/github/rainieluo2016/Self-Learning-Note/blob/learn%2Fcnn/backward_propagraion.ipynb\" target=\"_parent\"><img src=\"https://colab.research.google.com/assets/colab-badge.svg\" alt=\"Open In Colab\"/></a>"
      ]
    },
    {
      "cell_type": "markdown",
      "source": [
        "# Study Material\n",
        "\n",
        "+ [optimization2](https://cs231n.github.io/optimization-2/)\n",
        "+ [section 2.1 of CNN and LSTM for multimodal wearable activity recognition](https://www.semanticscholar.org/paper/Deep-Convolutional-and-LSTM-Recurrent-Neural-for-Ordonez-Roggen/c8599a64beec9ec141a97c8117aa5b1726c13223)\n",
        "+ chpt 15 of hands on machine learning\n",
        "+ chpt 6.5 deep learning"
      ],
      "metadata": {
        "id": "-g-KZVldjQ-S"
      }
    },
    {
      "cell_type": "code",
      "source": [
        "from google.colab import drive\n",
        "drive.mount('/content/drive')"
      ],
      "metadata": {
        "id": "X-RZRO_E79wz"
      },
      "execution_count": null,
      "outputs": []
    },
    {
      "cell_type": "markdown",
      "source": [
        "# Sigmoid Example\n",
        "\n",
        "\n",
        "$f(w,x) = \\frac{1}{1+e^{-(w_0x_0 + w_1x_1 + w_2)}}$\n",
        "\n",
        "+ step 1 consider the layer as a whole $X = (w_0x_0 + w_1x_1 + w_2)$\n",
        "  + then the sigmoid becomes $\\sigma(x) = \\frac{1}{1 + e^(-x)}$\n",
        "+ step 2 find derivative of the $\\sigma$\n",
        "  + $\\sigma(x) = \\frac{1}{1+e^{-x}} \\\\\\\\\n",
        "\\rightarrow \\hspace{0.3in} \\frac{d\\sigma(x)}{dx} = \\frac{e^{-x}}{(1+e^{-x})^2} = \\left( \\frac{1 + e^{-x} - 1}{1 + e^{-x}} \\right) \\left( \\frac{1}{1+e^{-x}} \\right)\n",
        "= \\left( 1 - \\sigma(x) \\right) \\sigma(x)$\n",
        "+ step 3 feed back to each individual $x_i, w_i$\n",
        "  + $dx_i = \\frac{df}{dσ} * \\frac{dσ}{dx} = ( 1 - \\sigma(x) ) \\sigma(x) * w_i$\n"
      ],
      "metadata": {
        "id": "k818oUSWkz3F"
      }
    },
    {
      "cell_type": "code",
      "execution_count": null,
      "metadata": {
        "colab": {
          "base_uri": "https://localhost:8080/"
        },
        "id": "wMVxVOWmiMXw",
        "outputId": "cec49e81-5851-411f-fbfa-132287e37c3e"
      },
      "outputs": [
        {
          "output_type": "stream",
          "name": "stdout",
          "text": [
            "derivative for x: [ 0.39322387 -0.5898358 ]\n",
            "derivative for w: [-0.19661193 -0.39322387  0.19661193]\n"
          ]
        }
      ],
      "source": [
        "import math\n",
        "import numpy as np\n",
        "# define some random weights and data\n",
        "w = np.array([2, -3, -3])\n",
        "x = np.array([-1, -2])\n",
        "# extend x with one extra identity at last for bias\n",
        "x_bias = np.append(x, 1)\n",
        "\n",
        "# forward pass\n",
        "dot = w[0]*x[0] + w[1]*x[1] + w[2]\n",
        "f = 1.0 / (1 + math.exp(-dot)) # sigmoid function\n",
        "\n",
        "# chain rules to find the derivative for each variable\n",
        "ddot = (1 - f) * f\n",
        "dx = ddot * w[:-1]\n",
        "dw = ddot * x_bias\n",
        "\n",
        "print(f\"derivative for x: {dx}\")\n",
        "print(f\"derivative for w: {dw}\")"
      ]
    },
    {
      "cell_type": "markdown",
      "source": [
        "# Forward + bP"
      ],
      "metadata": {
        "id": "nRnzwRZfqEUY"
      }
    },
    {
      "cell_type": "code",
      "source": [
        "# forward\n",
        "W = np.random.randn(5, 10)\n",
        "X = np.random.randn(10, 3)\n",
        "D = W.dot(X)\n",
        "\n",
        "print(f\"W has shape {W.shape} , with value: {W}\")\n",
        "print(f\"X has shape {X.shape} , with value: {X}\")\n",
        "print(f\"D has shape {D.shape} , with value: {D}\")"
      ],
      "metadata": {
        "colab": {
          "base_uri": "https://localhost:8080/"
        },
        "id": "XpNBBYvYmBVS",
        "outputId": "f62ba8f4-3ae3-46e9-adad-1d941928072e"
      },
      "execution_count": null,
      "outputs": [
        {
          "output_type": "stream",
          "name": "stdout",
          "text": [
            "W has shape (5, 10) , with value: [[-0.40261417  1.64299611  0.381094    0.93842473  0.44456378 -0.48076815\n",
            "   0.08215532  0.01030334  0.93029275 -1.76757218]\n",
            " [ 0.04928237 -0.64702943  1.10975445  0.57293608  0.57009131 -0.30159117\n",
            "   0.19497826  1.13731066 -1.28421875  1.12721536]\n",
            " [-0.89746918 -1.57895452 -1.72175148 -0.03740742 -1.37983624 -0.61248215\n",
            "  -0.09608762 -0.57250666  0.86285398 -0.33568827]\n",
            " [ 1.17896459  0.73239755 -1.27101736 -1.59607042 -0.79281732  0.10280488\n",
            "  -0.35514108  0.79297707  1.30474519  0.16726522]\n",
            " [ 0.72840595  0.75972052 -0.51214684 -0.35827142 -0.18820696  0.59944314\n",
            "  -1.59211985  0.18955882 -1.01575061  0.1796181 ]]\n",
            "X has shape (10, 3) , with value: [[-1.0676337  -0.70312747  0.24862407]\n",
            " [-1.11224896  0.90799062  0.60128901]\n",
            " [ 0.67702787  0.384872   -0.17826734]\n",
            " [ 1.21713906 -1.17818274  0.42378994]\n",
            " [ 1.24497997  1.57256105  1.42780942]\n",
            " [-0.45570334  0.15314691  1.96959202]\n",
            " [ 0.03578309  0.07664374  0.19201267]\n",
            " [-0.42371331 -0.26231186  0.53488358]\n",
            " [-1.35758659 -1.56260136  0.00934644]\n",
            " [ 0.14241453  1.14087338 -0.54579038]]\n",
            "D has shape (5, 3) , with value: [[-0.74091778 -2.02523249  1.90011429]\n",
            " [ 4.39196152  2.98960299 -0.09331623]\n",
            " [-0.91566875 -5.27336215 -4.19133881]\n",
            " [-8.00654134 -2.08687284 -0.3689627 ]\n",
            " [-1.645695    1.81887627  1.17747008]]\n"
          ]
        }
      ]
    },
    {
      "cell_type": "code",
      "source": [
        "# now suppose we had the gradient on D from above in the circuit\n",
        "dD = np.random.randn(*D.shape) # same shape as D\n",
        "dD.shape"
      ],
      "metadata": {
        "colab": {
          "base_uri": "https://localhost:8080/"
        },
        "id": "OjkweIRGqpBi",
        "outputId": "a1b575f8-19b6-4a09-ae2e-0bebb4981b6c"
      },
      "execution_count": null,
      "outputs": [
        {
          "output_type": "execute_result",
          "data": {
            "text/plain": [
              "(5, 3)"
            ]
          },
          "metadata": {},
          "execution_count": 10
        }
      ]
    },
    {
      "cell_type": "code",
      "source": [
        "dW = dD.dot(X.T) #.T gives the transpose of the matrix\n",
        "dX = W.T.dot(dD)"
      ],
      "metadata": {
        "id": "_AyItj_cqrge"
      },
      "execution_count": null,
      "outputs": []
    },
    {
      "cell_type": "markdown",
      "source": [
        "[RNN](https://web.stanford.edu/class/cs224n/index.html#schedule)"
      ],
      "metadata": {
        "id": "DiSp2IcBqIpc"
      }
    },
    {
      "cell_type": "code",
      "source": [
        "x_bias"
      ],
      "metadata": {
        "colab": {
          "base_uri": "https://localhost:8080/"
        },
        "id": "dxP24k1Qnt4d",
        "outputId": "d9d73dce-edf7-4a64-a3f6-bc117dd58f41"
      },
      "execution_count": null,
      "outputs": [
        {
          "output_type": "execute_result",
          "data": {
            "text/plain": [
              "[-1, -2, 1]"
            ]
          },
          "metadata": {},
          "execution_count": 4
        }
      ]
    },
    {
      "cell_type": "code",
      "source": [],
      "metadata": {
        "id": "pqKxlV31oBDm"
      },
      "execution_count": null,
      "outputs": []
    }
  ]
}