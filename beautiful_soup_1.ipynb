{
 "metadata": {
  "language_info": {
   "codemirror_mode": {
    "name": "ipython",
    "version": 3
   },
   "file_extension": ".py",
   "mimetype": "text/x-python",
   "name": "python",
   "nbconvert_exporter": "python",
   "pygments_lexer": "ipython3",
   "version": "3.8.3-final"
  },
  "orig_nbformat": 2,
  "kernelspec": {
   "name": "python3",
   "display_name": "Python 3.8.3 64-bit (conda)",
   "metadata": {
    "interpreter": {
     "hash": "b3ba2566441a7c06988d0923437866b63cedc61552a5af99d1f4fb67d367b25f"
    }
   }
  }
 },
 "nbformat": 4,
 "nbformat_minor": 2,
 "cells": [
  {
   "source": [
    "Notebook- - https://www.bilibili.com/video/BV1Tp4y1D7vr?p=15&t=302\n",
    "\n",
    "# Part 1.1 Use Beautiful Soup\n",
    "\n",
    "+ Initialize\n",
    "+ define the makeup(html) and feature(parser)\n",
    "+ get an Beautiful Soup object\n",
    "\n",
    "# Part 1.2 Examples\n",
    "\n",
    "`\n",
    "from bs4 import BeautifuLSoup`\n",
    "\n",
    "`\n",
    "soup = BeautifuLSoup(makeup, feature)\n",
    "`\n",
    "## a. Initialize\n",
    "\n",
    "+ makeup\n",
    "    + either html_string or html_file\n",
    "    + for html_string:\n",
    "        + `soup = BeautifuLSoup(html_string)`\n",
    "    + for html_file:\n",
    "        + `soup = BeautifuLSoup(open(index.html))`\n",
    "\n",
    "+ feature\n",
    "    + assign parser type\n",
    "    + if not assigned, use default \n",
    "    + other, `soup = BeautifuLSoup(html_string, 'lxml')`"
   ],
   "cell_type": "markdown",
   "metadata": {}
  },
  {
   "source": [
    "# Part 2 选择器\n",
    "\n",
    "After get an Beautiful Soup object, we have to use 选择器 to obtaint the data or string we want.\n",
    "\n",
    "There are three types of 选择器：\n",
    "+ 节点选择器\n",
    "+ 方法选择器\n",
    "+ CSS选择器\n",
    "\n",
    "## Part 2.1 节点选择器\n",
    "\n",
    "+ 选取元素\n",
    "+ 提取信息\n",
    "+ 嵌套选择\n",
    "+ 关联选择\n",
    "\n",
    "### a. 选取元素"
   ],
   "cell_type": "markdown",
   "metadata": {}
  },
  {
   "cell_type": "code",
   "execution_count": 1,
   "metadata": {},
   "outputs": [
    {
     "output_type": "stream",
     "name": "stdout",
     "text": [
      "\n<p id=\"id00011\" style=\"margin-top: 2em\">*** START OF THE PROJECT GUTENBERG EBOOK, THE BIBLE, KING JAMES, BOOK 1***</p>\n\n<p id=\"id00012\" style=\"margin-top: 4em\">This eBook was produced by David Widger\nwith the help of Derek Andrew's text from January 1992\nand the work of Bryan Taylor in November 2002.</p>\n\n<h1 id=\"id00013\" style=\"margin-top: 5em\">Book 01        Genesis</h1>\n\n<p id=\"id00014\">01:001:001 In the beginning God created the heaven and the earth.</p>\n\n<p id=\"id00015\" style=\"margin-left: 0%; margin-right: 0%\">01:001:002 And the earth was without form, and void; and darkness was\n           upon the face of the deep. And the Spirit of God moved upon\n           the face of the waters.</p>\n\n<p id=\"id00016\">01:001:003 And God said, Let there be light: and there was light.</p>\n\n<p id=\"id00017\">01:001:004 And God saw the light, that it was good: and God divided the<br/>\n\n           light from the darkness.<br/>\n</p>\n\n<p id=\"id00018\">01:001:005 And God called the light Day, and the darkness he called<br/>\n\n           Night. And the evening and the morning were the first day.<br/>\n</p>\n\n<p id=\"id00019\">01:001:006 And God said, Let there be a firmament in the m\n"
     ]
    }
   ],
   "source": [
    "import requests\n",
    "data = requests.get('http://www.gutenberg.org/cache/epub/8001/pg8001.html')\n",
    "content = data.text\n",
    "print(content[2745:3948])"
   ]
  },
  {
   "cell_type": "code",
   "execution_count": 11,
   "metadata": {},
   "outputs": [
    {
     "output_type": "stream",
     "name": "stdout",
     "text": [
      "<?xml version='1.0' encoding='utf-8'?>\n<!DOCTYPE html PUBLIC '-//W3C//DTD XHTML 1.1//EN' 'http://www.w3.org/TR/xhtml11/DTD/xhtml11.dtd'>\n<html xmlns=\"http://www.w3.org/1999/xhtml\">\n  <head><title> </title><meta http-equiv=\"Content-Style-Type\" content=\"text/css\"/><meta http-equiv=\"Content-Type\" content=\"application/xhtml+xml; charset=utf-8\"/><link rel=\"schema.DCTERMS\" href=\"http://purl.org/dc/terms/\"/>\n<link rel=\"schema.MARCREL\" href=\"http://id.loc.gov/vocabulary/relators/\"/>\n<meta name=\"DCTERMS.title\" content=\"The Bible, King James version, Book 1: Genesis\"/>\n<meta name=\"DCTERMS.source\" content=\"https://www.gutenberg.org/files/8001/8001.txt\"/>\n<meta name=\"DCTERMS.language\" content=\"en\" scheme=\"DCTERMS.RFC4646\"/>\n<meta name=\"DCTERMS.modified\" content=\"2021-03-04T10:18:29.241377+00:00\" scheme=\"DCTERMS.W3CDTF\"/>\n<meta name=\"DCTERMS.rights\" content=\"Public domain in the USA.\"/>\n<meta name=\"DCTERMS.creator\" content=\"Anonymous\"/>\n<meta name=\"DCTERMS.subject\" content=\"Bible. Genesis\" scheme=\"DCTERMS.LCSH\"/>\n<meta name=\"DCTERMS.created\" content=\"2005-04-01\" scheme=\"DCTERMS.W3CDTF\"/>\n<meta name=\"viewport\" content=\"width=device-width\"/>\n<meta name=\"generator\" content=\"Ebookmaker 0.10.3 by Project Gutenberg\"/>\n</head>\n  <body><p id=\"id00000\">Project Gutenberg EBook The Bible, King James, Book 1: Genesis</p>\n\n<p id=\"id00001\">Copyright laws are changing all over the world. Be sure to check the\ncopyright laws for your country before downloading or redistributing\nthis or any other Project Gutenberg eBook.</p>\n\n<p id=\"id00002\">This header should be the first thing seen when viewing this Project\nGutenberg file.  Please do not remove it.  Do not change or edit the\nheader without written permission.</p>\n\n<p id=\"id00003\">Please read the \"legal small print,\" and other information about the\neBook and Project Gutenberg at the bottom of this file.  Included is\nimportant information about your specific rights and restrictions in\nhow the file may be used.  You ca\n"
     ]
    }
   ],
   "source": [
    "print(content[0:2000])"
   ]
  },
  {
   "cell_type": "code",
   "execution_count": 2,
   "metadata": {},
   "outputs": [],
   "source": [
    "import re\n",
    "from bs4 import BeautifulSoup"
   ]
  },
  {
   "cell_type": "code",
   "execution_count": 3,
   "metadata": {},
   "outputs": [],
   "source": [
    "soup = BeautifulSoup(content, 'lxml')"
   ]
  },
  {
   "cell_type": "code",
   "execution_count": 12,
   "metadata": {
    "tags": [
     "outputPrepend"
    ]
   },
   "outputs": [
    {
     "output_type": "stream",
     "name": "stdout",
     "text": [
      "524\">01:050:004 And when the days of his mourning were past, Joseph spake unto<br/>\n\n           the house of Pharaoh, saying, If now I have found grace in<br/>\n\n           your eyes, speak, I pray you, in the ears of Pharaoh, saying,<br/>\n</p>\n<p id=\"id01525\" style=\"margin-left: 0%; margin-right: 0%\">01:050:005 My father made me swear, saying, Lo, I die: in my grave which\n           I have digged for me in the land of Canaan, there shalt thou\n           bury me. Now therefore let me go up, I pray thee, and bury my\n           father, and I will come again.</p>\n<p id=\"id01526\" style=\"margin-left: 0%; margin-right: 0%\">01:050:006 And Pharaoh said, Go up, and bury thy father, according as he\n           made thee swear.</p>\n<p id=\"id01527\">01:050:007 And Joseph went up to bury his father: and with him went up<br/>\n\n           all the servants of Pharaoh, the elders of his house, and all<br/>\n\n           the elders of the land of Egypt,<br/>\n</p>\n<p id=\"id01528\">01:050:008 And all the house of Joseph, and his brethren, and his<br/>\n\n           father's house: only their little ones, and their flocks, and<br/>\n\n           their herds, they left in the land of Goshen.<br/>\n</p>\n<p id=\"id01529\" style=\"margin-left: 0%; margin-right: 0%\">01:050:009 And there went up with him both chariots and horsemen: and it\n           was a very great company.</p>\n<p id=\"id01530\" style=\"margin-left: 0%; margin-right: 0%\">01:050:010 And they came to the threshingfloor of Atad, which is beyond\n           Jordan, and there they mourned with a great and very sore\n           lamentation: and he made a mourning for his father seven days.</p>\n<p id=\"id01531\" style=\"margin-left: 0%; margin-right: 0%\">01:050:011 And when the inhabitants of the land, the Canaanites, saw the\n           mourning in the floor of Atad, they said, This is a grievous\n           mourning to the Egyptians: wherefore the name of it was called\n           Abelmizraim, which is beyond Jordan.</p>\n<p id=\"id01532\">01:050:012 And his sons did unto him according as he commanded them:</p>\n<p id=\"id01533\" style=\"margin-left: 0%; margin-right: 0%\">01:050:013 For his sons carried him into the land of Canaan, and buried\n           him in the cave of the field of Machpelah, which Abraham\n           bought with the field for a possession of a buryingplace of\n           Ephron the Hittite, before Mamre.</p>\n<p id=\"id01534\">01:050:014 And Joseph returned into Egypt, he, and his brethren, and all<br/>\n\n           that went up with him to bury his father, after he had buried<br/>\n\n           his father.<br/>\n</p>\n<p id=\"id01535\">01:050:015 And when Joseph's brethren saw that their father was dead,<br/>\n\n           they said, Joseph will peradventure hate us, and will<br/>\n\n           certainly requite us all the evil which we did unto him.<br/>\n</p>\n<p id=\"id01536\" style=\"margin-left: 0%; margin-right: 0%\">01:050:016 And they sent a messenger unto Joseph, saying, Thy father did\n           command before he died, saying,</p>\n<p id=\"id01537\" style=\"margin-left: 0%; margin-right: 0%\">01:050:017 So shall ye say unto Joseph, Forgive, I pray thee now, the\n           trespass of thy brethren, and their sin; for they did unto\n           thee evil: and now, we pray thee, forgive the trespass of the\n           servants of the God of thy father. And Joseph wept when they\n           spake unto him.</p>\n<p id=\"id01538\">01:050:018 And his brethren also went and fell down before his face; and<br/>\n\n           they said, Behold, we be thy servants.<br/>\n</p>\n<p id=\"id01539\">01:050:019 And Joseph said unto them, Fear not: for am I in the place of<br/>\n\n           God?<br/>\n</p>\n<p id=\"id01540\" style=\"margin-left: 0%; margin-right: 0%\">01:050:020 But as for you, ye thought evil against me; but God meant it\n           unto good, to bring to pass, as it is this day, to save much\n           people alive.</p>\n<p id=\"id01541\">01:050:021 Now therefore fear ye not: I will nourish you, and your little<br/>\n\n           ones. And he comforted them, and spake kindly unto them.<br/>\n</p>\n<p id=\"id01542\">01:050:022 And Joseph dwelt in Egypt, he, and his father's house: and<br/>\n\n           Joseph lived an hundred and ten years.<br/>\n</p>\n<p id=\"id01543\">01:050:023 And Joseph saw Ephraim's children of the third generation: the<br/>\n\n           children also of Machir the son of Manasseh were brought up<br/>\n\n           upon Joseph's knees.<br/>\n</p>\n<p id=\"id01544\">01:050:024 And Joseph said unto his brethren, I die: and God will surely<br/>\n\n           visit you, and bring you out of this land unto the land which<br/>\n\n           he sware to Abraham, to Isaac, and to Jacob.<br/>\n</p>\n<p id=\"id01545\">01:050:025 And Joseph took an oath of the children of Israel, saying, God<br/>\n\n           will surely visit you, and ye shall carry up my bones from<br/>\n\n           hence.<br/>\n</p>\n<p id=\"id01546\" style=\"margin-left: 0%; margin-right: 0%\">01:050:026 So Joseph died, being an hundred and ten years old: and they\n           embalmed him, and he was put in a coffin in Egypt.</p>\n<p id=\"id01547\" style=\"margin-top: 5em\">*** END OF THE PROJECT GUTENBERG EBOOK, THE BIBLE, KING JAMES, BOOK 1 ***</p>\n<p id=\"id01548\">********* This file should be named 8001.txt or 8001.zip **********</p>\n<p id=\"id01549\">This eBook was produced by David Widger\nSee above the credits to previous producers of this text.</p>\n<p id=\"id01550\">Project Gutenberg eBooks are often created from several printed\neditions, all of which are confirmed as Public Domain in the US\nunless a copyright notice is included.  Thus, we usually do not\nkeep eBooks in compliance with any particular paper edition.</p>\n<p id=\"id01551\">We are now trying to release all our eBooks one year in advance\nof the official release dates, leaving time for better editing.\nPlease be encouraged to tell us about any error or corrections,\neven years after the official publication date.</p>\n<p id=\"id01552\">Please note neither this listing nor its contents are final til\nmidnight of the last day of the month of any such announcement.\nThe official release date of all Project Gutenberg eBooks is at\nMidnight, Central Time, of the last day of the stated month.  A\npreliminary version may often be posted for suggestion, comment\nand editing by those who wish to do so.</p>\n<p id=\"id01553\">Most people start at our Web sites at:\nhttps://gutenberg.org or\nhttp://promo.net/pg</p>\n<p id=\"id01554\">These Web sites include award-winning information about Project\nGutenberg, including how to donate, how to help produce our new\neBooks, and how to subscribe to our email newsletter (free!).</p>\n<p id=\"id01555\" style=\"margin-top: 2em\">Those of you who want to download any eBook before announcement\ncan get to them as follows, and just download by date.  This is\nalso a good way to get them instantly upon announcement, as the\nindexes our cataloguers produce obviously take a while after an\nannouncement goes out in the Project Gutenberg Newsletter.</p>\n<p id=\"id01556\">http://www.ibiblio.org/gutenberg/etext03 or<br/>\n\nftp://ftp.ibiblio.org/pub/docs/books/gutenberg/etext03<br/>\n</p>\n<p id=\"id01557\">Or /etext02, 01, 00, 99, 98, 97, 96, 95, 94, 93, 92, 92, 91 or 90</p>\n<p id=\"id01558\">Just search by the first five letters of the filename you want,\nas it appears in our Newsletters.</p>\n<p id=\"id01559\" style=\"margin-top: 2em\">Information about Project Gutenberg (one page)</p>\n<p id=\"id01560\">We produce about two million dollars for each hour we work.  The\ntime it takes us, a rather conservative estimate, is fifty hours\nto get any eBook selected, entered, proofread, edited, copyright\nsearched and analyzed, the copyright letters written, etc.   Our\nprojected audience is one hundred million readers.  If the value\nper text is nominally estimated at one dollar then we produce $2\nmillion dollars per hour in 2002 as we release over 100 new text\nfiles per month:  1240 more eBooks in 2001 for a total of 4000+\nWe are already on our way to trying for 2000 more eBooks in 2002\nIf they reach just 1-2% of the world's population then the total\nwill reach over half a trillion eBooks given away by year's end.</p>\n<p id=\"id01561\">The Goal of Project Gutenberg is to Give Away 1 Trillion eBooks!\nThis is ten thousand titles each to one hundred million readers,\nwhich is only about 4% of the present number of computer users.</p>\n<p id=\"id01562\">Here is the briefest record of our progress (* means estimated):</p>\n<p id=\"id01563\">eBooks Year Month</p>\n<p id=\"id01564\">    1  1971 July<br/>\n\n   10  1991 January<br/>\n\n  100  1994 January<br/>\n\n 1000  1997 August<br/>\n\n 1500  1998 October<br/>\n\n 2000  1999 December<br/>\n\n 2500  2000 December<br/>\n\n 3000  2001 November<br/>\n\n 4000  2001 October/November<br/>\n\n 6000  2002 December*<br/>\n\n 9000  2003 November*<br/>\n\n10000  2004 January*<br/>\n</p>\n<p id=\"id01565\" style=\"margin-top: 2em\">The Project Gutenberg Literary Archive Foundation has been created\nto secure a future for Project Gutenberg into the next millennium.</p>\n<p id=\"id01566\">We need your donations more than ever!</p>\n<p id=\"id01567\">As of February, 2002, contributions are being solicited from people<br/>\n\nand organizations in: Alabama, Alaska, Arkansas, Connecticut,<br/>\n\nDelaware, District of Columbia, Florida, Georgia, Hawaii, Illinois,<br/>\n\nIndiana, Iowa, Kansas, Kentucky, Louisiana, Maine, Massachusetts,<br/>\n\nMichigan, Mississippi, Missouri, Montana, Nebraska, Nevada, New<br/>\n\nHampshire, New Jersey, New Mexico, New York, North Carolina, Ohio,<br/>\n\nOklahoma, Oregon, Pennsylvania, Rhode Island, South Carolina, South<br/>\n\nDakota, Tennessee, Texas, Utah, Vermont, Virginia, Washington, West<br/>\n\nVirginia, Wisconsin, and Wyoming.<br/>\n</p>\n<p id=\"id01568\">We have filed in all 50 states now, but these are the only ones\nthat have responded.</p>\n<p id=\"id01569\">As the requirements for other states are met, additions to this list\nwill be made and fund raising will begin in the additional states.\nPlease feel free to ask to check the status of your state.</p>\n<p id=\"id01570\">In answer to various questions we have received on this:</p>\n<p id=\"id01571\">We are constantly working on finishing the paperwork to legally\nrequest donations in all 50 states.  If your state is not listed and\nyou would like to know if we have added it since the list you have,\njust ask.</p>\n<p id=\"id01572\">While we cannot solicit donations from people in states where we are\nnot yet registered, we know of no prohibition against accepting\ndonations from donors in these states who approach us with an offer to\ndonate.</p>\n<p id=\"id01573\">International donations are accepted, but we don't know ANYTHING about\nhow to make them tax-deductible, or even if they CAN be made\ndeductible, and don't have the staff to handle it even if there are\nways.</p>\n<p id=\"id01574\">Donations by check or money order may be sent to:</p>\n<p id=\"id01575\">Project Gutenberg Literary Archive Foundation<br/>\n\nPMB 113<br/>\n\n1739 University Ave.<br/>\n\nOxford, MS 38655-4109<br/>\n</p>\n<p id=\"id01576\">Contact us if you want to arrange for a wire transfer or payment\nmethod other than by check or money order.</p>\n<p id=\"id01577\">The Project Gutenberg Literary Archive Foundation has been approved by\nthe US Internal Revenue Service as a 501(c)(3) organization with EIN\n[Employee Identification Number] 64-622154.  Donations are\ntax-deductible to the maximum extent permitted by law.  As fund-raising\nrequirements for other states are met, additions to this list will be\nmade and fund-raising will begin in the additional states.</p>\n<p id=\"id01578\">We need your donations more than ever!</p>\n<p id=\"id01579\">You can get up to date donation information online at:</p>\n<p id=\"id01580\">https://www.gutenberg.org/donation.html</p>\n<p id=\"id01581\" style=\"margin-top: 2em\">***</p>\n<p id=\"id01582\">If you can't reach Project Gutenberg,\nyou can always email directly to:</p>\n<p id=\"id01583\">Michael S. Hart &lt;hart@pobox.com&gt;</p>\n<p id=\"id01584\">Prof. Hart will answer or forward your message.</p>\n<p id=\"id01585\">We would prefer to send you information by email.</p>\n<p id=\"id01586\" style=\"margin-top: 2em\">**The Legal Small Print**</p>\n<p id=\"id01587\" style=\"margin-top: 2em\">(Three Pages)</p>\n<p id=\"id01588\">***START**THE SMALL PRINT!**FOR PUBLIC DOMAIN EBOOKS**START***\nWhy is this \"Small Print!\" statement here? You know: lawyers.\nThey tell us you might sue us if there is something wrong with\nyour copy of this eBook, even if you got it for free from\nsomeone other than us, and even if what's wrong is not our\nfault. So, among other things, this \"Small Print!\" statement\ndisclaims most of our liability to you. It also tells you how\nyou may distribute copies of this eBook if you want to.</p>\n<p id=\"id01589\">*BEFORE!* YOU USE OR READ THIS EBOOK\nBy using or reading any part of this PROJECT GUTENBERG-tm\neBook, you indicate that you understand, agree to and accept\nthis \"Small Print!\" statement. If you do not, you can receive\na refund of the money (if any) you paid for this eBook by\nsending a request within 30 days of receiving it to the person\nyou got it from. If you received this eBook on a physical\nmedium (such as a disk), you must return it with your request.</p>\n<p id=\"id01590\">ABOUT PROJECT GUTENBERG-TM EBOOKS\nThis PROJECT GUTENBERG-tm eBook, like most PROJECT GUTENBERG-tm eBooks,\nis a \"public domain\" work distributed by Professor Michael S. Hart\nthrough the Project Gutenberg Association (the \"Project\").\nAmong other things, this means that no one owns a United States copyright\non or for this work, so the Project (and you!) can copy and\ndistribute it in the United States without permission and\nwithout paying copyright royalties. Special rules, set forth\nbelow, apply if you wish to copy and distribute this eBook\nunder the \"PROJECT GUTENBERG\" trademark.</p>\n<p id=\"id01591\">Please do not use the \"PROJECT GUTENBERG\" trademark to market\nany commercial products without permission.</p>\n<p id=\"id01592\">To create these eBooks, the Project expends considerable\nefforts to identify, transcribe and proofread public domain\nworks. Despite these efforts, the Project's eBooks and any\nmedium they may be on may contain \"Defects\". Among other\nthings, Defects may take the form of incomplete, inaccurate or\ncorrupt data, transcription errors, a copyright or other\nintellectual property infringement, a defective or damaged\ndisk or other eBook medium, a computer virus, or computer\ncodes that damage or cannot be read by your equipment.</p>\n<p id=\"id01593\">LIMITED WARRANTY; DISCLAIMER OF DAMAGES\nBut for the \"Right of Replacement or Refund\" described below,\n[1] Michael Hart and the Foundation (and any other party you may\nreceive this eBook from as a PROJECT GUTENBERG-tm eBook) disclaims\nall liability to you for damages, costs and expenses, including\nlegal fees, and [2] YOU HAVE NO REMEDIES FOR NEGLIGENCE OR\nUNDER STRICT LIABILITY, OR FOR BREACH OF WARRANTY OR CONTRACT,\nINCLUDING BUT NOT LIMITED TO INDIRECT, CONSEQUENTIAL, PUNITIVE\nOR INCIDENTAL DAMAGES, EVEN IF YOU GIVE NOTICE OF THE\nPOSSIBILITY OF SUCH DAMAGES.</p>\n<p id=\"id01594\">If you discover a Defect in this eBook within 90 days of\nreceiving it, you can receive a refund of the money (if any)\nyou paid for it by sending an explanatory note within that\ntime to the person you received it from. If you received it\non a physical medium, you must return it with your note, and\nsuch person may choose to alternatively give you a replacement\ncopy. If you received it electronically, such person may\nchoose to alternatively give you a second opportunity to\nreceive it electronically.</p>\n<p id=\"id01595\">THIS EBOOK IS OTHERWISE PROVIDED TO YOU \"AS-IS\". NO OTHER\nWARRANTIES OF ANY KIND, EXPRESS OR IMPLIED, ARE MADE TO YOU AS\nTO THE EBOOK OR ANY MEDIUM IT MAY BE ON, INCLUDING BUT NOT\nLIMITED TO WARRANTIES OF MERCHANTABILITY OR FITNESS FOR A\nPARTICULAR PURPOSE.</p>\n<p id=\"id01596\">Some states do not allow disclaimers of implied warranties or\nthe exclusion or limitation of consequential damages, so the\nabove disclaimers and exclusions may not apply to you, and you\nmay have other legal rights.</p>\n<p id=\"id01597\">INDEMNITY\nYou will indemnify and hold Michael Hart, the Foundation,\nand its trustees and agents, and any volunteers associated\nwith the production and distribution of Project Gutenberg-tm\ntexts harmless, from all liability, cost and expense, including\nlegal fees, that arise directly or indirectly from any of the\nfollowing that you do or cause:  [1] distribution of this eBook,\n[2] alteration, modification, or addition to the eBook,\nor [3] any Defect.</p>\n<p id=\"id01598\">DISTRIBUTION UNDER \"PROJECT GUTENBERG-tm\"\nYou may distribute copies of this eBook electronically, or by\ndisk, book or any other medium if you either delete this\n\"Small Print!\" and all other references to Project Gutenberg,\nor:</p>\n<p id=\"id01599\">[1]  Only give exact copies of it.  Among other things, this\n     requires that you do not remove, alter or modify the\n     eBook or this \"small print!\" statement.  You may however,\n     if you wish, distribute this eBook in machine readable\n     binary, compressed, mark-up, or proprietary form,\n     including any form resulting from conversion by word\n     processing or hypertext software, but only so long as\n     *EITHER*:</p>\n<p id=\"id01600\">     [*]  The eBook, when displayed, is clearly readable, and\n          does *not* contain characters other than those\n          intended by the author of the work, although tilde\n          (~), asterisk (*) and underline (_) characters may\n          be used to convey punctuation intended by the\n          author, and additional characters may be used to\n          indicate hypertext links; OR</p>\n<p id=\"id01601\">     [*]  The eBook may be readily converted by the reader at\n          no expense into plain ASCII, EBCDIC or equivalent\n          form by the program that displays the eBook (as is\n          the case, for instance, with most word processors);\n          OR</p>\n<p id=\"id01602\">     [*]  You provide, or agree to also provide on request at\n          no additional cost, fee or expense, a copy of the\n          eBook in its original plain ASCII form (or in EBCDIC\n          or other equivalent proprietary form).</p>\n<p id=\"id01603\">[2]  Honor the eBook refund and replacement provisions of this\n     \"Small Print!\" statement.</p>\n<p id=\"id01604\" style=\"margin-left: 0%; margin-right: 0%\">[3]  Pay a trademark license fee to the Foundation of 20% of the\n     gross profits you derive calculated using the method you\n     already use to calculate your applicable taxes.  If you\n     don't derive profits, no royalty is due.  Royalties are\n     payable to \"Project Gutenberg Literary Archive Foundation\"\n     the 60 days following each date you prepare (or were\n     legally required to prepare) your annual (or equivalent\n     periodic) tax return.  Please contact us beforehand to\n     let us know your plans and to work out the details.</p>\n<p id=\"id01605\">WHAT IF YOU *WANT* TO SEND MONEY EVEN IF YOU DON'T HAVE TO?\nProject Gutenberg is dedicated to increasing the number of\npublic domain and licensed works that can be freely distributed\nin machine readable form.</p>\n<p id=\"id01606\">The Project gratefully accepts contributions of money, time,<br/>\n\npublic domain materials, or royalty free copyright licenses.<br/>\n\nMoney should be paid to the:<br/>\n\n\"Project Gutenberg Literary Archive Foundation.\"<br/>\n</p>\n<p id=\"id01607\">If you are interested in contributing scanning equipment or\nsoftware or other items, please contact Michael Hart at:\nhart@pobox.com</p>\n<p id=\"id01608\">[Portions of this eBook's header and trailer may be reprinted only\nwhen distributed free of all fees.  Copyright (C) 2001, 2002 by\nMichael S. Hart.  Project Gutenberg is a TradeMark and may not be\nused in any sales of Project Gutenberg eBooks or other materials be\nthey hardware or software or any other related product without\nexpress permission.]</p>\n<p id=\"id01609\">*END THE SMALL PRINT! FOR PUBLIC DOMAIN EBOOKS*Ver.02/11/02*END*</p>\n</body>\n"
     ]
    }
   ],
   "source": [
    "# 定位元素body\n",
    "print(soup.body)"
   ]
  },
  {
   "cell_type": "code",
   "execution_count": 13,
   "metadata": {},
   "outputs": [
    {
     "output_type": "stream",
     "name": "stdout",
     "text": [
      "<class 'bs4.element.Tag'>\n"
     ]
    }
   ],
   "source": [
    "print(type(soup.body))"
   ]
  },
  {
   "cell_type": "code",
   "execution_count": 14,
   "metadata": {},
   "outputs": [
    {
     "output_type": "stream",
     "name": "stdout",
     "text": [
      "<p id=\"id00000\">Project Gutenberg EBook The Bible, King James, Book 1: Genesis</p>\n"
     ]
    }
   ],
   "source": [
    "print(soup.p)\n",
    "# 当html中存在多个相同节点的时候，只会提取一个节点\n",
    "# 此处只print id = 000000的内容"
   ]
  },
  {
   "source": [
    "### b. 提取信息\n",
    "\n",
    "+ soup.tag.name - 获取名称\n",
    "+ soup.tag.attrs - 获取属性\n",
    "+ soup.tag.string — 获取内容"
   ],
   "cell_type": "markdown",
   "metadata": {}
  },
  {
   "cell_type": "code",
   "execution_count": 15,
   "metadata": {},
   "outputs": [
    {
     "output_type": "stream",
     "name": "stdout",
     "text": [
      "p\n"
     ]
    }
   ],
   "source": [
    "print(soup.p.name)"
   ]
  },
  {
   "cell_type": "code",
   "execution_count": 16,
   "metadata": {},
   "outputs": [
    {
     "output_type": "stream",
     "name": "stdout",
     "text": [
      "{'id': 'id00000'}\n"
     ]
    }
   ],
   "source": [
    "# return dictionary of its attributes\n",
    "print(soup.p.attrs)"
   ]
  },
  {
   "cell_type": "code",
   "execution_count": 17,
   "metadata": {},
   "outputs": [
    {
     "output_type": "stream",
     "name": "stdout",
     "text": [
      "Project Gutenberg EBook The Bible, King James, Book 1: Genesis\n"
     ]
    }
   ],
   "source": [
    "# return the string of the content inside tag p\n",
    "print(soup.p.string)"
   ]
  },
  {
   "source": [
    "### c. 嵌套选择"
   ],
   "cell_type": "markdown",
   "metadata": {}
  },
  {
   "cell_type": "code",
   "execution_count": 20,
   "metadata": {},
   "outputs": [
    {
     "output_type": "stream",
     "name": "stdout",
     "text": [
      "<head><title> </title><meta content=\"text/css\" http-equiv=\"Content-Style-Type\"/><meta content=\"application/xhtml+xml; charset=utf-8\" http-equiv=\"Content-Type\"/><link href=\"http://purl.org/dc/terms/\" rel=\"schema.DCTERMS\"/>\n<link href=\"http://id.loc.gov/vocabulary/relators/\" rel=\"schema.MARCREL\"/>\n<meta content=\"The Bible, King James version, Book 1: Genesis\" name=\"DCTERMS.title\"/>\n<meta content=\"https://www.gutenberg.org/files/8001/8001.txt\" name=\"DCTERMS.source\"/>\n<meta content=\"en\" name=\"DCTERMS.language\" scheme=\"DCTERMS.RFC4646\"/>\n<meta content=\"2021-03-04T10:18:29.241377+00:00\" name=\"DCTERMS.modified\" scheme=\"DCTERMS.W3CDTF\"/>\n<meta content=\"Public domain in the USA.\" name=\"DCTERMS.rights\"/>\n<meta content=\"Anonymous\" name=\"DCTERMS.creator\"/>\n<meta content=\"Bible. Genesis\" name=\"DCTERMS.subject\" scheme=\"DCTERMS.LCSH\"/>\n<meta content=\"2005-04-01\" name=\"DCTERMS.created\" scheme=\"DCTERMS.W3CDTF\"/>\n<meta content=\"width=device-width\" name=\"viewport\"/>\n<meta content=\"Ebookmaker 0.10.3 by Project Gutenberg\" name=\"generator\"/>\n</head>\n"
     ]
    }
   ],
   "source": [
    "print(soup.head)"
   ]
  },
  {
   "source": [
    "From the example above, we could see that `<head>` tag contains a lot of subtags in between. Then how do we obtain those tags in between then?\n",
    "\n",
    "+ soup.tag.tag"
   ],
   "cell_type": "markdown",
   "metadata": {}
  },
  {
   "cell_type": "code",
   "execution_count": 21,
   "metadata": {},
   "outputs": [
    {
     "output_type": "stream",
     "name": "stdout",
     "text": [
      "<meta content=\"text/css\" http-equiv=\"Content-Style-Type\"/>\n"
     ]
    }
   ],
   "source": [
    "print(soup.head.meta)"
   ]
  },
  {
   "cell_type": "code",
   "execution_count": 22,
   "metadata": {},
   "outputs": [
    {
     "output_type": "stream",
     "name": "stdout",
     "text": [
      "{'http-equiv': 'Content-Style-Type', 'content': 'text/css'}\n"
     ]
    }
   ],
   "source": [
    "print(soup.head.meta.attrs)"
   ]
  },
  {
   "source": [
    "### d. 关联选择器"
   ],
   "cell_type": "markdown",
   "metadata": {}
  },
  {
   "source": [
    "+ 子节点\n",
    "    + contents\n",
    "    + children\n",
    "+ 子孙节点 - descendants\n",
    "+ 父节点 - parent\n",
    "+ 祖先节点 - parents\n",
    "+ 兄弟节点\n",
    "    + next_sblings\n",
    "    + previous_sblings\n",
    "    + previous_sbling\n",
    "    + next_sbling"
   ],
   "cell_type": "markdown",
   "metadata": {}
  },
  {
   "cell_type": "code",
   "execution_count": 4,
   "metadata": {},
   "outputs": [
    {
     "output_type": "stream",
     "name": "stdout",
     "text": [
      "[<title> </title>, <meta content=\"text/css\" http-equiv=\"Content-Style-Type\"/>, <meta content=\"application/xhtml+xml; charset=utf-8\" http-equiv=\"Content-Type\"/>, <link href=\"http://purl.org/dc/terms/\" rel=\"schema.DCTERMS\"/>, '\\n', <link href=\"http://id.loc.gov/vocabulary/relators/\" rel=\"schema.MARCREL\"/>, '\\n', <meta content=\"The Bible, King James version, Book 1: Genesis\" name=\"DCTERMS.title\"/>, '\\n', <meta content=\"https://www.gutenberg.org/files/8001/8001.txt\" name=\"DCTERMS.source\"/>, '\\n', <meta content=\"en\" name=\"DCTERMS.language\" scheme=\"DCTERMS.RFC4646\"/>, '\\n', <meta content=\"2021-03-04T10:18:29.241377+00:00\" name=\"DCTERMS.modified\" scheme=\"DCTERMS.W3CDTF\"/>, '\\n', <meta content=\"Public domain in the USA.\" name=\"DCTERMS.rights\"/>, '\\n', <meta content=\"Anonymous\" name=\"DCTERMS.creator\"/>, '\\n', <meta content=\"Bible. Genesis\" name=\"DCTERMS.subject\" scheme=\"DCTERMS.LCSH\"/>, '\\n', <meta content=\"2005-04-01\" name=\"DCTERMS.created\" scheme=\"DCTERMS.W3CDTF\"/>, '\\n', <meta content=\"width=device-width\" name=\"viewport\"/>, '\\n', <meta content=\"Ebookmaker 0.10.3 by Project Gutenberg\" name=\"generator\"/>, '\\n']\n"
     ]
    }
   ],
   "source": [
    "# 子节点\n",
    "print(soup.head.contents)"
   ]
  },
  {
   "cell_type": "code",
   "execution_count": 25,
   "metadata": {},
   "outputs": [
    {
     "output_type": "stream",
     "name": "stdout",
     "text": [
      "<class 'list'>\n"
     ]
    }
   ],
   "source": [
    "print(type(soup.p.contents))\n",
    "# it is a list of string, rather than the direct string for soup.tag.strings"
   ]
  },
  {
   "cell_type": "code",
   "execution_count": 26,
   "metadata": {},
   "outputs": [
    {
     "output_type": "stream",
     "name": "stdout",
     "text": [
      "<list_iterator object at 0x000002167DA98730>\n"
     ]
    }
   ],
   "source": [
    "print(soup.p.children)\n",
    "# this is interator object"
   ]
  },
  {
   "cell_type": "code",
   "execution_count": 27,
   "metadata": {},
   "outputs": [
    {
     "output_type": "stream",
     "name": "stdout",
     "text": [
      "0 Project Gutenberg EBook The Bible, King James, Book 1: Genesis\n"
     ]
    }
   ],
   "source": [
    "for i,child in enumerate(soup.p.children):\n",
    "    print(i, child)"
   ]
  },
  {
   "cell_type": "code",
   "execution_count": 28,
   "metadata": {},
   "outputs": [
    {
     "output_type": "stream",
     "name": "stdout",
     "text": [
      "0 <title> </title>\n1 <meta content=\"text/css\" http-equiv=\"Content-Style-Type\"/>\n2 <meta content=\"application/xhtml+xml; charset=utf-8\" http-equiv=\"Content-Type\"/>\n3 <link href=\"http://purl.org/dc/terms/\" rel=\"schema.DCTERMS\"/>\n4 \n\n5 <link href=\"http://id.loc.gov/vocabulary/relators/\" rel=\"schema.MARCREL\"/>\n6 \n\n7 <meta content=\"The Bible, King James version, Book 1: Genesis\" name=\"DCTERMS.title\"/>\n8 \n\n9 <meta content=\"https://www.gutenberg.org/files/8001/8001.txt\" name=\"DCTERMS.source\"/>\n10 \n\n11 <meta content=\"en\" name=\"DCTERMS.language\" scheme=\"DCTERMS.RFC4646\"/>\n12 \n\n13 <meta content=\"2021-03-04T10:18:29.241377+00:00\" name=\"DCTERMS.modified\" scheme=\"DCTERMS.W3CDTF\"/>\n14 \n\n15 <meta content=\"Public domain in the USA.\" name=\"DCTERMS.rights\"/>\n16 \n\n17 <meta content=\"Anonymous\" name=\"DCTERMS.creator\"/>\n18 \n\n19 <meta content=\"Bible. Genesis\" name=\"DCTERMS.subject\" scheme=\"DCTERMS.LCSH\"/>\n20 \n\n21 <meta content=\"2005-04-01\" name=\"DCTERMS.created\" scheme=\"DCTERMS.W3CDTF\"/>\n22 \n\n23 <meta content=\"width=device-width\" name=\"viewport\"/>\n24 \n\n25 <meta content=\"Ebookmaker 0.10.3 by Project Gutenberg\" name=\"generator\"/>\n26 \n\n"
     ]
    }
   ],
   "source": [
    "for i,child in enumerate(soup.head.children):\n",
    "    print(i, child)"
   ]
  },
  {
   "cell_type": "code",
   "execution_count": 29,
   "metadata": {},
   "outputs": [
    {
     "output_type": "stream",
     "name": "stdout",
     "text": [
      "0 <title> </title>\n1  \n2 <meta content=\"text/css\" http-equiv=\"Content-Style-Type\"/>\n3 <meta content=\"application/xhtml+xml; charset=utf-8\" http-equiv=\"Content-Type\"/>\n4 <link href=\"http://purl.org/dc/terms/\" rel=\"schema.DCTERMS\"/>\n5 \n\n6 <link href=\"http://id.loc.gov/vocabulary/relators/\" rel=\"schema.MARCREL\"/>\n7 \n\n8 <meta content=\"The Bible, King James version, Book 1: Genesis\" name=\"DCTERMS.title\"/>\n9 \n\n10 <meta content=\"https://www.gutenberg.org/files/8001/8001.txt\" name=\"DCTERMS.source\"/>\n11 \n\n12 <meta content=\"en\" name=\"DCTERMS.language\" scheme=\"DCTERMS.RFC4646\"/>\n13 \n\n14 <meta content=\"2021-03-04T10:18:29.241377+00:00\" name=\"DCTERMS.modified\" scheme=\"DCTERMS.W3CDTF\"/>\n15 \n\n16 <meta content=\"Public domain in the USA.\" name=\"DCTERMS.rights\"/>\n17 \n\n18 <meta content=\"Anonymous\" name=\"DCTERMS.creator\"/>\n19 \n\n20 <meta content=\"Bible. Genesis\" name=\"DCTERMS.subject\" scheme=\"DCTERMS.LCSH\"/>\n21 \n\n22 <meta content=\"2005-04-01\" name=\"DCTERMS.created\" scheme=\"DCTERMS.W3CDTF\"/>\n23 \n\n24 <meta content=\"width=device-width\" name=\"viewport\"/>\n25 \n\n26 <meta content=\"Ebookmaker 0.10.3 by Project Gutenberg\" name=\"generator\"/>\n27 \n\n"
     ]
    }
   ],
   "source": [
    "# 子孙节点\n",
    "for i, child in enumerate(soup.head.descendants):\n",
    "    print(i, child)"
   ]
  },
  {
   "cell_type": "code",
   "execution_count": 7,
   "metadata": {
    "tags": []
   },
   "outputs": [
    {
     "output_type": "stream",
     "name": "stdout",
     "text": [
      "<head><title> </title><meta content=\"text/css\" http-equiv=\"Content-Style-Type\"/><meta content=\"application/xhtml+xml; charset=utf-8\" http-equiv=\"Content-Type\"/><link href=\"http://purl.org/dc/terms/\" rel=\"schema.DCTERMS\"/>\n<link href=\"http://id.loc.gov/vocabulary/relators/\" rel=\"schema.MARCREL\"/>\n<meta content=\"The Bible, King James version, Book 1: Genesis\" name=\"DCTERMS.title\"/>\n<meta content=\"https://www.gutenberg.org/files/8001/8001.txt\" name=\"DCTERMS.source\"/>\n<meta content=\"en\" name=\"DCTERMS.language\" scheme=\"DCTERMS.RFC4646\"/>\n<meta content=\"2021-03-04T10:18:29.241377+00:00\" name=\"DCTERMS.modified\" scheme=\"DCTERMS.W3CDTF\"/>\n<meta content=\"Public domain in the USA.\" name=\"DCTERMS.rights\"/>\n<meta content=\"Anonymous\" name=\"DCTERMS.creator\"/>\n<meta content=\"Bible. Genesis\" name=\"DCTERMS.subject\" scheme=\"DCTERMS.LCSH\"/>\n<meta content=\"2005-04-01\" name=\"DCTERMS.created\" scheme=\"DCTERMS.W3CDTF\"/>\n<meta content=\"width=device-width\" name=\"viewport\"/>\n<meta content=\"Ebookmaker 0.10.3 by Project Gutenberg\" name=\"generator\"/>\n</head>\n"
     ]
    }
   ],
   "source": [
    "# 父节点 - return everything that is under that layer that one level above <link>\n",
    "# <link> is included in the <head>\n",
    "# return everyything under the <head>\n",
    "print(soup.link.parent)"
   ]
  },
  {
   "cell_type": "code",
   "execution_count": 8,
   "metadata": {},
   "outputs": [
    {
     "output_type": "stream",
     "name": "stdout",
     "text": [
      "<generator object PageElement.parents at 0x000001E64C028E40>\n"
     ]
    }
   ],
   "source": [
    "# 祖先节点 - return generater\n",
    "print(soup.link.parents)"
   ]
  },
  {
   "cell_type": "code",
   "execution_count": 9,
   "metadata": {
    "tags": [
     "outputPrepend"
    ]
   },
   "outputs": [
    {
     "output_type": "stream",
     "name": "stdout",
     "text": [
      "0:004 And when the days of his mourning were past, Joseph spake unto<br/>\n\n           the house of Pharaoh, saying, If now I have found grace in<br/>\n\n           your eyes, speak, I pray you, in the ears of Pharaoh, saying,<br/>\n</p>\n<p id=\"id01525\" style=\"margin-left: 0%; margin-right: 0%\">01:050:005 My father made me swear, saying, Lo, I die: in my grave which\n           I have digged for me in the land of Canaan, there shalt thou\n           bury me. Now therefore let me go up, I pray thee, and bury my\n           father, and I will come again.</p>\n<p id=\"id01526\" style=\"margin-left: 0%; margin-right: 0%\">01:050:006 And Pharaoh said, Go up, and bury thy father, according as he\n           made thee swear.</p>\n<p id=\"id01527\">01:050:007 And Joseph went up to bury his father: and with him went up<br/>\n\n           all the servants of Pharaoh, the elders of his house, and all<br/>\n\n           the elders of the land of Egypt,<br/>\n</p>\n<p id=\"id01528\">01:050:008 And all the house of Joseph, and his brethren, and his<br/>\n\n           father's house: only their little ones, and their flocks, and<br/>\n\n           their herds, they left in the land of Goshen.<br/>\n</p>\n<p id=\"id01529\" style=\"margin-left: 0%; margin-right: 0%\">01:050:009 And there went up with him both chariots and horsemen: and it\n           was a very great company.</p>\n<p id=\"id01530\" style=\"margin-left: 0%; margin-right: 0%\">01:050:010 And they came to the threshingfloor of Atad, which is beyond\n           Jordan, and there they mourned with a great and very sore\n           lamentation: and he made a mourning for his father seven days.</p>\n<p id=\"id01531\" style=\"margin-left: 0%; margin-right: 0%\">01:050:011 And when the inhabitants of the land, the Canaanites, saw the\n           mourning in the floor of Atad, they said, This is a grievous\n           mourning to the Egyptians: wherefore the name of it was called\n           Abelmizraim, which is beyond Jordan.</p>\n<p id=\"id01532\">01:050:012 And his sons did unto him according as he commanded them:</p>\n<p id=\"id01533\" style=\"margin-left: 0%; margin-right: 0%\">01:050:013 For his sons carried him into the land of Canaan, and buried\n           him in the cave of the field of Machpelah, which Abraham\n           bought with the field for a possession of a buryingplace of\n           Ephron the Hittite, before Mamre.</p>\n<p id=\"id01534\">01:050:014 And Joseph returned into Egypt, he, and his brethren, and all<br/>\n\n           that went up with him to bury his father, after he had buried<br/>\n\n           his father.<br/>\n</p>\n<p id=\"id01535\">01:050:015 And when Joseph's brethren saw that their father was dead,<br/>\n\n           they said, Joseph will peradventure hate us, and will<br/>\n\n           certainly requite us all the evil which we did unto him.<br/>\n</p>\n<p id=\"id01536\" style=\"margin-left: 0%; margin-right: 0%\">01:050:016 And they sent a messenger unto Joseph, saying, Thy father did\n           command before he died, saying,</p>\n<p id=\"id01537\" style=\"margin-left: 0%; margin-right: 0%\">01:050:017 So shall ye say unto Joseph, Forgive, I pray thee now, the\n           trespass of thy brethren, and their sin; for they did unto\n           thee evil: and now, we pray thee, forgive the trespass of the\n           servants of the God of thy father. And Joseph wept when they\n           spake unto him.</p>\n<p id=\"id01538\">01:050:018 And his brethren also went and fell down before his face; and<br/>\n\n           they said, Behold, we be thy servants.<br/>\n</p>\n<p id=\"id01539\">01:050:019 And Joseph said unto them, Fear not: for am I in the place of<br/>\n\n           God?<br/>\n</p>\n<p id=\"id01540\" style=\"margin-left: 0%; margin-right: 0%\">01:050:020 But as for you, ye thought evil against me; but God meant it\n           unto good, to bring to pass, as it is this day, to save much\n           people alive.</p>\n<p id=\"id01541\">01:050:021 Now therefore fear ye not: I will nourish you, and your little<br/>\n\n           ones. And he comforted them, and spake kindly unto them.<br/>\n</p>\n<p id=\"id01542\">01:050:022 And Joseph dwelt in Egypt, he, and his father's house: and<br/>\n\n           Joseph lived an hundred and ten years.<br/>\n</p>\n<p id=\"id01543\">01:050:023 And Joseph saw Ephraim's children of the third generation: the<br/>\n\n           children also of Machir the son of Manasseh were brought up<br/>\n\n           upon Joseph's knees.<br/>\n</p>\n<p id=\"id01544\">01:050:024 And Joseph said unto his brethren, I die: and God will surely<br/>\n\n           visit you, and bring you out of this land unto the land which<br/>\n\n           he sware to Abraham, to Isaac, and to Jacob.<br/>\n</p>\n<p id=\"id01545\">01:050:025 And Joseph took an oath of the children of Israel, saying, God<br/>\n\n           will surely visit you, and ye shall carry up my bones from<br/>\n\n           hence.<br/>\n</p>\n<p id=\"id01546\" style=\"margin-left: 0%; margin-right: 0%\">01:050:026 So Joseph died, being an hundred and ten years old: and they\n           embalmed him, and he was put in a coffin in Egypt.</p>\n<p id=\"id01547\" style=\"margin-top: 5em\">*** END OF THE PROJECT GUTENBERG EBOOK, THE BIBLE, KING JAMES, BOOK 1 ***</p>\n<p id=\"id01548\">********* This file should be named 8001.txt or 8001.zip **********</p>\n<p id=\"id01549\">This eBook was produced by David Widger\nSee above the credits to previous producers of this text.</p>\n<p id=\"id01550\">Project Gutenberg eBooks are often created from several printed\neditions, all of which are confirmed as Public Domain in the US\nunless a copyright notice is included.  Thus, we usually do not\nkeep eBooks in compliance with any particular paper edition.</p>\n<p id=\"id01551\">We are now trying to release all our eBooks one year in advance\nof the official release dates, leaving time for better editing.\nPlease be encouraged to tell us about any error or corrections,\neven years after the official publication date.</p>\n<p id=\"id01552\">Please note neither this listing nor its contents are final til\nmidnight of the last day of the month of any such announcement.\nThe official release date of all Project Gutenberg eBooks is at\nMidnight, Central Time, of the last day of the stated month.  A\npreliminary version may often be posted for suggestion, comment\nand editing by those who wish to do so.</p>\n<p id=\"id01553\">Most people start at our Web sites at:\nhttps://gutenberg.org or\nhttp://promo.net/pg</p>\n<p id=\"id01554\">These Web sites include award-winning information about Project\nGutenberg, including how to donate, how to help produce our new\neBooks, and how to subscribe to our email newsletter (free!).</p>\n<p id=\"id01555\" style=\"margin-top: 2em\">Those of you who want to download any eBook before announcement\ncan get to them as follows, and just download by date.  This is\nalso a good way to get them instantly upon announcement, as the\nindexes our cataloguers produce obviously take a while after an\nannouncement goes out in the Project Gutenberg Newsletter.</p>\n<p id=\"id01556\">http://www.ibiblio.org/gutenberg/etext03 or<br/>\n\nftp://ftp.ibiblio.org/pub/docs/books/gutenberg/etext03<br/>\n</p>\n<p id=\"id01557\">Or /etext02, 01, 00, 99, 98, 97, 96, 95, 94, 93, 92, 92, 91 or 90</p>\n<p id=\"id01558\">Just search by the first five letters of the filename you want,\nas it appears in our Newsletters.</p>\n<p id=\"id01559\" style=\"margin-top: 2em\">Information about Project Gutenberg (one page)</p>\n<p id=\"id01560\">We produce about two million dollars for each hour we work.  The\ntime it takes us, a rather conservative estimate, is fifty hours\nto get any eBook selected, entered, proofread, edited, copyright\nsearched and analyzed, the copyright letters written, etc.   Our\nprojected audience is one hundred million readers.  If the value\nper text is nominally estimated at one dollar then we produce $2\nmillion dollars per hour in 2002 as we release over 100 new text\nfiles per month:  1240 more eBooks in 2001 for a total of 4000+\nWe are already on our way to trying for 2000 more eBooks in 2002\nIf they reach just 1-2% of the world's population then the total\nwill reach over half a trillion eBooks given away by year's end.</p>\n<p id=\"id01561\">The Goal of Project Gutenberg is to Give Away 1 Trillion eBooks!\nThis is ten thousand titles each to one hundred million readers,\nwhich is only about 4% of the present number of computer users.</p>\n<p id=\"id01562\">Here is the briefest record of our progress (* means estimated):</p>\n<p id=\"id01563\">eBooks Year Month</p>\n<p id=\"id01564\">    1  1971 July<br/>\n\n   10  1991 January<br/>\n\n  100  1994 January<br/>\n\n 1000  1997 August<br/>\n\n 1500  1998 October<br/>\n\n 2000  1999 December<br/>\n\n 2500  2000 December<br/>\n\n 3000  2001 November<br/>\n\n 4000  2001 October/November<br/>\n\n 6000  2002 December*<br/>\n\n 9000  2003 November*<br/>\n\n10000  2004 January*<br/>\n</p>\n<p id=\"id01565\" style=\"margin-top: 2em\">The Project Gutenberg Literary Archive Foundation has been created\nto secure a future for Project Gutenberg into the next millennium.</p>\n<p id=\"id01566\">We need your donations more than ever!</p>\n<p id=\"id01567\">As of February, 2002, contributions are being solicited from people<br/>\n\nand organizations in: Alabama, Alaska, Arkansas, Connecticut,<br/>\n\nDelaware, District of Columbia, Florida, Georgia, Hawaii, Illinois,<br/>\n\nIndiana, Iowa, Kansas, Kentucky, Louisiana, Maine, Massachusetts,<br/>\n\nMichigan, Mississippi, Missouri, Montana, Nebraska, Nevada, New<br/>\n\nHampshire, New Jersey, New Mexico, New York, North Carolina, Ohio,<br/>\n\nOklahoma, Oregon, Pennsylvania, Rhode Island, South Carolina, South<br/>\n\nDakota, Tennessee, Texas, Utah, Vermont, Virginia, Washington, West<br/>\n\nVirginia, Wisconsin, and Wyoming.<br/>\n</p>\n<p id=\"id01568\">We have filed in all 50 states now, but these are the only ones\nthat have responded.</p>\n<p id=\"id01569\">As the requirements for other states are met, additions to this list\nwill be made and fund raising will begin in the additional states.\nPlease feel free to ask to check the status of your state.</p>\n<p id=\"id01570\">In answer to various questions we have received on this:</p>\n<p id=\"id01571\">We are constantly working on finishing the paperwork to legally\nrequest donations in all 50 states.  If your state is not listed and\nyou would like to know if we have added it since the list you have,\njust ask.</p>\n<p id=\"id01572\">While we cannot solicit donations from people in states where we are\nnot yet registered, we know of no prohibition against accepting\ndonations from donors in these states who approach us with an offer to\ndonate.</p>\n<p id=\"id01573\">International donations are accepted, but we don't know ANYTHING about\nhow to make them tax-deductible, or even if they CAN be made\ndeductible, and don't have the staff to handle it even if there are\nways.</p>\n<p id=\"id01574\">Donations by check or money order may be sent to:</p>\n<p id=\"id01575\">Project Gutenberg Literary Archive Foundation<br/>\n\nPMB 113<br/>\n\n1739 University Ave.<br/>\n\nOxford, MS 38655-4109<br/>\n</p>\n<p id=\"id01576\">Contact us if you want to arrange for a wire transfer or payment\nmethod other than by check or money order.</p>\n<p id=\"id01577\">The Project Gutenberg Literary Archive Foundation has been approved by\nthe US Internal Revenue Service as a 501(c)(3) organization with EIN\n[Employee Identification Number] 64-622154.  Donations are\ntax-deductible to the maximum extent permitted by law.  As fund-raising\nrequirements for other states are met, additions to this list will be\nmade and fund-raising will begin in the additional states.</p>\n<p id=\"id01578\">We need your donations more than ever!</p>\n<p id=\"id01579\">You can get up to date donation information online at:</p>\n<p id=\"id01580\">https://www.gutenberg.org/donation.html</p>\n<p id=\"id01581\" style=\"margin-top: 2em\">***</p>\n<p id=\"id01582\">If you can't reach Project Gutenberg,\nyou can always email directly to:</p>\n<p id=\"id01583\">Michael S. Hart &lt;hart@pobox.com&gt;</p>\n<p id=\"id01584\">Prof. Hart will answer or forward your message.</p>\n<p id=\"id01585\">We would prefer to send you information by email.</p>\n<p id=\"id01586\" style=\"margin-top: 2em\">**The Legal Small Print**</p>\n<p id=\"id01587\" style=\"margin-top: 2em\">(Three Pages)</p>\n<p id=\"id01588\">***START**THE SMALL PRINT!**FOR PUBLIC DOMAIN EBOOKS**START***\nWhy is this \"Small Print!\" statement here? You know: lawyers.\nThey tell us you might sue us if there is something wrong with\nyour copy of this eBook, even if you got it for free from\nsomeone other than us, and even if what's wrong is not our\nfault. So, among other things, this \"Small Print!\" statement\ndisclaims most of our liability to you. It also tells you how\nyou may distribute copies of this eBook if you want to.</p>\n<p id=\"id01589\">*BEFORE!* YOU USE OR READ THIS EBOOK\nBy using or reading any part of this PROJECT GUTENBERG-tm\neBook, you indicate that you understand, agree to and accept\nthis \"Small Print!\" statement. If you do not, you can receive\na refund of the money (if any) you paid for this eBook by\nsending a request within 30 days of receiving it to the person\nyou got it from. If you received this eBook on a physical\nmedium (such as a disk), you must return it with your request.</p>\n<p id=\"id01590\">ABOUT PROJECT GUTENBERG-TM EBOOKS\nThis PROJECT GUTENBERG-tm eBook, like most PROJECT GUTENBERG-tm eBooks,\nis a \"public domain\" work distributed by Professor Michael S. Hart\nthrough the Project Gutenberg Association (the \"Project\").\nAmong other things, this means that no one owns a United States copyright\non or for this work, so the Project (and you!) can copy and\ndistribute it in the United States without permission and\nwithout paying copyright royalties. Special rules, set forth\nbelow, apply if you wish to copy and distribute this eBook\nunder the \"PROJECT GUTENBERG\" trademark.</p>\n<p id=\"id01591\">Please do not use the \"PROJECT GUTENBERG\" trademark to market\nany commercial products without permission.</p>\n<p id=\"id01592\">To create these eBooks, the Project expends considerable\nefforts to identify, transcribe and proofread public domain\nworks. Despite these efforts, the Project's eBooks and any\nmedium they may be on may contain \"Defects\". Among other\nthings, Defects may take the form of incomplete, inaccurate or\ncorrupt data, transcription errors, a copyright or other\nintellectual property infringement, a defective or damaged\ndisk or other eBook medium, a computer virus, or computer\ncodes that damage or cannot be read by your equipment.</p>\n<p id=\"id01593\">LIMITED WARRANTY; DISCLAIMER OF DAMAGES\nBut for the \"Right of Replacement or Refund\" described below,\n[1] Michael Hart and the Foundation (and any other party you may\nreceive this eBook from as a PROJECT GUTENBERG-tm eBook) disclaims\nall liability to you for damages, costs and expenses, including\nlegal fees, and [2] YOU HAVE NO REMEDIES FOR NEGLIGENCE OR\nUNDER STRICT LIABILITY, OR FOR BREACH OF WARRANTY OR CONTRACT,\nINCLUDING BUT NOT LIMITED TO INDIRECT, CONSEQUENTIAL, PUNITIVE\nOR INCIDENTAL DAMAGES, EVEN IF YOU GIVE NOTICE OF THE\nPOSSIBILITY OF SUCH DAMAGES.</p>\n<p id=\"id01594\">If you discover a Defect in this eBook within 90 days of\nreceiving it, you can receive a refund of the money (if any)\nyou paid for it by sending an explanatory note within that\ntime to the person you received it from. If you received it\non a physical medium, you must return it with your note, and\nsuch person may choose to alternatively give you a replacement\ncopy. If you received it electronically, such person may\nchoose to alternatively give you a second opportunity to\nreceive it electronically.</p>\n<p id=\"id01595\">THIS EBOOK IS OTHERWISE PROVIDED TO YOU \"AS-IS\". NO OTHER\nWARRANTIES OF ANY KIND, EXPRESS OR IMPLIED, ARE MADE TO YOU AS\nTO THE EBOOK OR ANY MEDIUM IT MAY BE ON, INCLUDING BUT NOT\nLIMITED TO WARRANTIES OF MERCHANTABILITY OR FITNESS FOR A\nPARTICULAR PURPOSE.</p>\n<p id=\"id01596\">Some states do not allow disclaimers of implied warranties or\nthe exclusion or limitation of consequential damages, so the\nabove disclaimers and exclusions may not apply to you, and you\nmay have other legal rights.</p>\n<p id=\"id01597\">INDEMNITY\nYou will indemnify and hold Michael Hart, the Foundation,\nand its trustees and agents, and any volunteers associated\nwith the production and distribution of Project Gutenberg-tm\ntexts harmless, from all liability, cost and expense, including\nlegal fees, that arise directly or indirectly from any of the\nfollowing that you do or cause:  [1] distribution of this eBook,\n[2] alteration, modification, or addition to the eBook,\nor [3] any Defect.</p>\n<p id=\"id01598\">DISTRIBUTION UNDER \"PROJECT GUTENBERG-tm\"\nYou may distribute copies of this eBook electronically, or by\ndisk, book or any other medium if you either delete this\n\"Small Print!\" and all other references to Project Gutenberg,\nor:</p>\n<p id=\"id01599\">[1]  Only give exact copies of it.  Among other things, this\n     requires that you do not remove, alter or modify the\n     eBook or this \"small print!\" statement.  You may however,\n     if you wish, distribute this eBook in machine readable\n     binary, compressed, mark-up, or proprietary form,\n     including any form resulting from conversion by word\n     processing or hypertext software, but only so long as\n     *EITHER*:</p>\n<p id=\"id01600\">     [*]  The eBook, when displayed, is clearly readable, and\n          does *not* contain characters other than those\n          intended by the author of the work, although tilde\n          (~), asterisk (*) and underline (_) characters may\n          be used to convey punctuation intended by the\n          author, and additional characters may be used to\n          indicate hypertext links; OR</p>\n<p id=\"id01601\">     [*]  The eBook may be readily converted by the reader at\n          no expense into plain ASCII, EBCDIC or equivalent\n          form by the program that displays the eBook (as is\n          the case, for instance, with most word processors);\n          OR</p>\n<p id=\"id01602\">     [*]  You provide, or agree to also provide on request at\n          no additional cost, fee or expense, a copy of the\n          eBook in its original plain ASCII form (or in EBCDIC\n          or other equivalent proprietary form).</p>\n<p id=\"id01603\">[2]  Honor the eBook refund and replacement provisions of this\n     \"Small Print!\" statement.</p>\n<p id=\"id01604\" style=\"margin-left: 0%; margin-right: 0%\">[3]  Pay a trademark license fee to the Foundation of 20% of the\n     gross profits you derive calculated using the method you\n     already use to calculate your applicable taxes.  If you\n     don't derive profits, no royalty is due.  Royalties are\n     payable to \"Project Gutenberg Literary Archive Foundation\"\n     the 60 days following each date you prepare (or were\n     legally required to prepare) your annual (or equivalent\n     periodic) tax return.  Please contact us beforehand to\n     let us know your plans and to work out the details.</p>\n<p id=\"id01605\">WHAT IF YOU *WANT* TO SEND MONEY EVEN IF YOU DON'T HAVE TO?\nProject Gutenberg is dedicated to increasing the number of\npublic domain and licensed works that can be freely distributed\nin machine readable form.</p>\n<p id=\"id01606\">The Project gratefully accepts contributions of money, time,<br/>\n\npublic domain materials, or royalty free copyright licenses.<br/>\n\nMoney should be paid to the:<br/>\n\n\"Project Gutenberg Literary Archive Foundation.\"<br/>\n</p>\n<p id=\"id01607\">If you are interested in contributing scanning equipment or\nsoftware or other items, please contact Michael Hart at:\nhart@pobox.com</p>\n<p id=\"id01608\">[Portions of this eBook's header and trailer may be reprinted only\nwhen distributed free of all fees.  Copyright (C) 2001, 2002 by\nMichael S. Hart.  Project Gutenberg is a TradeMark and may not be\nused in any sales of Project Gutenberg eBooks or other materials be\nthey hardware or software or any other related product without\nexpress permission.]</p>\n<p id=\"id01609\">*END THE SMALL PRINT! FOR PUBLIC DOMAIN EBOOKS*Ver.02/11/02*END*</p>\n</body>\n</html>\n]\n"
     ]
    }
   ],
   "source": [
    "print(list(soup.link.parents))"
   ]
  },
  {
   "cell_type": "code",
   "execution_count": 20,
   "metadata": {},
   "outputs": [
    {
     "output_type": "stream",
     "name": "stdout",
     "text": [
      "<meta content=\"text/css\" http-equiv=\"Content-Style-Type\"/>\n"
     ]
    }
   ],
   "source": [
    "# 获取兄弟所有节点\n",
    "print(soup.title.next_sibling)"
   ]
  },
  {
   "cell_type": "code",
   "execution_count": 15,
   "metadata": {},
   "outputs": [
    {
     "output_type": "stream",
     "name": "stdout",
     "text": [
      "<generator object PageElement.next_siblings at 0x000001E64BF7A4A0>\n"
     ]
    }
   ],
   "source": [
    "print(soup.link.next_siblings)"
   ]
  },
  {
   "cell_type": "code",
   "execution_count": 17,
   "metadata": {},
   "outputs": [
    {
     "output_type": "stream",
     "name": "stdout",
     "text": [
      "[(0, '\\n'), (1, <link href=\"http://id.loc.gov/vocabulary/relators/\" rel=\"schema.MARCREL\"/>), (2, '\\n'), (3, <meta content=\"The Bible, King James version, Book 1: Genesis\" name=\"DCTERMS.title\"/>), (4, '\\n'), (5, <meta content=\"https://www.gutenberg.org/files/8001/8001.txt\" name=\"DCTERMS.source\"/>), (6, '\\n'), (7, <meta content=\"en\" name=\"DCTERMS.language\" scheme=\"DCTERMS.RFC4646\"/>), (8, '\\n'), (9, <meta content=\"2021-03-04T10:18:29.241377+00:00\" name=\"DCTERMS.modified\" scheme=\"DCTERMS.W3CDTF\"/>), (10, '\\n'), (11, <meta content=\"Public domain in the USA.\" name=\"DCTERMS.rights\"/>), (12, '\\n'), (13, <meta content=\"Anonymous\" name=\"DCTERMS.creator\"/>), (14, '\\n'), (15, <meta content=\"Bible. Genesis\" name=\"DCTERMS.subject\" scheme=\"DCTERMS.LCSH\"/>), (16, '\\n'), (17, <meta content=\"2005-04-01\" name=\"DCTERMS.created\" scheme=\"DCTERMS.W3CDTF\"/>), (18, '\\n'), (19, <meta content=\"width=device-width\" name=\"viewport\"/>), (20, '\\n'), (21, <meta content=\"Ebookmaker 0.10.3 by Project Gutenberg\" name=\"generator\"/>), (22, '\\n')]\n"
     ]
    }
   ],
   "source": [
    "print(list(enumerate(soup.link.next_siblings)))"
   ]
  },
  {
   "cell_type": "code",
   "execution_count": 18,
   "metadata": {},
   "outputs": [
    {
     "output_type": "stream",
     "name": "stdout",
     "text": [
      "<meta content=\"application/xhtml+xml; charset=utf-8\" http-equiv=\"Content-Type\"/>\n"
     ]
    }
   ],
   "source": [
    "# previous_sibling/ previous_siblings\n",
    "print(soup.link.previous_sibling)"
   ]
  },
  {
   "cell_type": "code",
   "execution_count": 19,
   "metadata": {},
   "outputs": [
    {
     "output_type": "stream",
     "name": "stdout",
     "text": [
      "0 <meta content=\"application/xhtml+xml; charset=utf-8\" http-equiv=\"Content-Type\"/>\n1 <meta content=\"text/css\" http-equiv=\"Content-Style-Type\"/>\n2 <title> </title>\n"
     ]
    }
   ],
   "source": [
    "for i,sib in enumerate(soup.link.previous_siblings):\n",
    "    print(i,sib)"
   ]
  },
  {
   "source": [
    "## Part 2.2 CSS选择器\n",
    "\n",
    "+ 基本使用 - 定位元素\n",
    "+ 高级使用\n",
    "    + 嵌套选择\n",
    "    + 获取属性\n",
    "    + 获取文本\n",
    "\n",
    "### a.基本使用\n",
    "\n",
    "+ 获取元素 - `soup.select()`\n",
    "+ CSS选择器语法 \n",
    "    + id选择器 - 井号键加上id`#id`\n",
    "    + class选择器 - `select(\".class\")`\n",
    "    + 标签选择\n",
    "    + 混合使用"
   ],
   "cell_type": "markdown",
   "metadata": {}
  },
  {
   "cell_type": "code",
   "execution_count": 21,
   "metadata": {},
   "outputs": [
    {
     "output_type": "stream",
     "name": "stdout",
     "text": [
      "<p id=\"id00000\">Project Gutenberg EBook The Bible, King James, Book 1: Genesis</p>\n"
     ]
    }
   ],
   "source": [
    "print(soup.p)"
   ]
  },
  {
   "cell_type": "code",
   "execution_count": 22,
   "metadata": {
    "tags": [
     "outputPrepend"
    ]
   },
   "outputs": [
    {
     "output_type": "stream",
     "name": "stdout",
     "text": [
      "<br/>\n\n           the house of Pharaoh, saying, If now I have found grace in<br/>\n\n           your eyes, speak, I pray you, in the ears of Pharaoh, saying,<br/>\n</p>, <p id=\"id01525\" style=\"margin-left: 0%; margin-right: 0%\">01:050:005 My father made me swear, saying, Lo, I die: in my grave which\n           I have digged for me in the land of Canaan, there shalt thou\n           bury me. Now therefore let me go up, I pray thee, and bury my\n           father, and I will come again.</p>, <p id=\"id01526\" style=\"margin-left: 0%; margin-right: 0%\">01:050:006 And Pharaoh said, Go up, and bury thy father, according as he\n           made thee swear.</p>, <p id=\"id01527\">01:050:007 And Joseph went up to bury his father: and with him went up<br/>\n\n           all the servants of Pharaoh, the elders of his house, and all<br/>\n\n           the elders of the land of Egypt,<br/>\n</p>, <p id=\"id01528\">01:050:008 And all the house of Joseph, and his brethren, and his<br/>\n\n           father's house: only their little ones, and their flocks, and<br/>\n\n           their herds, they left in the land of Goshen.<br/>\n</p>, <p id=\"id01529\" style=\"margin-left: 0%; margin-right: 0%\">01:050:009 And there went up with him both chariots and horsemen: and it\n           was a very great company.</p>, <p id=\"id01530\" style=\"margin-left: 0%; margin-right: 0%\">01:050:010 And they came to the threshingfloor of Atad, which is beyond\n           Jordan, and there they mourned with a great and very sore\n           lamentation: and he made a mourning for his father seven days.</p>, <p id=\"id01531\" style=\"margin-left: 0%; margin-right: 0%\">01:050:011 And when the inhabitants of the land, the Canaanites, saw the\n           mourning in the floor of Atad, they said, This is a grievous\n           mourning to the Egyptians: wherefore the name of it was called\n           Abelmizraim, which is beyond Jordan.</p>, <p id=\"id01532\">01:050:012 And his sons did unto him according as he commanded them:</p>, <p id=\"id01533\" style=\"margin-left: 0%; margin-right: 0%\">01:050:013 For his sons carried him into the land of Canaan, and buried\n           him in the cave of the field of Machpelah, which Abraham\n           bought with the field for a possession of a buryingplace of\n           Ephron the Hittite, before Mamre.</p>, <p id=\"id01534\">01:050:014 And Joseph returned into Egypt, he, and his brethren, and all<br/>\n\n           that went up with him to bury his father, after he had buried<br/>\n\n           his father.<br/>\n</p>, <p id=\"id01535\">01:050:015 And when Joseph's brethren saw that their father was dead,<br/>\n\n           they said, Joseph will peradventure hate us, and will<br/>\n\n           certainly requite us all the evil which we did unto him.<br/>\n</p>, <p id=\"id01536\" style=\"margin-left: 0%; margin-right: 0%\">01:050:016 And they sent a messenger unto Joseph, saying, Thy father did\n           command before he died, saying,</p>, <p id=\"id01537\" style=\"margin-left: 0%; margin-right: 0%\">01:050:017 So shall ye say unto Joseph, Forgive, I pray thee now, the\n           trespass of thy brethren, and their sin; for they did unto\n           thee evil: and now, we pray thee, forgive the trespass of the\n           servants of the God of thy father. And Joseph wept when they\n           spake unto him.</p>, <p id=\"id01538\">01:050:018 And his brethren also went and fell down before his face; and<br/>\n\n           they said, Behold, we be thy servants.<br/>\n</p>, <p id=\"id01539\">01:050:019 And Joseph said unto them, Fear not: for am I in the place of<br/>\n\n           God?<br/>\n</p>, <p id=\"id01540\" style=\"margin-left: 0%; margin-right: 0%\">01:050:020 But as for you, ye thought evil against me; but God meant it\n           unto good, to bring to pass, as it is this day, to save much\n           people alive.</p>, <p id=\"id01541\">01:050:021 Now therefore fear ye not: I will nourish you, and your little<br/>\n\n           ones. And he comforted them, and spake kindly unto them.<br/>\n</p>, <p id=\"id01542\">01:050:022 And Joseph dwelt in Egypt, he, and his father's house: and<br/>\n\n           Joseph lived an hundred and ten years.<br/>\n</p>, <p id=\"id01543\">01:050:023 And Joseph saw Ephraim's children of the third generation: the<br/>\n\n           children also of Machir the son of Manasseh were brought up<br/>\n\n           upon Joseph's knees.<br/>\n</p>, <p id=\"id01544\">01:050:024 And Joseph said unto his brethren, I die: and God will surely<br/>\n\n           visit you, and bring you out of this land unto the land which<br/>\n\n           he sware to Abraham, to Isaac, and to Jacob.<br/>\n</p>, <p id=\"id01545\">01:050:025 And Joseph took an oath of the children of Israel, saying, God<br/>\n\n           will surely visit you, and ye shall carry up my bones from<br/>\n\n           hence.<br/>\n</p>, <p id=\"id01546\" style=\"margin-left: 0%; margin-right: 0%\">01:050:026 So Joseph died, being an hundred and ten years old: and they\n           embalmed him, and he was put in a coffin in Egypt.</p>, <p id=\"id01547\" style=\"margin-top: 5em\">*** END OF THE PROJECT GUTENBERG EBOOK, THE BIBLE, KING JAMES, BOOK 1 ***</p>, <p id=\"id01548\">********* This file should be named 8001.txt or 8001.zip **********</p>, <p id=\"id01549\">This eBook was produced by David Widger\nSee above the credits to previous producers of this text.</p>, <p id=\"id01550\">Project Gutenberg eBooks are often created from several printed\neditions, all of which are confirmed as Public Domain in the US\nunless a copyright notice is included.  Thus, we usually do not\nkeep eBooks in compliance with any particular paper edition.</p>, <p id=\"id01551\">We are now trying to release all our eBooks one year in advance\nof the official release dates, leaving time for better editing.\nPlease be encouraged to tell us about any error or corrections,\neven years after the official publication date.</p>, <p id=\"id01552\">Please note neither this listing nor its contents are final til\nmidnight of the last day of the month of any such announcement.\nThe official release date of all Project Gutenberg eBooks is at\nMidnight, Central Time, of the last day of the stated month.  A\npreliminary version may often be posted for suggestion, comment\nand editing by those who wish to do so.</p>, <p id=\"id01553\">Most people start at our Web sites at:\nhttps://gutenberg.org or\nhttp://promo.net/pg</p>, <p id=\"id01554\">These Web sites include award-winning information about Project\nGutenberg, including how to donate, how to help produce our new\neBooks, and how to subscribe to our email newsletter (free!).</p>, <p id=\"id01555\" style=\"margin-top: 2em\">Those of you who want to download any eBook before announcement\ncan get to them as follows, and just download by date.  This is\nalso a good way to get them instantly upon announcement, as the\nindexes our cataloguers produce obviously take a while after an\nannouncement goes out in the Project Gutenberg Newsletter.</p>, <p id=\"id01556\">http://www.ibiblio.org/gutenberg/etext03 or<br/>\n\nftp://ftp.ibiblio.org/pub/docs/books/gutenberg/etext03<br/>\n</p>, <p id=\"id01557\">Or /etext02, 01, 00, 99, 98, 97, 96, 95, 94, 93, 92, 92, 91 or 90</p>, <p id=\"id01558\">Just search by the first five letters of the filename you want,\nas it appears in our Newsletters.</p>, <p id=\"id01559\" style=\"margin-top: 2em\">Information about Project Gutenberg (one page)</p>, <p id=\"id01560\">We produce about two million dollars for each hour we work.  The\ntime it takes us, a rather conservative estimate, is fifty hours\nto get any eBook selected, entered, proofread, edited, copyright\nsearched and analyzed, the copyright letters written, etc.   Our\nprojected audience is one hundred million readers.  If the value\nper text is nominally estimated at one dollar then we produce $2\nmillion dollars per hour in 2002 as we release over 100 new text\nfiles per month:  1240 more eBooks in 2001 for a total of 4000+\nWe are already on our way to trying for 2000 more eBooks in 2002\nIf they reach just 1-2% of the world's population then the total\nwill reach over half a trillion eBooks given away by year's end.</p>, <p id=\"id01561\">The Goal of Project Gutenberg is to Give Away 1 Trillion eBooks!\nThis is ten thousand titles each to one hundred million readers,\nwhich is only about 4% of the present number of computer users.</p>, <p id=\"id01562\">Here is the briefest record of our progress (* means estimated):</p>, <p id=\"id01563\">eBooks Year Month</p>, <p id=\"id01564\">    1  1971 July<br/>\n\n   10  1991 January<br/>\n\n  100  1994 January<br/>\n\n 1000  1997 August<br/>\n\n 1500  1998 October<br/>\n\n 2000  1999 December<br/>\n\n 2500  2000 December<br/>\n\n 3000  2001 November<br/>\n\n 4000  2001 October/November<br/>\n\n 6000  2002 December*<br/>\n\n 9000  2003 November*<br/>\n\n10000  2004 January*<br/>\n</p>, <p id=\"id01565\" style=\"margin-top: 2em\">The Project Gutenberg Literary Archive Foundation has been created\nto secure a future for Project Gutenberg into the next millennium.</p>, <p id=\"id01566\">We need your donations more than ever!</p>, <p id=\"id01567\">As of February, 2002, contributions are being solicited from people<br/>\n\nand organizations in: Alabama, Alaska, Arkansas, Connecticut,<br/>\n\nDelaware, District of Columbia, Florida, Georgia, Hawaii, Illinois,<br/>\n\nIndiana, Iowa, Kansas, Kentucky, Louisiana, Maine, Massachusetts,<br/>\n\nMichigan, Mississippi, Missouri, Montana, Nebraska, Nevada, New<br/>\n\nHampshire, New Jersey, New Mexico, New York, North Carolina, Ohio,<br/>\n\nOklahoma, Oregon, Pennsylvania, Rhode Island, South Carolina, South<br/>\n\nDakota, Tennessee, Texas, Utah, Vermont, Virginia, Washington, West<br/>\n\nVirginia, Wisconsin, and Wyoming.<br/>\n</p>, <p id=\"id01568\">We have filed in all 50 states now, but these are the only ones\nthat have responded.</p>, <p id=\"id01569\">As the requirements for other states are met, additions to this list\nwill be made and fund raising will begin in the additional states.\nPlease feel free to ask to check the status of your state.</p>, <p id=\"id01570\">In answer to various questions we have received on this:</p>, <p id=\"id01571\">We are constantly working on finishing the paperwork to legally\nrequest donations in all 50 states.  If your state is not listed and\nyou would like to know if we have added it since the list you have,\njust ask.</p>, <p id=\"id01572\">While we cannot solicit donations from people in states where we are\nnot yet registered, we know of no prohibition against accepting\ndonations from donors in these states who approach us with an offer to\ndonate.</p>, <p id=\"id01573\">International donations are accepted, but we don't know ANYTHING about\nhow to make them tax-deductible, or even if they CAN be made\ndeductible, and don't have the staff to handle it even if there are\nways.</p>, <p id=\"id01574\">Donations by check or money order may be sent to:</p>, <p id=\"id01575\">Project Gutenberg Literary Archive Foundation<br/>\n\nPMB 113<br/>\n\n1739 University Ave.<br/>\n\nOxford, MS 38655-4109<br/>\n</p>, <p id=\"id01576\">Contact us if you want to arrange for a wire transfer or payment\nmethod other than by check or money order.</p>, <p id=\"id01577\">The Project Gutenberg Literary Archive Foundation has been approved by\nthe US Internal Revenue Service as a 501(c)(3) organization with EIN\n[Employee Identification Number] 64-622154.  Donations are\ntax-deductible to the maximum extent permitted by law.  As fund-raising\nrequirements for other states are met, additions to this list will be\nmade and fund-raising will begin in the additional states.</p>, <p id=\"id01578\">We need your donations more than ever!</p>, <p id=\"id01579\">You can get up to date donation information online at:</p>, <p id=\"id01580\">https://www.gutenberg.org/donation.html</p>, <p id=\"id01581\" style=\"margin-top: 2em\">***</p>, <p id=\"id01582\">If you can't reach Project Gutenberg,\nyou can always email directly to:</p>, <p id=\"id01583\">Michael S. Hart &lt;hart@pobox.com&gt;</p>, <p id=\"id01584\">Prof. Hart will answer or forward your message.</p>, <p id=\"id01585\">We would prefer to send you information by email.</p>, <p id=\"id01586\" style=\"margin-top: 2em\">**The Legal Small Print**</p>, <p id=\"id01587\" style=\"margin-top: 2em\">(Three Pages)</p>, <p id=\"id01588\">***START**THE SMALL PRINT!**FOR PUBLIC DOMAIN EBOOKS**START***\nWhy is this \"Small Print!\" statement here? You know: lawyers.\nThey tell us you might sue us if there is something wrong with\nyour copy of this eBook, even if you got it for free from\nsomeone other than us, and even if what's wrong is not our\nfault. So, among other things, this \"Small Print!\" statement\ndisclaims most of our liability to you. It also tells you how\nyou may distribute copies of this eBook if you want to.</p>, <p id=\"id01589\">*BEFORE!* YOU USE OR READ THIS EBOOK\nBy using or reading any part of this PROJECT GUTENBERG-tm\neBook, you indicate that you understand, agree to and accept\nthis \"Small Print!\" statement. If you do not, you can receive\na refund of the money (if any) you paid for this eBook by\nsending a request within 30 days of receiving it to the person\nyou got it from. If you received this eBook on a physical\nmedium (such as a disk), you must return it with your request.</p>, <p id=\"id01590\">ABOUT PROJECT GUTENBERG-TM EBOOKS\nThis PROJECT GUTENBERG-tm eBook, like most PROJECT GUTENBERG-tm eBooks,\nis a \"public domain\" work distributed by Professor Michael S. Hart\nthrough the Project Gutenberg Association (the \"Project\").\nAmong other things, this means that no one owns a United States copyright\non or for this work, so the Project (and you!) can copy and\ndistribute it in the United States without permission and\nwithout paying copyright royalties. Special rules, set forth\nbelow, apply if you wish to copy and distribute this eBook\nunder the \"PROJECT GUTENBERG\" trademark.</p>, <p id=\"id01591\">Please do not use the \"PROJECT GUTENBERG\" trademark to market\nany commercial products without permission.</p>, <p id=\"id01592\">To create these eBooks, the Project expends considerable\nefforts to identify, transcribe and proofread public domain\nworks. Despite these efforts, the Project's eBooks and any\nmedium they may be on may contain \"Defects\". Among other\nthings, Defects may take the form of incomplete, inaccurate or\ncorrupt data, transcription errors, a copyright or other\nintellectual property infringement, a defective or damaged\ndisk or other eBook medium, a computer virus, or computer\ncodes that damage or cannot be read by your equipment.</p>, <p id=\"id01593\">LIMITED WARRANTY; DISCLAIMER OF DAMAGES\nBut for the \"Right of Replacement or Refund\" described below,\n[1] Michael Hart and the Foundation (and any other party you may\nreceive this eBook from as a PROJECT GUTENBERG-tm eBook) disclaims\nall liability to you for damages, costs and expenses, including\nlegal fees, and [2] YOU HAVE NO REMEDIES FOR NEGLIGENCE OR\nUNDER STRICT LIABILITY, OR FOR BREACH OF WARRANTY OR CONTRACT,\nINCLUDING BUT NOT LIMITED TO INDIRECT, CONSEQUENTIAL, PUNITIVE\nOR INCIDENTAL DAMAGES, EVEN IF YOU GIVE NOTICE OF THE\nPOSSIBILITY OF SUCH DAMAGES.</p>, <p id=\"id01594\">If you discover a Defect in this eBook within 90 days of\nreceiving it, you can receive a refund of the money (if any)\nyou paid for it by sending an explanatory note within that\ntime to the person you received it from. If you received it\non a physical medium, you must return it with your note, and\nsuch person may choose to alternatively give you a replacement\ncopy. If you received it electronically, such person may\nchoose to alternatively give you a second opportunity to\nreceive it electronically.</p>, <p id=\"id01595\">THIS EBOOK IS OTHERWISE PROVIDED TO YOU \"AS-IS\". NO OTHER\nWARRANTIES OF ANY KIND, EXPRESS OR IMPLIED, ARE MADE TO YOU AS\nTO THE EBOOK OR ANY MEDIUM IT MAY BE ON, INCLUDING BUT NOT\nLIMITED TO WARRANTIES OF MERCHANTABILITY OR FITNESS FOR A\nPARTICULAR PURPOSE.</p>, <p id=\"id01596\">Some states do not allow disclaimers of implied warranties or\nthe exclusion or limitation of consequential damages, so the\nabove disclaimers and exclusions may not apply to you, and you\nmay have other legal rights.</p>, <p id=\"id01597\">INDEMNITY\nYou will indemnify and hold Michael Hart, the Foundation,\nand its trustees and agents, and any volunteers associated\nwith the production and distribution of Project Gutenberg-tm\ntexts harmless, from all liability, cost and expense, including\nlegal fees, that arise directly or indirectly from any of the\nfollowing that you do or cause:  [1] distribution of this eBook,\n[2] alteration, modification, or addition to the eBook,\nor [3] any Defect.</p>, <p id=\"id01598\">DISTRIBUTION UNDER \"PROJECT GUTENBERG-tm\"\nYou may distribute copies of this eBook electronically, or by\ndisk, book or any other medium if you either delete this\n\"Small Print!\" and all other references to Project Gutenberg,\nor:</p>, <p id=\"id01599\">[1]  Only give exact copies of it.  Among other things, this\n     requires that you do not remove, alter or modify the\n     eBook or this \"small print!\" statement.  You may however,\n     if you wish, distribute this eBook in machine readable\n     binary, compressed, mark-up, or proprietary form,\n     including any form resulting from conversion by word\n     processing or hypertext software, but only so long as\n     *EITHER*:</p>, <p id=\"id01600\">     [*]  The eBook, when displayed, is clearly readable, and\n          does *not* contain characters other than those\n          intended by the author of the work, although tilde\n          (~), asterisk (*) and underline (_) characters may\n          be used to convey punctuation intended by the\n          author, and additional characters may be used to\n          indicate hypertext links; OR</p>, <p id=\"id01601\">     [*]  The eBook may be readily converted by the reader at\n          no expense into plain ASCII, EBCDIC or equivalent\n          form by the program that displays the eBook (as is\n          the case, for instance, with most word processors);\n          OR</p>, <p id=\"id01602\">     [*]  You provide, or agree to also provide on request at\n          no additional cost, fee or expense, a copy of the\n          eBook in its original plain ASCII form (or in EBCDIC\n          or other equivalent proprietary form).</p>, <p id=\"id01603\">[2]  Honor the eBook refund and replacement provisions of this\n     \"Small Print!\" statement.</p>, <p id=\"id01604\" style=\"margin-left: 0%; margin-right: 0%\">[3]  Pay a trademark license fee to the Foundation of 20% of the\n     gross profits you derive calculated using the method you\n     already use to calculate your applicable taxes.  If you\n     don't derive profits, no royalty is due.  Royalties are\n     payable to \"Project Gutenberg Literary Archive Foundation\"\n     the 60 days following each date you prepare (or were\n     legally required to prepare) your annual (or equivalent\n     periodic) tax return.  Please contact us beforehand to\n     let us know your plans and to work out the details.</p>, <p id=\"id01605\">WHAT IF YOU *WANT* TO SEND MONEY EVEN IF YOU DON'T HAVE TO?\nProject Gutenberg is dedicated to increasing the number of\npublic domain and licensed works that can be freely distributed\nin machine readable form.</p>, <p id=\"id01606\">The Project gratefully accepts contributions of money, time,<br/>\n\npublic domain materials, or royalty free copyright licenses.<br/>\n\nMoney should be paid to the:<br/>\n\n\"Project Gutenberg Literary Archive Foundation.\"<br/>\n</p>, <p id=\"id01607\">If you are interested in contributing scanning equipment or\nsoftware or other items, please contact Michael Hart at:\nhart@pobox.com</p>, <p id=\"id01608\">[Portions of this eBook's header and trailer may be reprinted only\nwhen distributed free of all fees.  Copyright (C) 2001, 2002 by\nMichael S. Hart.  Project Gutenberg is a TradeMark and may not be\nused in any sales of Project Gutenberg eBooks or other materials be\nthey hardware or software or any other related product without\nexpress permission.]</p>, <p id=\"id01609\">*END THE SMALL PRINT! FOR PUBLIC DOMAIN EBOOKS*Ver.02/11/02*END*</p>]\n"
     ]
    }
   ],
   "source": [
    "print(soup.select('p'))"
   ]
  },
  {
   "cell_type": "code",
   "execution_count": 30,
   "metadata": {},
   "outputs": [
    {
     "output_type": "stream",
     "name": "stdout",
     "text": [
      "<p id=\"id00001\">Copyright laws are changing all over the world. Be sure to check the\ncopyright laws for your country before downloading or redistributing\nthis or any other Project Gutenberg eBook.</p>\n"
     ]
    }
   ],
   "source": [
    "print(soup.select('#id00001'))"
   ]
  },
  {
   "cell_type": "code",
   "execution_count": null,
   "metadata": {},
   "outputs": [],
   "source": [
    "# b站视频example\n",
    "\n",
    "#获取class = ‘panel-heading’ 其父节点为class = ‘panel’\n",
    "# print(soup.select('.panel .panel-heading'))\n",
    "# 获取所有li节点，标签选择器 其父节点为ul\n",
    "# print(soup.select('ul li'))\n",
    "# 获取id为list-2的节点中的子节点，其标签为li\n",
    "# print(soup.select('#list-2 li'))"
   ]
  },
  {
   "source": [
    "### b. 高级用法\n",
    "\n",
    "+ 嵌套选择\n",
    "+ 属性获取\n",
    "+ 文本获取"
   ],
   "cell_type": "markdown",
   "metadata": {}
  },
  {
   "cell_type": "code",
   "execution_count": 31,
   "metadata": {},
   "outputs": [
    {
     "output_type": "stream",
     "name": "stdout",
     "text": [
      "<class 'bs4.element.Tag'>\n<p id=\"id00000\">Project Gutenberg EBook The Bible, King James, Book 1: Genesis</p>\n<class 'bs4.element.Tag'>\n<p id=\"id00001\">Copyright laws are changing all over the world. Be sure to check the\ncopyright laws for your country before downloading or redistributing\nthis or any other Project Gutenberg eBook.</p>\n<class 'bs4.element.Tag'>\n<p id=\"id00002\">This header should be the first thing seen when viewing this Project\nGutenberg file.  Please do not remove it.  Do not change or edit the\nheader without written permission.</p>\n<class 'bs4.element.Tag'>\n<p id=\"id00003\">Please read the \"legal small print,\" and other information about the\neBook and Project Gutenberg at the bottom of this file.  Included is\nimportant information about your specific rights and restrictions in\nhow the file may be used.  You can also find out about how to make a\ndonation to Project Gutenberg, and how to get involved.</p>\n<class 'bs4.element.Tag'>\n<p id=\"id00004\" style=\"margin-top: 2em\">**Welcome To The World of Free Plain Vanilla Electronic Texts**</p>\n"
     ]
    }
   ],
   "source": [
    "# 嵌套选择\n",
    "for i,p in enumerate(soup.select('p')):\n",
    "    if i < 5:\n",
    "        print(type(p))\n",
    "        print(p)\n",
    "    "
   ]
  },
  {
   "cell_type": "code",
   "execution_count": 32,
   "metadata": {},
   "outputs": [
    {
     "output_type": "stream",
     "name": "stdout",
     "text": [
      "<class 'bs4.element.Tag'>\n<p id=\"id00000\">Project Gutenberg EBook The Bible, King James, Book 1: Genesis</p>\n{'id': 'id00000'}\n<class 'bs4.element.Tag'>\n<p id=\"id00001\">Copyright laws are changing all over the world. Be sure to check the\ncopyright laws for your country before downloading or redistributing\nthis or any other Project Gutenberg eBook.</p>\n{'id': 'id00001'}\n"
     ]
    }
   ],
   "source": [
    "# 属性获取\n",
    "for i,p in enumerate(soup.select('p')):\n",
    "    if i < 2:\n",
    "        print(type(p))\n",
    "        print(p)\n",
    "        print(p.attrs)"
   ]
  },
  {
   "cell_type": "code",
   "execution_count": 33,
   "metadata": {},
   "outputs": [
    {
     "output_type": "stream",
     "name": "stdout",
     "text": [
      "<class 'bs4.element.Tag'>\n<p id=\"id00000\">Project Gutenberg EBook The Bible, King James, Book 1: Genesis</p>\nProject Gutenberg EBook The Bible, King James, Book 1: Genesis\n<class 'bs4.element.Tag'>\n<p id=\"id00001\">Copyright laws are changing all over the world. Be sure to check the\ncopyright laws for your country before downloading or redistributing\nthis or any other Project Gutenberg eBook.</p>\nCopyright laws are changing all over the world. Be sure to check the\ncopyright laws for your country before downloading or redistributing\nthis or any other Project Gutenberg eBook.\n"
     ]
    }
   ],
   "source": [
    "# 获取文本\n",
    "for i,p in enumerate(soup.select('p')):\n",
    "    if i < 2:\n",
    "        print(type(p))\n",
    "        print(p)\n",
    "        print(p.string) # 仅本节点string\n",
    "        # print(p.strings) # 包含其子孙节点string"
   ]
  },
  {
   "cell_type": "code",
   "execution_count": 34,
   "metadata": {},
   "outputs": [
    {
     "output_type": "stream",
     "name": "stdout",
     "text": [
      "<head><title> </title><meta content=\"text/css\" http-equiv=\"Content-Style-Type\"/><meta content=\"application/xhtml+xml; charset=utf-8\" http-equiv=\"Content-Type\"/><link href=\"http://purl.org/dc/terms/\" rel=\"schema.DCTERMS\"/>\n<link href=\"http://id.loc.gov/vocabulary/relators/\" rel=\"schema.MARCREL\"/>\n<meta content=\"The Bible, King James version, Book 1: Genesis\" name=\"DCTERMS.title\"/>\n<meta content=\"https://www.gutenberg.org/files/8001/8001.txt\" name=\"DCTERMS.source\"/>\n<meta content=\"en\" name=\"DCTERMS.language\" scheme=\"DCTERMS.RFC4646\"/>\n<meta content=\"2021-03-04T10:18:29.241377+00:00\" name=\"DCTERMS.modified\" scheme=\"DCTERMS.W3CDTF\"/>\n<meta content=\"Public domain in the USA.\" name=\"DCTERMS.rights\"/>\n<meta content=\"Anonymous\" name=\"DCTERMS.creator\"/>\n<meta content=\"Bible. Genesis\" name=\"DCTERMS.subject\" scheme=\"DCTERMS.LCSH\"/>\n<meta content=\"2005-04-01\" name=\"DCTERMS.created\" scheme=\"DCTERMS.W3CDTF\"/>\n<meta content=\"width=device-width\" name=\"viewport\"/>\n<meta content=\"Ebookmaker 0.10.3 by Project Gutenberg\" name=\"generator\"/>\n</head>\n"
     ]
    }
   ],
   "source": [
    "print(soup.head)"
   ]
  },
  {
   "cell_type": "code",
   "execution_count": 40,
   "metadata": {},
   "outputs": [
    {
     "output_type": "stream",
     "name": "stdout",
     "text": [
      "None\n"
     ]
    }
   ],
   "source": [
    "print(soup.body.string)"
   ]
  },
  {
   "cell_type": "code",
   "execution_count": 39,
   "metadata": {},
   "outputs": [
    {
     "output_type": "stream",
     "name": "stdout",
     "text": [
      "<generator object Tag._all_strings at 0x000001E64C329350>\n"
     ]
    }
   ],
   "source": [
    "print(soup.body.strings)"
   ]
  },
  {
   "cell_type": "code",
   "execution_count": 42,
   "metadata": {},
   "outputs": [
    {
     "output_type": "stream",
     "name": "stdout",
     "text": [
      "Project Gutenberg EBook The Bible, King James, Book 1: Genesis\n\n\nCopyright laws are changing all over the world. Be sure to check the\ncopyright laws for your country before downloading or redistributing\nthis or any other Project Gutenberg eBook.\n\n\nThis header should be the first thing seen when viewing this Project\nGutenberg file.  Please do not remove it.  Do not change or edit the\nheader without written permission.\n"
     ]
    }
   ],
   "source": [
    "for i,p in enumerate(soup.body.strings):\n",
    "    if i < 5:\n",
    "        print(p)"
   ]
  },
  {
   "source": [
    "## Part 2.3 方法选择器\n",
    "\n",
    "### a. `find_all(name, attrs, recursive, text, **kwargs)`\n",
    "+ 用于搜索当前节点的所有符合条件的节点\n",
    "+ 范围： 当前节点下的所有节点，如果没有指定当前节点，则进行全文搜索\n",
    "+ parameters - name, attrs, text, kwargs, recursive. limit"
   ],
   "cell_type": "markdown",
   "metadata": {}
  },
  {
   "cell_type": "code",
   "execution_count": 43,
   "metadata": {},
   "outputs": [
    {
     "output_type": "stream",
     "name": "stdout",
     "text": [
      "[<meta content=\"text/css\" http-equiv=\"Content-Style-Type\"/>, <meta content=\"application/xhtml+xml; charset=utf-8\" http-equiv=\"Content-Type\"/>, <meta content=\"The Bible, King James version, Book 1: Genesis\" name=\"DCTERMS.title\"/>, <meta content=\"https://www.gutenberg.org/files/8001/8001.txt\" name=\"DCTERMS.source\"/>, <meta content=\"en\" name=\"DCTERMS.language\" scheme=\"DCTERMS.RFC4646\"/>, <meta content=\"2021-03-04T10:18:29.241377+00:00\" name=\"DCTERMS.modified\" scheme=\"DCTERMS.W3CDTF\"/>, <meta content=\"Public domain in the USA.\" name=\"DCTERMS.rights\"/>, <meta content=\"Anonymous\" name=\"DCTERMS.creator\"/>, <meta content=\"Bible. Genesis\" name=\"DCTERMS.subject\" scheme=\"DCTERMS.LCSH\"/>, <meta content=\"2005-04-01\" name=\"DCTERMS.created\" scheme=\"DCTERMS.W3CDTF\"/>, <meta content=\"width=device-width\" name=\"viewport\"/>, <meta content=\"Ebookmaker 0.10.3 by Project Gutenberg\" name=\"generator\"/>]\n"
     ]
    }
   ],
   "source": [
    "# string\n",
    "print(soup.head.find_all('meta'))"
   ]
  },
  {
   "cell_type": "code",
   "execution_count": 44,
   "metadata": {},
   "outputs": [
    {
     "output_type": "stream",
     "name": "stdout",
     "text": [
      "title\n"
     ]
    }
   ],
   "source": [
    "# regex - start with\n",
    "import re\n",
    "for tag in soup.head.find_all(re.compile('^t')):\n",
    "    print(tag.name)"
   ]
  },
  {
   "cell_type": "code",
   "execution_count": 46,
   "metadata": {},
   "outputs": [],
   "source": [
    "# regex - end with\n",
    "import re\n",
    "for tag in soup.head.find_all(re.compile('$e')):\n",
    "    print(tag.name)"
   ]
  },
  {
   "cell_type": "code",
   "execution_count": 47,
   "metadata": {},
   "outputs": [
    {
     "output_type": "stream",
     "name": "stdout",
     "text": [
      "[<title> </title>, <meta content=\"text/css\" http-equiv=\"Content-Style-Type\"/>, <meta content=\"application/xhtml+xml; charset=utf-8\" http-equiv=\"Content-Type\"/>, <meta content=\"The Bible, King James version, Book 1: Genesis\" name=\"DCTERMS.title\"/>, <meta content=\"https://www.gutenberg.org/files/8001/8001.txt\" name=\"DCTERMS.source\"/>, <meta content=\"en\" name=\"DCTERMS.language\" scheme=\"DCTERMS.RFC4646\"/>, <meta content=\"2021-03-04T10:18:29.241377+00:00\" name=\"DCTERMS.modified\" scheme=\"DCTERMS.W3CDTF\"/>, <meta content=\"Public domain in the USA.\" name=\"DCTERMS.rights\"/>, <meta content=\"Anonymous\" name=\"DCTERMS.creator\"/>, <meta content=\"Bible. Genesis\" name=\"DCTERMS.subject\" scheme=\"DCTERMS.LCSH\"/>, <meta content=\"2005-04-01\" name=\"DCTERMS.created\" scheme=\"DCTERMS.W3CDTF\"/>, <meta content=\"width=device-width\" name=\"viewport\"/>, <meta content=\"Ebookmaker 0.10.3 by Project Gutenberg\" name=\"generator\"/>]\n"
     ]
    }
   ],
   "source": [
    "# list\n",
    "print(soup.head.find_all(['title','meta']))"
   ]
  },
  {
   "cell_type": "code",
   "execution_count": 48,
   "metadata": {},
   "outputs": [
    {
     "output_type": "stream",
     "name": "stdout",
     "text": [
      "title\nmeta\nmeta\nlink\nlink\nmeta\nmeta\nmeta\nmeta\nmeta\nmeta\nmeta\nmeta\nmeta\nmeta\n"
     ]
    }
   ],
   "source": [
    "# True  - apply to everyline\n",
    "for tag in soup.head.find_all(True):\n",
    "    print(tag.name)"
   ]
  },
  {
   "cell_type": "code",
   "execution_count": 69,
   "metadata": {},
   "outputs": [
    {
     "output_type": "stream",
     "name": "stdout",
     "text": [
      "[]\n"
     ]
    }
   ],
   "source": [
    "# attrs\n",
    "print(soup.find_all(attrs={'id': 'id00000'}))"
   ]
  },
  {
   "cell_type": "code",
   "execution_count": 68,
   "metadata": {},
   "outputs": [
    {
     "output_type": "stream",
     "name": "stdout",
     "text": [
      "[<meta content=\"width=device-width\" name=\"viewport\"/>]\n"
     ]
    }
   ],
   "source": [
    "print(soup.find_all(attrs={'name': 'viewport'}))"
   ]
  },
  {
   "cell_type": "code",
   "execution_count": 56,
   "metadata": {},
   "outputs": [
    {
     "output_type": "stream",
     "name": "stdout",
     "text": [
      "[<p id=\"id00000\">Project Gutenberg EBook The Bible, King James, Book 1: Genesis</p>]\n"
     ]
    }
   ],
   "source": [
    "# attrs\n",
    "print(soup.find_all(id = 'id00000'))"
   ]
  },
  {
   "cell_type": "code",
   "execution_count": null,
   "metadata": {},
   "outputs": [],
   "source": [
    "# class\n",
    "# since 'class' is a build-in function for Python, use class_ as for parameter\n",
    "# print(soup.find_all(class_ = 'sister'))"
   ]
  },
  {
   "cell_type": "code",
   "execution_count": 61,
   "metadata": {},
   "outputs": [
    {
     "output_type": "stream",
     "name": "stdout",
     "text": [
      "[<p id=\"id00000\">Project Gutenberg EBook The Bible, King James, Book 1: Genesis</p>, <p id=\"id00001\">Copyright laws are changing all over the world. Be sure to check the\ncopyright laws for your country before downloading or redistributing\nthis or any other Project Gutenberg eBook.</p>, <p id=\"id00002\">This header should be the first thing seen when viewing this Project\nGutenberg file.  Please do not remove it.  Do not change or edit the\nheader without written permission.</p>, <p id=\"id00003\">Please read the \"legal small print,\" and other information about the\neBook and Project Gutenberg at the bottom of this file.  Included is\nimportant information about your specific rights and restrictions in\nhow the file may be used.  You can also find out about how to make a\ndonation to Project Gutenberg, and how to get involved.</p>, <p id=\"id00004\" style=\"margin-top: 2em\">**Welcome To The World of Free Plain Vanilla Electronic Texts**</p>]\n"
     ]
    }
   ],
   "source": [
    "# limit output\n",
    "print(soup.find_all('p', limit = 5))"
   ]
  },
  {
   "cell_type": "code",
   "execution_count": 63,
   "metadata": {},
   "outputs": [
    {
     "output_type": "stream",
     "name": "stdout",
     "text": [
      "[<head><title> </title><meta content=\"text/css\" http-equiv=\"Content-Style-Type\"/><meta content=\"application/xhtml+xml; charset=utf-8\" http-equiv=\"Content-Type\"/><link href=\"http://purl.org/dc/terms/\" rel=\"schema.DCTERMS\"/>\n<link href=\"http://id.loc.gov/vocabulary/relators/\" rel=\"schema.MARCREL\"/>\n<meta content=\"The Bible, King James version, Book 1: Genesis\" name=\"DCTERMS.title\"/>\n<meta content=\"https://www.gutenberg.org/files/8001/8001.txt\" name=\"DCTERMS.source\"/>\n<meta content=\"en\" name=\"DCTERMS.language\" scheme=\"DCTERMS.RFC4646\"/>\n<meta content=\"2021-03-04T10:18:29.241377+00:00\" name=\"DCTERMS.modified\" scheme=\"DCTERMS.W3CDTF\"/>\n<meta content=\"Public domain in the USA.\" name=\"DCTERMS.rights\"/>\n<meta content=\"Anonymous\" name=\"DCTERMS.creator\"/>\n<meta content=\"Bible. Genesis\" name=\"DCTERMS.subject\" scheme=\"DCTERMS.LCSH\"/>\n<meta content=\"2005-04-01\" name=\"DCTERMS.created\" scheme=\"DCTERMS.W3CDTF\"/>\n<meta content=\"width=device-width\" name=\"viewport\"/>\n<meta content=\"Ebookmaker 0.10.3 by Project Gutenberg\" name=\"generator\"/>\n</head>]\n"
     ]
    }
   ],
   "source": [
    "# recursive - weheter children tags will be included or not\n",
    "print(soup.find_all('head'))"
   ]
  },
  {
   "cell_type": "code",
   "execution_count": 64,
   "metadata": {},
   "outputs": [
    {
     "output_type": "stream",
     "name": "stdout",
     "text": [
      "[]\n"
     ]
    }
   ],
   "source": [
    "print(soup.find_all('head', recursive= False))"
   ]
  },
  {
   "cell_type": "code",
   "execution_count": 65,
   "metadata": {},
   "outputs": [
    {
     "output_type": "stream",
     "name": "stdout",
     "text": [
      "[]\n"
     ]
    }
   ],
   "source": [
    "print(soup.find_all('body', recursive=False))"
   ]
  },
  {
   "cell_type": "code",
   "execution_count": 71,
   "metadata": {},
   "outputs": [
    {
     "output_type": "stream",
     "name": "stdout",
     "text": [
      "['Project Gutenberg EBook The Bible, King James, Book 1: Genesis', 'Project Gutenberg eBooks are often created from several printed\\r\\neditions, all of which are confirmed as Public Domain in the US\\r\\nunless a copyright notice is included.  Thus, we usually do not\\r\\nkeep eBooks in compliance with any particular paper edition.', 'Project Gutenberg Literary Archive Foundation']\n"
     ]
    }
   ],
   "source": [
    "# text\n",
    "print(soup.find_all(text=re.compile('^Project')))"
   ]
  },
  {
   "source": [
    "### b. find()\n",
    "+ 当前节点下，符合条件的元素\n",
    "+ 不同于find_all()返回所有符合条件的元素，find()仅return符合条件的第一个元素 - 所以limit就无法在find()中使用"
   ],
   "cell_type": "markdown",
   "metadata": {}
  },
  {
   "cell_type": "code",
   "execution_count": 70,
   "metadata": {},
   "outputs": [
    {
     "output_type": "stream",
     "name": "stdout",
     "text": [
      "<meta content=\"en\" name=\"DCTERMS.language\" scheme=\"DCTERMS.RFC4646\"/>\n"
     ]
    }
   ],
   "source": [
    "print(soup.find(attrs={'content': 'en'}))"
   ]
  },
  {
   "source": [
    "### c.other function\n",
    "+ find_parents(), find_parent()\n",
    "+ find_next_siblings(), find_next_sibling()\n",
    "+ find_previous_siblings(), find_previous_sibling()\n",
    "+ find_all_next(), find_next()\n",
    "+ find_all_previous(), find_previous()"
   ],
   "cell_type": "markdown",
   "metadata": {}
  }
 ]
}